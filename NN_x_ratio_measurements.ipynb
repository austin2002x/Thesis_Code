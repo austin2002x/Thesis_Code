{
 "cells": [
  {
   "cell_type": "code",
   "execution_count": 71,
   "metadata": {},
   "outputs": [],
   "source": [
    "import pandas as pd\n",
    "import numpy as np\n",
    "from sklearn.model_selection import train_test_split\n",
    "from sklearn.preprocessing import StandardScaler, OneHotEncoder, MinMaxScaler\n",
    "from tensorflow.keras.models import Model, Sequential\n",
    "from tensorflow.keras.layers import Dense, Dropout, Input, Lambda\n",
    "from tensorflow.keras.optimizers import Adam\n",
    "from tensorflow.keras.callbacks import Callback, TensorBoard\n",
    "from sklearn.compose import ColumnTransformer\n",
    "import matplotlib.pyplot as plt\n",
    "from sklearn.pipeline import Pipeline\n",
    "import seaborn as sns\n",
    "from datetime import datetime\n",
    "from sklearn.metrics import mean_squared_error, r2_score\n",
    "from tensorflow.keras.backend import clear_session\n",
    "import gc\n",
    "#from eli5.sklearn import PermutationImportance"
   ]
  },
  {
   "cell_type": "code",
   "execution_count": 72,
   "metadata": {},
   "outputs": [],
   "source": [
    "data = pd.read_csv('all_data_results_cleaned.csv')"
   ]
  },
  {
   "cell_type": "code",
   "execution_count": 73,
   "metadata": {},
   "outputs": [],
   "source": [
    "mask = data[\"support\"] == \"Fixed_Free\"\n",
    "data = data.drop(data[mask].index)"
   ]
  },
  {
   "cell_type": "code",
   "execution_count": 74,
   "metadata": {},
   "outputs": [],
   "source": [
    "data[\"total_length\"] = data[\"length1\"] + data[\"length2\"]\n",
    "data[\"x_length\"] = data[\"length2\"] + data[\"x_deformation_position\"]\n",
    "data[\"x_ratio\"] = data[\"x_length\"]/data[\"total_length\"]\n",
    "data[\"flange_postion_ratio\"] = data[\"length2\"]/data[\"total_length\"]"
   ]
  },
  {
   "cell_type": "code",
   "execution_count": 75,
   "metadata": {},
   "outputs": [
    {
     "data": {
      "text/plain": [
       "0.9167613636363637"
      ]
     },
     "execution_count": 75,
     "metadata": {},
     "output_type": "execute_result"
    }
   ],
   "source": [
    "data[\"x_ratio\"].max()"
   ]
  },
  {
   "cell_type": "code",
   "execution_count": 76,
   "metadata": {},
   "outputs": [
    {
     "name": "stdout",
     "output_type": "stream",
     "text": [
      "0        False\n",
      "1        False\n",
      "2        False\n",
      "3        False\n",
      "4        False\n",
      "         ...  \n",
      "12284    False\n",
      "12285    False\n",
      "12286    False\n",
      "12287    False\n",
      "12288    False\n",
      "Name: x_ratio, Length: 9352, dtype: bool\n"
     ]
    }
   ],
   "source": [
    "mask2= data[\"x_ratio\"] == 1\n",
    "print(mask2)\n",
    "data = data.drop(data[mask2].index)"
   ]
  },
  {
   "cell_type": "code",
   "execution_count": 77,
   "metadata": {},
   "outputs": [],
   "source": [
    "to_drop=[\"outside_diameter\", \"wall_thickness\", \"raised_face_depth\",\n",
    "        \"w_neck_c\", \"flange_outer_radius\", \"flange_thickness_d\",\"raised_face_radius\",\n",
    "        \"y_deformation_position\", \"z_deformation_position\",\"x_deformation_position\",\n",
    "        \"support_right\", \"support_left\",\"length1\", \"length2\", \"x_length\"\n",
    "        ]\n",
    "to_keep=[\"pipe_dn\",\"pipe_schedule\",\"flange_class\",\n",
    "        \"total_length\", \"x_ratio\",\"flange_postion_ratio\"\n",
    "        \"lumped_mass\", \"frequency\",\n",
    "        \"support\", \"allowable_deformation\"]\n",
    "\n",
    "data.drop(columns=to_drop,inplace=True)"
   ]
  },
  {
   "cell_type": "code",
   "execution_count": 80,
   "metadata": {},
   "outputs": [],
   "source": [
    "numeric_features = [\"pipe_dn\", 'total_length', 'lumped_mass',\n",
    "                    \"flange_postion_ratio\"]\n",
    "categorical_features = ['support','flange_class','pipe_schedule']\n",
    "\n",
    "preprocessor = ColumnTransformer(\n",
    "    transformers=[\n",
    "        ('num', StandardScaler(), numeric_features),\n",
    "        ('cat', OneHotEncoder(drop=None), categorical_features)\n",
    "    ])"
   ]
  },
  {
   "cell_type": "code",
   "execution_count": 81,
   "metadata": {},
   "outputs": [],
   "source": [
    "pipeline = Pipeline(steps=[('preprocessor', preprocessor)])"
   ]
  },
  {
   "cell_type": "code",
   "execution_count": 82,
   "metadata": {},
   "outputs": [],
   "source": [
    "output_columns = ['allowable_deformation', 'frequency', 'x_ratio']\n",
    "x = data.drop(output_columns, axis=1)\n",
    "y = pd.DataFrame(data[output_columns])"
   ]
  },
  {
   "cell_type": "code",
   "execution_count": 83,
   "metadata": {},
   "outputs": [],
   "source": [
    "x_train, x_test, y_train, y_test = train_test_split(x, y, test_size=0.2, random_state=30)"
   ]
  },
  {
   "cell_type": "code",
   "execution_count": 84,
   "metadata": {},
   "outputs": [],
   "source": [
    "x_train_transformed = pipeline.fit_transform(x_train)\n",
    "x_test_transformed = pipeline.transform(x_test)"
   ]
  },
  {
   "cell_type": "code",
   "execution_count": 85,
   "metadata": {},
   "outputs": [],
   "source": [
    "scaler_y_frequency = StandardScaler()\n",
    "scaler_y_allowable_deformation = StandardScaler()\n",
    "scaler_y_x_ratio = StandardScaler()\n",
    "\n",
    "\n",
    "#y_train_transformed_frequency = scaler_y_frequency.fit_transform(pd.DataFrame(y_train[\"frequency\"]))\n",
    "#y_test_transformed_frequency = scaler_y_frequency.transform(pd.DataFrame(y_test[\"frequency\"]))\n",
    "\n",
    "#y_train_transformed_allowable_deformation = scaler_y_allowable_deformation.fit_transform(pd.DataFrame(y_train[\"allowable_deformation\"]))\n",
    "#y_test_transformed_allowable_deformation = scaler_y_allowable_deformation.transform(pd.DataFrame(y_test[\"allowable_deformation\"]))\n",
    "\n",
    "y_train_transformed_x_ratio = scaler_y_x_ratio.fit_transform(pd.DataFrame(y_train[\"x_ratio\"]))\n",
    "y_test_transformed_x_ratio = scaler_y_x_ratio.transform(pd.DataFrame(y_test[\"x_ratio\"]))\n",
    "\n",
    "#y_train_transformed_x_ratio = np.array(y_train[\"x_ratio\"])\n",
    "#y_test_transformed_x_ratio = np.array(y_test[\"x_ratio\"])"
   ]
  },
  {
   "cell_type": "code",
   "execution_count": 86,
   "metadata": {},
   "outputs": [],
   "source": [
    "logdir = \"logs/x_ratio_measurements/\" + datetime.now().strftime(\"%Y%m%d-%H%M%S\")\n",
    "tensorboard_callback = TensorBoard(log_dir=logdir)"
   ]
  },
  {
   "cell_type": "code",
   "execution_count": 87,
   "metadata": {},
   "outputs": [],
   "source": [
    "input_layer = Input(shape=(x_train_transformed.shape[1],))\n",
    "hidden1 = Dense(256, activation='relu')(input_layer)\n",
    "dropout1 = Dropout(0.2)(hidden1)\n",
    "hidden2 = Dense(64, activation='relu')(dropout1)\n",
    "\n",
    "\n",
    "\n",
    "# Separate output for each target variable\n",
    "output_layer = Dense(1)(hidden2)\n",
    "#, name='allowable_deformation'\n"
   ]
  },
  {
   "cell_type": "code",
   "execution_count": 88,
   "metadata": {},
   "outputs": [],
   "source": [
    "model = Model(inputs=input_layer, outputs=output_layer)"
   ]
  },
  {
   "cell_type": "code",
   "execution_count": 89,
   "metadata": {},
   "outputs": [
    {
     "data": {
      "text/html": [
       "<pre style=\"white-space:pre;overflow-x:auto;line-height:normal;font-family:Menlo,'DejaVu Sans Mono',consolas,'Courier New',monospace\"><span style=\"font-weight: bold\">Model: \"functional_1\"</span>\n",
       "</pre>\n"
      ],
      "text/plain": [
       "\u001b[1mModel: \"functional_1\"\u001b[0m\n"
      ]
     },
     "metadata": {},
     "output_type": "display_data"
    },
    {
     "data": {
      "text/html": [
       "<pre style=\"white-space:pre;overflow-x:auto;line-height:normal;font-family:Menlo,'DejaVu Sans Mono',consolas,'Courier New',monospace\">┏━━━━━━━━━━━━━━━━━━━━━━━━━━━━━━━━━┳━━━━━━━━━━━━━━━━━━━━━━━━┳━━━━━━━━━━━━━━━┓\n",
       "┃<span style=\"font-weight: bold\"> Layer (type)                    </span>┃<span style=\"font-weight: bold\"> Output Shape           </span>┃<span style=\"font-weight: bold\">       Param # </span>┃\n",
       "┡━━━━━━━━━━━━━━━━━━━━━━━━━━━━━━━━━╇━━━━━━━━━━━━━━━━━━━━━━━━╇━━━━━━━━━━━━━━━┩\n",
       "│ input_layer_1 (<span style=\"color: #0087ff; text-decoration-color: #0087ff\">InputLayer</span>)      │ (<span style=\"color: #00d7ff; text-decoration-color: #00d7ff\">None</span>, <span style=\"color: #00af00; text-decoration-color: #00af00\">15</span>)             │             <span style=\"color: #00af00; text-decoration-color: #00af00\">0</span> │\n",
       "├─────────────────────────────────┼────────────────────────┼───────────────┤\n",
       "│ dense_3 (<span style=\"color: #0087ff; text-decoration-color: #0087ff\">Dense</span>)                 │ (<span style=\"color: #00d7ff; text-decoration-color: #00d7ff\">None</span>, <span style=\"color: #00af00; text-decoration-color: #00af00\">256</span>)            │         <span style=\"color: #00af00; text-decoration-color: #00af00\">4,096</span> │\n",
       "├─────────────────────────────────┼────────────────────────┼───────────────┤\n",
       "│ dropout_1 (<span style=\"color: #0087ff; text-decoration-color: #0087ff\">Dropout</span>)             │ (<span style=\"color: #00d7ff; text-decoration-color: #00d7ff\">None</span>, <span style=\"color: #00af00; text-decoration-color: #00af00\">256</span>)            │             <span style=\"color: #00af00; text-decoration-color: #00af00\">0</span> │\n",
       "├─────────────────────────────────┼────────────────────────┼───────────────┤\n",
       "│ dense_4 (<span style=\"color: #0087ff; text-decoration-color: #0087ff\">Dense</span>)                 │ (<span style=\"color: #00d7ff; text-decoration-color: #00d7ff\">None</span>, <span style=\"color: #00af00; text-decoration-color: #00af00\">64</span>)             │        <span style=\"color: #00af00; text-decoration-color: #00af00\">16,448</span> │\n",
       "├─────────────────────────────────┼────────────────────────┼───────────────┤\n",
       "│ dense_5 (<span style=\"color: #0087ff; text-decoration-color: #0087ff\">Dense</span>)                 │ (<span style=\"color: #00d7ff; text-decoration-color: #00d7ff\">None</span>, <span style=\"color: #00af00; text-decoration-color: #00af00\">1</span>)              │            <span style=\"color: #00af00; text-decoration-color: #00af00\">65</span> │\n",
       "└─────────────────────────────────┴────────────────────────┴───────────────┘\n",
       "</pre>\n"
      ],
      "text/plain": [
       "┏━━━━━━━━━━━━━━━━━━━━━━━━━━━━━━━━━┳━━━━━━━━━━━━━━━━━━━━━━━━┳━━━━━━━━━━━━━━━┓\n",
       "┃\u001b[1m \u001b[0m\u001b[1mLayer (type)                   \u001b[0m\u001b[1m \u001b[0m┃\u001b[1m \u001b[0m\u001b[1mOutput Shape          \u001b[0m\u001b[1m \u001b[0m┃\u001b[1m \u001b[0m\u001b[1m      Param #\u001b[0m\u001b[1m \u001b[0m┃\n",
       "┡━━━━━━━━━━━━━━━━━━━━━━━━━━━━━━━━━╇━━━━━━━━━━━━━━━━━━━━━━━━╇━━━━━━━━━━━━━━━┩\n",
       "│ input_layer_1 (\u001b[38;5;33mInputLayer\u001b[0m)      │ (\u001b[38;5;45mNone\u001b[0m, \u001b[38;5;34m15\u001b[0m)             │             \u001b[38;5;34m0\u001b[0m │\n",
       "├─────────────────────────────────┼────────────────────────┼───────────────┤\n",
       "│ dense_3 (\u001b[38;5;33mDense\u001b[0m)                 │ (\u001b[38;5;45mNone\u001b[0m, \u001b[38;5;34m256\u001b[0m)            │         \u001b[38;5;34m4,096\u001b[0m │\n",
       "├─────────────────────────────────┼────────────────────────┼───────────────┤\n",
       "│ dropout_1 (\u001b[38;5;33mDropout\u001b[0m)             │ (\u001b[38;5;45mNone\u001b[0m, \u001b[38;5;34m256\u001b[0m)            │             \u001b[38;5;34m0\u001b[0m │\n",
       "├─────────────────────────────────┼────────────────────────┼───────────────┤\n",
       "│ dense_4 (\u001b[38;5;33mDense\u001b[0m)                 │ (\u001b[38;5;45mNone\u001b[0m, \u001b[38;5;34m64\u001b[0m)             │        \u001b[38;5;34m16,448\u001b[0m │\n",
       "├─────────────────────────────────┼────────────────────────┼───────────────┤\n",
       "│ dense_5 (\u001b[38;5;33mDense\u001b[0m)                 │ (\u001b[38;5;45mNone\u001b[0m, \u001b[38;5;34m1\u001b[0m)              │            \u001b[38;5;34m65\u001b[0m │\n",
       "└─────────────────────────────────┴────────────────────────┴───────────────┘\n"
      ]
     },
     "metadata": {},
     "output_type": "display_data"
    },
    {
     "data": {
      "text/html": [
       "<pre style=\"white-space:pre;overflow-x:auto;line-height:normal;font-family:Menlo,'DejaVu Sans Mono',consolas,'Courier New',monospace\"><span style=\"font-weight: bold\"> Total params: </span><span style=\"color: #00af00; text-decoration-color: #00af00\">20,609</span> (80.50 KB)\n",
       "</pre>\n"
      ],
      "text/plain": [
       "\u001b[1m Total params: \u001b[0m\u001b[38;5;34m20,609\u001b[0m (80.50 KB)\n"
      ]
     },
     "metadata": {},
     "output_type": "display_data"
    },
    {
     "data": {
      "text/html": [
       "<pre style=\"white-space:pre;overflow-x:auto;line-height:normal;font-family:Menlo,'DejaVu Sans Mono',consolas,'Courier New',monospace\"><span style=\"font-weight: bold\"> Trainable params: </span><span style=\"color: #00af00; text-decoration-color: #00af00\">20,609</span> (80.50 KB)\n",
       "</pre>\n"
      ],
      "text/plain": [
       "\u001b[1m Trainable params: \u001b[0m\u001b[38;5;34m20,609\u001b[0m (80.50 KB)\n"
      ]
     },
     "metadata": {},
     "output_type": "display_data"
    },
    {
     "data": {
      "text/html": [
       "<pre style=\"white-space:pre;overflow-x:auto;line-height:normal;font-family:Menlo,'DejaVu Sans Mono',consolas,'Courier New',monospace\"><span style=\"font-weight: bold\"> Non-trainable params: </span><span style=\"color: #00af00; text-decoration-color: #00af00\">0</span> (0.00 B)\n",
       "</pre>\n"
      ],
      "text/plain": [
       "\u001b[1m Non-trainable params: \u001b[0m\u001b[38;5;34m0\u001b[0m (0.00 B)\n"
      ]
     },
     "metadata": {},
     "output_type": "display_data"
    }
   ],
   "source": [
    "model.summary()"
   ]
  },
  {
   "cell_type": "code",
   "execution_count": 90,
   "metadata": {},
   "outputs": [],
   "source": [
    "model.compile(optimizer=Adam(learning_rate=0.0005), \n",
    "              loss='mse',\n",
    "              metrics=[\"R2Score\"])"
   ]
  },
  {
   "cell_type": "code",
   "execution_count": 91,
   "metadata": {},
   "outputs": [
    {
     "name": "stdout",
     "output_type": "stream",
     "text": [
      "Epoch 1/200\n",
      "\u001b[1m187/187\u001b[0m \u001b[32m━━━━━━━━━━━━━━━━━━━━\u001b[0m\u001b[37m\u001b[0m \u001b[1m7s\u001b[0m 12ms/step - R2Score: 0.4073 - loss: 0.5534 - val_R2Score: 0.7292 - val_loss: 0.2487\n",
      "Epoch 2/200\n",
      "\u001b[1m187/187\u001b[0m \u001b[32m━━━━━━━━━━━━━━━━━━━━\u001b[0m\u001b[37m\u001b[0m \u001b[1m1s\u001b[0m 5ms/step - R2Score: 0.6641 - loss: 0.3426 - val_R2Score: 0.7628 - val_loss: 0.2179\n",
      "Epoch 3/200\n",
      "\u001b[1m187/187\u001b[0m \u001b[32m━━━━━━━━━━━━━━━━━━━━\u001b[0m\u001b[37m\u001b[0m \u001b[1m1s\u001b[0m 4ms/step - R2Score: 0.7148 - loss: 0.2766 - val_R2Score: 0.7842 - val_loss: 0.1983\n",
      "Epoch 4/200\n",
      "\u001b[1m187/187\u001b[0m \u001b[32m━━━━━━━━━━━━━━━━━━━━\u001b[0m\u001b[37m\u001b[0m \u001b[1m1s\u001b[0m 4ms/step - R2Score: 0.7246 - loss: 0.2804 - val_R2Score: 0.7904 - val_loss: 0.1926\n",
      "Epoch 5/200\n",
      "\u001b[1m187/187\u001b[0m \u001b[32m━━━━━━━━━━━━━━━━━━━━\u001b[0m\u001b[37m\u001b[0m \u001b[1m1s\u001b[0m 4ms/step - R2Score: 0.7388 - loss: 0.2635 - val_R2Score: 0.7979 - val_loss: 0.1857\n",
      "Epoch 6/200\n",
      "\u001b[1m187/187\u001b[0m \u001b[32m━━━━━━━━━━━━━━━━━━━━\u001b[0m\u001b[37m\u001b[0m \u001b[1m1s\u001b[0m 4ms/step - R2Score: 0.7476 - loss: 0.2621 - val_R2Score: 0.8123 - val_loss: 0.1724\n",
      "Epoch 7/200\n",
      "\u001b[1m187/187\u001b[0m \u001b[32m━━━━━━━━━━━━━━━━━━━━\u001b[0m\u001b[37m\u001b[0m \u001b[1m1s\u001b[0m 5ms/step - R2Score: 0.7558 - loss: 0.2497 - val_R2Score: 0.8006 - val_loss: 0.1831\n",
      "Epoch 8/200\n",
      "\u001b[1m187/187\u001b[0m \u001b[32m━━━━━━━━━━━━━━━━━━━━\u001b[0m\u001b[37m\u001b[0m \u001b[1m1s\u001b[0m 4ms/step - R2Score: 0.7882 - loss: 0.2092 - val_R2Score: 0.8107 - val_loss: 0.1739\n",
      "Epoch 9/200\n",
      "\u001b[1m187/187\u001b[0m \u001b[32m━━━━━━━━━━━━━━━━━━━━\u001b[0m\u001b[37m\u001b[0m \u001b[1m1s\u001b[0m 4ms/step - R2Score: 0.7770 - loss: 0.2150 - val_R2Score: 0.8149 - val_loss: 0.1700\n",
      "Epoch 10/200\n",
      "\u001b[1m187/187\u001b[0m \u001b[32m━━━━━━━━━━━━━━━━━━━━\u001b[0m\u001b[37m\u001b[0m \u001b[1m1s\u001b[0m 4ms/step - R2Score: 0.7656 - loss: 0.2538 - val_R2Score: 0.8193 - val_loss: 0.1660\n",
      "Epoch 11/200\n",
      "\u001b[1m187/187\u001b[0m \u001b[32m━━━━━━━━━━━━━━━━━━━━\u001b[0m\u001b[37m\u001b[0m \u001b[1m1s\u001b[0m 5ms/step - R2Score: 0.7970 - loss: 0.2081 - val_R2Score: 0.8170 - val_loss: 0.1681\n",
      "Epoch 12/200\n",
      "\u001b[1m187/187\u001b[0m \u001b[32m━━━━━━━━━━━━━━━━━━━━\u001b[0m\u001b[37m\u001b[0m \u001b[1m1s\u001b[0m 5ms/step - R2Score: 0.7812 - loss: 0.2313 - val_R2Score: 0.8254 - val_loss: 0.1604\n",
      "Epoch 13/200\n",
      "\u001b[1m187/187\u001b[0m \u001b[32m━━━━━━━━━━━━━━━━━━━━\u001b[0m\u001b[37m\u001b[0m \u001b[1m1s\u001b[0m 5ms/step - R2Score: 0.7943 - loss: 0.2181 - val_R2Score: 0.8175 - val_loss: 0.1676\n",
      "Epoch 14/200\n",
      "\u001b[1m187/187\u001b[0m \u001b[32m━━━━━━━━━━━━━━━━━━━━\u001b[0m\u001b[37m\u001b[0m \u001b[1m1s\u001b[0m 4ms/step - R2Score: 0.8028 - loss: 0.2002 - val_R2Score: 0.8240 - val_loss: 0.1617\n",
      "Epoch 15/200\n",
      "\u001b[1m187/187\u001b[0m \u001b[32m━━━━━━━━━━━━━━━━━━━━\u001b[0m\u001b[37m\u001b[0m \u001b[1m1s\u001b[0m 4ms/step - R2Score: 0.8239 - loss: 0.1682 - val_R2Score: 0.8302 - val_loss: 0.1560\n",
      "Epoch 16/200\n",
      "\u001b[1m187/187\u001b[0m \u001b[32m━━━━━━━━━━━━━━━━━━━━\u001b[0m\u001b[37m\u001b[0m \u001b[1m1s\u001b[0m 7ms/step - R2Score: 0.8039 - loss: 0.1949 - val_R2Score: 0.8299 - val_loss: 0.1562\n",
      "Epoch 17/200\n",
      "\u001b[1m187/187\u001b[0m \u001b[32m━━━━━━━━━━━━━━━━━━━━\u001b[0m\u001b[37m\u001b[0m \u001b[1m3s\u001b[0m 7ms/step - R2Score: 0.7898 - loss: 0.1955 - val_R2Score: 0.8305 - val_loss: 0.1557\n",
      "Epoch 18/200\n",
      "\u001b[1m187/187\u001b[0m \u001b[32m━━━━━━━━━━━━━━━━━━━━\u001b[0m\u001b[37m\u001b[0m \u001b[1m1s\u001b[0m 4ms/step - R2Score: 0.8150 - loss: 0.1881 - val_R2Score: 0.8209 - val_loss: 0.1645\n",
      "Epoch 19/200\n",
      "\u001b[1m187/187\u001b[0m \u001b[32m━━━━━━━━━━━━━━━━━━━━\u001b[0m\u001b[37m\u001b[0m \u001b[1m2s\u001b[0m 8ms/step - R2Score: 0.8225 - loss: 0.1827 - val_R2Score: 0.8283 - val_loss: 0.1577\n",
      "Epoch 20/200\n",
      "\u001b[1m187/187\u001b[0m \u001b[32m━━━━━━━━━━━━━━━━━━━━\u001b[0m\u001b[37m\u001b[0m \u001b[1m5s\u001b[0m 14ms/step - R2Score: 0.8015 - loss: 0.2086 - val_R2Score: 0.8338 - val_loss: 0.1527\n",
      "Epoch 21/200\n",
      "\u001b[1m187/187\u001b[0m \u001b[32m━━━━━━━━━━━━━━━━━━━━\u001b[0m\u001b[37m\u001b[0m \u001b[1m1s\u001b[0m 6ms/step - R2Score: 0.8398 - loss: 0.1629 - val_R2Score: 0.8317 - val_loss: 0.1546\n",
      "Epoch 22/200\n",
      "\u001b[1m187/187\u001b[0m \u001b[32m━━━━━━━━━━━━━━━━━━━━\u001b[0m\u001b[37m\u001b[0m \u001b[1m1s\u001b[0m 5ms/step - R2Score: 0.8358 - loss: 0.1591 - val_R2Score: 0.8158 - val_loss: 0.1692\n",
      "Epoch 23/200\n",
      "\u001b[1m187/187\u001b[0m \u001b[32m━━━━━━━━━━━━━━━━━━━━\u001b[0m\u001b[37m\u001b[0m \u001b[1m1s\u001b[0m 5ms/step - R2Score: 0.8339 - loss: 0.1663 - val_R2Score: 0.8341 - val_loss: 0.1524\n",
      "Epoch 24/200\n",
      "\u001b[1m187/187\u001b[0m \u001b[32m━━━━━━━━━━━━━━━━━━━━\u001b[0m\u001b[37m\u001b[0m \u001b[1m1s\u001b[0m 5ms/step - R2Score: 0.8176 - loss: 0.1807 - val_R2Score: 0.8375 - val_loss: 0.1492\n",
      "Epoch 25/200\n",
      "\u001b[1m187/187\u001b[0m \u001b[32m━━━━━━━━━━━━━━━━━━━━\u001b[0m\u001b[37m\u001b[0m \u001b[1m2s\u001b[0m 6ms/step - R2Score: 0.8368 - loss: 0.1690 - val_R2Score: 0.8409 - val_loss: 0.1462\n",
      "Epoch 26/200\n",
      "\u001b[1m187/187\u001b[0m \u001b[32m━━━━━━━━━━━━━━━━━━━━\u001b[0m\u001b[37m\u001b[0m \u001b[1m1s\u001b[0m 7ms/step - R2Score: 0.8371 - loss: 0.1736 - val_R2Score: 0.8396 - val_loss: 0.1474\n",
      "Epoch 27/200\n",
      "\u001b[1m187/187\u001b[0m \u001b[32m━━━━━━━━━━━━━━━━━━━━\u001b[0m\u001b[37m\u001b[0m \u001b[1m2s\u001b[0m 5ms/step - R2Score: 0.8455 - loss: 0.1549 - val_R2Score: 0.8370 - val_loss: 0.1497\n",
      "Epoch 28/200\n",
      "\u001b[1m187/187\u001b[0m \u001b[32m━━━━━━━━━━━━━━━━━━━━\u001b[0m\u001b[37m\u001b[0m \u001b[1m1s\u001b[0m 4ms/step - R2Score: 0.8240 - loss: 0.1998 - val_R2Score: 0.8370 - val_loss: 0.1498\n",
      "Epoch 29/200\n",
      "\u001b[1m187/187\u001b[0m \u001b[32m━━━━━━━━━━━━━━━━━━━━\u001b[0m\u001b[37m\u001b[0m \u001b[1m1s\u001b[0m 4ms/step - R2Score: 0.8399 - loss: 0.1747 - val_R2Score: 0.8407 - val_loss: 0.1463\n",
      "Epoch 30/200\n",
      "\u001b[1m187/187\u001b[0m \u001b[32m━━━━━━━━━━━━━━━━━━━━\u001b[0m\u001b[37m\u001b[0m \u001b[1m1s\u001b[0m 5ms/step - R2Score: 0.8521 - loss: 0.1524 - val_R2Score: 0.8361 - val_loss: 0.1506\n",
      "Epoch 31/200\n",
      "\u001b[1m187/187\u001b[0m \u001b[32m━━━━━━━━━━━━━━━━━━━━\u001b[0m\u001b[37m\u001b[0m \u001b[1m1s\u001b[0m 5ms/step - R2Score: 0.8341 - loss: 0.1841 - val_R2Score: 0.8434 - val_loss: 0.1438\n",
      "Epoch 32/200\n",
      "\u001b[1m187/187\u001b[0m \u001b[32m━━━━━━━━━━━━━━━━━━━━\u001b[0m\u001b[37m\u001b[0m \u001b[1m1s\u001b[0m 5ms/step - R2Score: 0.8553 - loss: 0.1559 - val_R2Score: 0.8296 - val_loss: 0.1566\n",
      "Epoch 33/200\n",
      "\u001b[1m187/187\u001b[0m \u001b[32m━━━━━━━━━━━━━━━━━━━━\u001b[0m\u001b[37m\u001b[0m \u001b[1m1s\u001b[0m 4ms/step - R2Score: 0.8598 - loss: 0.1469 - val_R2Score: 0.8432 - val_loss: 0.1441\n",
      "Epoch 34/200\n",
      "\u001b[1m187/187\u001b[0m \u001b[32m━━━━━━━━━━━━━━━━━━━━\u001b[0m\u001b[37m\u001b[0m \u001b[1m1s\u001b[0m 4ms/step - R2Score: 0.8578 - loss: 0.1490 - val_R2Score: 0.8455 - val_loss: 0.1420\n",
      "Epoch 35/200\n",
      "\u001b[1m187/187\u001b[0m \u001b[32m━━━━━━━━━━━━━━━━━━━━\u001b[0m\u001b[37m\u001b[0m \u001b[1m1s\u001b[0m 5ms/step - R2Score: 0.8474 - loss: 0.1574 - val_R2Score: 0.8457 - val_loss: 0.1418\n",
      "Epoch 36/200\n",
      "\u001b[1m187/187\u001b[0m \u001b[32m━━━━━━━━━━━━━━━━━━━━\u001b[0m\u001b[37m\u001b[0m \u001b[1m1s\u001b[0m 4ms/step - R2Score: 0.8433 - loss: 0.1556 - val_R2Score: 0.8458 - val_loss: 0.1416\n",
      "Epoch 37/200\n",
      "\u001b[1m187/187\u001b[0m \u001b[32m━━━━━━━━━━━━━━━━━━━━\u001b[0m\u001b[37m\u001b[0m \u001b[1m1s\u001b[0m 4ms/step - R2Score: 0.8756 - loss: 0.1364 - val_R2Score: 0.8436 - val_loss: 0.1437\n",
      "Epoch 38/200\n",
      "\u001b[1m187/187\u001b[0m \u001b[32m━━━━━━━━━━━━━━━━━━━━\u001b[0m\u001b[37m\u001b[0m \u001b[1m1s\u001b[0m 5ms/step - R2Score: 0.8604 - loss: 0.1410 - val_R2Score: 0.8455 - val_loss: 0.1419\n",
      "Epoch 39/200\n",
      "\u001b[1m187/187\u001b[0m \u001b[32m━━━━━━━━━━━━━━━━━━━━\u001b[0m\u001b[37m\u001b[0m \u001b[1m1s\u001b[0m 5ms/step - R2Score: 0.8637 - loss: 0.1377 - val_R2Score: 0.8475 - val_loss: 0.1401\n",
      "Epoch 40/200\n",
      "\u001b[1m187/187\u001b[0m \u001b[32m━━━━━━━━━━━━━━━━━━━━\u001b[0m\u001b[37m\u001b[0m \u001b[1m1s\u001b[0m 5ms/step - R2Score: 0.8675 - loss: 0.1299 - val_R2Score: 0.8526 - val_loss: 0.1354\n",
      "Epoch 41/200\n",
      "\u001b[1m187/187\u001b[0m \u001b[32m━━━━━━━━━━━━━━━━━━━━\u001b[0m\u001b[37m\u001b[0m \u001b[1m1s\u001b[0m 4ms/step - R2Score: 0.8756 - loss: 0.1313 - val_R2Score: 0.8522 - val_loss: 0.1358\n",
      "Epoch 42/200\n",
      "\u001b[1m187/187\u001b[0m \u001b[32m━━━━━━━━━━━━━━━━━━━━\u001b[0m\u001b[37m\u001b[0m \u001b[1m1s\u001b[0m 4ms/step - R2Score: 0.8772 - loss: 0.1322 - val_R2Score: 0.8478 - val_loss: 0.1399\n",
      "Epoch 43/200\n",
      "\u001b[1m187/187\u001b[0m \u001b[32m━━━━━━━━━━━━━━━━━━━━\u001b[0m\u001b[37m\u001b[0m \u001b[1m1s\u001b[0m 4ms/step - R2Score: 0.8878 - loss: 0.1098 - val_R2Score: 0.8446 - val_loss: 0.1427\n",
      "Epoch 44/200\n",
      "\u001b[1m187/187\u001b[0m \u001b[32m━━━━━━━━━━━━━━━━━━━━\u001b[0m\u001b[37m\u001b[0m \u001b[1m1s\u001b[0m 6ms/step - R2Score: 0.8815 - loss: 0.1174 - val_R2Score: 0.8528 - val_loss: 0.1353\n",
      "Epoch 45/200\n",
      "\u001b[1m187/187\u001b[0m \u001b[32m━━━━━━━━━━━━━━━━━━━━\u001b[0m\u001b[37m\u001b[0m \u001b[1m1s\u001b[0m 7ms/step - R2Score: 0.8840 - loss: 0.1078 - val_R2Score: 0.8414 - val_loss: 0.1457\n",
      "Epoch 46/200\n",
      "\u001b[1m187/187\u001b[0m \u001b[32m━━━━━━━━━━━━━━━━━━━━\u001b[0m\u001b[37m\u001b[0m \u001b[1m1s\u001b[0m 6ms/step - R2Score: 0.8804 - loss: 0.1190 - val_R2Score: 0.8510 - val_loss: 0.1369\n",
      "Epoch 47/200\n",
      "\u001b[1m187/187\u001b[0m \u001b[32m━━━━━━━━━━━━━━━━━━━━\u001b[0m\u001b[37m\u001b[0m \u001b[1m1s\u001b[0m 6ms/step - R2Score: 0.8808 - loss: 0.1154 - val_R2Score: 0.8550 - val_loss: 0.1332\n",
      "Epoch 48/200\n",
      "\u001b[1m187/187\u001b[0m \u001b[32m━━━━━━━━━━━━━━━━━━━━\u001b[0m\u001b[37m\u001b[0m \u001b[1m1s\u001b[0m 4ms/step - R2Score: 0.8930 - loss: 0.1107 - val_R2Score: 0.8575 - val_loss: 0.1309\n",
      "Epoch 49/200\n",
      "\u001b[1m187/187\u001b[0m \u001b[32m━━━━━━━━━━━━━━━━━━━━\u001b[0m\u001b[37m\u001b[0m \u001b[1m1s\u001b[0m 4ms/step - R2Score: 0.8814 - loss: 0.1183 - val_R2Score: 0.8579 - val_loss: 0.1306\n",
      "Epoch 50/200\n",
      "\u001b[1m187/187\u001b[0m \u001b[32m━━━━━━━━━━━━━━━━━━━━\u001b[0m\u001b[37m\u001b[0m \u001b[1m1s\u001b[0m 6ms/step - R2Score: 0.8897 - loss: 0.1134 - val_R2Score: 0.8596 - val_loss: 0.1289\n",
      "Epoch 51/200\n",
      "\u001b[1m187/187\u001b[0m \u001b[32m━━━━━━━━━━━━━━━━━━━━\u001b[0m\u001b[37m\u001b[0m \u001b[1m2s\u001b[0m 7ms/step - R2Score: 0.9025 - loss: 0.0954 - val_R2Score: 0.8564 - val_loss: 0.1319\n",
      "Epoch 52/200\n",
      "\u001b[1m187/187\u001b[0m \u001b[32m━━━━━━━━━━━━━━━━━━━━\u001b[0m\u001b[37m\u001b[0m \u001b[1m2s\u001b[0m 5ms/step - R2Score: 0.8894 - loss: 0.1043 - val_R2Score: 0.8562 - val_loss: 0.1321\n",
      "Epoch 53/200\n",
      "\u001b[1m187/187\u001b[0m \u001b[32m━━━━━━━━━━━━━━━━━━━━\u001b[0m\u001b[37m\u001b[0m \u001b[1m1s\u001b[0m 4ms/step - R2Score: 0.8978 - loss: 0.1079 - val_R2Score: 0.8630 - val_loss: 0.1259\n",
      "Epoch 54/200\n",
      "\u001b[1m187/187\u001b[0m \u001b[32m━━━━━━━━━━━━━━━━━━━━\u001b[0m\u001b[37m\u001b[0m \u001b[1m1s\u001b[0m 5ms/step - R2Score: 0.9054 - loss: 0.0962 - val_R2Score: 0.8679 - val_loss: 0.1214\n",
      "Epoch 55/200\n",
      "\u001b[1m187/187\u001b[0m \u001b[32m━━━━━━━━━━━━━━━━━━━━\u001b[0m\u001b[37m\u001b[0m \u001b[1m1s\u001b[0m 6ms/step - R2Score: 0.9092 - loss: 0.0888 - val_R2Score: 0.8611 - val_loss: 0.1276\n",
      "Epoch 56/200\n",
      "\u001b[1m187/187\u001b[0m \u001b[32m━━━━━━━━━━━━━━━━━━━━\u001b[0m\u001b[37m\u001b[0m \u001b[1m1s\u001b[0m 5ms/step - R2Score: 0.8937 - loss: 0.1125 - val_R2Score: 0.8588 - val_loss: 0.1297\n",
      "Epoch 57/200\n",
      "\u001b[1m187/187\u001b[0m \u001b[32m━━━━━━━━━━━━━━━━━━━━\u001b[0m\u001b[37m\u001b[0m \u001b[1m1s\u001b[0m 5ms/step - R2Score: 0.8978 - loss: 0.1049 - val_R2Score: 0.8607 - val_loss: 0.1280\n",
      "Epoch 58/200\n",
      "\u001b[1m187/187\u001b[0m \u001b[32m━━━━━━━━━━━━━━━━━━━━\u001b[0m\u001b[37m\u001b[0m \u001b[1m1s\u001b[0m 6ms/step - R2Score: 0.9128 - loss: 0.0847 - val_R2Score: 0.8692 - val_loss: 0.1202\n",
      "Epoch 59/200\n",
      "\u001b[1m187/187\u001b[0m \u001b[32m━━━━━━━━━━━━━━━━━━━━\u001b[0m\u001b[37m\u001b[0m \u001b[1m1s\u001b[0m 6ms/step - R2Score: 0.8970 - loss: 0.1080 - val_R2Score: 0.8622 - val_loss: 0.1266\n",
      "Epoch 60/200\n",
      "\u001b[1m187/187\u001b[0m \u001b[32m━━━━━━━━━━━━━━━━━━━━\u001b[0m\u001b[37m\u001b[0m \u001b[1m2s\u001b[0m 5ms/step - R2Score: 0.8992 - loss: 0.1093 - val_R2Score: 0.8615 - val_loss: 0.1272\n",
      "Epoch 61/200\n",
      "\u001b[1m187/187\u001b[0m \u001b[32m━━━━━━━━━━━━━━━━━━━━\u001b[0m\u001b[37m\u001b[0m \u001b[1m1s\u001b[0m 4ms/step - R2Score: 0.9016 - loss: 0.0917 - val_R2Score: 0.8684 - val_loss: 0.1209\n",
      "Epoch 62/200\n",
      "\u001b[1m187/187\u001b[0m \u001b[32m━━━━━━━━━━━━━━━━━━━━\u001b[0m\u001b[37m\u001b[0m \u001b[1m1s\u001b[0m 4ms/step - R2Score: 0.8969 - loss: 0.1053 - val_R2Score: 0.8683 - val_loss: 0.1210\n",
      "Epoch 63/200\n",
      "\u001b[1m187/187\u001b[0m \u001b[32m━━━━━━━━━━━━━━━━━━━━\u001b[0m\u001b[37m\u001b[0m \u001b[1m1s\u001b[0m 4ms/step - R2Score: 0.9042 - loss: 0.0920 - val_R2Score: 0.8660 - val_loss: 0.1231\n",
      "Epoch 64/200\n",
      "\u001b[1m187/187\u001b[0m \u001b[32m━━━━━━━━━━━━━━━━━━━━\u001b[0m\u001b[37m\u001b[0m \u001b[1m1s\u001b[0m 4ms/step - R2Score: 0.9010 - loss: 0.1077 - val_R2Score: 0.8638 - val_loss: 0.1251\n",
      "Epoch 65/200\n",
      "\u001b[1m187/187\u001b[0m \u001b[32m━━━━━━━━━━━━━━━━━━━━\u001b[0m\u001b[37m\u001b[0m \u001b[1m2s\u001b[0m 6ms/step - R2Score: 0.9155 - loss: 0.0847 - val_R2Score: 0.8692 - val_loss: 0.1201\n",
      "Epoch 66/200\n",
      "\u001b[1m187/187\u001b[0m \u001b[32m━━━━━━━━━━━━━━━━━━━━\u001b[0m\u001b[37m\u001b[0m \u001b[1m1s\u001b[0m 5ms/step - R2Score: 0.9089 - loss: 0.0989 - val_R2Score: 0.8655 - val_loss: 0.1235\n",
      "Epoch 67/200\n",
      "\u001b[1m187/187\u001b[0m \u001b[32m━━━━━━━━━━━━━━━━━━━━\u001b[0m\u001b[37m\u001b[0m \u001b[1m1s\u001b[0m 4ms/step - R2Score: 0.9093 - loss: 0.0874 - val_R2Score: 0.8683 - val_loss: 0.1210\n",
      "Epoch 68/200\n",
      "\u001b[1m187/187\u001b[0m \u001b[32m━━━━━━━━━━━━━━━━━━━━\u001b[0m\u001b[37m\u001b[0m \u001b[1m1s\u001b[0m 4ms/step - R2Score: 0.9210 - loss: 0.0742 - val_R2Score: 0.8690 - val_loss: 0.1203\n",
      "Epoch 69/200\n",
      "\u001b[1m187/187\u001b[0m \u001b[32m━━━━━━━━━━━━━━━━━━━━\u001b[0m\u001b[37m\u001b[0m \u001b[1m2s\u001b[0m 5ms/step - R2Score: 0.9247 - loss: 0.0808 - val_R2Score: 0.8674 - val_loss: 0.1219\n",
      "Epoch 70/200\n",
      "\u001b[1m187/187\u001b[0m \u001b[32m━━━━━━━━━━━━━━━━━━━━\u001b[0m\u001b[37m\u001b[0m \u001b[1m1s\u001b[0m 5ms/step - R2Score: 0.9151 - loss: 0.0811 - val_R2Score: 0.8519 - val_loss: 0.1360\n",
      "Epoch 71/200\n",
      "\u001b[1m187/187\u001b[0m \u001b[32m━━━━━━━━━━━━━━━━━━━━\u001b[0m\u001b[37m\u001b[0m \u001b[1m1s\u001b[0m 5ms/step - R2Score: 0.9202 - loss: 0.0766 - val_R2Score: 0.8693 - val_loss: 0.1201\n",
      "Epoch 72/200\n",
      "\u001b[1m187/187\u001b[0m \u001b[32m━━━━━━━━━━━━━━━━━━━━\u001b[0m\u001b[37m\u001b[0m \u001b[1m1s\u001b[0m 4ms/step - R2Score: 0.9130 - loss: 0.0883 - val_R2Score: 0.8625 - val_loss: 0.1263\n",
      "Epoch 73/200\n",
      "\u001b[1m187/187\u001b[0m \u001b[32m━━━━━━━━━━━━━━━━━━━━\u001b[0m\u001b[37m\u001b[0m \u001b[1m1s\u001b[0m 4ms/step - R2Score: 0.9223 - loss: 0.0755 - val_R2Score: 0.8710 - val_loss: 0.1185\n",
      "Epoch 74/200\n",
      "\u001b[1m187/187\u001b[0m \u001b[32m━━━━━━━━━━━━━━━━━━━━\u001b[0m\u001b[37m\u001b[0m \u001b[1m2s\u001b[0m 6ms/step - R2Score: 0.9274 - loss: 0.0745 - val_R2Score: 0.8660 - val_loss: 0.1231\n",
      "Epoch 75/200\n",
      "\u001b[1m187/187\u001b[0m \u001b[32m━━━━━━━━━━━━━━━━━━━━\u001b[0m\u001b[37m\u001b[0m \u001b[1m1s\u001b[0m 7ms/step - R2Score: 0.9209 - loss: 0.0809 - val_R2Score: 0.8567 - val_loss: 0.1317\n",
      "Epoch 76/200\n",
      "\u001b[1m187/187\u001b[0m \u001b[32m━━━━━━━━━━━━━━━━━━━━\u001b[0m\u001b[37m\u001b[0m \u001b[1m1s\u001b[0m 6ms/step - R2Score: 0.9141 - loss: 0.0889 - val_R2Score: 0.8743 - val_loss: 0.1155\n",
      "Epoch 77/200\n",
      "\u001b[1m187/187\u001b[0m \u001b[32m━━━━━━━━━━━━━━━━━━━━\u001b[0m\u001b[37m\u001b[0m \u001b[1m2s\u001b[0m 7ms/step - R2Score: 0.9288 - loss: 0.0753 - val_R2Score: 0.8745 - val_loss: 0.1153\n",
      "Epoch 78/200\n",
      "\u001b[1m187/187\u001b[0m \u001b[32m━━━━━━━━━━━━━━━━━━━━\u001b[0m\u001b[37m\u001b[0m \u001b[1m1s\u001b[0m 6ms/step - R2Score: 0.9190 - loss: 0.0805 - val_R2Score: 0.8676 - val_loss: 0.1217\n",
      "Epoch 79/200\n",
      "\u001b[1m187/187\u001b[0m \u001b[32m━━━━━━━━━━━━━━━━━━━━\u001b[0m\u001b[37m\u001b[0m \u001b[1m1s\u001b[0m 6ms/step - R2Score: 0.9239 - loss: 0.0809 - val_R2Score: 0.8678 - val_loss: 0.1214\n",
      "Epoch 80/200\n",
      "\u001b[1m187/187\u001b[0m \u001b[32m━━━━━━━━━━━━━━━━━━━━\u001b[0m\u001b[37m\u001b[0m \u001b[1m1s\u001b[0m 6ms/step - R2Score: 0.9269 - loss: 0.0737 - val_R2Score: 0.8740 - val_loss: 0.1157\n",
      "Epoch 81/200\n",
      "\u001b[1m187/187\u001b[0m \u001b[32m━━━━━━━━━━━━━━━━━━━━\u001b[0m\u001b[37m\u001b[0m \u001b[1m1s\u001b[0m 5ms/step - R2Score: 0.9203 - loss: 0.0772 - val_R2Score: 0.8685 - val_loss: 0.1208\n",
      "Epoch 82/200\n",
      "\u001b[1m187/187\u001b[0m \u001b[32m━━━━━━━━━━━━━━━━━━━━\u001b[0m\u001b[37m\u001b[0m \u001b[1m1s\u001b[0m 6ms/step - R2Score: 0.9239 - loss: 0.0806 - val_R2Score: 0.8693 - val_loss: 0.1201\n",
      "Epoch 83/200\n",
      "\u001b[1m187/187\u001b[0m \u001b[32m━━━━━━━━━━━━━━━━━━━━\u001b[0m\u001b[37m\u001b[0m \u001b[1m2s\u001b[0m 8ms/step - R2Score: 0.9240 - loss: 0.0755 - val_R2Score: 0.8702 - val_loss: 0.1192\n",
      "Epoch 84/200\n",
      "\u001b[1m187/187\u001b[0m \u001b[32m━━━━━━━━━━━━━━━━━━━━\u001b[0m\u001b[37m\u001b[0m \u001b[1m2s\u001b[0m 5ms/step - R2Score: 0.9313 - loss: 0.0713 - val_R2Score: 0.8614 - val_loss: 0.1273\n",
      "Epoch 85/200\n",
      "\u001b[1m187/187\u001b[0m \u001b[32m━━━━━━━━━━━━━━━━━━━━\u001b[0m\u001b[37m\u001b[0m \u001b[1m1s\u001b[0m 5ms/step - R2Score: 0.9355 - loss: 0.0703 - val_R2Score: 0.8706 - val_loss: 0.1189\n",
      "Epoch 86/200\n",
      "\u001b[1m187/187\u001b[0m \u001b[32m━━━━━━━━━━━━━━━━━━━━\u001b[0m\u001b[37m\u001b[0m \u001b[1m1s\u001b[0m 4ms/step - R2Score: 0.9262 - loss: 0.0706 - val_R2Score: 0.8661 - val_loss: 0.1230\n",
      "Epoch 87/200\n",
      "\u001b[1m187/187\u001b[0m \u001b[32m━━━━━━━━━━━━━━━━━━━━\u001b[0m\u001b[37m\u001b[0m \u001b[1m1s\u001b[0m 7ms/step - R2Score: 0.9331 - loss: 0.0695 - val_R2Score: 0.8664 - val_loss: 0.1227\n",
      "Epoch 88/200\n",
      "\u001b[1m187/187\u001b[0m \u001b[32m━━━━━━━━━━━━━━━━━━━━\u001b[0m\u001b[37m\u001b[0m \u001b[1m1s\u001b[0m 4ms/step - R2Score: 0.9331 - loss: 0.0662 - val_R2Score: 0.8684 - val_loss: 0.1209\n",
      "Epoch 89/200\n",
      "\u001b[1m187/187\u001b[0m \u001b[32m━━━━━━━━━━━━━━━━━━━━\u001b[0m\u001b[37m\u001b[0m \u001b[1m1s\u001b[0m 4ms/step - R2Score: 0.9323 - loss: 0.0710 - val_R2Score: 0.8615 - val_loss: 0.1273\n",
      "Epoch 90/200\n",
      "\u001b[1m187/187\u001b[0m \u001b[32m━━━━━━━━━━━━━━━━━━━━\u001b[0m\u001b[37m\u001b[0m \u001b[1m1s\u001b[0m 4ms/step - R2Score: 0.9363 - loss: 0.0716 - val_R2Score: 0.8696 - val_loss: 0.1198\n",
      "Epoch 91/200\n",
      "\u001b[1m187/187\u001b[0m \u001b[32m━━━━━━━━━━━━━━━━━━━━\u001b[0m\u001b[37m\u001b[0m \u001b[1m1s\u001b[0m 6ms/step - R2Score: 0.9377 - loss: 0.0660 - val_R2Score: 0.8692 - val_loss: 0.1201\n",
      "Epoch 92/200\n",
      "\u001b[1m187/187\u001b[0m \u001b[32m━━━━━━━━━━━━━━━━━━━━\u001b[0m\u001b[37m\u001b[0m \u001b[1m1s\u001b[0m 5ms/step - R2Score: 0.9308 - loss: 0.0697 - val_R2Score: 0.8621 - val_loss: 0.1267\n",
      "Epoch 93/200\n",
      "\u001b[1m187/187\u001b[0m \u001b[32m━━━━━━━━━━━━━━━━━━━━\u001b[0m\u001b[37m\u001b[0m \u001b[1m1s\u001b[0m 5ms/step - R2Score: 0.9250 - loss: 0.0778 - val_R2Score: 0.8642 - val_loss: 0.1248\n",
      "Epoch 94/200\n",
      "\u001b[1m187/187\u001b[0m \u001b[32m━━━━━━━━━━━━━━━━━━━━\u001b[0m\u001b[37m\u001b[0m \u001b[1m1s\u001b[0m 4ms/step - R2Score: 0.9405 - loss: 0.0610 - val_R2Score: 0.8692 - val_loss: 0.1201\n",
      "Epoch 95/200\n",
      "\u001b[1m187/187\u001b[0m \u001b[32m━━━━━━━━━━━━━━━━━━━━\u001b[0m\u001b[37m\u001b[0m \u001b[1m1s\u001b[0m 4ms/step - R2Score: 0.9189 - loss: 0.0785 - val_R2Score: 0.8776 - val_loss: 0.1125\n",
      "Epoch 96/200\n",
      "\u001b[1m187/187\u001b[0m \u001b[32m━━━━━━━━━━━━━━━━━━━━\u001b[0m\u001b[37m\u001b[0m \u001b[1m1s\u001b[0m 5ms/step - R2Score: 0.9328 - loss: 0.0716 - val_R2Score: 0.8814 - val_loss: 0.1090\n",
      "Epoch 97/200\n",
      "\u001b[1m187/187\u001b[0m \u001b[32m━━━━━━━━━━━━━━━━━━━━\u001b[0m\u001b[37m\u001b[0m \u001b[1m1s\u001b[0m 4ms/step - R2Score: 0.9384 - loss: 0.0601 - val_R2Score: 0.8665 - val_loss: 0.1227\n",
      "Epoch 98/200\n",
      "\u001b[1m187/187\u001b[0m \u001b[32m━━━━━━━━━━━━━━━━━━━━\u001b[0m\u001b[37m\u001b[0m \u001b[1m1s\u001b[0m 6ms/step - R2Score: 0.9354 - loss: 0.0678 - val_R2Score: 0.8788 - val_loss: 0.1113\n",
      "Epoch 99/200\n",
      "\u001b[1m187/187\u001b[0m \u001b[32m━━━━━━━━━━━━━━━━━━━━\u001b[0m\u001b[37m\u001b[0m \u001b[1m1s\u001b[0m 4ms/step - R2Score: 0.9242 - loss: 0.0697 - val_R2Score: 0.8752 - val_loss: 0.1146\n",
      "Epoch 100/200\n",
      "\u001b[1m187/187\u001b[0m \u001b[32m━━━━━━━━━━━━━━━━━━━━\u001b[0m\u001b[37m\u001b[0m \u001b[1m2s\u001b[0m 5ms/step - R2Score: 0.9402 - loss: 0.0585 - val_R2Score: 0.8717 - val_loss: 0.1179\n",
      "Epoch 101/200\n",
      "\u001b[1m187/187\u001b[0m \u001b[32m━━━━━━━━━━━━━━━━━━━━\u001b[0m\u001b[37m\u001b[0m \u001b[1m1s\u001b[0m 4ms/step - R2Score: 0.9351 - loss: 0.0633 - val_R2Score: 0.8673 - val_loss: 0.1219\n",
      "Epoch 102/200\n",
      "\u001b[1m187/187\u001b[0m \u001b[32m━━━━━━━━━━━━━━━━━━━━\u001b[0m\u001b[37m\u001b[0m \u001b[1m1s\u001b[0m 4ms/step - R2Score: 0.9385 - loss: 0.0678 - val_R2Score: 0.8755 - val_loss: 0.1144\n",
      "Epoch 103/200\n",
      "\u001b[1m187/187\u001b[0m \u001b[32m━━━━━━━━━━━━━━━━━━━━\u001b[0m\u001b[37m\u001b[0m \u001b[1m2s\u001b[0m 5ms/step - R2Score: 0.9361 - loss: 0.0638 - val_R2Score: 0.8714 - val_loss: 0.1182\n",
      "Epoch 104/200\n",
      "\u001b[1m187/187\u001b[0m \u001b[32m━━━━━━━━━━━━━━━━━━━━\u001b[0m\u001b[37m\u001b[0m \u001b[1m1s\u001b[0m 5ms/step - R2Score: 0.9393 - loss: 0.0630 - val_R2Score: 0.8558 - val_loss: 0.1325\n",
      "Epoch 105/200\n",
      "\u001b[1m187/187\u001b[0m \u001b[32m━━━━━━━━━━━━━━━━━━━━\u001b[0m\u001b[37m\u001b[0m \u001b[1m1s\u001b[0m 5ms/step - R2Score: 0.9422 - loss: 0.0560 - val_R2Score: 0.8655 - val_loss: 0.1235\n",
      "Epoch 106/200\n",
      "\u001b[1m187/187\u001b[0m \u001b[32m━━━━━━━━━━━━━━━━━━━━\u001b[0m\u001b[37m\u001b[0m \u001b[1m1s\u001b[0m 5ms/step - R2Score: 0.9442 - loss: 0.0572 - val_R2Score: 0.8698 - val_loss: 0.1196\n",
      "Epoch 107/200\n",
      "\u001b[1m187/187\u001b[0m \u001b[32m━━━━━━━━━━━━━━━━━━━━\u001b[0m\u001b[37m\u001b[0m \u001b[1m1s\u001b[0m 4ms/step - R2Score: 0.9377 - loss: 0.0615 - val_R2Score: 0.8466 - val_loss: 0.1409\n",
      "Epoch 108/200\n",
      "\u001b[1m187/187\u001b[0m \u001b[32m━━━━━━━━━━━━━━━━━━━━\u001b[0m\u001b[37m\u001b[0m \u001b[1m1s\u001b[0m 5ms/step - R2Score: 0.9318 - loss: 0.0685 - val_R2Score: 0.8705 - val_loss: 0.1189\n",
      "Epoch 109/200\n",
      "\u001b[1m187/187\u001b[0m \u001b[32m━━━━━━━━━━━━━━━━━━━━\u001b[0m\u001b[37m\u001b[0m \u001b[1m1s\u001b[0m 4ms/step - R2Score: 0.9424 - loss: 0.0630 - val_R2Score: 0.8642 - val_loss: 0.1247\n",
      "Epoch 110/200\n",
      "\u001b[1m187/187\u001b[0m \u001b[32m━━━━━━━━━━━━━━━━━━━━\u001b[0m\u001b[37m\u001b[0m \u001b[1m1s\u001b[0m 4ms/step - R2Score: 0.9442 - loss: 0.0523 - val_R2Score: 0.8670 - val_loss: 0.1222\n",
      "Epoch 111/200\n",
      "\u001b[1m187/187\u001b[0m \u001b[32m━━━━━━━━━━━━━━━━━━━━\u001b[0m\u001b[37m\u001b[0m \u001b[1m1s\u001b[0m 4ms/step - R2Score: 0.9423 - loss: 0.0585 - val_R2Score: 0.8647 - val_loss: 0.1243\n",
      "Epoch 112/200\n",
      "\u001b[1m187/187\u001b[0m \u001b[32m━━━━━━━━━━━━━━━━━━━━\u001b[0m\u001b[37m\u001b[0m \u001b[1m1s\u001b[0m 4ms/step - R2Score: 0.9405 - loss: 0.0588 - val_R2Score: 0.8713 - val_loss: 0.1182\n",
      "Epoch 113/200\n",
      "\u001b[1m187/187\u001b[0m \u001b[32m━━━━━━━━━━━━━━━━━━━━\u001b[0m\u001b[37m\u001b[0m \u001b[1m2s\u001b[0m 6ms/step - R2Score: 0.9403 - loss: 0.0560 - val_R2Score: 0.8780 - val_loss: 0.1121\n",
      "Epoch 114/200\n",
      "\u001b[1m187/187\u001b[0m \u001b[32m━━━━━━━━━━━━━━━━━━━━\u001b[0m\u001b[37m\u001b[0m \u001b[1m1s\u001b[0m 4ms/step - R2Score: 0.9416 - loss: 0.0606 - val_R2Score: 0.8711 - val_loss: 0.1184\n",
      "Epoch 115/200\n",
      "\u001b[1m187/187\u001b[0m \u001b[32m━━━━━━━━━━━━━━━━━━━━\u001b[0m\u001b[37m\u001b[0m \u001b[1m1s\u001b[0m 4ms/step - R2Score: 0.9459 - loss: 0.0561 - val_R2Score: 0.8769 - val_loss: 0.1130\n",
      "Epoch 116/200\n",
      "\u001b[1m187/187\u001b[0m \u001b[32m━━━━━━━━━━━━━━━━━━━━\u001b[0m\u001b[37m\u001b[0m \u001b[1m1s\u001b[0m 5ms/step - R2Score: 0.9367 - loss: 0.0612 - val_R2Score: 0.8709 - val_loss: 0.1186\n",
      "Epoch 117/200\n",
      "\u001b[1m187/187\u001b[0m \u001b[32m━━━━━━━━━━━━━━━━━━━━\u001b[0m\u001b[37m\u001b[0m \u001b[1m1s\u001b[0m 4ms/step - R2Score: 0.9418 - loss: 0.0576 - val_R2Score: 0.8770 - val_loss: 0.1130\n",
      "Epoch 118/200\n",
      "\u001b[1m187/187\u001b[0m \u001b[32m━━━━━━━━━━━━━━━━━━━━\u001b[0m\u001b[37m\u001b[0m \u001b[1m1s\u001b[0m 6ms/step - R2Score: 0.9477 - loss: 0.0529 - val_R2Score: 0.8697 - val_loss: 0.1197\n",
      "Epoch 119/200\n",
      "\u001b[1m187/187\u001b[0m \u001b[32m━━━━━━━━━━━━━━━━━━━━\u001b[0m\u001b[37m\u001b[0m \u001b[1m1s\u001b[0m 4ms/step - R2Score: 0.9445 - loss: 0.0563 - val_R2Score: 0.8814 - val_loss: 0.1090\n",
      "Epoch 120/200\n",
      "\u001b[1m187/187\u001b[0m \u001b[32m━━━━━━━━━━━━━━━━━━━━\u001b[0m\u001b[37m\u001b[0m \u001b[1m2s\u001b[0m 5ms/step - R2Score: 0.9545 - loss: 0.0476 - val_R2Score: 0.8659 - val_loss: 0.1232\n",
      "Epoch 121/200\n",
      "\u001b[1m187/187\u001b[0m \u001b[32m━━━━━━━━━━━━━━━━━━━━\u001b[0m\u001b[37m\u001b[0m \u001b[1m1s\u001b[0m 4ms/step - R2Score: 0.9381 - loss: 0.0630 - val_R2Score: 0.8739 - val_loss: 0.1159\n",
      "Epoch 122/200\n",
      "\u001b[1m187/187\u001b[0m \u001b[32m━━━━━━━━━━━━━━━━━━━━\u001b[0m\u001b[37m\u001b[0m \u001b[1m1s\u001b[0m 4ms/step - R2Score: 0.9436 - loss: 0.0602 - val_R2Score: 0.8807 - val_loss: 0.1096\n",
      "Epoch 123/200\n",
      "\u001b[1m187/187\u001b[0m \u001b[32m━━━━━━━━━━━━━━━━━━━━\u001b[0m\u001b[37m\u001b[0m \u001b[1m1s\u001b[0m 4ms/step - R2Score: 0.9479 - loss: 0.0548 - val_R2Score: 0.8647 - val_loss: 0.1243\n",
      "Epoch 124/200\n",
      "\u001b[1m187/187\u001b[0m \u001b[32m━━━━━━━━━━━━━━━━━━━━\u001b[0m\u001b[37m\u001b[0m \u001b[1m1s\u001b[0m 4ms/step - R2Score: 0.9475 - loss: 0.0543 - val_R2Score: 0.8688 - val_loss: 0.1205\n",
      "Epoch 125/200\n",
      "\u001b[1m187/187\u001b[0m \u001b[32m━━━━━━━━━━━━━━━━━━━━\u001b[0m\u001b[37m\u001b[0m \u001b[1m1s\u001b[0m 4ms/step - R2Score: 0.9499 - loss: 0.0522 - val_R2Score: 0.8630 - val_loss: 0.1259\n",
      "Epoch 126/200\n",
      "\u001b[1m187/187\u001b[0m \u001b[32m━━━━━━━━━━━━━━━━━━━━\u001b[0m\u001b[37m\u001b[0m \u001b[1m1s\u001b[0m 4ms/step - R2Score: 0.9419 - loss: 0.0613 - val_R2Score: 0.8724 - val_loss: 0.1172\n",
      "Epoch 127/200\n",
      "\u001b[1m187/187\u001b[0m \u001b[32m━━━━━━━━━━━━━━━━━━━━\u001b[0m\u001b[37m\u001b[0m \u001b[1m1s\u001b[0m 4ms/step - R2Score: 0.9509 - loss: 0.0502 - val_R2Score: 0.8698 - val_loss: 0.1196\n",
      "Epoch 128/200\n",
      "\u001b[1m187/187\u001b[0m \u001b[32m━━━━━━━━━━━━━━━━━━━━\u001b[0m\u001b[37m\u001b[0m \u001b[1m1s\u001b[0m 4ms/step - R2Score: 0.9468 - loss: 0.0544 - val_R2Score: 0.8627 - val_loss: 0.1261\n",
      "Epoch 129/200\n",
      "\u001b[1m187/187\u001b[0m \u001b[32m━━━━━━━━━━━━━━━━━━━━\u001b[0m\u001b[37m\u001b[0m \u001b[1m1s\u001b[0m 6ms/step - R2Score: 0.9475 - loss: 0.0566 - val_R2Score: 0.8508 - val_loss: 0.1371\n",
      "Epoch 130/200\n",
      "\u001b[1m187/187\u001b[0m \u001b[32m━━━━━━━━━━━━━━━━━━━━\u001b[0m\u001b[37m\u001b[0m \u001b[1m1s\u001b[0m 5ms/step - R2Score: 0.9539 - loss: 0.0472 - val_R2Score: 0.8703 - val_loss: 0.1192\n",
      "Epoch 131/200\n",
      "\u001b[1m187/187\u001b[0m \u001b[32m━━━━━━━━━━━━━━━━━━━━\u001b[0m\u001b[37m\u001b[0m \u001b[1m1s\u001b[0m 4ms/step - R2Score: 0.9451 - loss: 0.0536 - val_R2Score: 0.8640 - val_loss: 0.1249\n",
      "Epoch 132/200\n",
      "\u001b[1m187/187\u001b[0m \u001b[32m━━━━━━━━━━━━━━━━━━━━\u001b[0m\u001b[37m\u001b[0m \u001b[1m1s\u001b[0m 4ms/step - R2Score: 0.9522 - loss: 0.0466 - val_R2Score: 0.8714 - val_loss: 0.1181\n",
      "Epoch 133/200\n",
      "\u001b[1m187/187\u001b[0m \u001b[32m━━━━━━━━━━━━━━━━━━━━\u001b[0m\u001b[37m\u001b[0m \u001b[1m1s\u001b[0m 5ms/step - R2Score: 0.9519 - loss: 0.0481 - val_R2Score: 0.8775 - val_loss: 0.1126\n",
      "Epoch 134/200\n",
      "\u001b[1m187/187\u001b[0m \u001b[32m━━━━━━━━━━━━━━━━━━━━\u001b[0m\u001b[37m\u001b[0m \u001b[1m1s\u001b[0m 5ms/step - R2Score: 0.9462 - loss: 0.0508 - val_R2Score: 0.8621 - val_loss: 0.1267\n",
      "Epoch 135/200\n",
      "\u001b[1m187/187\u001b[0m \u001b[32m━━━━━━━━━━━━━━━━━━━━\u001b[0m\u001b[37m\u001b[0m \u001b[1m1s\u001b[0m 6ms/step - R2Score: 0.9511 - loss: 0.0507 - val_R2Score: 0.8744 - val_loss: 0.1154\n",
      "Epoch 136/200\n",
      "\u001b[1m187/187\u001b[0m \u001b[32m━━━━━━━━━━━━━━━━━━━━\u001b[0m\u001b[37m\u001b[0m \u001b[1m1s\u001b[0m 5ms/step - R2Score: 0.9506 - loss: 0.0516 - val_R2Score: 0.8759 - val_loss: 0.1140\n",
      "Epoch 137/200\n",
      "\u001b[1m187/187\u001b[0m \u001b[32m━━━━━━━━━━━━━━━━━━━━\u001b[0m\u001b[37m\u001b[0m \u001b[1m1s\u001b[0m 4ms/step - R2Score: 0.9536 - loss: 0.0474 - val_R2Score: 0.8508 - val_loss: 0.1371\n",
      "Epoch 138/200\n",
      "\u001b[1m187/187\u001b[0m \u001b[32m━━━━━━━━━━━━━━━━━━━━\u001b[0m\u001b[37m\u001b[0m \u001b[1m1s\u001b[0m 4ms/step - R2Score: 0.9492 - loss: 0.0503 - val_R2Score: 0.8719 - val_loss: 0.1176\n",
      "Epoch 139/200\n",
      "\u001b[1m187/187\u001b[0m \u001b[32m━━━━━━━━━━━━━━━━━━━━\u001b[0m\u001b[37m\u001b[0m \u001b[1m1s\u001b[0m 4ms/step - R2Score: 0.9525 - loss: 0.0494 - val_R2Score: 0.8700 - val_loss: 0.1194\n",
      "Epoch 140/200\n",
      "\u001b[1m187/187\u001b[0m \u001b[32m━━━━━━━━━━━━━━━━━━━━\u001b[0m\u001b[37m\u001b[0m \u001b[1m2s\u001b[0m 6ms/step - R2Score: 0.9483 - loss: 0.0504 - val_R2Score: 0.8837 - val_loss: 0.1068\n",
      "Epoch 141/200\n",
      "\u001b[1m187/187\u001b[0m \u001b[32m━━━━━━━━━━━━━━━━━━━━\u001b[0m\u001b[37m\u001b[0m \u001b[1m1s\u001b[0m 4ms/step - R2Score: 0.9497 - loss: 0.0518 - val_R2Score: 0.8833 - val_loss: 0.1072\n",
      "Epoch 142/200\n",
      "\u001b[1m187/187\u001b[0m \u001b[32m━━━━━━━━━━━━━━━━━━━━\u001b[0m\u001b[37m\u001b[0m \u001b[1m1s\u001b[0m 4ms/step - R2Score: 0.9537 - loss: 0.0463 - val_R2Score: 0.8816 - val_loss: 0.1088\n",
      "Epoch 143/200\n",
      "\u001b[1m187/187\u001b[0m \u001b[32m━━━━━━━━━━━━━━━━━━━━\u001b[0m\u001b[37m\u001b[0m \u001b[1m1s\u001b[0m 4ms/step - R2Score: 0.9524 - loss: 0.0467 - val_R2Score: 0.8686 - val_loss: 0.1207\n",
      "Epoch 144/200\n",
      "\u001b[1m187/187\u001b[0m \u001b[32m━━━━━━━━━━━━━━━━━━━━\u001b[0m\u001b[37m\u001b[0m \u001b[1m1s\u001b[0m 5ms/step - R2Score: 0.9499 - loss: 0.0516 - val_R2Score: 0.8686 - val_loss: 0.1207\n",
      "Epoch 145/200\n",
      "\u001b[1m187/187\u001b[0m \u001b[32m━━━━━━━━━━━━━━━━━━━━\u001b[0m\u001b[37m\u001b[0m \u001b[1m1s\u001b[0m 5ms/step - R2Score: 0.9517 - loss: 0.0488 - val_R2Score: 0.8731 - val_loss: 0.1166\n",
      "Epoch 146/200\n",
      "\u001b[1m187/187\u001b[0m \u001b[32m━━━━━━━━━━━━━━━━━━━━\u001b[0m\u001b[37m\u001b[0m \u001b[1m1s\u001b[0m 4ms/step - R2Score: 0.9488 - loss: 0.0504 - val_R2Score: 0.8674 - val_loss: 0.1218\n",
      "Epoch 147/200\n",
      "\u001b[1m187/187\u001b[0m \u001b[32m━━━━━━━━━━━━━━━━━━━━\u001b[0m\u001b[37m\u001b[0m \u001b[1m1s\u001b[0m 4ms/step - R2Score: 0.9548 - loss: 0.0462 - val_R2Score: 0.8604 - val_loss: 0.1283\n",
      "Epoch 148/200\n",
      "\u001b[1m187/187\u001b[0m \u001b[32m━━━━━━━━━━━━━━━━━━━━\u001b[0m\u001b[37m\u001b[0m \u001b[1m1s\u001b[0m 5ms/step - R2Score: 0.9458 - loss: 0.0522 - val_R2Score: 0.8662 - val_loss: 0.1229\n",
      "Epoch 149/200\n",
      "\u001b[1m187/187\u001b[0m \u001b[32m━━━━━━━━━━━━━━━━━━━━\u001b[0m\u001b[37m\u001b[0m \u001b[1m1s\u001b[0m 4ms/step - R2Score: 0.9561 - loss: 0.0467 - val_R2Score: 0.8493 - val_loss: 0.1384\n",
      "Epoch 150/200\n",
      "\u001b[1m187/187\u001b[0m \u001b[32m━━━━━━━━━━━━━━━━━━━━\u001b[0m\u001b[37m\u001b[0m \u001b[1m1s\u001b[0m 4ms/step - R2Score: 0.9540 - loss: 0.0451 - val_R2Score: 0.8744 - val_loss: 0.1154\n",
      "Epoch 151/200\n",
      "\u001b[1m187/187\u001b[0m \u001b[32m━━━━━━━━━━━━━━━━━━━━\u001b[0m\u001b[37m\u001b[0m \u001b[1m1s\u001b[0m 6ms/step - R2Score: 0.9553 - loss: 0.0461 - val_R2Score: 0.8711 - val_loss: 0.1184\n",
      "Epoch 152/200\n",
      "\u001b[1m187/187\u001b[0m \u001b[32m━━━━━━━━━━━━━━━━━━━━\u001b[0m\u001b[37m\u001b[0m \u001b[1m1s\u001b[0m 4ms/step - R2Score: 0.9559 - loss: 0.0438 - val_R2Score: 0.8843 - val_loss: 0.1063\n",
      "Epoch 153/200\n",
      "\u001b[1m187/187\u001b[0m \u001b[32m━━━━━━━━━━━━━━━━━━━━\u001b[0m\u001b[37m\u001b[0m \u001b[1m1s\u001b[0m 4ms/step - R2Score: 0.9497 - loss: 0.0502 - val_R2Score: 0.8585 - val_loss: 0.1299\n",
      "Epoch 154/200\n",
      "\u001b[1m187/187\u001b[0m \u001b[32m━━━━━━━━━━━━━━━━━━━━\u001b[0m\u001b[37m\u001b[0m \u001b[1m1s\u001b[0m 4ms/step - R2Score: 0.9587 - loss: 0.0419 - val_R2Score: 0.8585 - val_loss: 0.1300\n",
      "Epoch 155/200\n",
      "\u001b[1m187/187\u001b[0m \u001b[32m━━━━━━━━━━━━━━━━━━━━\u001b[0m\u001b[37m\u001b[0m \u001b[1m1s\u001b[0m 5ms/step - R2Score: 0.9582 - loss: 0.0426 - val_R2Score: 0.8566 - val_loss: 0.1318\n",
      "Epoch 156/200\n",
      "\u001b[1m187/187\u001b[0m \u001b[32m━━━━━━━━━━━━━━━━━━━━\u001b[0m\u001b[37m\u001b[0m \u001b[1m1s\u001b[0m 5ms/step - R2Score: 0.9491 - loss: 0.0530 - val_R2Score: 0.8787 - val_loss: 0.1115\n",
      "Epoch 157/200\n",
      "\u001b[1m187/187\u001b[0m \u001b[32m━━━━━━━━━━━━━━━━━━━━\u001b[0m\u001b[37m\u001b[0m \u001b[1m1s\u001b[0m 4ms/step - R2Score: 0.9496 - loss: 0.0508 - val_R2Score: 0.8739 - val_loss: 0.1158\n",
      "Epoch 158/200\n",
      "\u001b[1m187/187\u001b[0m \u001b[32m━━━━━━━━━━━━━━━━━━━━\u001b[0m\u001b[37m\u001b[0m \u001b[1m1s\u001b[0m 4ms/step - R2Score: 0.9526 - loss: 0.0419 - val_R2Score: 0.8807 - val_loss: 0.1096\n",
      "Epoch 159/200\n",
      "\u001b[1m187/187\u001b[0m \u001b[32m━━━━━━━━━━━━━━━━━━━━\u001b[0m\u001b[37m\u001b[0m \u001b[1m1s\u001b[0m 5ms/step - R2Score: 0.9489 - loss: 0.0516 - val_R2Score: 0.8784 - val_loss: 0.1117\n",
      "Epoch 160/200\n",
      "\u001b[1m187/187\u001b[0m \u001b[32m━━━━━━━━━━━━━━━━━━━━\u001b[0m\u001b[37m\u001b[0m \u001b[1m1s\u001b[0m 4ms/step - R2Score: 0.9577 - loss: 0.0432 - val_R2Score: 0.8737 - val_loss: 0.1161\n",
      "Epoch 161/200\n",
      "\u001b[1m187/187\u001b[0m \u001b[32m━━━━━━━━━━━━━━━━━━━━\u001b[0m\u001b[37m\u001b[0m \u001b[1m1s\u001b[0m 4ms/step - R2Score: 0.9572 - loss: 0.0442 - val_R2Score: 0.8705 - val_loss: 0.1190\n",
      "Epoch 162/200\n",
      "\u001b[1m187/187\u001b[0m \u001b[32m━━━━━━━━━━━━━━━━━━━━\u001b[0m\u001b[37m\u001b[0m \u001b[1m1s\u001b[0m 6ms/step - R2Score: 0.9541 - loss: 0.0427 - val_R2Score: 0.8682 - val_loss: 0.1211\n",
      "Epoch 163/200\n",
      "\u001b[1m187/187\u001b[0m \u001b[32m━━━━━━━━━━━━━━━━━━━━\u001b[0m\u001b[37m\u001b[0m \u001b[1m1s\u001b[0m 4ms/step - R2Score: 0.9567 - loss: 0.0460 - val_R2Score: 0.8700 - val_loss: 0.1195\n",
      "Epoch 164/200\n",
      "\u001b[1m187/187\u001b[0m \u001b[32m━━━━━━━━━━━━━━━━━━━━\u001b[0m\u001b[37m\u001b[0m \u001b[1m1s\u001b[0m 4ms/step - R2Score: 0.9595 - loss: 0.0410 - val_R2Score: 0.8700 - val_loss: 0.1194\n",
      "Epoch 165/200\n",
      "\u001b[1m187/187\u001b[0m \u001b[32m━━━━━━━━━━━━━━━━━━━━\u001b[0m\u001b[37m\u001b[0m \u001b[1m1s\u001b[0m 5ms/step - R2Score: 0.9457 - loss: 0.0515 - val_R2Score: 0.8782 - val_loss: 0.1119\n",
      "Epoch 166/200\n",
      "\u001b[1m187/187\u001b[0m \u001b[32m━━━━━━━━━━━━━━━━━━━━\u001b[0m\u001b[37m\u001b[0m \u001b[1m1s\u001b[0m 5ms/step - R2Score: 0.9614 - loss: 0.0381 - val_R2Score: 0.8761 - val_loss: 0.1138\n",
      "Epoch 167/200\n",
      "\u001b[1m187/187\u001b[0m \u001b[32m━━━━━━━━━━━━━━━━━━━━\u001b[0m\u001b[37m\u001b[0m \u001b[1m1s\u001b[0m 5ms/step - R2Score: 0.9531 - loss: 0.0476 - val_R2Score: 0.8729 - val_loss: 0.1167\n",
      "Epoch 168/200\n",
      "\u001b[1m187/187\u001b[0m \u001b[32m━━━━━━━━━━━━━━━━━━━━\u001b[0m\u001b[37m\u001b[0m \u001b[1m1s\u001b[0m 4ms/step - R2Score: 0.9595 - loss: 0.0422 - val_R2Score: 0.8785 - val_loss: 0.1117\n",
      "Epoch 169/200\n",
      "\u001b[1m187/187\u001b[0m \u001b[32m━━━━━━━━━━━━━━━━━━━━\u001b[0m\u001b[37m\u001b[0m \u001b[1m1s\u001b[0m 5ms/step - R2Score: 0.9586 - loss: 0.0399 - val_R2Score: 0.8698 - val_loss: 0.1196\n",
      "Epoch 170/200\n",
      "\u001b[1m187/187\u001b[0m \u001b[32m━━━━━━━━━━━━━━━━━━━━\u001b[0m\u001b[37m\u001b[0m \u001b[1m1s\u001b[0m 4ms/step - R2Score: 0.9568 - loss: 0.0460 - val_R2Score: 0.8677 - val_loss: 0.1215\n",
      "Epoch 171/200\n",
      "\u001b[1m187/187\u001b[0m \u001b[32m━━━━━━━━━━━━━━━━━━━━\u001b[0m\u001b[37m\u001b[0m \u001b[1m1s\u001b[0m 4ms/step - R2Score: 0.9568 - loss: 0.0406 - val_R2Score: 0.8660 - val_loss: 0.1231\n",
      "Epoch 172/200\n",
      "\u001b[1m187/187\u001b[0m \u001b[32m━━━━━━━━━━━━━━━━━━━━\u001b[0m\u001b[37m\u001b[0m \u001b[1m1s\u001b[0m 4ms/step - R2Score: 0.9612 - loss: 0.0396 - val_R2Score: 0.8731 - val_loss: 0.1166\n",
      "Epoch 173/200\n",
      "\u001b[1m187/187\u001b[0m \u001b[32m━━━━━━━━━━━━━━━━━━━━\u001b[0m\u001b[37m\u001b[0m \u001b[1m1s\u001b[0m 6ms/step - R2Score: 0.9591 - loss: 0.0406 - val_R2Score: 0.8702 - val_loss: 0.1193\n",
      "Epoch 174/200\n",
      "\u001b[1m187/187\u001b[0m \u001b[32m━━━━━━━━━━━━━━━━━━━━\u001b[0m\u001b[37m\u001b[0m \u001b[1m1s\u001b[0m 4ms/step - R2Score: 0.9586 - loss: 0.0427 - val_R2Score: 0.8724 - val_loss: 0.1172\n",
      "Epoch 175/200\n",
      "\u001b[1m187/187\u001b[0m \u001b[32m━━━━━━━━━━━━━━━━━━━━\u001b[0m\u001b[37m\u001b[0m \u001b[1m1s\u001b[0m 4ms/step - R2Score: 0.9641 - loss: 0.0375 - val_R2Score: 0.8639 - val_loss: 0.1251\n",
      "Epoch 176/200\n",
      "\u001b[1m187/187\u001b[0m \u001b[32m━━━━━━━━━━━━━━━━━━━━\u001b[0m\u001b[37m\u001b[0m \u001b[1m2s\u001b[0m 5ms/step - R2Score: 0.9638 - loss: 0.0359 - val_R2Score: 0.8651 - val_loss: 0.1239\n",
      "Epoch 177/200\n",
      "\u001b[1m187/187\u001b[0m \u001b[32m━━━━━━━━━━━━━━━━━━━━\u001b[0m\u001b[37m\u001b[0m \u001b[1m1s\u001b[0m 4ms/step - R2Score: 0.9610 - loss: 0.0400 - val_R2Score: 0.8704 - val_loss: 0.1191\n",
      "Epoch 178/200\n",
      "\u001b[1m187/187\u001b[0m \u001b[32m━━━━━━━━━━━━━━━━━━━━\u001b[0m\u001b[37m\u001b[0m \u001b[1m1s\u001b[0m 4ms/step - R2Score: 0.9570 - loss: 0.0448 - val_R2Score: 0.8615 - val_loss: 0.1272\n",
      "Epoch 179/200\n",
      "\u001b[1m187/187\u001b[0m \u001b[32m━━━━━━━━━━━━━━━━━━━━\u001b[0m\u001b[37m\u001b[0m \u001b[1m1s\u001b[0m 4ms/step - R2Score: 0.9567 - loss: 0.0427 - val_R2Score: 0.8726 - val_loss: 0.1171\n",
      "Epoch 180/200\n",
      "\u001b[1m187/187\u001b[0m \u001b[32m━━━━━━━━━━━━━━━━━━━━\u001b[0m\u001b[37m\u001b[0m \u001b[1m1s\u001b[0m 5ms/step - R2Score: 0.9555 - loss: 0.0467 - val_R2Score: 0.8682 - val_loss: 0.1210\n",
      "Epoch 181/200\n",
      "\u001b[1m187/187\u001b[0m \u001b[32m━━━━━━━━━━━━━━━━━━━━\u001b[0m\u001b[37m\u001b[0m \u001b[1m1s\u001b[0m 4ms/step - R2Score: 0.9615 - loss: 0.0380 - val_R2Score: 0.8669 - val_loss: 0.1223\n",
      "Epoch 182/200\n",
      "\u001b[1m187/187\u001b[0m \u001b[32m━━━━━━━━━━━━━━━━━━━━\u001b[0m\u001b[37m\u001b[0m \u001b[1m1s\u001b[0m 4ms/step - R2Score: 0.9667 - loss: 0.0338 - val_R2Score: 0.8674 - val_loss: 0.1219\n",
      "Epoch 183/200\n",
      "\u001b[1m187/187\u001b[0m \u001b[32m━━━━━━━━━━━━━━━━━━━━\u001b[0m\u001b[37m\u001b[0m \u001b[1m1s\u001b[0m 5ms/step - R2Score: 0.9637 - loss: 0.0377 - val_R2Score: 0.8816 - val_loss: 0.1087\n",
      "Epoch 184/200\n",
      "\u001b[1m187/187\u001b[0m \u001b[32m━━━━━━━━━━━━━━━━━━━━\u001b[0m\u001b[37m\u001b[0m \u001b[1m1s\u001b[0m 4ms/step - R2Score: 0.9555 - loss: 0.0464 - val_R2Score: 0.8740 - val_loss: 0.1157\n",
      "Epoch 185/200\n",
      "\u001b[1m187/187\u001b[0m \u001b[32m━━━━━━━━━━━━━━━━━━━━\u001b[0m\u001b[37m\u001b[0m \u001b[1m1s\u001b[0m 4ms/step - R2Score: 0.9565 - loss: 0.0429 - val_R2Score: 0.8570 - val_loss: 0.1314\n",
      "Epoch 186/200\n",
      "\u001b[1m187/187\u001b[0m \u001b[32m━━━━━━━━━━━━━━━━━━━━\u001b[0m\u001b[37m\u001b[0m \u001b[1m1s\u001b[0m 5ms/step - R2Score: 0.9620 - loss: 0.0385 - val_R2Score: 0.8689 - val_loss: 0.1204\n",
      "Epoch 187/200\n",
      "\u001b[1m187/187\u001b[0m \u001b[32m━━━━━━━━━━━━━━━━━━━━\u001b[0m\u001b[37m\u001b[0m \u001b[1m1s\u001b[0m 4ms/step - R2Score: 0.9598 - loss: 0.0405 - val_R2Score: 0.8745 - val_loss: 0.1153\n",
      "Epoch 188/200\n",
      "\u001b[1m187/187\u001b[0m \u001b[32m━━━━━━━━━━━━━━━━━━━━\u001b[0m\u001b[37m\u001b[0m \u001b[1m1s\u001b[0m 6ms/step - R2Score: 0.9625 - loss: 0.0409 - val_R2Score: 0.8745 - val_loss: 0.1153\n",
      "Epoch 189/200\n",
      "\u001b[1m187/187\u001b[0m \u001b[32m━━━━━━━━━━━━━━━━━━━━\u001b[0m\u001b[37m\u001b[0m \u001b[1m1s\u001b[0m 5ms/step - R2Score: 0.9640 - loss: 0.0355 - val_R2Score: 0.8628 - val_loss: 0.1260\n",
      "Epoch 190/200\n",
      "\u001b[1m187/187\u001b[0m \u001b[32m━━━━━━━━━━━━━━━━━━━━\u001b[0m\u001b[37m\u001b[0m \u001b[1m1s\u001b[0m 4ms/step - R2Score: 0.9617 - loss: 0.0372 - val_R2Score: 0.8681 - val_loss: 0.1212\n",
      "Epoch 191/200\n",
      "\u001b[1m187/187\u001b[0m \u001b[32m━━━━━━━━━━━━━━━━━━━━\u001b[0m\u001b[37m\u001b[0m \u001b[1m1s\u001b[0m 4ms/step - R2Score: 0.9539 - loss: 0.0468 - val_R2Score: 0.8726 - val_loss: 0.1170\n",
      "Epoch 192/200\n",
      "\u001b[1m187/187\u001b[0m \u001b[32m━━━━━━━━━━━━━━━━━━━━\u001b[0m\u001b[37m\u001b[0m \u001b[1m1s\u001b[0m 4ms/step - R2Score: 0.9636 - loss: 0.0383 - val_R2Score: 0.8684 - val_loss: 0.1209\n",
      "Epoch 193/200\n",
      "\u001b[1m187/187\u001b[0m \u001b[32m━━━━━━━━━━━━━━━━━━━━\u001b[0m\u001b[37m\u001b[0m \u001b[1m1s\u001b[0m 5ms/step - R2Score: 0.9628 - loss: 0.0388 - val_R2Score: 0.8779 - val_loss: 0.1122\n",
      "Epoch 194/200\n",
      "\u001b[1m187/187\u001b[0m \u001b[32m━━━━━━━━━━━━━━━━━━━━\u001b[0m\u001b[37m\u001b[0m \u001b[1m1s\u001b[0m 4ms/step - R2Score: 0.9595 - loss: 0.0399 - val_R2Score: 0.8755 - val_loss: 0.1144\n",
      "Epoch 195/200\n",
      "\u001b[1m187/187\u001b[0m \u001b[32m━━━━━━━━━━━━━━━━━━━━\u001b[0m\u001b[37m\u001b[0m \u001b[1m1s\u001b[0m 4ms/step - R2Score: 0.9608 - loss: 0.0405 - val_R2Score: 0.8718 - val_loss: 0.1178\n",
      "Epoch 196/200\n",
      "\u001b[1m187/187\u001b[0m \u001b[32m━━━━━━━━━━━━━━━━━━━━\u001b[0m\u001b[37m\u001b[0m \u001b[1m1s\u001b[0m 4ms/step - R2Score: 0.9628 - loss: 0.0393 - val_R2Score: 0.8649 - val_loss: 0.1241\n",
      "Epoch 197/200\n",
      "\u001b[1m187/187\u001b[0m \u001b[32m━━━━━━━━━━━━━━━━━━━━\u001b[0m\u001b[37m\u001b[0m \u001b[1m1s\u001b[0m 4ms/step - R2Score: 0.9654 - loss: 0.0346 - val_R2Score: 0.8639 - val_loss: 0.1251\n",
      "Epoch 198/200\n",
      "\u001b[1m187/187\u001b[0m \u001b[32m━━━━━━━━━━━━━━━━━━━━\u001b[0m\u001b[37m\u001b[0m \u001b[1m1s\u001b[0m 5ms/step - R2Score: 0.9640 - loss: 0.0372 - val_R2Score: 0.8681 - val_loss: 0.1212\n",
      "Epoch 199/200\n",
      "\u001b[1m187/187\u001b[0m \u001b[32m━━━━━━━━━━━━━━━━━━━━\u001b[0m\u001b[37m\u001b[0m \u001b[1m1s\u001b[0m 4ms/step - R2Score: 0.9659 - loss: 0.0339 - val_R2Score: 0.8585 - val_loss: 0.1300\n",
      "Epoch 200/200\n",
      "\u001b[1m187/187\u001b[0m \u001b[32m━━━━━━━━━━━━━━━━━━━━\u001b[0m\u001b[37m\u001b[0m \u001b[1m1s\u001b[0m 4ms/step - R2Score: 0.9617 - loss: 0.0368 - val_R2Score: 0.8691 - val_loss: 0.1202\n"
     ]
    }
   ],
   "source": [
    "history = model.fit(\n",
    "    x_train_transformed, \n",
    "    y_train_transformed_x_ratio,  # Split the targets into separate arrays\n",
    "    validation_split=0.2,\n",
    "    epochs=200,\n",
    "    batch_size=32,\n",
    "    verbose=1,\n",
    "    callbacks=[tensorboard_callback]\n",
    ")"
   ]
  },
  {
   "cell_type": "code",
   "execution_count": 34,
   "metadata": {},
   "outputs": [
    {
     "name": "stdout",
     "output_type": "stream",
     "text": [
      "\u001b[1m59/59\u001b[0m \u001b[32m━━━━━━━━━━━━━━━━━━━━\u001b[0m\u001b[37m\u001b[0m \u001b[1m0s\u001b[0m 2ms/step - R2Score: 0.5532 - loss: 0.8926\n",
      "Test accuracy: 0.692797839641571\n"
     ]
    }
   ],
   "source": [
    "test_loss, test_mse = model.evaluate(x_test_transformed, y_test_transformed_x_ratio)\n",
    "print('Test accuracy:', test_mse)"
   ]
  },
  {
   "cell_type": "code",
   "execution_count": 21,
   "metadata": {},
   "outputs": [
    {
     "data": {
      "text/html": [
       "<pre style=\"white-space:pre;overflow-x:auto;line-height:normal;font-family:Menlo,'DejaVu Sans Mono',consolas,'Courier New',monospace\"><span style=\"font-weight: bold\">Model: \"functional\"</span>\n",
       "</pre>\n"
      ],
      "text/plain": [
       "\u001b[1mModel: \"functional\"\u001b[0m\n"
      ]
     },
     "metadata": {},
     "output_type": "display_data"
    },
    {
     "data": {
      "text/html": [
       "<pre style=\"white-space:pre;overflow-x:auto;line-height:normal;font-family:Menlo,'DejaVu Sans Mono',consolas,'Courier New',monospace\">┏━━━━━━━━━━━━━━━━━━━━━━━━━━━━━━━━━┳━━━━━━━━━━━━━━━━━━━━━━━━┳━━━━━━━━━━━━━━━┓\n",
       "┃<span style=\"font-weight: bold\"> Layer (type)                    </span>┃<span style=\"font-weight: bold\"> Output Shape           </span>┃<span style=\"font-weight: bold\">       Param # </span>┃\n",
       "┡━━━━━━━━━━━━━━━━━━━━━━━━━━━━━━━━━╇━━━━━━━━━━━━━━━━━━━━━━━━╇━━━━━━━━━━━━━━━┩\n",
       "│ input_layer (<span style=\"color: #0087ff; text-decoration-color: #0087ff\">InputLayer</span>)        │ (<span style=\"color: #00d7ff; text-decoration-color: #00d7ff\">None</span>, <span style=\"color: #00af00; text-decoration-color: #00af00\">13</span>)             │             <span style=\"color: #00af00; text-decoration-color: #00af00\">0</span> │\n",
       "├─────────────────────────────────┼────────────────────────┼───────────────┤\n",
       "│ dense (<span style=\"color: #0087ff; text-decoration-color: #0087ff\">Dense</span>)                   │ (<span style=\"color: #00d7ff; text-decoration-color: #00d7ff\">None</span>, <span style=\"color: #00af00; text-decoration-color: #00af00\">256</span>)            │         <span style=\"color: #00af00; text-decoration-color: #00af00\">3,584</span> │\n",
       "├─────────────────────────────────┼────────────────────────┼───────────────┤\n",
       "│ dropout (<span style=\"color: #0087ff; text-decoration-color: #0087ff\">Dropout</span>)               │ (<span style=\"color: #00d7ff; text-decoration-color: #00d7ff\">None</span>, <span style=\"color: #00af00; text-decoration-color: #00af00\">256</span>)            │             <span style=\"color: #00af00; text-decoration-color: #00af00\">0</span> │\n",
       "├─────────────────────────────────┼────────────────────────┼───────────────┤\n",
       "│ dense_1 (<span style=\"color: #0087ff; text-decoration-color: #0087ff\">Dense</span>)                 │ (<span style=\"color: #00d7ff; text-decoration-color: #00d7ff\">None</span>, <span style=\"color: #00af00; text-decoration-color: #00af00\">64</span>)             │        <span style=\"color: #00af00; text-decoration-color: #00af00\">16,448</span> │\n",
       "├─────────────────────────────────┼────────────────────────┼───────────────┤\n",
       "│ dense_2 (<span style=\"color: #0087ff; text-decoration-color: #0087ff\">Dense</span>)                 │ (<span style=\"color: #00d7ff; text-decoration-color: #00d7ff\">None</span>, <span style=\"color: #00af00; text-decoration-color: #00af00\">1</span>)              │            <span style=\"color: #00af00; text-decoration-color: #00af00\">65</span> │\n",
       "└─────────────────────────────────┴────────────────────────┴───────────────┘\n",
       "</pre>\n"
      ],
      "text/plain": [
       "┏━━━━━━━━━━━━━━━━━━━━━━━━━━━━━━━━━┳━━━━━━━━━━━━━━━━━━━━━━━━┳━━━━━━━━━━━━━━━┓\n",
       "┃\u001b[1m \u001b[0m\u001b[1mLayer (type)                   \u001b[0m\u001b[1m \u001b[0m┃\u001b[1m \u001b[0m\u001b[1mOutput Shape          \u001b[0m\u001b[1m \u001b[0m┃\u001b[1m \u001b[0m\u001b[1m      Param #\u001b[0m\u001b[1m \u001b[0m┃\n",
       "┡━━━━━━━━━━━━━━━━━━━━━━━━━━━━━━━━━╇━━━━━━━━━━━━━━━━━━━━━━━━╇━━━━━━━━━━━━━━━┩\n",
       "│ input_layer (\u001b[38;5;33mInputLayer\u001b[0m)        │ (\u001b[38;5;45mNone\u001b[0m, \u001b[38;5;34m13\u001b[0m)             │             \u001b[38;5;34m0\u001b[0m │\n",
       "├─────────────────────────────────┼────────────────────────┼───────────────┤\n",
       "│ dense (\u001b[38;5;33mDense\u001b[0m)                   │ (\u001b[38;5;45mNone\u001b[0m, \u001b[38;5;34m256\u001b[0m)            │         \u001b[38;5;34m3,584\u001b[0m │\n",
       "├─────────────────────────────────┼────────────────────────┼───────────────┤\n",
       "│ dropout (\u001b[38;5;33mDropout\u001b[0m)               │ (\u001b[38;5;45mNone\u001b[0m, \u001b[38;5;34m256\u001b[0m)            │             \u001b[38;5;34m0\u001b[0m │\n",
       "├─────────────────────────────────┼────────────────────────┼───────────────┤\n",
       "│ dense_1 (\u001b[38;5;33mDense\u001b[0m)                 │ (\u001b[38;5;45mNone\u001b[0m, \u001b[38;5;34m64\u001b[0m)             │        \u001b[38;5;34m16,448\u001b[0m │\n",
       "├─────────────────────────────────┼────────────────────────┼───────────────┤\n",
       "│ dense_2 (\u001b[38;5;33mDense\u001b[0m)                 │ (\u001b[38;5;45mNone\u001b[0m, \u001b[38;5;34m1\u001b[0m)              │            \u001b[38;5;34m65\u001b[0m │\n",
       "└─────────────────────────────────┴────────────────────────┴───────────────┘\n"
      ]
     },
     "metadata": {},
     "output_type": "display_data"
    },
    {
     "data": {
      "text/html": [
       "<pre style=\"white-space:pre;overflow-x:auto;line-height:normal;font-family:Menlo,'DejaVu Sans Mono',consolas,'Courier New',monospace\"><span style=\"font-weight: bold\"> Total params: </span><span style=\"color: #00af00; text-decoration-color: #00af00\">60,293</span> (235.52 KB)\n",
       "</pre>\n"
      ],
      "text/plain": [
       "\u001b[1m Total params: \u001b[0m\u001b[38;5;34m60,293\u001b[0m (235.52 KB)\n"
      ]
     },
     "metadata": {},
     "output_type": "display_data"
    },
    {
     "data": {
      "text/html": [
       "<pre style=\"white-space:pre;overflow-x:auto;line-height:normal;font-family:Menlo,'DejaVu Sans Mono',consolas,'Courier New',monospace\"><span style=\"font-weight: bold\"> Trainable params: </span><span style=\"color: #00af00; text-decoration-color: #00af00\">20,097</span> (78.50 KB)\n",
       "</pre>\n"
      ],
      "text/plain": [
       "\u001b[1m Trainable params: \u001b[0m\u001b[38;5;34m20,097\u001b[0m (78.50 KB)\n"
      ]
     },
     "metadata": {},
     "output_type": "display_data"
    },
    {
     "data": {
      "text/html": [
       "<pre style=\"white-space:pre;overflow-x:auto;line-height:normal;font-family:Menlo,'DejaVu Sans Mono',consolas,'Courier New',monospace\"><span style=\"font-weight: bold\"> Non-trainable params: </span><span style=\"color: #00af00; text-decoration-color: #00af00\">0</span> (0.00 B)\n",
       "</pre>\n"
      ],
      "text/plain": [
       "\u001b[1m Non-trainable params: \u001b[0m\u001b[38;5;34m0\u001b[0m (0.00 B)\n"
      ]
     },
     "metadata": {},
     "output_type": "display_data"
    },
    {
     "data": {
      "text/html": [
       "<pre style=\"white-space:pre;overflow-x:auto;line-height:normal;font-family:Menlo,'DejaVu Sans Mono',consolas,'Courier New',monospace\"><span style=\"font-weight: bold\"> Optimizer params: </span><span style=\"color: #00af00; text-decoration-color: #00af00\">40,196</span> (157.02 KB)\n",
       "</pre>\n"
      ],
      "text/plain": [
       "\u001b[1m Optimizer params: \u001b[0m\u001b[38;5;34m40,196\u001b[0m (157.02 KB)\n"
      ]
     },
     "metadata": {},
     "output_type": "display_data"
    }
   ],
   "source": [
    "model.summary()"
   ]
  },
  {
   "cell_type": "code",
   "execution_count": 22,
   "metadata": {},
   "outputs": [
    {
     "data": {
      "text/plain": [
       "[<matplotlib.lines.Line2D at 0x1d4dbaf7d40>]"
      ]
     },
     "execution_count": 22,
     "metadata": {},
     "output_type": "execute_result"
    },
    {
     "data": {
      "image/png": "[encoded data removed]",
      "text/plain": [
       "<Figure size 640x480 with 1 Axes>"
      ]
     },
     "metadata": {},
     "output_type": "display_data"
    }
   ],
   "source": [
    "plt.plot(history.history[\"loss\"],label=\"loss\")\n",
    "plt.plot(history.history[\"val_loss\"],label=\"val_loss\")"
   ]
  },
  {
   "cell_type": "code",
   "execution_count": 23,
   "metadata": {},
   "outputs": [
    {
     "name": "stdout",
     "output_type": "stream",
     "text": [
      "\u001b[1m59/59\u001b[0m \u001b[32m━━━━━━━━━━━━━━━━━━━━\u001b[0m\u001b[37m\u001b[0m \u001b[1m0s\u001b[0m 2ms/step\n"
     ]
    }
   ],
   "source": [
    "predictions_scaled = model.predict(x_test_transformed)\n",
    "predictions = scaler_y_x_ratio.inverse_transform((predictions_scaled))\n",
    "#predictions = predictions_scaled"
   ]
  },
  {
   "cell_type": "code",
   "execution_count": 24,
   "metadata": {},
   "outputs": [
    {
     "name": "stdout",
     "output_type": "stream",
     "text": [
      "\n",
      "Sample Predictions:\n",
      "             0\n",
      "0     0.543343\n",
      "1     0.492323\n",
      "2     0.581749\n",
      "3     0.544558\n",
      "4     0.625085\n",
      "...        ...\n",
      "1866  0.568804\n",
      "1867  0.484705\n",
      "1868  0.502377\n",
      "1869  0.481850\n",
      "1870  0.532203\n",
      "\n",
      "[1871 rows x 1 columns]\n"
     ]
    }
   ],
   "source": [
    "predictions_df = pd.DataFrame(predictions)\n",
    "print(\"\\nSample Predictions:\")\n",
    "print(predictions_df)"
   ]
  },
  {
   "cell_type": "code",
   "execution_count": 25,
   "metadata": {},
   "outputs": [
    {
     "data": {
      "text/plain": [
       "1772     0.546900\n",
       "9378     0.491722\n",
       "6933     0.581621\n",
       "1388     0.536468\n",
       "7101     0.616474\n",
       "           ...   \n",
       "6919     0.565273\n",
       "2744     0.484376\n",
       "432      0.493169\n",
       "10611    0.475054\n",
       "8969     0.531503\n",
       "Name: x_ratio, Length: 1871, dtype: float64"
      ]
     },
     "execution_count": 25,
     "metadata": {},
     "output_type": "execute_result"
    }
   ],
   "source": [
    "y_test[\"x_ratio\"]"
   ]
  },
  {
   "cell_type": "code",
   "execution_count": 26,
   "metadata": {},
   "outputs": [
    {
     "data": {
      "text/plain": [
       "0.0010740175581047738"
      ]
     },
     "execution_count": 26,
     "metadata": {},
     "output_type": "execute_result"
    }
   ],
   "source": [
    "true= y_test[\"x_ratio\"].tolist()\n",
    "pred= predictions_df[0].tolist()\n",
    "mean_squared_error(true,pred)"
   ]
  },
  {
   "cell_type": "code",
   "execution_count": 27,
   "metadata": {},
   "outputs": [
    {
     "data": {
      "image/png": "[encoded data removed]",
      "text/plain": [
       "<Figure size 640x480 with 1 Axes>"
      ]
     },
     "metadata": {},
     "output_type": "display_data"
    }
   ],
   "source": [
    "pred=predictions_df\n",
    "ansys=y_test[\"x_ratio\"]\n",
    "plt.scatter(ansys,pred)\n",
    "#plt.loglog()\n",
    "plt.plot([0, 1],[0, 1])\n",
    "plt.xlim(0,1)\n",
    "plt.ylim(0,1)\n",
    "plt.xlabel(\"Maximum Displacement Postion from ANSYS (x/L)\")\n",
    "plt.ylabel(\"Maximum Displacement Postion from NN (x/L)\")\n",
    "plt.title(\"Testing Results - Maximum Displacement Postion - Ratio\")\n",
    "plt.show()"
   ]
  },
  {
   "cell_type": "code",
   "execution_count": 28,
   "metadata": {},
   "outputs": [
    {
     "data": {
      "text/plain": [
       "4253"
      ]
     },
     "execution_count": 28,
     "metadata": {},
     "output_type": "execute_result"
    }
   ],
   "source": [
    "#clear_session()\n",
    "#del model\n",
    "gc.collect()"
   ]
  },
  {
   "cell_type": "code",
   "execution_count": 29,
   "metadata": {},
   "outputs": [
    {
     "name": "stdout",
     "output_type": "stream",
     "text": [
      "                          data:  1.5 MiB\n",
      "                             x:  1.3 MiB\n",
      "                       x_train:  1.1 MiB\n",
      "           x_train_transformed: 759.9 KiB\n",
      "                         mask2: 340.3 KiB\n",
      "                             y: 292.3 KiB\n",
      "                        x_test: 272.3 KiB\n",
      "                       y_train: 233.8 KiB\n",
      "            x_test_transformed: 190.1 KiB\n",
      "   y_train_transformed_x_ratio: 58.6 KiB\n"
     ]
    }
   ],
   "source": [
    "import sys\n",
    "def sizeof_fmt(num, suffix='B'):\n",
    "    ''' by Fred Cirera,  https://stackoverflow.com/a/1094933/1870254, modified'''\n",
    "    for unit in ['','Ki','Mi','Gi','Ti','Pi','Ei','Zi']:\n",
    "        if abs(num) < 1024.0:\n",
    "            return \"%3.1f %s%s\" % (num, unit, suffix)\n",
    "        num /= 1024.0\n",
    "    return \"%.1f %s%s\" % (num, 'Yi', suffix)\n",
    "\n",
    "for name, size in sorted(((name, sys.getsizeof(value)) for name, value in list(\n",
    "                          locals().items())), key= lambda x: -x[1])[:10]:\n",
    "    print(\"{:>30}: {:>8}\".format(name, sizeof_fmt(size)))"
   ]
  },
  {
   "cell_type": "code",
   "execution_count": 30,
   "metadata": {},
   "outputs": [
    {
     "data": {
      "text/plain": [
       "array([[-0.28849706,  0.3445137 , -0.11161852, ..., -0.25883624,\n",
       "        -0.08406821,  0.16145158],\n",
       "       [ 0.01968577, -0.00747482, -0.06174312, ..., -0.04428767,\n",
       "         0.0974533 ,  0.0754815 ],\n",
       "       [ 0.10767004, -0.29377437, -0.10298949, ..., -0.10653404,\n",
       "        -0.03565434,  0.02904079],\n",
       "       ...,\n",
       "       [-0.090367  ,  0.06302632, -0.18559924, ..., -0.19277558,\n",
       "         0.11004288,  0.19458523],\n",
       "       [-0.0822434 ,  0.03871959, -0.14437453, ..., -0.24594814,\n",
       "        -0.46459922, -0.59530854],\n",
       "       [-0.49150518,  0.05252726, -0.29201046, ..., -0.17551358,\n",
       "         0.0555915 ,  0.20481467]], dtype=float32)"
      ]
     },
     "execution_count": 30,
     "metadata": {},
     "output_type": "execute_result"
    }
   ],
   "source": [
    "model.layers[1].get_weights()[0]"
   ]
  },
  {
   "cell_type": "code",
   "execution_count": 31,
   "metadata": {},
   "outputs": [
    {
     "data": {
      "text/plain": [
       "<matplotlib.collections.PathCollection at 0x1d4dc3c19a0>"
      ]
     },
     "execution_count": 31,
     "metadata": {},
     "output_type": "execute_result"
    },
    {
     "data": {
      "image/png": "[encoded data removed]",
      "text/plain": [
       "<Figure size 640x480 with 1 Axes>"
      ]
     },
     "metadata": {},
     "output_type": "display_data"
    }
   ],
   "source": [
    "x=np.linspace(0,1,1000)\n",
    "y = 2**0.5*np.sin(np.pi*x)\n",
    "plt.scatter(x,y)"
   ]
  },
  {
   "cell_type": "code",
   "execution_count": 32,
   "metadata": {},
   "outputs": [
    {
     "data": {
      "text/plain": [
       "<matplotlib.collections.PathCollection at 0x1d4dc33eff0>"
      ]
     },
     "execution_count": 32,
     "metadata": {},
     "output_type": "execute_result"
    },
    {
     "data": {
      "image/png": "[encoded data removed]",
      "text/plain": [
       "<Figure size 640x480 with 1 Axes>"
      ]
     },
     "metadata": {},
     "output_type": "display_data"
    }
   ],
   "source": [
    "x=np.linspace(0,1,1000)\n",
    "b=4.73\n",
    "c=0.9825\n",
    "y = np.cosh(b*x)-np.cos(b*x)-c*(np.sinh(b*x)-np.sin(b*x))\n",
    "plt.scatter(x,y)"
   ]
  },
  {
   "cell_type": "code",
   "execution_count": 33,
   "metadata": {},
   "outputs": [
    {
     "name": "stdout",
     "output_type": "stream",
     "text": [
      "0.5805805805805806\n"
     ]
    },
    {
     "data": {
      "image/png": "[encoded data removed]",
      "text/plain": [
       "<Figure size 640x480 with 1 Axes>"
      ]
     },
     "metadata": {},
     "output_type": "display_data"
    }
   ],
   "source": [
    "x=np.linspace(0,1,1000)\n",
    "b=3.927\n",
    "c=1.001\n",
    "y = np.cosh(b*x)-np.cos(b*x)-c*(np.sinh(b*x)-np.sin(b*x))\n",
    "plt.scatter(x,y)\n",
    "\n",
    "m=y.max()\n",
    "for i in x:\n",
    "    a = np.cosh(b*i)-np.cos(b*i)-c*(np.sinh(b*i)-np.sin(b*i))\n",
    "    if m==a:\n",
    "        print(i)"
   ]
  },
  {
   "cell_type": "code",
   "execution_count": null,
   "metadata": {},
   "outputs": [],
   "source": []
  }
 ],
 "metadata": {
  "kernelspec": {
   "display_name": "Python 3",
   "language": "python",
   "name": "python3"
  },
  "language_info": {
   "codemirror_mode": {
    "name": "ipython",
    "version": 3
   },
   "file_extension": ".py",
   "mimetype": "text/x-python",
   "name": "python",
   "nbconvert_exporter": "python",
   "pygments_lexer": "ipython3",
   "version": "3.12.4"
  }
 },
 "nbformat": 4,
 "nbformat_minor": 2
}

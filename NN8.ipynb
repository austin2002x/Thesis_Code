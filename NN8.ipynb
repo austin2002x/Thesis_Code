{
 "cells": [
  {
   "cell_type": "code",
   "execution_count": 28,
   "metadata": {},
   "outputs": [],
   "source": [
    "import pandas as pd\n",
    "import numpy as np\n",
    "from sklearn.model_selection import train_test_split\n",
    "from sklearn.preprocessing import StandardScaler, OneHotEncoder, MinMaxScaler\n",
    "from tensorflow.keras.models import Model, Sequential\n",
    "from tensorflow.keras.layers import Dense, Dropout, Input, Lambda\n",
    "from tensorflow.keras.optimizers import Adam\n",
    "from tensorflow.keras.callbacks import Callback, TensorBoard\n",
    "from sklearn.compose import ColumnTransformer\n",
    "import matplotlib.pyplot as plt\n",
    "from sklearn.pipeline import Pipeline\n",
    "import seaborn as sns\n",
    "from datetime import datetime\n",
    "from sklearn.metrics import mean_squared_error "
   ]
  },
  {
   "cell_type": "code",
   "execution_count": 29,
   "metadata": {},
   "outputs": [],
   "source": [
    "data = pd.read_csv('all_data_results_cleaned.csv')"
   ]
  },
  {
   "cell_type": "code",
   "execution_count": 30,
   "metadata": {},
   "outputs": [],
   "source": [
    "to_drop=[\"pipe_dn\",\"pipe_schedule\",\"flange_class\",\n",
    "        \"hot_spot_stress\", \"max_deformation\", \"support_right\", \"support_left\", \"ratio\"]\n",
    "to_keep=[\"outside_diameter\", \"wall_thickness\", \"raised_face_depth\",\n",
    "        \"w_neck_c\", \"flange_outer_radius\", \"flange_thickness_d\",\"raised_face_radius\",\n",
    "        \"length1\", \"length2\", \"lumped_mass\", \"frequency\", \"x_deformation_position\",\n",
    "        \"y_deformation_position\", \"z_deformation_position\", \"support\", \"allowable_deformation\"]\n",
    "\n",
    "data.drop(columns=to_drop,inplace=True)"
   ]
  },
  {
   "cell_type": "code",
   "execution_count": 31,
   "metadata": {},
   "outputs": [],
   "source": [
    "numeric_features = [\"outside_diameter\", \"wall_thickness\", \"raised_face_depth\" ,'length1', 'length2', 'lumped_mass',\n",
    "                    \"w_neck_c\", \"flange_outer_radius\", \"flange_thickness_d\",\"raised_face_radius\"]\n",
    "categorical_features = ['support']\n",
    "\n",
    "preprocessor = ColumnTransformer(\n",
    "    transformers=[\n",
    "        ('num', StandardScaler(), numeric_features),\n",
    "        ('cat', OneHotEncoder(drop=None), categorical_features)\n",
    "    ])"
   ]
  },
  {
   "cell_type": "code",
   "execution_count": 32,
   "metadata": {},
   "outputs": [],
   "source": [
    "pipeline = Pipeline(steps=[('preprocessor', preprocessor)])"
   ]
  },
  {
   "cell_type": "code",
   "execution_count": 33,
   "metadata": {},
   "outputs": [],
   "source": [
    "output_columns = ['allowable_deformation', 'frequency', 'x_deformation_position', 'y_deformation_position', 'z_deformation_position']\n",
    "x = data.drop(output_columns, axis=1)\n",
    "y = pd.DataFrame(data[output_columns])"
   ]
  },
  {
   "cell_type": "code",
   "execution_count": 34,
   "metadata": {},
   "outputs": [],
   "source": [
    "x_train, x_test, y_train, y_test = train_test_split(x, y, test_size=0.2, random_state=33)"
   ]
  },
  {
   "cell_type": "code",
   "execution_count": 35,
   "metadata": {},
   "outputs": [],
   "source": [
    "x_train_transformed = pipeline.fit_transform(x_train)\n",
    "x_test_transformed = pipeline.transform(x_test)"
   ]
  },
  {
   "cell_type": "code",
   "execution_count": 36,
   "metadata": {},
   "outputs": [
    {
     "data": {
      "text/plain": [
       "'\\ny_train_transformed_x_displacement = scaler_y.fit_transform(pd.DataFrame(y_train[\"x_deformation_position\"]))\\ny_test_transformed_x_displacement = scaler_y.transform(pd.DataFrame(y_test[\"x_deformation_position\"]))\\n\\ny_train_transformed_y_displacement = scaler_y.fit_transform(pd.DataFrame(y_train[\"y_deformation_position\"]))\\ny_test_transformed_y_displacement = scaler_y.transform(pd.DataFrame(y_test[\"y_deformation_position\"]))\\n\\ny_train_transformed_z_displacement = scaler_y.fit_transform(pd.DataFrame(y_train[\"z_deformation_position\"]))\\ny_test_transformed_z_displacement = scaler_y.transform(pd.DataFrame(y_test[\"z_deformation_position\"]))\\n'"
      ]
     },
     "execution_count": 36,
     "metadata": {},
     "output_type": "execute_result"
    }
   ],
   "source": [
    "scaler_y_frequency = StandardScaler()\n",
    "scaler_y_allowable_deformation = StandardScaler()\n",
    "\n",
    "#y_train_transformed_frequency = scaler_y_frequency.fit_transform(pd.DataFrame(y_train[\"frequency\"]))\n",
    "#y_test_transformed_frequency = scaler_y_frequency.transform(pd.DataFrame(y_test[\"frequency\"]))\n",
    "\n",
    "y_train_transformed_allowable_deformation = scaler_y_allowable_deformation.fit_transform(pd.DataFrame(y_train[\"allowable_deformation\"]))\n",
    "y_test_transformed_allowable_deformation = scaler_y_allowable_deformation.transform(pd.DataFrame(y_test[\"allowable_deformation\"]))\n",
    "\"\"\"\n",
    "y_train_transformed_x_displacement = scaler_y.fit_transform(pd.DataFrame(y_train[\"x_deformation_position\"]))\n",
    "y_test_transformed_x_displacement = scaler_y.transform(pd.DataFrame(y_test[\"x_deformation_position\"]))\n",
    "\n",
    "y_train_transformed_y_displacement = scaler_y.fit_transform(pd.DataFrame(y_train[\"y_deformation_position\"]))\n",
    "y_test_transformed_y_displacement = scaler_y.transform(pd.DataFrame(y_test[\"y_deformation_position\"]))\n",
    "\n",
    "y_train_transformed_z_displacement = scaler_y.fit_transform(pd.DataFrame(y_train[\"z_deformation_position\"]))\n",
    "y_test_transformed_z_displacement = scaler_y.transform(pd.DataFrame(y_test[\"z_deformation_position\"]))\n",
    "\"\"\""
   ]
  },
  {
   "cell_type": "code",
   "execution_count": 37,
   "metadata": {},
   "outputs": [],
   "source": [
    "logdir = \"logs/\" + datetime.now().strftime(\"%Y%m%d-%H%M%S\")\n",
    "tensorboard_callback = TensorBoard(log_dir=logdir)"
   ]
  },
  {
   "cell_type": "code",
   "execution_count": 38,
   "metadata": {},
   "outputs": [],
   "source": [
    "input_layer = Input(shape=(x_train_transformed.shape[1],))\n",
    "hidden1 = Dense(512, activation='relu')(input_layer)\n",
    "dropout1 = Dropout(0.2)(hidden1)\n",
    "hidden2 = Dense(128, activation='relu')(dropout1)\n",
    "dropout2 = Dropout(0.2)(hidden2)\n",
    "hidden3 = Dense(32, activation='relu')(dropout2)\n",
    "\n",
    "# Separate output for each target variable\n",
    "output_layer = Dense(1)(hidden3)\n",
    "#, name='allowable_deformation'\n"
   ]
  },
  {
   "cell_type": "code",
   "execution_count": 39,
   "metadata": {},
   "outputs": [],
   "source": [
    "model = Model(inputs=input_layer, outputs=output_layer)"
   ]
  },
  {
   "cell_type": "code",
   "execution_count": 40,
   "metadata": {},
   "outputs": [
    {
     "data": {
      "text/html": [
       "<pre style=\"white-space:pre;overflow-x:auto;line-height:normal;font-family:Menlo,'DejaVu Sans Mono',consolas,'Courier New',monospace\"><span style=\"font-weight: bold\">Model: \"functional_1\"</span>\n",
       "</pre>\n"
      ],
      "text/plain": [
       "\u001b[1mModel: \"functional_1\"\u001b[0m\n"
      ]
     },
     "metadata": {},
     "output_type": "display_data"
    },
    {
     "data": {
      "text/html": [
       "<pre style=\"white-space:pre;overflow-x:auto;line-height:normal;font-family:Menlo,'DejaVu Sans Mono',consolas,'Courier New',monospace\">┏━━━━━━━━━━━━━━━━━━━━━━━━━━━━━━━━━┳━━━━━━━━━━━━━━━━━━━━━━━━┳━━━━━━━━━━━━━━━┓\n",
       "┃<span style=\"font-weight: bold\"> Layer (type)                    </span>┃<span style=\"font-weight: bold\"> Output Shape           </span>┃<span style=\"font-weight: bold\">       Param # </span>┃\n",
       "┡━━━━━━━━━━━━━━━━━━━━━━━━━━━━━━━━━╇━━━━━━━━━━━━━━━━━━━━━━━━╇━━━━━━━━━━━━━━━┩\n",
       "│ input_layer_1 (<span style=\"color: #0087ff; text-decoration-color: #0087ff\">InputLayer</span>)      │ (<span style=\"color: #00d7ff; text-decoration-color: #00d7ff\">None</span>, <span style=\"color: #00af00; text-decoration-color: #00af00\">14</span>)             │             <span style=\"color: #00af00; text-decoration-color: #00af00\">0</span> │\n",
       "├─────────────────────────────────┼────────────────────────┼───────────────┤\n",
       "│ dense_3 (<span style=\"color: #0087ff; text-decoration-color: #0087ff\">Dense</span>)                 │ (<span style=\"color: #00d7ff; text-decoration-color: #00d7ff\">None</span>, <span style=\"color: #00af00; text-decoration-color: #00af00\">512</span>)            │         <span style=\"color: #00af00; text-decoration-color: #00af00\">7,680</span> │\n",
       "├─────────────────────────────────┼────────────────────────┼───────────────┤\n",
       "│ dropout_1 (<span style=\"color: #0087ff; text-decoration-color: #0087ff\">Dropout</span>)             │ (<span style=\"color: #00d7ff; text-decoration-color: #00d7ff\">None</span>, <span style=\"color: #00af00; text-decoration-color: #00af00\">512</span>)            │             <span style=\"color: #00af00; text-decoration-color: #00af00\">0</span> │\n",
       "├─────────────────────────────────┼────────────────────────┼───────────────┤\n",
       "│ dense_4 (<span style=\"color: #0087ff; text-decoration-color: #0087ff\">Dense</span>)                 │ (<span style=\"color: #00d7ff; text-decoration-color: #00d7ff\">None</span>, <span style=\"color: #00af00; text-decoration-color: #00af00\">128</span>)            │        <span style=\"color: #00af00; text-decoration-color: #00af00\">65,664</span> │\n",
       "├─────────────────────────────────┼────────────────────────┼───────────────┤\n",
       "│ dropout_2 (<span style=\"color: #0087ff; text-decoration-color: #0087ff\">Dropout</span>)             │ (<span style=\"color: #00d7ff; text-decoration-color: #00d7ff\">None</span>, <span style=\"color: #00af00; text-decoration-color: #00af00\">128</span>)            │             <span style=\"color: #00af00; text-decoration-color: #00af00\">0</span> │\n",
       "├─────────────────────────────────┼────────────────────────┼───────────────┤\n",
       "│ dense_5 (<span style=\"color: #0087ff; text-decoration-color: #0087ff\">Dense</span>)                 │ (<span style=\"color: #00d7ff; text-decoration-color: #00d7ff\">None</span>, <span style=\"color: #00af00; text-decoration-color: #00af00\">32</span>)             │         <span style=\"color: #00af00; text-decoration-color: #00af00\">4,128</span> │\n",
       "├─────────────────────────────────┼────────────────────────┼───────────────┤\n",
       "│ dense_6 (<span style=\"color: #0087ff; text-decoration-color: #0087ff\">Dense</span>)                 │ (<span style=\"color: #00d7ff; text-decoration-color: #00d7ff\">None</span>, <span style=\"color: #00af00; text-decoration-color: #00af00\">1</span>)              │            <span style=\"color: #00af00; text-decoration-color: #00af00\">33</span> │\n",
       "└─────────────────────────────────┴────────────────────────┴───────────────┘\n",
       "</pre>\n"
      ],
      "text/plain": [
       "┏━━━━━━━━━━━━━━━━━━━━━━━━━━━━━━━━━┳━━━━━━━━━━━━━━━━━━━━━━━━┳━━━━━━━━━━━━━━━┓\n",
       "┃\u001b[1m \u001b[0m\u001b[1mLayer (type)                   \u001b[0m\u001b[1m \u001b[0m┃\u001b[1m \u001b[0m\u001b[1mOutput Shape          \u001b[0m\u001b[1m \u001b[0m┃\u001b[1m \u001b[0m\u001b[1m      Param #\u001b[0m\u001b[1m \u001b[0m┃\n",
       "┡━━━━━━━━━━━━━━━━━━━━━━━━━━━━━━━━━╇━━━━━━━━━━━━━━━━━━━━━━━━╇━━━━━━━━━━━━━━━┩\n",
       "│ input_layer_1 (\u001b[38;5;33mInputLayer\u001b[0m)      │ (\u001b[38;5;45mNone\u001b[0m, \u001b[38;5;34m14\u001b[0m)             │             \u001b[38;5;34m0\u001b[0m │\n",
       "├─────────────────────────────────┼────────────────────────┼───────────────┤\n",
       "│ dense_3 (\u001b[38;5;33mDense\u001b[0m)                 │ (\u001b[38;5;45mNone\u001b[0m, \u001b[38;5;34m512\u001b[0m)            │         \u001b[38;5;34m7,680\u001b[0m │\n",
       "├─────────────────────────────────┼────────────────────────┼───────────────┤\n",
       "│ dropout_1 (\u001b[38;5;33mDropout\u001b[0m)             │ (\u001b[38;5;45mNone\u001b[0m, \u001b[38;5;34m512\u001b[0m)            │             \u001b[38;5;34m0\u001b[0m │\n",
       "├─────────────────────────────────┼────────────────────────┼───────────────┤\n",
       "│ dense_4 (\u001b[38;5;33mDense\u001b[0m)                 │ (\u001b[38;5;45mNone\u001b[0m, \u001b[38;5;34m128\u001b[0m)            │        \u001b[38;5;34m65,664\u001b[0m │\n",
       "├─────────────────────────────────┼────────────────────────┼───────────────┤\n",
       "│ dropout_2 (\u001b[38;5;33mDropout\u001b[0m)             │ (\u001b[38;5;45mNone\u001b[0m, \u001b[38;5;34m128\u001b[0m)            │             \u001b[38;5;34m0\u001b[0m │\n",
       "├─────────────────────────────────┼────────────────────────┼───────────────┤\n",
       "│ dense_5 (\u001b[38;5;33mDense\u001b[0m)                 │ (\u001b[38;5;45mNone\u001b[0m, \u001b[38;5;34m32\u001b[0m)             │         \u001b[38;5;34m4,128\u001b[0m │\n",
       "├─────────────────────────────────┼────────────────────────┼───────────────┤\n",
       "│ dense_6 (\u001b[38;5;33mDense\u001b[0m)                 │ (\u001b[38;5;45mNone\u001b[0m, \u001b[38;5;34m1\u001b[0m)              │            \u001b[38;5;34m33\u001b[0m │\n",
       "└─────────────────────────────────┴────────────────────────┴───────────────┘\n"
      ]
     },
     "metadata": {},
     "output_type": "display_data"
    },
    {
     "data": {
      "text/html": [
       "<pre style=\"white-space:pre;overflow-x:auto;line-height:normal;font-family:Menlo,'DejaVu Sans Mono',consolas,'Courier New',monospace\"><span style=\"font-weight: bold\"> Total params: </span><span style=\"color: #00af00; text-decoration-color: #00af00\">77,505</span> (302.75 KB)\n",
       "</pre>\n"
      ],
      "text/plain": [
       "\u001b[1m Total params: \u001b[0m\u001b[38;5;34m77,505\u001b[0m (302.75 KB)\n"
      ]
     },
     "metadata": {},
     "output_type": "display_data"
    },
    {
     "data": {
      "text/html": [
       "<pre style=\"white-space:pre;overflow-x:auto;line-height:normal;font-family:Menlo,'DejaVu Sans Mono',consolas,'Courier New',monospace\"><span style=\"font-weight: bold\"> Trainable params: </span><span style=\"color: #00af00; text-decoration-color: #00af00\">77,505</span> (302.75 KB)\n",
       "</pre>\n"
      ],
      "text/plain": [
       "\u001b[1m Trainable params: \u001b[0m\u001b[38;5;34m77,505\u001b[0m (302.75 KB)\n"
      ]
     },
     "metadata": {},
     "output_type": "display_data"
    },
    {
     "data": {
      "text/html": [
       "<pre style=\"white-space:pre;overflow-x:auto;line-height:normal;font-family:Menlo,'DejaVu Sans Mono',consolas,'Courier New',monospace\"><span style=\"font-weight: bold\"> Non-trainable params: </span><span style=\"color: #00af00; text-decoration-color: #00af00\">0</span> (0.00 B)\n",
       "</pre>\n"
      ],
      "text/plain": [
       "\u001b[1m Non-trainable params: \u001b[0m\u001b[38;5;34m0\u001b[0m (0.00 B)\n"
      ]
     },
     "metadata": {},
     "output_type": "display_data"
    }
   ],
   "source": [
    "model.summary()"
   ]
  },
  {
   "cell_type": "code",
   "execution_count": 41,
   "metadata": {},
   "outputs": [],
   "source": [
    "model.compile(optimizer=Adam(learning_rate=0.001), \n",
    "              loss='mse',\n",
    "              metrics=[\"R2Score\"])"
   ]
  },
  {
   "cell_type": "code",
   "execution_count": 42,
   "metadata": {},
   "outputs": [
    {
     "name": "stdout",
     "output_type": "stream",
     "text": [
      "Epoch 1/150\n",
      "\u001b[1m250/250\u001b[0m \u001b[32m━━━━━━━━━━━━━━━━━━━━\u001b[0m\u001b[37m\u001b[0m \u001b[1m6s\u001b[0m 7ms/step - R2Score: 0.5658 - loss: 0.4346 - val_R2Score: 0.9217 - val_loss: 0.0769\n",
      "Epoch 2/150\n",
      "\u001b[1m250/250\u001b[0m \u001b[32m━━━━━━━━━━━━━━━━━━━━\u001b[0m\u001b[37m\u001b[0m \u001b[1m2s\u001b[0m 7ms/step - R2Score: 0.8999 - loss: 0.1038 - val_R2Score: 0.9201 - val_loss: 0.0785\n",
      "Epoch 3/150\n",
      "\u001b[1m250/250\u001b[0m \u001b[32m━━━━━━━━━━━━━━━━━━━━\u001b[0m\u001b[37m\u001b[0m \u001b[1m2s\u001b[0m 5ms/step - R2Score: 0.9164 - loss: 0.0836 - val_R2Score: 0.9322 - val_loss: 0.0666\n",
      "Epoch 4/150\n",
      "\u001b[1m250/250\u001b[0m \u001b[32m━━━━━━━━━━━━━━━━━━━━\u001b[0m\u001b[37m\u001b[0m \u001b[1m1s\u001b[0m 5ms/step - R2Score: 0.9166 - loss: 0.0875 - val_R2Score: 0.9556 - val_loss: 0.0436\n",
      "Epoch 5/150\n",
      "\u001b[1m250/250\u001b[0m \u001b[32m━━━━━━━━━━━━━━━━━━━━\u001b[0m\u001b[37m\u001b[0m \u001b[1m1s\u001b[0m 4ms/step - R2Score: 0.9367 - loss: 0.0670 - val_R2Score: 0.9218 - val_loss: 0.0768\n",
      "Epoch 6/150\n",
      "\u001b[1m250/250\u001b[0m \u001b[32m━━━━━━━━━━━━━━━━━━━━\u001b[0m\u001b[37m\u001b[0m \u001b[1m2s\u001b[0m 9ms/step - R2Score: 0.9416 - loss: 0.0570 - val_R2Score: 0.9598 - val_loss: 0.0394\n",
      "Epoch 7/150\n",
      "\u001b[1m250/250\u001b[0m \u001b[32m━━━━━━━━━━━━━━━━━━━━\u001b[0m\u001b[37m\u001b[0m \u001b[1m2s\u001b[0m 6ms/step - R2Score: 0.9298 - loss: 0.0688 - val_R2Score: 0.9503 - val_loss: 0.0488\n",
      "Epoch 8/150\n",
      "\u001b[1m250/250\u001b[0m \u001b[32m━━━━━━━━━━━━━━━━━━━━\u001b[0m\u001b[37m\u001b[0m \u001b[1m1s\u001b[0m 4ms/step - R2Score: 0.9461 - loss: 0.0529 - val_R2Score: 0.9558 - val_loss: 0.0434\n",
      "Epoch 9/150\n",
      "\u001b[1m250/250\u001b[0m \u001b[32m━━━━━━━━━━━━━━━━━━━━\u001b[0m\u001b[37m\u001b[0m \u001b[1m1s\u001b[0m 4ms/step - R2Score: 0.9506 - loss: 0.0465 - val_R2Score: 0.9678 - val_loss: 0.0317\n",
      "Epoch 10/150\n",
      "\u001b[1m250/250\u001b[0m \u001b[32m━━━━━━━━━━━━━━━━━━━━\u001b[0m\u001b[37m\u001b[0m \u001b[1m1s\u001b[0m 5ms/step - R2Score: 0.9425 - loss: 0.0588 - val_R2Score: 0.9501 - val_loss: 0.0490\n",
      "Epoch 11/150\n",
      "\u001b[1m250/250\u001b[0m \u001b[32m━━━━━━━━━━━━━━━━━━━━\u001b[0m\u001b[37m\u001b[0m \u001b[1m1s\u001b[0m 4ms/step - R2Score: 0.9445 - loss: 0.0583 - val_R2Score: 0.9612 - val_loss: 0.0380\n",
      "Epoch 12/150\n",
      "\u001b[1m250/250\u001b[0m \u001b[32m━━━━━━━━━━━━━━━━━━━━\u001b[0m\u001b[37m\u001b[0m \u001b[1m2s\u001b[0m 7ms/step - R2Score: 0.9513 - loss: 0.0480 - val_R2Score: 0.9642 - val_loss: 0.0352\n",
      "Epoch 13/150\n",
      "\u001b[1m250/250\u001b[0m \u001b[32m━━━━━━━━━━━━━━━━━━━━\u001b[0m\u001b[37m\u001b[0m \u001b[1m2s\u001b[0m 8ms/step - R2Score: 0.9447 - loss: 0.0556 - val_R2Score: 0.9716 - val_loss: 0.0278\n",
      "Epoch 14/150\n",
      "\u001b[1m250/250\u001b[0m \u001b[32m━━━━━━━━━━━━━━━━━━━━\u001b[0m\u001b[37m\u001b[0m \u001b[1m1s\u001b[0m 5ms/step - R2Score: 0.9480 - loss: 0.0535 - val_R2Score: 0.9434 - val_loss: 0.0556\n",
      "Epoch 15/150\n",
      "\u001b[1m250/250\u001b[0m \u001b[32m━━━━━━━━━━━━━━━━━━━━\u001b[0m\u001b[37m\u001b[0m \u001b[1m2s\u001b[0m 7ms/step - R2Score: 0.9579 - loss: 0.0420 - val_R2Score: 0.9712 - val_loss: 0.0282\n",
      "Epoch 16/150\n",
      "\u001b[1m250/250\u001b[0m \u001b[32m━━━━━━━━━━━━━━━━━━━━\u001b[0m\u001b[37m\u001b[0m \u001b[1m3s\u001b[0m 7ms/step - R2Score: 0.9653 - loss: 0.0327 - val_R2Score: 0.9512 - val_loss: 0.0479\n",
      "Epoch 17/150\n",
      "\u001b[1m250/250\u001b[0m \u001b[32m━━━━━━━━━━━━━━━━━━━━\u001b[0m\u001b[37m\u001b[0m \u001b[1m3s\u001b[0m 10ms/step - R2Score: 0.9498 - loss: 0.0538 - val_R2Score: 0.9578 - val_loss: 0.0414\n",
      "Epoch 18/150\n",
      "\u001b[1m250/250\u001b[0m \u001b[32m━━━━━━━━━━━━━━━━━━━━\u001b[0m\u001b[37m\u001b[0m \u001b[1m2s\u001b[0m 8ms/step - R2Score: 0.9582 - loss: 0.0451 - val_R2Score: 0.9738 - val_loss: 0.0257\n",
      "Epoch 19/150\n",
      "\u001b[1m250/250\u001b[0m \u001b[32m━━━━━━━━━━━━━━━━━━━━\u001b[0m\u001b[37m\u001b[0m \u001b[1m3s\u001b[0m 10ms/step - R2Score: 0.9482 - loss: 0.0509 - val_R2Score: 0.9754 - val_loss: 0.0242\n",
      "Epoch 20/150\n",
      "\u001b[1m250/250\u001b[0m \u001b[32m━━━━━━━━━━━━━━━━━━━━\u001b[0m\u001b[37m\u001b[0m \u001b[1m5s\u001b[0m 9ms/step - R2Score: 0.9583 - loss: 0.0422 - val_R2Score: 0.9761 - val_loss: 0.0235\n",
      "Epoch 21/150\n",
      "\u001b[1m250/250\u001b[0m \u001b[32m━━━━━━━━━━━━━━━━━━━━\u001b[0m\u001b[37m\u001b[0m \u001b[1m3s\u001b[0m 11ms/step - R2Score: 0.9561 - loss: 0.0427 - val_R2Score: 0.9577 - val_loss: 0.0415\n",
      "Epoch 22/150\n",
      "\u001b[1m250/250\u001b[0m \u001b[32m━━━━━━━━━━━━━━━━━━━━\u001b[0m\u001b[37m\u001b[0m \u001b[1m5s\u001b[0m 9ms/step - R2Score: 0.9572 - loss: 0.0428 - val_R2Score: 0.9749 - val_loss: 0.0247\n",
      "Epoch 23/150\n",
      "\u001b[1m250/250\u001b[0m \u001b[32m━━━━━━━━━━━━━━━━━━━━\u001b[0m\u001b[37m\u001b[0m \u001b[1m2s\u001b[0m 9ms/step - R2Score: 0.9630 - loss: 0.0377 - val_R2Score: 0.9764 - val_loss: 0.0231\n",
      "Epoch 24/150\n",
      "\u001b[1m250/250\u001b[0m \u001b[32m━━━━━━━━━━━━━━━━━━━━\u001b[0m\u001b[37m\u001b[0m \u001b[1m2s\u001b[0m 8ms/step - R2Score: 0.9658 - loss: 0.0369 - val_R2Score: 0.9773 - val_loss: 0.0223\n",
      "Epoch 25/150\n",
      "\u001b[1m250/250\u001b[0m \u001b[32m━━━━━━━━━━━━━━━━━━━━\u001b[0m\u001b[37m\u001b[0m \u001b[1m2s\u001b[0m 6ms/step - R2Score: 0.9583 - loss: 0.0431 - val_R2Score: 0.9757 - val_loss: 0.0238\n",
      "Epoch 26/150\n",
      "\u001b[1m250/250\u001b[0m \u001b[32m━━━━━━━━━━━━━━━━━━━━\u001b[0m\u001b[37m\u001b[0m \u001b[1m1s\u001b[0m 5ms/step - R2Score: 0.9602 - loss: 0.0401 - val_R2Score: 0.9675 - val_loss: 0.0319\n",
      "Epoch 27/150\n",
      "\u001b[1m250/250\u001b[0m \u001b[32m━━━━━━━━━━━━━━━━━━━━\u001b[0m\u001b[37m\u001b[0m \u001b[1m1s\u001b[0m 5ms/step - R2Score: 0.9685 - loss: 0.0265 - val_R2Score: 0.9514 - val_loss: 0.0477\n",
      "Epoch 28/150\n",
      "\u001b[1m250/250\u001b[0m \u001b[32m━━━━━━━━━━━━━━━━━━━━\u001b[0m\u001b[37m\u001b[0m \u001b[1m2s\u001b[0m 6ms/step - R2Score: 0.9645 - loss: 0.0367 - val_R2Score: 0.9740 - val_loss: 0.0255\n",
      "Epoch 29/150\n",
      "\u001b[1m250/250\u001b[0m \u001b[32m━━━━━━━━━━━━━━━━━━━━\u001b[0m\u001b[37m\u001b[0m \u001b[1m2s\u001b[0m 6ms/step - R2Score: 0.9595 - loss: 0.0442 - val_R2Score: 0.9634 - val_loss: 0.0359\n",
      "Epoch 30/150\n",
      "\u001b[1m250/250\u001b[0m \u001b[32m━━━━━━━━━━━━━━━━━━━━\u001b[0m\u001b[37m\u001b[0m \u001b[1m1s\u001b[0m 5ms/step - R2Score: 0.9599 - loss: 0.0427 - val_R2Score: 0.9647 - val_loss: 0.0346\n",
      "Epoch 31/150\n",
      "\u001b[1m250/250\u001b[0m \u001b[32m━━━━━━━━━━━━━━━━━━━━\u001b[0m\u001b[37m\u001b[0m \u001b[1m1s\u001b[0m 5ms/step - R2Score: 0.9620 - loss: 0.0392 - val_R2Score: 0.9768 - val_loss: 0.0227\n",
      "Epoch 32/150\n",
      "\u001b[1m250/250\u001b[0m \u001b[32m━━━━━━━━━━━━━━━━━━━━\u001b[0m\u001b[37m\u001b[0m \u001b[1m3s\u001b[0m 7ms/step - R2Score: 0.9667 - loss: 0.0343 - val_R2Score: 0.9738 - val_loss: 0.0257\n",
      "Epoch 33/150\n",
      "\u001b[1m250/250\u001b[0m \u001b[32m━━━━━━━━━━━━━━━━━━━━\u001b[0m\u001b[37m\u001b[0m \u001b[1m2s\u001b[0m 7ms/step - R2Score: 0.9654 - loss: 0.0356 - val_R2Score: 0.9753 - val_loss: 0.0242\n",
      "Epoch 34/150\n",
      "\u001b[1m250/250\u001b[0m \u001b[32m━━━━━━━━━━━━━━━━━━━━\u001b[0m\u001b[37m\u001b[0m \u001b[1m2s\u001b[0m 5ms/step - R2Score: 0.9680 - loss: 0.0327 - val_R2Score: 0.9536 - val_loss: 0.0456\n",
      "Epoch 35/150\n",
      "\u001b[1m250/250\u001b[0m \u001b[32m━━━━━━━━━━━━━━━━━━━━\u001b[0m\u001b[37m\u001b[0m \u001b[1m1s\u001b[0m 5ms/step - R2Score: 0.9702 - loss: 0.0278 - val_R2Score: 0.9798 - val_loss: 0.0198\n",
      "Epoch 36/150\n",
      "\u001b[1m250/250\u001b[0m \u001b[32m━━━━━━━━━━━━━━━━━━━━\u001b[0m\u001b[37m\u001b[0m \u001b[1m1s\u001b[0m 5ms/step - R2Score: 0.9652 - loss: 0.0329 - val_R2Score: 0.9785 - val_loss: 0.0211\n",
      "Epoch 37/150\n",
      "\u001b[1m250/250\u001b[0m \u001b[32m━━━━━━━━━━━━━━━━━━━━\u001b[0m\u001b[37m\u001b[0m \u001b[1m3s\u001b[0m 6ms/step - R2Score: 0.9651 - loss: 0.0344 - val_R2Score: 0.9767 - val_loss: 0.0229\n",
      "Epoch 38/150\n",
      "\u001b[1m250/250\u001b[0m \u001b[32m━━━━━━━━━━━━━━━━━━━━\u001b[0m\u001b[37m\u001b[0m \u001b[1m1s\u001b[0m 5ms/step - R2Score: 0.9572 - loss: 0.0432 - val_R2Score: 0.9828 - val_loss: 0.0169\n",
      "Epoch 39/150\n",
      "\u001b[1m250/250\u001b[0m \u001b[32m━━━━━━━━━━━━━━━━━━━━\u001b[0m\u001b[37m\u001b[0m \u001b[1m1s\u001b[0m 5ms/step - R2Score: 0.9670 - loss: 0.0332 - val_R2Score: 0.9705 - val_loss: 0.0290\n",
      "Epoch 40/150\n",
      "\u001b[1m250/250\u001b[0m \u001b[32m━━━━━━━━━━━━━━━━━━━━\u001b[0m\u001b[37m\u001b[0m \u001b[1m1s\u001b[0m 6ms/step - R2Score: 0.9670 - loss: 0.0355 - val_R2Score: 0.9831 - val_loss: 0.0166\n",
      "Epoch 41/150\n",
      "\u001b[1m250/250\u001b[0m \u001b[32m━━━━━━━━━━━━━━━━━━━━\u001b[0m\u001b[37m\u001b[0m \u001b[1m3s\u001b[0m 5ms/step - R2Score: 0.9645 - loss: 0.0359 - val_R2Score: 0.9825 - val_loss: 0.0172\n",
      "Epoch 42/150\n",
      "\u001b[1m250/250\u001b[0m \u001b[32m━━━━━━━━━━━━━━━━━━━━\u001b[0m\u001b[37m\u001b[0m \u001b[1m2s\u001b[0m 6ms/step - R2Score: 0.9751 - loss: 0.0250 - val_R2Score: 0.9334 - val_loss: 0.0654\n",
      "Epoch 43/150\n",
      "\u001b[1m250/250\u001b[0m \u001b[32m━━━━━━━━━━━━━━━━━━━━\u001b[0m\u001b[37m\u001b[0m \u001b[1m3s\u001b[0m 6ms/step - R2Score: 0.9570 - loss: 0.0428 - val_R2Score: 0.9757 - val_loss: 0.0239\n",
      "Epoch 44/150\n",
      "\u001b[1m250/250\u001b[0m \u001b[32m━━━━━━━━━━━━━━━━━━━━\u001b[0m\u001b[37m\u001b[0m \u001b[1m2s\u001b[0m 5ms/step - R2Score: 0.9667 - loss: 0.0333 - val_R2Score: 0.9654 - val_loss: 0.0339\n",
      "Epoch 45/150\n",
      "\u001b[1m250/250\u001b[0m \u001b[32m━━━━━━━━━━━━━━━━━━━━\u001b[0m\u001b[37m\u001b[0m \u001b[1m1s\u001b[0m 5ms/step - R2Score: 0.9732 - loss: 0.0289 - val_R2Score: 0.9808 - val_loss: 0.0188\n",
      "Epoch 46/150\n",
      "\u001b[1m250/250\u001b[0m \u001b[32m━━━━━━━━━━━━━━━━━━━━\u001b[0m\u001b[37m\u001b[0m \u001b[1m1s\u001b[0m 5ms/step - R2Score: 0.9699 - loss: 0.0308 - val_R2Score: 0.9806 - val_loss: 0.0190\n",
      "Epoch 47/150\n",
      "\u001b[1m250/250\u001b[0m \u001b[32m━━━━━━━━━━━━━━━━━━━━\u001b[0m\u001b[37m\u001b[0m \u001b[1m2s\u001b[0m 6ms/step - R2Score: 0.9709 - loss: 0.0307 - val_R2Score: 0.9663 - val_loss: 0.0331\n",
      "Epoch 48/150\n",
      "\u001b[1m250/250\u001b[0m \u001b[32m━━━━━━━━━━━━━━━━━━━━\u001b[0m\u001b[37m\u001b[0m \u001b[1m2s\u001b[0m 5ms/step - R2Score: 0.9721 - loss: 0.0278 - val_R2Score: 0.9739 - val_loss: 0.0256\n",
      "Epoch 49/150\n",
      "\u001b[1m250/250\u001b[0m \u001b[32m━━━━━━━━━━━━━━━━━━━━\u001b[0m\u001b[37m\u001b[0m \u001b[1m1s\u001b[0m 5ms/step - R2Score: 0.9756 - loss: 0.0244 - val_R2Score: 0.9642 - val_loss: 0.0352\n",
      "Epoch 50/150\n",
      "\u001b[1m250/250\u001b[0m \u001b[32m━━━━━━━━━━━━━━━━━━━━\u001b[0m\u001b[37m\u001b[0m \u001b[1m1s\u001b[0m 5ms/step - R2Score: 0.9693 - loss: 0.0305 - val_R2Score: 0.9803 - val_loss: 0.0193\n",
      "Epoch 51/150\n",
      "\u001b[1m250/250\u001b[0m \u001b[32m━━━━━━━━━━━━━━━━━━━━\u001b[0m\u001b[37m\u001b[0m \u001b[1m1s\u001b[0m 5ms/step - R2Score: 0.9714 - loss: 0.0297 - val_R2Score: 0.9743 - val_loss: 0.0253\n",
      "Epoch 52/150\n",
      "\u001b[1m250/250\u001b[0m \u001b[32m━━━━━━━━━━━━━━━━━━━━\u001b[0m\u001b[37m\u001b[0m \u001b[1m2s\u001b[0m 7ms/step - R2Score: 0.9706 - loss: 0.0309 - val_R2Score: 0.9832 - val_loss: 0.0165\n",
      "Epoch 53/150\n",
      "\u001b[1m250/250\u001b[0m \u001b[32m━━━━━━━━━━━━━━━━━━━━\u001b[0m\u001b[37m\u001b[0m \u001b[1m1s\u001b[0m 6ms/step - R2Score: 0.9752 - loss: 0.0245 - val_R2Score: 0.9841 - val_loss: 0.0156\n",
      "Epoch 54/150\n",
      "\u001b[1m250/250\u001b[0m \u001b[32m━━━━━━━━━━━━━━━━━━━━\u001b[0m\u001b[37m\u001b[0m \u001b[1m3s\u001b[0m 6ms/step - R2Score: 0.9739 - loss: 0.0254 - val_R2Score: 0.9824 - val_loss: 0.0172\n",
      "Epoch 55/150\n",
      "\u001b[1m250/250\u001b[0m \u001b[32m━━━━━━━━━━━━━━━━━━━━\u001b[0m\u001b[37m\u001b[0m \u001b[1m1s\u001b[0m 6ms/step - R2Score: 0.9768 - loss: 0.0228 - val_R2Score: 0.9661 - val_loss: 0.0333\n",
      "Epoch 56/150\n",
      "\u001b[1m250/250\u001b[0m \u001b[32m━━━━━━━━━━━━━━━━━━━━\u001b[0m\u001b[37m\u001b[0m \u001b[1m2s\u001b[0m 6ms/step - R2Score: 0.9640 - loss: 0.0374 - val_R2Score: 0.9822 - val_loss: 0.0175\n",
      "Epoch 57/150\n",
      "\u001b[1m250/250\u001b[0m \u001b[32m━━━━━━━━━━━━━━━━━━━━\u001b[0m\u001b[37m\u001b[0m \u001b[1m2s\u001b[0m 7ms/step - R2Score: 0.9686 - loss: 0.0334 - val_R2Score: 0.9771 - val_loss: 0.0224\n",
      "Epoch 58/150\n",
      "\u001b[1m250/250\u001b[0m \u001b[32m━━━━━━━━━━━━━━━━━━━━\u001b[0m\u001b[37m\u001b[0m \u001b[1m1s\u001b[0m 5ms/step - R2Score: 0.9717 - loss: 0.0277 - val_R2Score: 0.9763 - val_loss: 0.0233\n",
      "Epoch 59/150\n",
      "\u001b[1m250/250\u001b[0m \u001b[32m━━━━━━━━━━━━━━━━━━━━\u001b[0m\u001b[37m\u001b[0m \u001b[1m1s\u001b[0m 5ms/step - R2Score: 0.9725 - loss: 0.0247 - val_R2Score: 0.9813 - val_loss: 0.0184\n",
      "Epoch 60/150\n",
      "\u001b[1m250/250\u001b[0m \u001b[32m━━━━━━━━━━━━━━━━━━━━\u001b[0m\u001b[37m\u001b[0m \u001b[1m1s\u001b[0m 5ms/step - R2Score: 0.9736 - loss: 0.0274 - val_R2Score: 0.9822 - val_loss: 0.0175\n",
      "Epoch 61/150\n",
      "\u001b[1m250/250\u001b[0m \u001b[32m━━━━━━━━━━━━━━━━━━━━\u001b[0m\u001b[37m\u001b[0m \u001b[1m2s\u001b[0m 7ms/step - R2Score: 0.9723 - loss: 0.0299 - val_R2Score: 0.9831 - val_loss: 0.0166\n",
      "Epoch 62/150\n",
      "\u001b[1m250/250\u001b[0m \u001b[32m━━━━━━━━━━━━━━━━━━━━\u001b[0m\u001b[37m\u001b[0m \u001b[1m2s\u001b[0m 7ms/step - R2Score: 0.9782 - loss: 0.0215 - val_R2Score: 0.9796 - val_loss: 0.0201\n",
      "Epoch 63/150\n",
      "\u001b[1m250/250\u001b[0m \u001b[32m━━━━━━━━━━━━━━━━━━━━\u001b[0m\u001b[37m\u001b[0m \u001b[1m2s\u001b[0m 6ms/step - R2Score: 0.9753 - loss: 0.0255 - val_R2Score: 0.9821 - val_loss: 0.0176\n",
      "Epoch 64/150\n",
      "\u001b[1m250/250\u001b[0m \u001b[32m━━━━━━━━━━━━━━━━━━━━\u001b[0m\u001b[37m\u001b[0m \u001b[1m2s\u001b[0m 7ms/step - R2Score: 0.9732 - loss: 0.0269 - val_R2Score: 0.9783 - val_loss: 0.0213\n",
      "Epoch 65/150\n",
      "\u001b[1m250/250\u001b[0m \u001b[32m━━━━━━━━━━━━━━━━━━━━\u001b[0m\u001b[37m\u001b[0m \u001b[1m2s\u001b[0m 7ms/step - R2Score: 0.9774 - loss: 0.0219 - val_R2Score: 0.9785 - val_loss: 0.0212\n",
      "Epoch 66/150\n",
      "\u001b[1m250/250\u001b[0m \u001b[32m━━━━━━━━━━━━━━━━━━━━\u001b[0m\u001b[37m\u001b[0m \u001b[1m2s\u001b[0m 7ms/step - R2Score: 0.9796 - loss: 0.0215 - val_R2Score: 0.9763 - val_loss: 0.0233\n",
      "Epoch 67/150\n",
      "\u001b[1m250/250\u001b[0m \u001b[32m━━━━━━━━━━━━━━━━━━━━\u001b[0m\u001b[37m\u001b[0m \u001b[1m2s\u001b[0m 6ms/step - R2Score: 0.9762 - loss: 0.0222 - val_R2Score: 0.9809 - val_loss: 0.0187\n",
      "Epoch 68/150\n",
      "\u001b[1m250/250\u001b[0m \u001b[32m━━━━━━━━━━━━━━━━━━━━\u001b[0m\u001b[37m\u001b[0m \u001b[1m3s\u001b[0m 8ms/step - R2Score: 0.9736 - loss: 0.0248 - val_R2Score: 0.9808 - val_loss: 0.0189\n",
      "Epoch 69/150\n",
      "\u001b[1m250/250\u001b[0m \u001b[32m━━━━━━━━━━━━━━━━━━━━\u001b[0m\u001b[37m\u001b[0m \u001b[1m2s\u001b[0m 6ms/step - R2Score: 0.9763 - loss: 0.0217 - val_R2Score: 0.9807 - val_loss: 0.0190\n",
      "Epoch 70/150\n",
      "\u001b[1m250/250\u001b[0m \u001b[32m━━━━━━━━━━━━━━━━━━━━\u001b[0m\u001b[37m\u001b[0m \u001b[1m3s\u001b[0m 7ms/step - R2Score: 0.9706 - loss: 0.0297 - val_R2Score: 0.9810 - val_loss: 0.0186\n",
      "Epoch 71/150\n",
      "\u001b[1m250/250\u001b[0m \u001b[32m━━━━━━━━━━━━━━━━━━━━\u001b[0m\u001b[37m\u001b[0m \u001b[1m2s\u001b[0m 7ms/step - R2Score: 0.9746 - loss: 0.0258 - val_R2Score: 0.9776 - val_loss: 0.0220\n",
      "Epoch 72/150\n",
      "\u001b[1m250/250\u001b[0m \u001b[32m━━━━━━━━━━━━━━━━━━━━\u001b[0m\u001b[37m\u001b[0m \u001b[1m2s\u001b[0m 6ms/step - R2Score: 0.9799 - loss: 0.0210 - val_R2Score: 0.9804 - val_loss: 0.0192\n",
      "Epoch 73/150\n",
      "\u001b[1m250/250\u001b[0m \u001b[32m━━━━━━━━━━━━━━━━━━━━\u001b[0m\u001b[37m\u001b[0m \u001b[1m3s\u001b[0m 6ms/step - R2Score: 0.9754 - loss: 0.0247 - val_R2Score: 0.9811 - val_loss: 0.0186\n",
      "Epoch 74/150\n",
      "\u001b[1m250/250\u001b[0m \u001b[32m━━━━━━━━━━━━━━━━━━━━\u001b[0m\u001b[37m\u001b[0m \u001b[1m2s\u001b[0m 7ms/step - R2Score: 0.9774 - loss: 0.0233 - val_R2Score: 0.9823 - val_loss: 0.0174\n",
      "Epoch 75/150\n",
      "\u001b[1m250/250\u001b[0m \u001b[32m━━━━━━━━━━━━━━━━━━━━\u001b[0m\u001b[37m\u001b[0m \u001b[1m1s\u001b[0m 5ms/step - R2Score: 0.9787 - loss: 0.0205 - val_R2Score: 0.9819 - val_loss: 0.0178\n",
      "Epoch 76/150\n",
      "\u001b[1m250/250\u001b[0m \u001b[32m━━━━━━━━━━━━━━━━━━━━\u001b[0m\u001b[37m\u001b[0m \u001b[1m1s\u001b[0m 6ms/step - R2Score: 0.9745 - loss: 0.0250 - val_R2Score: 0.9801 - val_loss: 0.0195\n",
      "Epoch 77/150\n",
      "\u001b[1m250/250\u001b[0m \u001b[32m━━━━━━━━━━━━━━━━━━━━\u001b[0m\u001b[37m\u001b[0m \u001b[1m3s\u001b[0m 8ms/step - R2Score: 0.9773 - loss: 0.0245 - val_R2Score: 0.9829 - val_loss: 0.0168\n",
      "Epoch 78/150\n",
      "\u001b[1m250/250\u001b[0m \u001b[32m━━━━━━━━━━━━━━━━━━━━\u001b[0m\u001b[37m\u001b[0m \u001b[1m1s\u001b[0m 5ms/step - R2Score: 0.9783 - loss: 0.0223 - val_R2Score: 0.9791 - val_loss: 0.0205\n",
      "Epoch 79/150\n",
      "\u001b[1m250/250\u001b[0m \u001b[32m━━━━━━━━━━━━━━━━━━━━\u001b[0m\u001b[37m\u001b[0m \u001b[1m3s\u001b[0m 12ms/step - R2Score: 0.9774 - loss: 0.0219 - val_R2Score: 0.9800 - val_loss: 0.0196\n",
      "Epoch 80/150\n",
      "\u001b[1m250/250\u001b[0m \u001b[32m━━━━━━━━━━━━━━━━━━━━\u001b[0m\u001b[37m\u001b[0m \u001b[1m4s\u001b[0m 5ms/step - R2Score: 0.9780 - loss: 0.0234 - val_R2Score: 0.9805 - val_loss: 0.0192\n",
      "Epoch 81/150\n",
      "\u001b[1m250/250\u001b[0m \u001b[32m━━━━━━━━━━━━━━━━━━━━\u001b[0m\u001b[37m\u001b[0m \u001b[1m1s\u001b[0m 6ms/step - R2Score: 0.9774 - loss: 0.0221 - val_R2Score: 0.9825 - val_loss: 0.0172\n",
      "Epoch 82/150\n",
      "\u001b[1m250/250\u001b[0m \u001b[32m━━━━━━━━━━━━━━━━━━━━\u001b[0m\u001b[37m\u001b[0m \u001b[1m1s\u001b[0m 5ms/step - R2Score: 0.9806 - loss: 0.0192 - val_R2Score: 0.9669 - val_loss: 0.0325\n",
      "Epoch 83/150\n",
      "\u001b[1m250/250\u001b[0m \u001b[32m━━━━━━━━━━━━━━━━━━━━\u001b[0m\u001b[37m\u001b[0m \u001b[1m3s\u001b[0m 5ms/step - R2Score: 0.9773 - loss: 0.0232 - val_R2Score: 0.9767 - val_loss: 0.0229\n",
      "Epoch 84/150\n",
      "\u001b[1m250/250\u001b[0m \u001b[32m━━━━━━━━━━━━━━━━━━━━\u001b[0m\u001b[37m\u001b[0m \u001b[1m1s\u001b[0m 4ms/step - R2Score: 0.9732 - loss: 0.0269 - val_R2Score: 0.9812 - val_loss: 0.0185\n",
      "Epoch 85/150\n",
      "\u001b[1m250/250\u001b[0m \u001b[32m━━━━━━━━━━━━━━━━━━━━\u001b[0m\u001b[37m\u001b[0m \u001b[1m2s\u001b[0m 6ms/step - R2Score: 0.9784 - loss: 0.0192 - val_R2Score: 0.9818 - val_loss: 0.0179\n",
      "Epoch 86/150\n",
      "\u001b[1m250/250\u001b[0m \u001b[32m━━━━━━━━━━━━━━━━━━━━\u001b[0m\u001b[37m\u001b[0m \u001b[1m1s\u001b[0m 5ms/step - R2Score: 0.9740 - loss: 0.0264 - val_R2Score: 0.9806 - val_loss: 0.0191\n",
      "Epoch 87/150\n",
      "\u001b[1m250/250\u001b[0m \u001b[32m━━━━━━━━━━━━━━━━━━━━\u001b[0m\u001b[37m\u001b[0m \u001b[1m2s\u001b[0m 6ms/step - R2Score: 0.9756 - loss: 0.0245 - val_R2Score: 0.9795 - val_loss: 0.0201\n",
      "Epoch 88/150\n",
      "\u001b[1m250/250\u001b[0m \u001b[32m━━━━━━━━━━━━━━━━━━━━\u001b[0m\u001b[37m\u001b[0m \u001b[1m1s\u001b[0m 5ms/step - R2Score: 0.9716 - loss: 0.0307 - val_R2Score: 0.9795 - val_loss: 0.0201\n",
      "Epoch 89/150\n",
      "\u001b[1m250/250\u001b[0m \u001b[32m━━━━━━━━━━━━━━━━━━━━\u001b[0m\u001b[37m\u001b[0m \u001b[1m1s\u001b[0m 5ms/step - R2Score: 0.9814 - loss: 0.0178 - val_R2Score: 0.9713 - val_loss: 0.0282\n",
      "Epoch 90/150\n",
      "\u001b[1m250/250\u001b[0m \u001b[32m━━━━━━━━━━━━━━━━━━━━\u001b[0m\u001b[37m\u001b[0m \u001b[1m1s\u001b[0m 6ms/step - R2Score: 0.9758 - loss: 0.0247 - val_R2Score: 0.9799 - val_loss: 0.0198\n",
      "Epoch 91/150\n",
      "\u001b[1m250/250\u001b[0m \u001b[32m━━━━━━━━━━━━━━━━━━━━\u001b[0m\u001b[37m\u001b[0m \u001b[1m3s\u001b[0m 7ms/step - R2Score: 0.9766 - loss: 0.0206 - val_R2Score: 0.9782 - val_loss: 0.0214\n",
      "Epoch 92/150\n",
      "\u001b[1m250/250\u001b[0m \u001b[32m━━━━━━━━━━━━━━━━━━━━\u001b[0m\u001b[37m\u001b[0m \u001b[1m1s\u001b[0m 5ms/step - R2Score: 0.9834 - loss: 0.0175 - val_R2Score: 0.9527 - val_loss: 0.0464\n",
      "Epoch 93/150\n",
      "\u001b[1m250/250\u001b[0m \u001b[32m━━━━━━━━━━━━━━━━━━━━\u001b[0m\u001b[37m\u001b[0m \u001b[1m1s\u001b[0m 5ms/step - R2Score: 0.9682 - loss: 0.0294 - val_R2Score: 0.9761 - val_loss: 0.0235\n",
      "Epoch 94/150\n",
      "\u001b[1m250/250\u001b[0m \u001b[32m━━━━━━━━━━━━━━━━━━━━\u001b[0m\u001b[37m\u001b[0m \u001b[1m2s\u001b[0m 6ms/step - R2Score: 0.9800 - loss: 0.0214 - val_R2Score: 0.9818 - val_loss: 0.0179\n",
      "Epoch 95/150\n",
      "\u001b[1m250/250\u001b[0m \u001b[32m━━━━━━━━━━━━━━━━━━━━\u001b[0m\u001b[37m\u001b[0m \u001b[1m3s\u001b[0m 7ms/step - R2Score: 0.9736 - loss: 0.0294 - val_R2Score: 0.9822 - val_loss: 0.0175\n",
      "Epoch 96/150\n",
      "\u001b[1m250/250\u001b[0m \u001b[32m━━━━━━━━━━━━━━━━━━━━\u001b[0m\u001b[37m\u001b[0m \u001b[1m1s\u001b[0m 5ms/step - R2Score: 0.9834 - loss: 0.0182 - val_R2Score: 0.9804 - val_loss: 0.0192\n",
      "Epoch 97/150\n",
      "\u001b[1m250/250\u001b[0m \u001b[32m━━━━━━━━━━━━━━━━━━━━\u001b[0m\u001b[37m\u001b[0m \u001b[1m2s\u001b[0m 6ms/step - R2Score: 0.9801 - loss: 0.0200 - val_R2Score: 0.9844 - val_loss: 0.0153\n",
      "Epoch 98/150\n",
      "\u001b[1m250/250\u001b[0m \u001b[32m━━━━━━━━━━━━━━━━━━━━\u001b[0m\u001b[37m\u001b[0m \u001b[1m1s\u001b[0m 5ms/step - R2Score: 0.9818 - loss: 0.0171 - val_R2Score: 0.9785 - val_loss: 0.0211\n",
      "Epoch 99/150\n",
      "\u001b[1m250/250\u001b[0m \u001b[32m━━━━━━━━━━━━━━━━━━━━\u001b[0m\u001b[37m\u001b[0m \u001b[1m1s\u001b[0m 5ms/step - R2Score: 0.9797 - loss: 0.0195 - val_R2Score: 0.9796 - val_loss: 0.0200\n",
      "Epoch 100/150\n",
      "\u001b[1m250/250\u001b[0m \u001b[32m━━━━━━━━━━━━━━━━━━━━\u001b[0m\u001b[37m\u001b[0m \u001b[1m1s\u001b[0m 6ms/step - R2Score: 0.9811 - loss: 0.0192 - val_R2Score: 0.9741 - val_loss: 0.0254\n",
      "Epoch 101/150\n",
      "\u001b[1m250/250\u001b[0m \u001b[32m━━━━━━━━━━━━━━━━━━━━\u001b[0m\u001b[37m\u001b[0m \u001b[1m3s\u001b[0m 5ms/step - R2Score: 0.9837 - loss: 0.0160 - val_R2Score: 0.9834 - val_loss: 0.0163\n",
      "Epoch 102/150\n",
      "\u001b[1m250/250\u001b[0m \u001b[32m━━━━━━━━━━━━━━━━━━━━\u001b[0m\u001b[37m\u001b[0m \u001b[1m1s\u001b[0m 5ms/step - R2Score: 0.9826 - loss: 0.0170 - val_R2Score: 0.9819 - val_loss: 0.0178\n",
      "Epoch 103/150\n",
      "\u001b[1m250/250\u001b[0m \u001b[32m━━━━━━━━━━━━━━━━━━━━\u001b[0m\u001b[37m\u001b[0m \u001b[1m1s\u001b[0m 5ms/step - R2Score: 0.9831 - loss: 0.0175 - val_R2Score: 0.9821 - val_loss: 0.0175\n",
      "Epoch 104/150\n",
      "\u001b[1m250/250\u001b[0m \u001b[32m━━━━━━━━━━━━━━━━━━━━\u001b[0m\u001b[37m\u001b[0m \u001b[1m1s\u001b[0m 5ms/step - R2Score: 0.9820 - loss: 0.0192 - val_R2Score: 0.9825 - val_loss: 0.0172\n",
      "Epoch 105/150\n",
      "\u001b[1m250/250\u001b[0m \u001b[32m━━━━━━━━━━━━━━━━━━━━\u001b[0m\u001b[37m\u001b[0m \u001b[1m2s\u001b[0m 7ms/step - R2Score: 0.9769 - loss: 0.0231 - val_R2Score: 0.9815 - val_loss: 0.0182\n",
      "Epoch 106/150\n",
      "\u001b[1m250/250\u001b[0m \u001b[32m━━━━━━━━━━━━━━━━━━━━\u001b[0m\u001b[37m\u001b[0m \u001b[1m1s\u001b[0m 5ms/step - R2Score: 0.9817 - loss: 0.0172 - val_R2Score: 0.9806 - val_loss: 0.0190\n",
      "Epoch 107/150\n",
      "\u001b[1m250/250\u001b[0m \u001b[32m━━━━━━━━━━━━━━━━━━━━\u001b[0m\u001b[37m\u001b[0m \u001b[1m1s\u001b[0m 5ms/step - R2Score: 0.9748 - loss: 0.0237 - val_R2Score: 0.9768 - val_loss: 0.0228\n",
      "Epoch 108/150\n",
      "\u001b[1m250/250\u001b[0m \u001b[32m━━━━━━━━━━━━━━━━━━━━\u001b[0m\u001b[37m\u001b[0m \u001b[1m1s\u001b[0m 5ms/step - R2Score: 0.9793 - loss: 0.0216 - val_R2Score: 0.9698 - val_loss: 0.0296\n",
      "Epoch 109/150\n",
      "\u001b[1m250/250\u001b[0m \u001b[32m━━━━━━━━━━━━━━━━━━━━\u001b[0m\u001b[37m\u001b[0m \u001b[1m2s\u001b[0m 6ms/step - R2Score: 0.9812 - loss: 0.0180 - val_R2Score: 0.9832 - val_loss: 0.0165\n",
      "Epoch 110/150\n",
      "\u001b[1m250/250\u001b[0m \u001b[32m━━━━━━━━━━━━━━━━━━━━\u001b[0m\u001b[37m\u001b[0m \u001b[1m2s\u001b[0m 5ms/step - R2Score: 0.9814 - loss: 0.0169 - val_R2Score: 0.9825 - val_loss: 0.0172\n",
      "Epoch 111/150\n",
      "\u001b[1m250/250\u001b[0m \u001b[32m━━━━━━━━━━━━━━━━━━━━\u001b[0m\u001b[37m\u001b[0m \u001b[1m3s\u001b[0m 5ms/step - R2Score: 0.9773 - loss: 0.0210 - val_R2Score: 0.9598 - val_loss: 0.0394\n",
      "Epoch 112/150\n",
      "\u001b[1m250/250\u001b[0m \u001b[32m━━━━━━━━━━━━━━━━━━━━\u001b[0m\u001b[37m\u001b[0m \u001b[1m1s\u001b[0m 5ms/step - R2Score: 0.9779 - loss: 0.0208 - val_R2Score: 0.9788 - val_loss: 0.0208\n",
      "Epoch 113/150\n",
      "\u001b[1m250/250\u001b[0m \u001b[32m━━━━━━━━━━━━━━━━━━━━\u001b[0m\u001b[37m\u001b[0m \u001b[1m3s\u001b[0m 5ms/step - R2Score: 0.9861 - loss: 0.0127 - val_R2Score: 0.9804 - val_loss: 0.0193\n",
      "Epoch 114/150\n",
      "\u001b[1m250/250\u001b[0m \u001b[32m━━━━━━━━━━━━━━━━━━━━\u001b[0m\u001b[37m\u001b[0m \u001b[1m1s\u001b[0m 5ms/step - R2Score: 0.9816 - loss: 0.0172 - val_R2Score: 0.9844 - val_loss: 0.0154\n",
      "Epoch 115/150\n",
      "\u001b[1m250/250\u001b[0m \u001b[32m━━━━━━━━━━━━━━━━━━━━\u001b[0m\u001b[37m\u001b[0m \u001b[1m1s\u001b[0m 5ms/step - R2Score: 0.9780 - loss: 0.0212 - val_R2Score: 0.9788 - val_loss: 0.0208\n",
      "Epoch 116/150\n",
      "\u001b[1m250/250\u001b[0m \u001b[32m━━━━━━━━━━━━━━━━━━━━\u001b[0m\u001b[37m\u001b[0m \u001b[1m2s\u001b[0m 6ms/step - R2Score: 0.9840 - loss: 0.0167 - val_R2Score: 0.9698 - val_loss: 0.0297\n",
      "Epoch 117/150\n",
      "\u001b[1m250/250\u001b[0m \u001b[32m━━━━━━━━━━━━━━━━━━━━\u001b[0m\u001b[37m\u001b[0m \u001b[1m2s\u001b[0m 5ms/step - R2Score: 0.9851 - loss: 0.0142 - val_R2Score: 0.9793 - val_loss: 0.0203\n",
      "Epoch 118/150\n",
      "\u001b[1m250/250\u001b[0m \u001b[32m━━━━━━━━━━━━━━━━━━━━\u001b[0m\u001b[37m\u001b[0m \u001b[1m3s\u001b[0m 5ms/step - R2Score: 0.9825 - loss: 0.0187 - val_R2Score: 0.9768 - val_loss: 0.0228\n",
      "Epoch 119/150\n",
      "\u001b[1m250/250\u001b[0m \u001b[32m━━━━━━━━━━━━━━━━━━━━\u001b[0m\u001b[37m\u001b[0m \u001b[1m3s\u001b[0m 7ms/step - R2Score: 0.9834 - loss: 0.0165 - val_R2Score: 0.9827 - val_loss: 0.0170\n",
      "Epoch 120/150\n",
      "\u001b[1m250/250\u001b[0m \u001b[32m━━━━━━━━━━━━━━━━━━━━\u001b[0m\u001b[37m\u001b[0m \u001b[1m2s\u001b[0m 5ms/step - R2Score: 0.9835 - loss: 0.0175 - val_R2Score: 0.9805 - val_loss: 0.0192\n",
      "Epoch 121/150\n",
      "\u001b[1m250/250\u001b[0m \u001b[32m━━━━━━━━━━━━━━━━━━━━\u001b[0m\u001b[37m\u001b[0m \u001b[1m1s\u001b[0m 5ms/step - R2Score: 0.9839 - loss: 0.0158 - val_R2Score: 0.9788 - val_loss: 0.0208\n",
      "Epoch 122/150\n",
      "\u001b[1m250/250\u001b[0m \u001b[32m━━━━━━━━━━━━━━━━━━━━\u001b[0m\u001b[37m\u001b[0m \u001b[1m1s\u001b[0m 5ms/step - R2Score: 0.9775 - loss: 0.0236 - val_R2Score: 0.9813 - val_loss: 0.0184\n",
      "Epoch 123/150\n",
      "\u001b[1m250/250\u001b[0m \u001b[32m━━━━━━━━━━━━━━━━━━━━\u001b[0m\u001b[37m\u001b[0m \u001b[1m2s\u001b[0m 7ms/step - R2Score: 0.9843 - loss: 0.0154 - val_R2Score: 0.9756 - val_loss: 0.0240\n",
      "Epoch 124/150\n",
      "\u001b[1m250/250\u001b[0m \u001b[32m━━━━━━━━━━━━━━━━━━━━\u001b[0m\u001b[37m\u001b[0m \u001b[1m2s\u001b[0m 5ms/step - R2Score: 0.9768 - loss: 0.0234 - val_R2Score: 0.9803 - val_loss: 0.0194\n",
      "Epoch 125/150\n",
      "\u001b[1m250/250\u001b[0m \u001b[32m━━━━━━━━━━━━━━━━━━━━\u001b[0m\u001b[37m\u001b[0m \u001b[1m1s\u001b[0m 5ms/step - R2Score: 0.9833 - loss: 0.0152 - val_R2Score: 0.9735 - val_loss: 0.0261\n",
      "Epoch 126/150\n",
      "\u001b[1m250/250\u001b[0m \u001b[32m━━━━━━━━━━━━━━━━━━━━\u001b[0m\u001b[37m\u001b[0m \u001b[1m3s\u001b[0m 7ms/step - R2Score: 0.9841 - loss: 0.0149 - val_R2Score: 0.9838 - val_loss: 0.0159\n",
      "Epoch 127/150\n",
      "\u001b[1m250/250\u001b[0m \u001b[32m━━━━━━━━━━━━━━━━━━━━\u001b[0m\u001b[37m\u001b[0m \u001b[1m2s\u001b[0m 5ms/step - R2Score: 0.9807 - loss: 0.0200 - val_R2Score: 0.9821 - val_loss: 0.0176\n",
      "Epoch 128/150\n",
      "\u001b[1m250/250\u001b[0m \u001b[32m━━━━━━━━━━━━━━━━━━━━\u001b[0m\u001b[37m\u001b[0m \u001b[1m1s\u001b[0m 5ms/step - R2Score: 0.9845 - loss: 0.0161 - val_R2Score: 0.9774 - val_loss: 0.0222\n",
      "Epoch 129/150\n",
      "\u001b[1m250/250\u001b[0m \u001b[32m━━━━━━━━━━━━━━━━━━━━\u001b[0m\u001b[37m\u001b[0m \u001b[1m1s\u001b[0m 5ms/step - R2Score: 0.9844 - loss: 0.0163 - val_R2Score: 0.9778 - val_loss: 0.0218\n",
      "Epoch 130/150\n",
      "\u001b[1m250/250\u001b[0m \u001b[32m━━━━━━━━━━━━━━━━━━━━\u001b[0m\u001b[37m\u001b[0m \u001b[1m2s\u001b[0m 6ms/step - R2Score: 0.9851 - loss: 0.0166 - val_R2Score: 0.9826 - val_loss: 0.0171\n",
      "Epoch 131/150\n",
      "\u001b[1m250/250\u001b[0m \u001b[32m━━━━━━━━━━━━━━━━━━━━\u001b[0m\u001b[37m\u001b[0m \u001b[1m2s\u001b[0m 5ms/step - R2Score: 0.9842 - loss: 0.0160 - val_R2Score: 0.9818 - val_loss: 0.0179\n",
      "Epoch 132/150\n",
      "\u001b[1m250/250\u001b[0m \u001b[32m━━━━━━━━━━━━━━━━━━━━\u001b[0m\u001b[37m\u001b[0m \u001b[1m3s\u001b[0m 5ms/step - R2Score: 0.9823 - loss: 0.0174 - val_R2Score: 0.9726 - val_loss: 0.0269\n",
      "Epoch 133/150\n",
      "\u001b[1m250/250\u001b[0m \u001b[32m━━━━━━━━━━━━━━━━━━━━\u001b[0m\u001b[37m\u001b[0m \u001b[1m2s\u001b[0m 6ms/step - R2Score: 0.9846 - loss: 0.0150 - val_R2Score: 0.9757 - val_loss: 0.0239\n",
      "Epoch 134/150\n",
      "\u001b[1m250/250\u001b[0m \u001b[32m━━━━━━━━━━━━━━━━━━━━\u001b[0m\u001b[37m\u001b[0m \u001b[1m3s\u001b[0m 5ms/step - R2Score: 0.9842 - loss: 0.0173 - val_R2Score: 0.9820 - val_loss: 0.0177\n",
      "Epoch 135/150\n",
      "\u001b[1m250/250\u001b[0m \u001b[32m━━━━━━━━━━━━━━━━━━━━\u001b[0m\u001b[37m\u001b[0m \u001b[1m1s\u001b[0m 5ms/step - R2Score: 0.9808 - loss: 0.0191 - val_R2Score: 0.9776 - val_loss: 0.0220\n",
      "Epoch 136/150\n",
      "\u001b[1m250/250\u001b[0m \u001b[32m━━━━━━━━━━━━━━━━━━━━\u001b[0m\u001b[37m\u001b[0m \u001b[1m1s\u001b[0m 5ms/step - R2Score: 0.9815 - loss: 0.0186 - val_R2Score: 0.9842 - val_loss: 0.0155\n",
      "Epoch 137/150\n",
      "\u001b[1m250/250\u001b[0m \u001b[32m━━━━━━━━━━━━━━━━━━━━\u001b[0m\u001b[37m\u001b[0m \u001b[1m2s\u001b[0m 6ms/step - R2Score: 0.9796 - loss: 0.0207 - val_R2Score: 0.9813 - val_loss: 0.0184\n",
      "Epoch 138/150\n",
      "\u001b[1m250/250\u001b[0m \u001b[32m━━━━━━━━━━━━━━━━━━━━\u001b[0m\u001b[37m\u001b[0m \u001b[1m2s\u001b[0m 6ms/step - R2Score: 0.9826 - loss: 0.0180 - val_R2Score: 0.9735 - val_loss: 0.0260\n",
      "Epoch 139/150\n",
      "\u001b[1m250/250\u001b[0m \u001b[32m━━━━━━━━━━━━━━━━━━━━\u001b[0m\u001b[37m\u001b[0m \u001b[1m1s\u001b[0m 5ms/step - R2Score: 0.9831 - loss: 0.0160 - val_R2Score: 0.9730 - val_loss: 0.0265\n",
      "Epoch 140/150\n",
      "\u001b[1m250/250\u001b[0m \u001b[32m━━━━━━━━━━━━━━━━━━━━\u001b[0m\u001b[37m\u001b[0m \u001b[1m2s\u001b[0m 6ms/step - R2Score: 0.9844 - loss: 0.0149 - val_R2Score: 0.9810 - val_loss: 0.0186\n",
      "Epoch 141/150\n",
      "\u001b[1m250/250\u001b[0m \u001b[32m━━━━━━━━━━━━━━━━━━━━\u001b[0m\u001b[37m\u001b[0m \u001b[1m1s\u001b[0m 5ms/step - R2Score: 0.9826 - loss: 0.0172 - val_R2Score: 0.9817 - val_loss: 0.0180\n",
      "Epoch 142/150\n",
      "\u001b[1m250/250\u001b[0m \u001b[32m━━━━━━━━━━━━━━━━━━━━\u001b[0m\u001b[37m\u001b[0m \u001b[1m1s\u001b[0m 5ms/step - R2Score: 0.9824 - loss: 0.0181 - val_R2Score: 0.9836 - val_loss: 0.0161\n",
      "Epoch 143/150\n",
      "\u001b[1m250/250\u001b[0m \u001b[32m━━━━━━━━━━━━━━━━━━━━\u001b[0m\u001b[37m\u001b[0m \u001b[1m2s\u001b[0m 7ms/step - R2Score: 0.9840 - loss: 0.0168 - val_R2Score: 0.9777 - val_loss: 0.0219\n",
      "Epoch 144/150\n",
      "\u001b[1m250/250\u001b[0m \u001b[32m━━━━━━━━━━━━━━━━━━━━\u001b[0m\u001b[37m\u001b[0m \u001b[1m1s\u001b[0m 5ms/step - R2Score: 0.9849 - loss: 0.0147 - val_R2Score: 0.9839 - val_loss: 0.0158\n",
      "Epoch 145/150\n",
      "\u001b[1m250/250\u001b[0m \u001b[32m━━━━━━━━━━━━━━━━━━━━\u001b[0m\u001b[37m\u001b[0m \u001b[1m3s\u001b[0m 5ms/step - R2Score: 0.9842 - loss: 0.0158 - val_R2Score: 0.9779 - val_loss: 0.0217\n",
      "Epoch 146/150\n",
      "\u001b[1m250/250\u001b[0m \u001b[32m━━━━━━━━━━━━━━━━━━━━\u001b[0m\u001b[37m\u001b[0m \u001b[1m3s\u001b[0m 6ms/step - R2Score: 0.9805 - loss: 0.0193 - val_R2Score: 0.9717 - val_loss: 0.0278\n",
      "Epoch 147/150\n",
      "\u001b[1m250/250\u001b[0m \u001b[32m━━━━━━━━━━━━━━━━━━━━\u001b[0m\u001b[37m\u001b[0m \u001b[1m3s\u001b[0m 8ms/step - R2Score: 0.9828 - loss: 0.0176 - val_R2Score: 0.9788 - val_loss: 0.0208\n",
      "Epoch 148/150\n",
      "\u001b[1m250/250\u001b[0m \u001b[32m━━━━━━━━━━━━━━━━━━━━\u001b[0m\u001b[37m\u001b[0m \u001b[1m2s\u001b[0m 5ms/step - R2Score: 0.9874 - loss: 0.0121 - val_R2Score: 0.9800 - val_loss: 0.0196\n",
      "Epoch 149/150\n",
      "\u001b[1m250/250\u001b[0m \u001b[32m━━━━━━━━━━━━━━━━━━━━\u001b[0m\u001b[37m\u001b[0m \u001b[1m2s\u001b[0m 6ms/step - R2Score: 0.9844 - loss: 0.0158 - val_R2Score: 0.9765 - val_loss: 0.0231\n",
      "Epoch 150/150\n",
      "\u001b[1m250/250\u001b[0m \u001b[32m━━━━━━━━━━━━━━━━━━━━\u001b[0m\u001b[37m\u001b[0m \u001b[1m1s\u001b[0m 5ms/step - R2Score: 0.9838 - loss: 0.0180 - val_R2Score: 0.9807 - val_loss: 0.0189\n"
     ]
    }
   ],
   "source": [
    "history = model.fit(\n",
    "    x_train_transformed, \n",
    "    y_train_transformed_allowable_deformation,  # Split the targets into separate arrays\n",
    "    validation_split=0.2,\n",
    "    epochs=150,\n",
    "    batch_size=32,\n",
    "    verbose=1,\n",
    "    callbacks=[tensorboard_callback]\n",
    ")"
   ]
  },
  {
   "cell_type": "code",
   "execution_count": 43,
   "metadata": {},
   "outputs": [
    {
     "name": "stdout",
     "output_type": "stream",
     "text": [
      "\u001b[1m78/78\u001b[0m \u001b[32m━━━━━━━━━━━━━━━━━━━━\u001b[0m\u001b[37m\u001b[0m \u001b[1m0s\u001b[0m 5ms/step - R2Score: 0.9833 - loss: 0.0124\n",
      "Test accuracy: 0.9819774031639099\n"
     ]
    }
   ],
   "source": [
    "test_loss, test_mse = model.evaluate(x_test_transformed, y_test_transformed_allowable_deformation)\n",
    "print('Test accuracy:', test_mse)"
   ]
  },
  {
   "cell_type": "code",
   "execution_count": 44,
   "metadata": {},
   "outputs": [
    {
     "data": {
      "text/html": [
       "<pre style=\"white-space:pre;overflow-x:auto;line-height:normal;font-family:Menlo,'DejaVu Sans Mono',consolas,'Courier New',monospace\"><span style=\"font-weight: bold\">Model: \"functional_1\"</span>\n",
       "</pre>\n"
      ],
      "text/plain": [
       "\u001b[1mModel: \"functional_1\"\u001b[0m\n"
      ]
     },
     "metadata": {},
     "output_type": "display_data"
    },
    {
     "data": {
      "text/html": [
       "<pre style=\"white-space:pre;overflow-x:auto;line-height:normal;font-family:Menlo,'DejaVu Sans Mono',consolas,'Courier New',monospace\">┏━━━━━━━━━━━━━━━━━━━━━━━━━━━━━━━━━┳━━━━━━━━━━━━━━━━━━━━━━━━┳━━━━━━━━━━━━━━━┓\n",
       "┃<span style=\"font-weight: bold\"> Layer (type)                    </span>┃<span style=\"font-weight: bold\"> Output Shape           </span>┃<span style=\"font-weight: bold\">       Param # </span>┃\n",
       "┡━━━━━━━━━━━━━━━━━━━━━━━━━━━━━━━━━╇━━━━━━━━━━━━━━━━━━━━━━━━╇━━━━━━━━━━━━━━━┩\n",
       "│ input_layer_1 (<span style=\"color: #0087ff; text-decoration-color: #0087ff\">InputLayer</span>)      │ (<span style=\"color: #00d7ff; text-decoration-color: #00d7ff\">None</span>, <span style=\"color: #00af00; text-decoration-color: #00af00\">14</span>)             │             <span style=\"color: #00af00; text-decoration-color: #00af00\">0</span> │\n",
       "├─────────────────────────────────┼────────────────────────┼───────────────┤\n",
       "│ dense_3 (<span style=\"color: #0087ff; text-decoration-color: #0087ff\">Dense</span>)                 │ (<span style=\"color: #00d7ff; text-decoration-color: #00d7ff\">None</span>, <span style=\"color: #00af00; text-decoration-color: #00af00\">512</span>)            │         <span style=\"color: #00af00; text-decoration-color: #00af00\">7,680</span> │\n",
       "├─────────────────────────────────┼────────────────────────┼───────────────┤\n",
       "│ dropout_1 (<span style=\"color: #0087ff; text-decoration-color: #0087ff\">Dropout</span>)             │ (<span style=\"color: #00d7ff; text-decoration-color: #00d7ff\">None</span>, <span style=\"color: #00af00; text-decoration-color: #00af00\">512</span>)            │             <span style=\"color: #00af00; text-decoration-color: #00af00\">0</span> │\n",
       "├─────────────────────────────────┼────────────────────────┼───────────────┤\n",
       "│ dense_4 (<span style=\"color: #0087ff; text-decoration-color: #0087ff\">Dense</span>)                 │ (<span style=\"color: #00d7ff; text-decoration-color: #00d7ff\">None</span>, <span style=\"color: #00af00; text-decoration-color: #00af00\">128</span>)            │        <span style=\"color: #00af00; text-decoration-color: #00af00\">65,664</span> │\n",
       "├─────────────────────────────────┼────────────────────────┼───────────────┤\n",
       "│ dropout_2 (<span style=\"color: #0087ff; text-decoration-color: #0087ff\">Dropout</span>)             │ (<span style=\"color: #00d7ff; text-decoration-color: #00d7ff\">None</span>, <span style=\"color: #00af00; text-decoration-color: #00af00\">128</span>)            │             <span style=\"color: #00af00; text-decoration-color: #00af00\">0</span> │\n",
       "├─────────────────────────────────┼────────────────────────┼───────────────┤\n",
       "│ dense_5 (<span style=\"color: #0087ff; text-decoration-color: #0087ff\">Dense</span>)                 │ (<span style=\"color: #00d7ff; text-decoration-color: #00d7ff\">None</span>, <span style=\"color: #00af00; text-decoration-color: #00af00\">32</span>)             │         <span style=\"color: #00af00; text-decoration-color: #00af00\">4,128</span> │\n",
       "├─────────────────────────────────┼────────────────────────┼───────────────┤\n",
       "│ dense_6 (<span style=\"color: #0087ff; text-decoration-color: #0087ff\">Dense</span>)                 │ (<span style=\"color: #00d7ff; text-decoration-color: #00d7ff\">None</span>, <span style=\"color: #00af00; text-decoration-color: #00af00\">1</span>)              │            <span style=\"color: #00af00; text-decoration-color: #00af00\">33</span> │\n",
       "└─────────────────────────────────┴────────────────────────┴───────────────┘\n",
       "</pre>\n"
      ],
      "text/plain": [
       "┏━━━━━━━━━━━━━━━━━━━━━━━━━━━━━━━━━┳━━━━━━━━━━━━━━━━━━━━━━━━┳━━━━━━━━━━━━━━━┓\n",
       "┃\u001b[1m \u001b[0m\u001b[1mLayer (type)                   \u001b[0m\u001b[1m \u001b[0m┃\u001b[1m \u001b[0m\u001b[1mOutput Shape          \u001b[0m\u001b[1m \u001b[0m┃\u001b[1m \u001b[0m\u001b[1m      Param #\u001b[0m\u001b[1m \u001b[0m┃\n",
       "┡━━━━━━━━━━━━━━━━━━━━━━━━━━━━━━━━━╇━━━━━━━━━━━━━━━━━━━━━━━━╇━━━━━━━━━━━━━━━┩\n",
       "│ input_layer_1 (\u001b[38;5;33mInputLayer\u001b[0m)      │ (\u001b[38;5;45mNone\u001b[0m, \u001b[38;5;34m14\u001b[0m)             │             \u001b[38;5;34m0\u001b[0m │\n",
       "├─────────────────────────────────┼────────────────────────┼───────────────┤\n",
       "│ dense_3 (\u001b[38;5;33mDense\u001b[0m)                 │ (\u001b[38;5;45mNone\u001b[0m, \u001b[38;5;34m512\u001b[0m)            │         \u001b[38;5;34m7,680\u001b[0m │\n",
       "├─────────────────────────────────┼────────────────────────┼───────────────┤\n",
       "│ dropout_1 (\u001b[38;5;33mDropout\u001b[0m)             │ (\u001b[38;5;45mNone\u001b[0m, \u001b[38;5;34m512\u001b[0m)            │             \u001b[38;5;34m0\u001b[0m │\n",
       "├─────────────────────────────────┼────────────────────────┼───────────────┤\n",
       "│ dense_4 (\u001b[38;5;33mDense\u001b[0m)                 │ (\u001b[38;5;45mNone\u001b[0m, \u001b[38;5;34m128\u001b[0m)            │        \u001b[38;5;34m65,664\u001b[0m │\n",
       "├─────────────────────────────────┼────────────────────────┼───────────────┤\n",
       "│ dropout_2 (\u001b[38;5;33mDropout\u001b[0m)             │ (\u001b[38;5;45mNone\u001b[0m, \u001b[38;5;34m128\u001b[0m)            │             \u001b[38;5;34m0\u001b[0m │\n",
       "├─────────────────────────────────┼────────────────────────┼───────────────┤\n",
       "│ dense_5 (\u001b[38;5;33mDense\u001b[0m)                 │ (\u001b[38;5;45mNone\u001b[0m, \u001b[38;5;34m32\u001b[0m)             │         \u001b[38;5;34m4,128\u001b[0m │\n",
       "├─────────────────────────────────┼────────────────────────┼───────────────┤\n",
       "│ dense_6 (\u001b[38;5;33mDense\u001b[0m)                 │ (\u001b[38;5;45mNone\u001b[0m, \u001b[38;5;34m1\u001b[0m)              │            \u001b[38;5;34m33\u001b[0m │\n",
       "└─────────────────────────────────┴────────────────────────┴───────────────┘\n"
      ]
     },
     "metadata": {},
     "output_type": "display_data"
    },
    {
     "data": {
      "text/html": [
       "<pre style=\"white-space:pre;overflow-x:auto;line-height:normal;font-family:Menlo,'DejaVu Sans Mono',consolas,'Courier New',monospace\"><span style=\"font-weight: bold\"> Total params: </span><span style=\"color: #00af00; text-decoration-color: #00af00\">232,517</span> (908.27 KB)\n",
       "</pre>\n"
      ],
      "text/plain": [
       "\u001b[1m Total params: \u001b[0m\u001b[38;5;34m232,517\u001b[0m (908.27 KB)\n"
      ]
     },
     "metadata": {},
     "output_type": "display_data"
    },
    {
     "data": {
      "text/html": [
       "<pre style=\"white-space:pre;overflow-x:auto;line-height:normal;font-family:Menlo,'DejaVu Sans Mono',consolas,'Courier New',monospace\"><span style=\"font-weight: bold\"> Trainable params: </span><span style=\"color: #00af00; text-decoration-color: #00af00\">77,505</span> (302.75 KB)\n",
       "</pre>\n"
      ],
      "text/plain": [
       "\u001b[1m Trainable params: \u001b[0m\u001b[38;5;34m77,505\u001b[0m (302.75 KB)\n"
      ]
     },
     "metadata": {},
     "output_type": "display_data"
    },
    {
     "data": {
      "text/html": [
       "<pre style=\"white-space:pre;overflow-x:auto;line-height:normal;font-family:Menlo,'DejaVu Sans Mono',consolas,'Courier New',monospace\"><span style=\"font-weight: bold\"> Non-trainable params: </span><span style=\"color: #00af00; text-decoration-color: #00af00\">0</span> (0.00 B)\n",
       "</pre>\n"
      ],
      "text/plain": [
       "\u001b[1m Non-trainable params: \u001b[0m\u001b[38;5;34m0\u001b[0m (0.00 B)\n"
      ]
     },
     "metadata": {},
     "output_type": "display_data"
    },
    {
     "data": {
      "text/html": [
       "<pre style=\"white-space:pre;overflow-x:auto;line-height:normal;font-family:Menlo,'DejaVu Sans Mono',consolas,'Courier New',monospace\"><span style=\"font-weight: bold\"> Optimizer params: </span><span style=\"color: #00af00; text-decoration-color: #00af00\">155,012</span> (605.52 KB)\n",
       "</pre>\n"
      ],
      "text/plain": [
       "\u001b[1m Optimizer params: \u001b[0m\u001b[38;5;34m155,012\u001b[0m (605.52 KB)\n"
      ]
     },
     "metadata": {},
     "output_type": "display_data"
    }
   ],
   "source": [
    "model.summary()"
   ]
  },
  {
   "cell_type": "code",
   "execution_count": 45,
   "metadata": {},
   "outputs": [
    {
     "data": {
      "text/plain": [
       "[<matplotlib.lines.Line2D at 0x2d185946c60>]"
      ]
     },
     "execution_count": 45,
     "metadata": {},
     "output_type": "execute_result"
    },
    {
     "data": {
      "image/png": "[encoded data removed]",
      "text/plain": [
       "<Figure size 640x480 with 1 Axes>"
      ]
     },
     "metadata": {},
     "output_type": "display_data"
    }
   ],
   "source": [
    "plt.plot(history.history[\"loss\"],label=\"loss\")\n",
    "plt.plot(history.history[\"val_loss\"],label=\"val_loss\")"
   ]
  },
  {
   "cell_type": "code",
   "execution_count": 46,
   "metadata": {},
   "outputs": [
    {
     "name": "stdout",
     "output_type": "stream",
     "text": [
      "\u001b[1m78/78\u001b[0m \u001b[32m━━━━━━━━━━━━━━━━━━━━\u001b[0m\u001b[37m\u001b[0m \u001b[1m1s\u001b[0m 3ms/step\n"
     ]
    }
   ],
   "source": [
    "predictions_scaled = model.predict(x_test_transformed)\n",
    "predictions = scaler_y_allowable_deformation.inverse_transform((predictions_scaled))"
   ]
  },
  {
   "cell_type": "code",
   "execution_count": 47,
   "metadata": {},
   "outputs": [
    {
     "name": "stdout",
     "output_type": "stream",
     "text": [
      "\n",
      "Sample Predictions:\n",
      "               0\n",
      "0       2.705158\n",
      "1      43.065407\n",
      "2       6.961668\n",
      "3       3.970062\n",
      "4       6.111797\n",
      "...          ...\n",
      "2488    8.409411\n",
      "2489    2.046321\n",
      "2490   17.798323\n",
      "2491   16.786442\n",
      "2492  116.395065\n",
      "\n",
      "[2493 rows x 1 columns]\n"
     ]
    }
   ],
   "source": [
    "predictions_df = pd.DataFrame(predictions)\n",
    "print(\"\\nSample Predictions:\")\n",
    "print(predictions_df)"
   ]
  },
  {
   "cell_type": "code",
   "execution_count": 48,
   "metadata": {},
   "outputs": [
    {
     "data": {
      "text/plain": [
       "3001       1.501\n",
       "5829      45.212\n",
       "11774      5.879\n",
       "8374       2.805\n",
       "8203       3.807\n",
       "          ...   \n",
       "11314      9.450\n",
       "2055       1.185\n",
       "5693       6.914\n",
       "6551      21.747\n",
       "5993     134.567\n",
       "Name: allowable_deformation, Length: 2493, dtype: float64"
      ]
     },
     "execution_count": 48,
     "metadata": {},
     "output_type": "execute_result"
    }
   ],
   "source": [
    "y_test[\"allowable_deformation\"]"
   ]
  },
  {
   "cell_type": "code",
   "execution_count": 49,
   "metadata": {},
   "outputs": [
    {
     "data": {
      "text/plain": [
       "102.8961179243122"
      ]
     },
     "execution_count": 49,
     "metadata": {},
     "output_type": "execute_result"
    }
   ],
   "source": [
    "true= y_test[\"allowable_deformation\"].tolist()\n",
    "pred= predictions_df[0].tolist()\n",
    "mean_squared_error(true,pred)"
   ]
  },
  {
   "cell_type": "code",
   "execution_count": 50,
   "metadata": {},
   "outputs": [
    {
     "data": {
      "image/png": "[encoded data removed]",
      "text/plain": [
       "<Figure size 640x480 with 1 Axes>"
      ]
     },
     "metadata": {},
     "output_type": "display_data"
    }
   ],
   "source": [
    "x=predictions_df\n",
    "y=y_test[\"allowable_deformation\"]\n",
    "plt.scatter(x,y)\n",
    "#plt.loglog()\n",
    "plt.plot([0, 600],[0, 600])\n",
    "plt.show()"
   ]
  }
 ],
 "metadata": {
  "kernelspec": {
   "display_name": "Python 3",
   "language": "python",
   "name": "python3"
  },
  "language_info": {
   "codemirror_mode": {
    "name": "ipython",
    "version": 3
   },
   "file_extension": ".py",
   "mimetype": "text/x-python",
   "name": "python",
   "nbconvert_exporter": "python",
   "pygments_lexer": "ipython3",
   "version": "3.12.4"
  }
 },
 "nbformat": 4,
 "nbformat_minor": 2
}

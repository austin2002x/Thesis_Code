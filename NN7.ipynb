{
 "cells": [
  {
   "cell_type": "code",
   "execution_count": 101,
   "metadata": {},
   "outputs": [],
   "source": [
    "import pandas as pd\n",
    "import numpy as np\n",
    "from sklearn.model_selection import train_test_split\n",
    "from sklearn.preprocessing import StandardScaler, OneHotEncoder, MinMaxScaler\n",
    "from tensorflow.keras.models import Model, Sequential\n",
    "from tensorflow.keras.layers import Dense, Dropout, Input, Lambda\n",
    "from tensorflow.keras.optimizers import Adam\n",
    "from tensorflow.keras.callbacks import Callback, TensorBoard\n",
    "from sklearn.compose import ColumnTransformer\n",
    "import matplotlib.pyplot as plt\n",
    "from sklearn.pipeline import Pipeline\n",
    "import seaborn as sns\n",
    "from datetime import datetime\n",
    "from sklearn.metrics import mean_squared_error "
   ]
  },
  {
   "cell_type": "code",
   "execution_count": 102,
   "metadata": {},
   "outputs": [],
   "source": [
    "data = pd.read_csv('all_data_results_cleaned.csv')"
   ]
  },
  {
   "cell_type": "code",
   "execution_count": 103,
   "metadata": {},
   "outputs": [],
   "source": [
    "to_drop=[\"pipe_dn\",\"pipe_schedule\",\"flange_class\",\n",
    "        \"hot_spot_stress\", \"max_deformation\", \"support_right\", \"support_left\", \"ratio\"]\n",
    "to_keep=[\"outside_diameter\", \"wall_thickness\", \"raised_face_depth\",\n",
    "        \"w_neck_c\", \"flange_outer_radius\", \"flange_thickness_d\",\"raised_face_radius\",\n",
    "        \"length1\", \"length2\", \"lumped_mass\", \"frequency\", \"x_deformation_position\",\n",
    "        \"y_deformation_position\", \"z_deformation_position\", \"support\", \"allowable_deformation\"]\n",
    "\n",
    "data.drop(columns=to_drop,inplace=True)"
   ]
  },
  {
   "cell_type": "code",
   "execution_count": 104,
   "metadata": {},
   "outputs": [],
   "source": [
    "numeric_features = [\"outside_diameter\", \"wall_thickness\", \"raised_face_depth\" ,'length1', 'length2', 'lumped_mass',\n",
    "                    \"w_neck_c\", \"flange_outer_radius\", \"flange_thickness_d\",\"raised_face_radius\"]\n",
    "categorical_features = ['support']\n",
    "\n",
    "preprocessor = ColumnTransformer(\n",
    "    transformers=[\n",
    "        ('num', StandardScaler(), numeric_features),\n",
    "        ('cat', OneHotEncoder(drop=None), categorical_features)\n",
    "    ])"
   ]
  },
  {
   "cell_type": "code",
   "execution_count": 105,
   "metadata": {},
   "outputs": [],
   "source": [
    "pipeline = Pipeline(steps=[('preprocessor', preprocessor)])"
   ]
  },
  {
   "cell_type": "code",
   "execution_count": 106,
   "metadata": {},
   "outputs": [],
   "source": [
    "output_columns = ['allowable_deformation', 'frequency', 'x_deformation_position', 'y_deformation_position', 'z_deformation_position']\n",
    "x = data.drop(output_columns, axis=1)\n",
    "y = pd.DataFrame(data[output_columns])"
   ]
  },
  {
   "cell_type": "code",
   "execution_count": 107,
   "metadata": {},
   "outputs": [],
   "source": [
    "x_train, x_test, y_train, y_test = train_test_split(x, y, test_size=0.2, random_state=33)"
   ]
  },
  {
   "cell_type": "code",
   "execution_count": 108,
   "metadata": {},
   "outputs": [],
   "source": [
    "x_train_transformed = pipeline.fit_transform(x_train)\n",
    "x_test_transformed = pipeline.transform(x_test)"
   ]
  },
  {
   "cell_type": "code",
   "execution_count": 109,
   "metadata": {},
   "outputs": [
    {
     "data": {
      "text/plain": [
       "'\\ny_train_transformed_x_displacement = scaler_y.fit_transform(pd.DataFrame(y_train[\"x_deformation_position\"]))\\ny_test_transformed_x_displacement = scaler_y.transform(pd.DataFrame(y_test[\"x_deformation_position\"]))\\n\\ny_train_transformed_y_displacement = scaler_y.fit_transform(pd.DataFrame(y_train[\"y_deformation_position\"]))\\ny_test_transformed_y_displacement = scaler_y.transform(pd.DataFrame(y_test[\"y_deformation_position\"]))\\n\\ny_train_transformed_z_displacement = scaler_y.fit_transform(pd.DataFrame(y_train[\"z_deformation_position\"]))\\ny_test_transformed_z_displacement = scaler_y.transform(pd.DataFrame(y_test[\"z_deformation_position\"]))\\n'"
      ]
     },
     "execution_count": 109,
     "metadata": {},
     "output_type": "execute_result"
    }
   ],
   "source": [
    "scaler_y_frequency = StandardScaler()\n",
    "scaler_y_allowable_deformation = StandardScaler()\n",
    "\n",
    "y_train_transformed_frequency = scaler_y_frequency.fit_transform(pd.DataFrame(y_train[\"frequency\"]))\n",
    "y_test_transformed_frequency = scaler_y_frequency.transform(pd.DataFrame(y_test[\"frequency\"]))\n",
    "\n",
    "y_train_transformed_allowable_deformation = scaler_y_allowable_deformation.fit_transform(pd.DataFrame(y_train[\"allowable_deformation\"]))\n",
    "y_test_transformed_allowable_deformation = scaler_y_allowable_deformation.transform(pd.DataFrame(y_test[\"allowable_deformation\"]))\n",
    "\"\"\"\n",
    "y_train_transformed_x_displacement = scaler_y.fit_transform(pd.DataFrame(y_train[\"x_deformation_position\"]))\n",
    "y_test_transformed_x_displacement = scaler_y.transform(pd.DataFrame(y_test[\"x_deformation_position\"]))\n",
    "\n",
    "y_train_transformed_y_displacement = scaler_y.fit_transform(pd.DataFrame(y_train[\"y_deformation_position\"]))\n",
    "y_test_transformed_y_displacement = scaler_y.transform(pd.DataFrame(y_test[\"y_deformation_position\"]))\n",
    "\n",
    "y_train_transformed_z_displacement = scaler_y.fit_transform(pd.DataFrame(y_train[\"z_deformation_position\"]))\n",
    "y_test_transformed_z_displacement = scaler_y.transform(pd.DataFrame(y_test[\"z_deformation_position\"]))\n",
    "\"\"\""
   ]
  },
  {
   "cell_type": "code",
   "execution_count": 110,
   "metadata": {},
   "outputs": [],
   "source": [
    "logdir = \"logs/\" + datetime.now().strftime(\"%Y%m%d-%H%M%S\")\n",
    "tensorboard_callback = TensorBoard(log_dir=logdir)"
   ]
  },
  {
   "cell_type": "code",
   "execution_count": 111,
   "metadata": {},
   "outputs": [],
   "source": [
    "input_layer = Input(shape=(x_train_transformed.shape[1],))\n",
    "hidden1 = Dense(512, activation='relu')(input_layer)\n",
    "dropout1 = Dropout(0.2)(hidden1)\n",
    "hidden2 = Dense(128, activation='relu')(dropout1)\n",
    "\n",
    "\n",
    "# Separate output for each target variable\n",
    "output_layer = Dense(1)(hidden2)\n",
    "#, name='allowable_deformation'\n"
   ]
  },
  {
   "cell_type": "code",
   "execution_count": 112,
   "metadata": {},
   "outputs": [],
   "source": [
    "model = Model(inputs=input_layer, outputs=output_layer)"
   ]
  },
  {
   "cell_type": "code",
   "execution_count": 113,
   "metadata": {},
   "outputs": [
    {
     "data": {
      "text/html": [
       "<pre style=\"white-space:pre;overflow-x:auto;line-height:normal;font-family:Menlo,'DejaVu Sans Mono',consolas,'Courier New',monospace\"><span style=\"font-weight: bold\">Model: \"functional_5\"</span>\n",
       "</pre>\n"
      ],
      "text/plain": [
       "\u001b[1mModel: \"functional_5\"\u001b[0m\n"
      ]
     },
     "metadata": {},
     "output_type": "display_data"
    },
    {
     "data": {
      "text/html": [
       "<pre style=\"white-space:pre;overflow-x:auto;line-height:normal;font-family:Menlo,'DejaVu Sans Mono',consolas,'Courier New',monospace\">┏━━━━━━━━━━━━━━━━━━━━━━━━━━━━━━━━━┳━━━━━━━━━━━━━━━━━━━━━━━━┳━━━━━━━━━━━━━━━┓\n",
       "┃<span style=\"font-weight: bold\"> Layer (type)                    </span>┃<span style=\"font-weight: bold\"> Output Shape           </span>┃<span style=\"font-weight: bold\">       Param # </span>┃\n",
       "┡━━━━━━━━━━━━━━━━━━━━━━━━━━━━━━━━━╇━━━━━━━━━━━━━━━━━━━━━━━━╇━━━━━━━━━━━━━━━┩\n",
       "│ input_layer_5 (<span style=\"color: #0087ff; text-decoration-color: #0087ff\">InputLayer</span>)      │ (<span style=\"color: #00d7ff; text-decoration-color: #00d7ff\">None</span>, <span style=\"color: #00af00; text-decoration-color: #00af00\">14</span>)             │             <span style=\"color: #00af00; text-decoration-color: #00af00\">0</span> │\n",
       "├─────────────────────────────────┼────────────────────────┼───────────────┤\n",
       "│ dense_16 (<span style=\"color: #0087ff; text-decoration-color: #0087ff\">Dense</span>)                │ (<span style=\"color: #00d7ff; text-decoration-color: #00d7ff\">None</span>, <span style=\"color: #00af00; text-decoration-color: #00af00\">512</span>)            │         <span style=\"color: #00af00; text-decoration-color: #00af00\">7,680</span> │\n",
       "├─────────────────────────────────┼────────────────────────┼───────────────┤\n",
       "│ dropout_6 (<span style=\"color: #0087ff; text-decoration-color: #0087ff\">Dropout</span>)             │ (<span style=\"color: #00d7ff; text-decoration-color: #00d7ff\">None</span>, <span style=\"color: #00af00; text-decoration-color: #00af00\">512</span>)            │             <span style=\"color: #00af00; text-decoration-color: #00af00\">0</span> │\n",
       "├─────────────────────────────────┼────────────────────────┼───────────────┤\n",
       "│ dense_17 (<span style=\"color: #0087ff; text-decoration-color: #0087ff\">Dense</span>)                │ (<span style=\"color: #00d7ff; text-decoration-color: #00d7ff\">None</span>, <span style=\"color: #00af00; text-decoration-color: #00af00\">128</span>)            │        <span style=\"color: #00af00; text-decoration-color: #00af00\">65,664</span> │\n",
       "├─────────────────────────────────┼────────────────────────┼───────────────┤\n",
       "│ dense_18 (<span style=\"color: #0087ff; text-decoration-color: #0087ff\">Dense</span>)                │ (<span style=\"color: #00d7ff; text-decoration-color: #00d7ff\">None</span>, <span style=\"color: #00af00; text-decoration-color: #00af00\">1</span>)              │           <span style=\"color: #00af00; text-decoration-color: #00af00\">129</span> │\n",
       "└─────────────────────────────────┴────────────────────────┴───────────────┘\n",
       "</pre>\n"
      ],
      "text/plain": [
       "┏━━━━━━━━━━━━━━━━━━━━━━━━━━━━━━━━━┳━━━━━━━━━━━━━━━━━━━━━━━━┳━━━━━━━━━━━━━━━┓\n",
       "┃\u001b[1m \u001b[0m\u001b[1mLayer (type)                   \u001b[0m\u001b[1m \u001b[0m┃\u001b[1m \u001b[0m\u001b[1mOutput Shape          \u001b[0m\u001b[1m \u001b[0m┃\u001b[1m \u001b[0m\u001b[1m      Param #\u001b[0m\u001b[1m \u001b[0m┃\n",
       "┡━━━━━━━━━━━━━━━━━━━━━━━━━━━━━━━━━╇━━━━━━━━━━━━━━━━━━━━━━━━╇━━━━━━━━━━━━━━━┩\n",
       "│ input_layer_5 (\u001b[38;5;33mInputLayer\u001b[0m)      │ (\u001b[38;5;45mNone\u001b[0m, \u001b[38;5;34m14\u001b[0m)             │             \u001b[38;5;34m0\u001b[0m │\n",
       "├─────────────────────────────────┼────────────────────────┼───────────────┤\n",
       "│ dense_16 (\u001b[38;5;33mDense\u001b[0m)                │ (\u001b[38;5;45mNone\u001b[0m, \u001b[38;5;34m512\u001b[0m)            │         \u001b[38;5;34m7,680\u001b[0m │\n",
       "├─────────────────────────────────┼────────────────────────┼───────────────┤\n",
       "│ dropout_6 (\u001b[38;5;33mDropout\u001b[0m)             │ (\u001b[38;5;45mNone\u001b[0m, \u001b[38;5;34m512\u001b[0m)            │             \u001b[38;5;34m0\u001b[0m │\n",
       "├─────────────────────────────────┼────────────────────────┼───────────────┤\n",
       "│ dense_17 (\u001b[38;5;33mDense\u001b[0m)                │ (\u001b[38;5;45mNone\u001b[0m, \u001b[38;5;34m128\u001b[0m)            │        \u001b[38;5;34m65,664\u001b[0m │\n",
       "├─────────────────────────────────┼────────────────────────┼───────────────┤\n",
       "│ dense_18 (\u001b[38;5;33mDense\u001b[0m)                │ (\u001b[38;5;45mNone\u001b[0m, \u001b[38;5;34m1\u001b[0m)              │           \u001b[38;5;34m129\u001b[0m │\n",
       "└─────────────────────────────────┴────────────────────────┴───────────────┘\n"
      ]
     },
     "metadata": {},
     "output_type": "display_data"
    },
    {
     "data": {
      "text/html": [
       "<pre style=\"white-space:pre;overflow-x:auto;line-height:normal;font-family:Menlo,'DejaVu Sans Mono',consolas,'Courier New',monospace\"><span style=\"font-weight: bold\"> Total params: </span><span style=\"color: #00af00; text-decoration-color: #00af00\">73,473</span> (287.00 KB)\n",
       "</pre>\n"
      ],
      "text/plain": [
       "\u001b[1m Total params: \u001b[0m\u001b[38;5;34m73,473\u001b[0m (287.00 KB)\n"
      ]
     },
     "metadata": {},
     "output_type": "display_data"
    },
    {
     "data": {
      "text/html": [
       "<pre style=\"white-space:pre;overflow-x:auto;line-height:normal;font-family:Menlo,'DejaVu Sans Mono',consolas,'Courier New',monospace\"><span style=\"font-weight: bold\"> Trainable params: </span><span style=\"color: #00af00; text-decoration-color: #00af00\">73,473</span> (287.00 KB)\n",
       "</pre>\n"
      ],
      "text/plain": [
       "\u001b[1m Trainable params: \u001b[0m\u001b[38;5;34m73,473\u001b[0m (287.00 KB)\n"
      ]
     },
     "metadata": {},
     "output_type": "display_data"
    },
    {
     "data": {
      "text/html": [
       "<pre style=\"white-space:pre;overflow-x:auto;line-height:normal;font-family:Menlo,'DejaVu Sans Mono',consolas,'Courier New',monospace\"><span style=\"font-weight: bold\"> Non-trainable params: </span><span style=\"color: #00af00; text-decoration-color: #00af00\">0</span> (0.00 B)\n",
       "</pre>\n"
      ],
      "text/plain": [
       "\u001b[1m Non-trainable params: \u001b[0m\u001b[38;5;34m0\u001b[0m (0.00 B)\n"
      ]
     },
     "metadata": {},
     "output_type": "display_data"
    }
   ],
   "source": [
    "model.summary()"
   ]
  },
  {
   "cell_type": "code",
   "execution_count": 114,
   "metadata": {},
   "outputs": [],
   "source": [
    "model.compile(optimizer=Adam(learning_rate=0.001), \n",
    "              loss='mse',\n",
    "              metrics=[\"R2Score\"])"
   ]
  },
  {
   "cell_type": "code",
   "execution_count": 115,
   "metadata": {},
   "outputs": [
    {
     "name": "stdout",
     "output_type": "stream",
     "text": [
      "Epoch 1/150\n",
      "\u001b[1m250/250\u001b[0m \u001b[32m━━━━━━━━━━━━━━━━━━━━\u001b[0m\u001b[37m\u001b[0m \u001b[1m14s\u001b[0m 11ms/step - R2Score: 0.6707 - loss: 0.3219 - val_R2Score: 0.9132 - val_loss: 0.0772\n",
      "Epoch 2/150\n",
      "\u001b[1m250/250\u001b[0m \u001b[32m━━━━━━━━━━━━━━━━━━━━\u001b[0m\u001b[37m\u001b[0m \u001b[1m2s\u001b[0m 6ms/step - R2Score: 0.8953 - loss: 0.1129 - val_R2Score: 0.9281 - val_loss: 0.0640\n",
      "Epoch 3/150\n",
      "\u001b[1m250/250\u001b[0m \u001b[32m━━━━━━━━━━━━━━━━━━━━\u001b[0m\u001b[37m\u001b[0m \u001b[1m1s\u001b[0m 6ms/step - R2Score: 0.9211 - loss: 0.0820 - val_R2Score: 0.9421 - val_loss: 0.0515\n",
      "Epoch 4/150\n",
      "\u001b[1m250/250\u001b[0m \u001b[32m━━━━━━━━━━━━━━━━━━━━\u001b[0m\u001b[37m\u001b[0m \u001b[1m2s\u001b[0m 6ms/step - R2Score: 0.9366 - loss: 0.0620 - val_R2Score: 0.9445 - val_loss: 0.0493\n",
      "Epoch 5/150\n",
      "\u001b[1m250/250\u001b[0m \u001b[32m━━━━━━━━━━━━━━━━━━━━\u001b[0m\u001b[37m\u001b[0m \u001b[1m1s\u001b[0m 5ms/step - R2Score: 0.9400 - loss: 0.0673 - val_R2Score: 0.9477 - val_loss: 0.0465\n",
      "Epoch 6/150\n",
      "\u001b[1m250/250\u001b[0m \u001b[32m━━━━━━━━━━━━━━━━━━━━\u001b[0m\u001b[37m\u001b[0m \u001b[1m1s\u001b[0m 5ms/step - R2Score: 0.9368 - loss: 0.0668 - val_R2Score: 0.9536 - val_loss: 0.0413\n",
      "Epoch 7/150\n",
      "\u001b[1m250/250\u001b[0m \u001b[32m━━━━━━━━━━━━━━━━━━━━\u001b[0m\u001b[37m\u001b[0m \u001b[1m1s\u001b[0m 5ms/step - R2Score: 0.9518 - loss: 0.0509 - val_R2Score: 0.9507 - val_loss: 0.0438\n",
      "Epoch 8/150\n",
      "\u001b[1m250/250\u001b[0m \u001b[32m━━━━━━━━━━━━━━━━━━━━\u001b[0m\u001b[37m\u001b[0m \u001b[1m2s\u001b[0m 6ms/step - R2Score: 0.9542 - loss: 0.0498 - val_R2Score: 0.9561 - val_loss: 0.0391\n",
      "Epoch 9/150\n",
      "\u001b[1m250/250\u001b[0m \u001b[32m━━━━━━━━━━━━━━━━━━━━\u001b[0m\u001b[37m\u001b[0m \u001b[1m1s\u001b[0m 6ms/step - R2Score: 0.9483 - loss: 0.0550 - val_R2Score: 0.9686 - val_loss: 0.0279\n",
      "Epoch 10/150\n",
      "\u001b[1m250/250\u001b[0m \u001b[32m━━━━━━━━━━━━━━━━━━━━\u001b[0m\u001b[37m\u001b[0m \u001b[1m1s\u001b[0m 5ms/step - R2Score: 0.9567 - loss: 0.0480 - val_R2Score: 0.9633 - val_loss: 0.0326\n",
      "Epoch 11/150\n",
      "\u001b[1m250/250\u001b[0m \u001b[32m━━━━━━━━━━━━━━━━━━━━\u001b[0m\u001b[37m\u001b[0m \u001b[1m2s\u001b[0m 6ms/step - R2Score: 0.9618 - loss: 0.0404 - val_R2Score: 0.9673 - val_loss: 0.0291\n",
      "Epoch 12/150\n",
      "\u001b[1m250/250\u001b[0m \u001b[32m━━━━━━━━━━━━━━━━━━━━\u001b[0m\u001b[37m\u001b[0m \u001b[1m1s\u001b[0m 5ms/step - R2Score: 0.9562 - loss: 0.0457 - val_R2Score: 0.9692 - val_loss: 0.0274\n",
      "Epoch 13/150\n",
      "\u001b[1m250/250\u001b[0m \u001b[32m━━━━━━━━━━━━━━━━━━━━\u001b[0m\u001b[37m\u001b[0m \u001b[1m3s\u001b[0m 6ms/step - R2Score: 0.9620 - loss: 0.0391 - val_R2Score: 0.9677 - val_loss: 0.0288\n",
      "Epoch 14/150\n",
      "\u001b[1m250/250\u001b[0m \u001b[32m━━━━━━━━━━━━━━━━━━━━\u001b[0m\u001b[37m\u001b[0m \u001b[1m2s\u001b[0m 7ms/step - R2Score: 0.9651 - loss: 0.0374 - val_R2Score: 0.9582 - val_loss: 0.0372\n",
      "Epoch 15/150\n",
      "\u001b[1m250/250\u001b[0m \u001b[32m━━━━━━━━━━━━━━━━━━━━\u001b[0m\u001b[37m\u001b[0m \u001b[1m1s\u001b[0m 5ms/step - R2Score: 0.9612 - loss: 0.0391 - val_R2Score: 0.9726 - val_loss: 0.0244\n",
      "Epoch 16/150\n",
      "\u001b[1m250/250\u001b[0m \u001b[32m━━━━━━━━━━━━━━━━━━━━\u001b[0m\u001b[37m\u001b[0m \u001b[1m2s\u001b[0m 6ms/step - R2Score: 0.9680 - loss: 0.0339 - val_R2Score: 0.9624 - val_loss: 0.0334\n",
      "Epoch 17/150\n",
      "\u001b[1m250/250\u001b[0m \u001b[32m━━━━━━━━━━━━━━━━━━━━\u001b[0m\u001b[37m\u001b[0m \u001b[1m1s\u001b[0m 5ms/step - R2Score: 0.9626 - loss: 0.0393 - val_R2Score: 0.9634 - val_loss: 0.0326\n",
      "Epoch 18/150\n",
      "\u001b[1m250/250\u001b[0m \u001b[32m━━━━━━━━━━━━━━━━━━━━\u001b[0m\u001b[37m\u001b[0m \u001b[1m3s\u001b[0m 5ms/step - R2Score: 0.9669 - loss: 0.0313 - val_R2Score: 0.9747 - val_loss: 0.0225\n",
      "Epoch 19/150\n",
      "\u001b[1m250/250\u001b[0m \u001b[32m━━━━━━━━━━━━━━━━━━━━\u001b[0m\u001b[37m\u001b[0m \u001b[1m3s\u001b[0m 6ms/step - R2Score: 0.9685 - loss: 0.0334 - val_R2Score: 0.9763 - val_loss: 0.0211\n",
      "Epoch 20/150\n",
      "\u001b[1m250/250\u001b[0m \u001b[32m━━━━━━━━━━━━━━━━━━━━\u001b[0m\u001b[37m\u001b[0m \u001b[1m2s\u001b[0m 6ms/step - R2Score: 0.9710 - loss: 0.0291 - val_R2Score: 0.9777 - val_loss: 0.0198\n",
      "Epoch 21/150\n",
      "\u001b[1m250/250\u001b[0m \u001b[32m━━━━━━━━━━━━━━━━━━━━\u001b[0m\u001b[37m\u001b[0m \u001b[1m2s\u001b[0m 5ms/step - R2Score: 0.9668 - loss: 0.0336 - val_R2Score: 0.9771 - val_loss: 0.0203\n",
      "Epoch 22/150\n",
      "\u001b[1m250/250\u001b[0m \u001b[32m━━━━━━━━━━━━━━━━━━━━\u001b[0m\u001b[37m\u001b[0m \u001b[1m3s\u001b[0m 7ms/step - R2Score: 0.9702 - loss: 0.0295 - val_R2Score: 0.9727 - val_loss: 0.0243\n",
      "Epoch 23/150\n",
      "\u001b[1m250/250\u001b[0m \u001b[32m━━━━━━━━━━━━━━━━━━━━\u001b[0m\u001b[37m\u001b[0m \u001b[1m2s\u001b[0m 6ms/step - R2Score: 0.9757 - loss: 0.0256 - val_R2Score: 0.9746 - val_loss: 0.0226\n",
      "Epoch 24/150\n",
      "\u001b[1m250/250\u001b[0m \u001b[32m━━━━━━━━━━━━━━━━━━━━\u001b[0m\u001b[37m\u001b[0m \u001b[1m3s\u001b[0m 7ms/step - R2Score: 0.9726 - loss: 0.0277 - val_R2Score: 0.9736 - val_loss: 0.0235\n",
      "Epoch 25/150\n",
      "\u001b[1m250/250\u001b[0m \u001b[32m━━━━━━━━━━━━━━━━━━━━\u001b[0m\u001b[37m\u001b[0m \u001b[1m2s\u001b[0m 6ms/step - R2Score: 0.9685 - loss: 0.0324 - val_R2Score: 0.9661 - val_loss: 0.0301\n",
      "Epoch 26/150\n",
      "\u001b[1m250/250\u001b[0m \u001b[32m━━━━━━━━━━━━━━━━━━━━\u001b[0m\u001b[37m\u001b[0m \u001b[1m2s\u001b[0m 6ms/step - R2Score: 0.9697 - loss: 0.0338 - val_R2Score: 0.9754 - val_loss: 0.0218\n",
      "Epoch 27/150\n",
      "\u001b[1m250/250\u001b[0m \u001b[32m━━━━━━━━━━━━━━━━━━━━\u001b[0m\u001b[37m\u001b[0m \u001b[1m3s\u001b[0m 6ms/step - R2Score: 0.9751 - loss: 0.0238 - val_R2Score: 0.9599 - val_loss: 0.0356\n",
      "Epoch 28/150\n",
      "\u001b[1m250/250\u001b[0m \u001b[32m━━━━━━━━━━━━━━━━━━━━\u001b[0m\u001b[37m\u001b[0m \u001b[1m2s\u001b[0m 6ms/step - R2Score: 0.9709 - loss: 0.0295 - val_R2Score: 0.9786 - val_loss: 0.0190\n",
      "Epoch 29/150\n",
      "\u001b[1m250/250\u001b[0m \u001b[32m━━━━━━━━━━━━━━━━━━━━\u001b[0m\u001b[37m\u001b[0m \u001b[1m1s\u001b[0m 5ms/step - R2Score: 0.9746 - loss: 0.0257 - val_R2Score: 0.9598 - val_loss: 0.0357\n",
      "Epoch 30/150\n",
      "\u001b[1m250/250\u001b[0m \u001b[32m━━━━━━━━━━━━━━━━━━━━\u001b[0m\u001b[37m\u001b[0m \u001b[1m2s\u001b[0m 7ms/step - R2Score: 0.9724 - loss: 0.0286 - val_R2Score: 0.9776 - val_loss: 0.0199\n",
      "Epoch 31/150\n",
      "\u001b[1m250/250\u001b[0m \u001b[32m━━━━━━━━━━━━━━━━━━━━\u001b[0m\u001b[37m\u001b[0m \u001b[1m2s\u001b[0m 6ms/step - R2Score: 0.9705 - loss: 0.0303 - val_R2Score: 0.9726 - val_loss: 0.0244\n",
      "Epoch 32/150\n",
      "\u001b[1m250/250\u001b[0m \u001b[32m━━━━━━━━━━━━━━━━━━━━\u001b[0m\u001b[37m\u001b[0m \u001b[1m1s\u001b[0m 6ms/step - R2Score: 0.9713 - loss: 0.0305 - val_R2Score: 0.9680 - val_loss: 0.0285\n",
      "Epoch 33/150\n",
      "\u001b[1m250/250\u001b[0m \u001b[32m━━━━━━━━━━━━━━━━━━━━\u001b[0m\u001b[37m\u001b[0m \u001b[1m1s\u001b[0m 6ms/step - R2Score: 0.9762 - loss: 0.0234 - val_R2Score: 0.9727 - val_loss: 0.0242\n",
      "Epoch 34/150\n",
      "\u001b[1m250/250\u001b[0m \u001b[32m━━━━━━━━━━━━━━━━━━━━\u001b[0m\u001b[37m\u001b[0m \u001b[1m2s\u001b[0m 6ms/step - R2Score: 0.9787 - loss: 0.0232 - val_R2Score: 0.9835 - val_loss: 0.0147\n",
      "Epoch 35/150\n",
      "\u001b[1m250/250\u001b[0m \u001b[32m━━━━━━━━━━━━━━━━━━━━\u001b[0m\u001b[37m\u001b[0m \u001b[1m3s\u001b[0m 7ms/step - R2Score: 0.9804 - loss: 0.0191 - val_R2Score: 0.9842 - val_loss: 0.0141\n",
      "Epoch 36/150\n",
      "\u001b[1m250/250\u001b[0m \u001b[32m━━━━━━━━━━━━━━━━━━━━\u001b[0m\u001b[37m\u001b[0m \u001b[1m2s\u001b[0m 6ms/step - R2Score: 0.9777 - loss: 0.0225 - val_R2Score: 0.9756 - val_loss: 0.0217\n",
      "Epoch 37/150\n",
      "\u001b[1m250/250\u001b[0m \u001b[32m━━━━━━━━━━━━━━━━━━━━\u001b[0m\u001b[37m\u001b[0m \u001b[1m2s\u001b[0m 6ms/step - R2Score: 0.9767 - loss: 0.0238 - val_R2Score: 0.9753 - val_loss: 0.0219\n",
      "Epoch 38/150\n",
      "\u001b[1m250/250\u001b[0m \u001b[32m━━━━━━━━━━━━━━━━━━━━\u001b[0m\u001b[37m\u001b[0m \u001b[1m3s\u001b[0m 6ms/step - R2Score: 0.9758 - loss: 0.0245 - val_R2Score: 0.9617 - val_loss: 0.0341\n",
      "Epoch 39/150\n",
      "\u001b[1m250/250\u001b[0m \u001b[32m━━━━━━━━━━━━━━━━━━━━\u001b[0m\u001b[37m\u001b[0m \u001b[1m1s\u001b[0m 6ms/step - R2Score: 0.9728 - loss: 0.0273 - val_R2Score: 0.9804 - val_loss: 0.0175\n",
      "Epoch 40/150\n",
      "\u001b[1m250/250\u001b[0m \u001b[32m━━━━━━━━━━━━━━━━━━━━\u001b[0m\u001b[37m\u001b[0m \u001b[1m2s\u001b[0m 7ms/step - R2Score: 0.9806 - loss: 0.0201 - val_R2Score: 0.9684 - val_loss: 0.0281\n",
      "Epoch 41/150\n",
      "\u001b[1m250/250\u001b[0m \u001b[32m━━━━━━━━━━━━━━━━━━━━\u001b[0m\u001b[37m\u001b[0m \u001b[1m2s\u001b[0m 7ms/step - R2Score: 0.9772 - loss: 0.0225 - val_R2Score: 0.9836 - val_loss: 0.0146\n",
      "Epoch 42/150\n",
      "\u001b[1m250/250\u001b[0m \u001b[32m━━━━━━━━━━━━━━━━━━━━\u001b[0m\u001b[37m\u001b[0m \u001b[1m2s\u001b[0m 6ms/step - R2Score: 0.9811 - loss: 0.0200 - val_R2Score: 0.9837 - val_loss: 0.0145\n",
      "Epoch 43/150\n",
      "\u001b[1m250/250\u001b[0m \u001b[32m━━━━━━━━━━━━━━━━━━━━\u001b[0m\u001b[37m\u001b[0m \u001b[1m3s\u001b[0m 7ms/step - R2Score: 0.9802 - loss: 0.0201 - val_R2Score: 0.9711 - val_loss: 0.0257\n",
      "Epoch 44/150\n",
      "\u001b[1m250/250\u001b[0m \u001b[32m━━━━━━━━━━━━━━━━━━━━\u001b[0m\u001b[37m\u001b[0m \u001b[1m2s\u001b[0m 6ms/step - R2Score: 0.9766 - loss: 0.0251 - val_R2Score: 0.9864 - val_loss: 0.0121\n",
      "Epoch 45/150\n",
      "\u001b[1m250/250\u001b[0m \u001b[32m━━━━━━━━━━━━━━━━━━━━\u001b[0m\u001b[37m\u001b[0m \u001b[1m3s\u001b[0m 9ms/step - R2Score: 0.9827 - loss: 0.0185 - val_R2Score: 0.9827 - val_loss: 0.0154\n",
      "Epoch 46/150\n",
      "\u001b[1m250/250\u001b[0m \u001b[32m━━━━━━━━━━━━━━━━━━━━\u001b[0m\u001b[37m\u001b[0m \u001b[1m2s\u001b[0m 6ms/step - R2Score: 0.9796 - loss: 0.0198 - val_R2Score: 0.9801 - val_loss: 0.0177\n",
      "Epoch 47/150\n",
      "\u001b[1m250/250\u001b[0m \u001b[32m━━━━━━━━━━━━━━━━━━━━\u001b[0m\u001b[37m\u001b[0m \u001b[1m3s\u001b[0m 6ms/step - R2Score: 0.9774 - loss: 0.0235 - val_R2Score: 0.9803 - val_loss: 0.0175\n",
      "Epoch 48/150\n",
      "\u001b[1m250/250\u001b[0m \u001b[32m━━━━━━━━━━━━━━━━━━━━\u001b[0m\u001b[37m\u001b[0m \u001b[1m2s\u001b[0m 7ms/step - R2Score: 0.9836 - loss: 0.0174 - val_R2Score: 0.9809 - val_loss: 0.0170\n",
      "Epoch 49/150\n",
      "\u001b[1m250/250\u001b[0m \u001b[32m━━━━━━━━━━━━━━━━━━━━\u001b[0m\u001b[37m\u001b[0m \u001b[1m2s\u001b[0m 7ms/step - R2Score: 0.9830 - loss: 0.0180 - val_R2Score: 0.9725 - val_loss: 0.0245\n",
      "Epoch 50/150\n",
      "\u001b[1m250/250\u001b[0m \u001b[32m━━━━━━━━━━━━━━━━━━━━\u001b[0m\u001b[37m\u001b[0m \u001b[1m2s\u001b[0m 6ms/step - R2Score: 0.9768 - loss: 0.0234 - val_R2Score: 0.9818 - val_loss: 0.0162\n",
      "Epoch 51/150\n",
      "\u001b[1m250/250\u001b[0m \u001b[32m━━━━━━━━━━━━━━━━━━━━\u001b[0m\u001b[37m\u001b[0m \u001b[1m1s\u001b[0m 6ms/step - R2Score: 0.9748 - loss: 0.0224 - val_R2Score: 0.9832 - val_loss: 0.0150\n",
      "Epoch 52/150\n",
      "\u001b[1m250/250\u001b[0m \u001b[32m━━━━━━━━━━━━━━━━━━━━\u001b[0m\u001b[37m\u001b[0m \u001b[1m3s\u001b[0m 5ms/step - R2Score: 0.9761 - loss: 0.0252 - val_R2Score: 0.9740 - val_loss: 0.0231\n",
      "Epoch 53/150\n",
      "\u001b[1m250/250\u001b[0m \u001b[32m━━━━━━━━━━━━━━━━━━━━\u001b[0m\u001b[37m\u001b[0m \u001b[1m2s\u001b[0m 6ms/step - R2Score: 0.9764 - loss: 0.0250 - val_R2Score: 0.9883 - val_loss: 0.0104\n",
      "Epoch 54/150\n",
      "\u001b[1m250/250\u001b[0m \u001b[32m━━━━━━━━━━━━━━━━━━━━\u001b[0m\u001b[37m\u001b[0m \u001b[1m2s\u001b[0m 8ms/step - R2Score: 0.9855 - loss: 0.0139 - val_R2Score: 0.9869 - val_loss: 0.0116\n",
      "Epoch 55/150\n",
      "\u001b[1m250/250\u001b[0m \u001b[32m━━━━━━━━━━━━━━━━━━━━\u001b[0m\u001b[37m\u001b[0m \u001b[1m2s\u001b[0m 6ms/step - R2Score: 0.9809 - loss: 0.0200 - val_R2Score: 0.9800 - val_loss: 0.0178\n",
      "Epoch 56/150\n",
      "\u001b[1m250/250\u001b[0m \u001b[32m━━━━━━━━━━━━━━━━━━━━\u001b[0m\u001b[37m\u001b[0m \u001b[1m2s\u001b[0m 7ms/step - R2Score: 0.9828 - loss: 0.0180 - val_R2Score: 0.9817 - val_loss: 0.0163\n",
      "Epoch 57/150\n",
      "\u001b[1m250/250\u001b[0m \u001b[32m━━━━━━━━━━━━━━━━━━━━\u001b[0m\u001b[37m\u001b[0m \u001b[1m2s\u001b[0m 6ms/step - R2Score: 0.9832 - loss: 0.0182 - val_R2Score: 0.9863 - val_loss: 0.0122\n",
      "Epoch 58/150\n",
      "\u001b[1m250/250\u001b[0m \u001b[32m━━━━━━━━━━━━━━━━━━━━\u001b[0m\u001b[37m\u001b[0m \u001b[1m2s\u001b[0m 6ms/step - R2Score: 0.9839 - loss: 0.0166 - val_R2Score: 0.9753 - val_loss: 0.0220\n",
      "Epoch 59/150\n",
      "\u001b[1m250/250\u001b[0m \u001b[32m━━━━━━━━━━━━━━━━━━━━\u001b[0m\u001b[37m\u001b[0m \u001b[1m2s\u001b[0m 7ms/step - R2Score: 0.9808 - loss: 0.0192 - val_R2Score: 0.9801 - val_loss: 0.0177\n",
      "Epoch 60/150\n",
      "\u001b[1m250/250\u001b[0m \u001b[32m━━━━━━━━━━━━━━━━━━━━\u001b[0m\u001b[37m\u001b[0m \u001b[1m2s\u001b[0m 6ms/step - R2Score: 0.9832 - loss: 0.0172 - val_R2Score: 0.9857 - val_loss: 0.0127\n",
      "Epoch 61/150\n",
      "\u001b[1m250/250\u001b[0m \u001b[32m━━━━━━━━━━━━━━━━━━━━\u001b[0m\u001b[37m\u001b[0m \u001b[1m2s\u001b[0m 6ms/step - R2Score: 0.9819 - loss: 0.0187 - val_R2Score: 0.9841 - val_loss: 0.0141\n",
      "Epoch 62/150\n",
      "\u001b[1m250/250\u001b[0m \u001b[32m━━━━━━━━━━━━━━━━━━━━\u001b[0m\u001b[37m\u001b[0m \u001b[1m2s\u001b[0m 6ms/step - R2Score: 0.9814 - loss: 0.0196 - val_R2Score: 0.9854 - val_loss: 0.0130\n",
      "Epoch 63/150\n",
      "\u001b[1m250/250\u001b[0m \u001b[32m━━━━━━━━━━━━━━━━━━━━\u001b[0m\u001b[37m\u001b[0m \u001b[1m3s\u001b[0m 7ms/step - R2Score: 0.9821 - loss: 0.0191 - val_R2Score: 0.9851 - val_loss: 0.0133\n",
      "Epoch 64/150\n",
      "\u001b[1m250/250\u001b[0m \u001b[32m━━━━━━━━━━━━━━━━━━━━\u001b[0m\u001b[37m\u001b[0m \u001b[1m2s\u001b[0m 6ms/step - R2Score: 0.9819 - loss: 0.0172 - val_R2Score: 0.9831 - val_loss: 0.0151\n",
      "Epoch 65/150\n",
      "\u001b[1m250/250\u001b[0m \u001b[32m━━━━━━━━━━━━━━━━━━━━\u001b[0m\u001b[37m\u001b[0m \u001b[1m1s\u001b[0m 6ms/step - R2Score: 0.9801 - loss: 0.0208 - val_R2Score: 0.9767 - val_loss: 0.0207\n",
      "Epoch 66/150\n",
      "\u001b[1m250/250\u001b[0m \u001b[32m━━━━━━━━━━━━━━━━━━━━\u001b[0m\u001b[37m\u001b[0m \u001b[1m2s\u001b[0m 7ms/step - R2Score: 0.9839 - loss: 0.0175 - val_R2Score: 0.9875 - val_loss: 0.0111\n",
      "Epoch 67/150\n",
      "\u001b[1m250/250\u001b[0m \u001b[32m━━━━━━━━━━━━━━━━━━━━\u001b[0m\u001b[37m\u001b[0m \u001b[1m3s\u001b[0m 12ms/step - R2Score: 0.9864 - loss: 0.0140 - val_R2Score: 0.9855 - val_loss: 0.0129\n",
      "Epoch 68/150\n",
      "\u001b[1m250/250\u001b[0m \u001b[32m━━━━━━━━━━━━━━━━━━━━\u001b[0m\u001b[37m\u001b[0m \u001b[1m4s\u001b[0m 7ms/step - R2Score: 0.9871 - loss: 0.0138 - val_R2Score: 0.9869 - val_loss: 0.0117\n",
      "Epoch 69/150\n",
      "\u001b[1m250/250\u001b[0m \u001b[32m━━━━━━━━━━━━━━━━━━━━\u001b[0m\u001b[37m\u001b[0m \u001b[1m2s\u001b[0m 7ms/step - R2Score: 0.9860 - loss: 0.0143 - val_R2Score: 0.9791 - val_loss: 0.0186\n",
      "Epoch 70/150\n",
      "\u001b[1m250/250\u001b[0m \u001b[32m━━━━━━━━━━━━━━━━━━━━\u001b[0m\u001b[37m\u001b[0m \u001b[1m2s\u001b[0m 7ms/step - R2Score: 0.9825 - loss: 0.0172 - val_R2Score: 0.9860 - val_loss: 0.0124\n",
      "Epoch 71/150\n",
      "\u001b[1m250/250\u001b[0m \u001b[32m━━━━━━━━━━━━━━━━━━━━\u001b[0m\u001b[37m\u001b[0m \u001b[1m2s\u001b[0m 7ms/step - R2Score: 0.9865 - loss: 0.0138 - val_R2Score: 0.9871 - val_loss: 0.0115\n",
      "Epoch 72/150\n",
      "\u001b[1m250/250\u001b[0m \u001b[32m━━━━━━━━━━━━━━━━━━━━\u001b[0m\u001b[37m\u001b[0m \u001b[1m2s\u001b[0m 6ms/step - R2Score: 0.9847 - loss: 0.0166 - val_R2Score: 0.9852 - val_loss: 0.0132\n",
      "Epoch 73/150\n",
      "\u001b[1m250/250\u001b[0m \u001b[32m━━━━━━━━━━━━━━━━━━━━\u001b[0m\u001b[37m\u001b[0m \u001b[1m2s\u001b[0m 7ms/step - R2Score: 0.9877 - loss: 0.0129 - val_R2Score: 0.9849 - val_loss: 0.0134\n",
      "Epoch 74/150\n",
      "\u001b[1m250/250\u001b[0m \u001b[32m━━━━━━━━━━━━━━━━━━━━\u001b[0m\u001b[37m\u001b[0m \u001b[1m3s\u001b[0m 7ms/step - R2Score: 0.9843 - loss: 0.0167 - val_R2Score: 0.9878 - val_loss: 0.0108\n",
      "Epoch 75/150\n",
      "\u001b[1m250/250\u001b[0m \u001b[32m━━━━━━━━━━━━━━━━━━━━\u001b[0m\u001b[37m\u001b[0m \u001b[1m2s\u001b[0m 7ms/step - R2Score: 0.9871 - loss: 0.0131 - val_R2Score: 0.9827 - val_loss: 0.0154\n",
      "Epoch 76/150\n",
      "\u001b[1m250/250\u001b[0m \u001b[32m━━━━━━━━━━━━━━━━━━━━\u001b[0m\u001b[37m\u001b[0m \u001b[1m1s\u001b[0m 5ms/step - R2Score: 0.9817 - loss: 0.0201 - val_R2Score: 0.9794 - val_loss: 0.0184\n",
      "Epoch 77/150\n",
      "\u001b[1m250/250\u001b[0m \u001b[32m━━━━━━━━━━━━━━━━━━━━\u001b[0m\u001b[37m\u001b[0m \u001b[1m1s\u001b[0m 5ms/step - R2Score: 0.9854 - loss: 0.0148 - val_R2Score: 0.9854 - val_loss: 0.0130\n",
      "Epoch 78/150\n",
      "\u001b[1m250/250\u001b[0m \u001b[32m━━━━━━━━━━━━━━━━━━━━\u001b[0m\u001b[37m\u001b[0m \u001b[1m2s\u001b[0m 8ms/step - R2Score: 0.9848 - loss: 0.0159 - val_R2Score: 0.9821 - val_loss: 0.0159\n",
      "Epoch 79/150\n",
      "\u001b[1m250/250\u001b[0m \u001b[32m━━━━━━━━━━━━━━━━━━━━\u001b[0m\u001b[37m\u001b[0m \u001b[1m2s\u001b[0m 6ms/step - R2Score: 0.9843 - loss: 0.0159 - val_R2Score: 0.9836 - val_loss: 0.0146\n",
      "Epoch 80/150\n",
      "\u001b[1m250/250\u001b[0m \u001b[32m━━━━━━━━━━━━━━━━━━━━\u001b[0m\u001b[37m\u001b[0m \u001b[1m3s\u001b[0m 7ms/step - R2Score: 0.9864 - loss: 0.0147 - val_R2Score: 0.9866 - val_loss: 0.0119\n",
      "Epoch 81/150\n",
      "\u001b[1m250/250\u001b[0m \u001b[32m━━━━━━━━━━━━━━━━━━━━\u001b[0m\u001b[37m\u001b[0m \u001b[1m3s\u001b[0m 8ms/step - R2Score: 0.9849 - loss: 0.0148 - val_R2Score: 0.9822 - val_loss: 0.0158\n",
      "Epoch 82/150\n",
      "\u001b[1m250/250\u001b[0m \u001b[32m━━━━━━━━━━━━━━━━━━━━\u001b[0m\u001b[37m\u001b[0m \u001b[1m2s\u001b[0m 6ms/step - R2Score: 0.9845 - loss: 0.0168 - val_R2Score: 0.9866 - val_loss: 0.0119\n",
      "Epoch 83/150\n",
      "\u001b[1m250/250\u001b[0m \u001b[32m━━━━━━━━━━━━━━━━━━━━\u001b[0m\u001b[37m\u001b[0m \u001b[1m3s\u001b[0m 7ms/step - R2Score: 0.9872 - loss: 0.0137 - val_R2Score: 0.9875 - val_loss: 0.0111\n",
      "Epoch 84/150\n",
      "\u001b[1m250/250\u001b[0m \u001b[32m━━━━━━━━━━━━━━━━━━━━\u001b[0m\u001b[37m\u001b[0m \u001b[1m3s\u001b[0m 8ms/step - R2Score: 0.9806 - loss: 0.0184 - val_R2Score: 0.9834 - val_loss: 0.0148\n",
      "Epoch 85/150\n",
      "\u001b[1m250/250\u001b[0m \u001b[32m━━━━━━━━━━━━━━━━━━━━\u001b[0m\u001b[37m\u001b[0m \u001b[1m3s\u001b[0m 8ms/step - R2Score: 0.9859 - loss: 0.0149 - val_R2Score: 0.9892 - val_loss: 0.0096\n",
      "Epoch 86/150\n",
      "\u001b[1m250/250\u001b[0m \u001b[32m━━━━━━━━━━━━━━━━━━━━\u001b[0m\u001b[37m\u001b[0m \u001b[1m2s\u001b[0m 8ms/step - R2Score: 0.9889 - loss: 0.0117 - val_R2Score: 0.9648 - val_loss: 0.0313\n",
      "Epoch 87/150\n",
      "\u001b[1m250/250\u001b[0m \u001b[32m━━━━━━━━━━━━━━━━━━━━\u001b[0m\u001b[37m\u001b[0m \u001b[1m2s\u001b[0m 7ms/step - R2Score: 0.9834 - loss: 0.0166 - val_R2Score: 0.9882 - val_loss: 0.0105\n",
      "Epoch 88/150\n",
      "\u001b[1m250/250\u001b[0m \u001b[32m━━━━━━━━━━━━━━━━━━━━\u001b[0m\u001b[37m\u001b[0m \u001b[1m3s\u001b[0m 8ms/step - R2Score: 0.9894 - loss: 0.0113 - val_R2Score: 0.9879 - val_loss: 0.0108\n",
      "Epoch 89/150\n",
      "\u001b[1m250/250\u001b[0m \u001b[32m━━━━━━━━━━━━━━━━━━━━\u001b[0m\u001b[37m\u001b[0m \u001b[1m2s\u001b[0m 6ms/step - R2Score: 0.9868 - loss: 0.0137 - val_R2Score: 0.9882 - val_loss: 0.0105\n",
      "Epoch 90/150\n",
      "\u001b[1m250/250\u001b[0m \u001b[32m━━━━━━━━━━━━━━━━━━━━\u001b[0m\u001b[37m\u001b[0m \u001b[1m3s\u001b[0m 6ms/step - R2Score: 0.9896 - loss: 0.0106 - val_R2Score: 0.9818 - val_loss: 0.0162\n",
      "Epoch 91/150\n",
      "\u001b[1m250/250\u001b[0m \u001b[32m━━━━━━━━━━━━━━━━━━━━\u001b[0m\u001b[37m\u001b[0m \u001b[1m1s\u001b[0m 6ms/step - R2Score: 0.9868 - loss: 0.0150 - val_R2Score: 0.9885 - val_loss: 0.0102\n",
      "Epoch 92/150\n",
      "\u001b[1m250/250\u001b[0m \u001b[32m━━━━━━━━━━━━━━━━━━━━\u001b[0m\u001b[37m\u001b[0m \u001b[1m2s\u001b[0m 6ms/step - R2Score: 0.9881 - loss: 0.0124 - val_R2Score: 0.9893 - val_loss: 0.0095\n",
      "Epoch 93/150\n",
      "\u001b[1m250/250\u001b[0m \u001b[32m━━━━━━━━━━━━━━━━━━━━\u001b[0m\u001b[37m\u001b[0m \u001b[1m1s\u001b[0m 5ms/step - R2Score: 0.9862 - loss: 0.0144 - val_R2Score: 0.9856 - val_loss: 0.0128\n",
      "Epoch 94/150\n",
      "\u001b[1m250/250\u001b[0m \u001b[32m━━━━━━━━━━━━━━━━━━━━\u001b[0m\u001b[37m\u001b[0m \u001b[1m1s\u001b[0m 5ms/step - R2Score: 0.9759 - loss: 0.0251 - val_R2Score: 0.9890 - val_loss: 0.0098\n",
      "Epoch 95/150\n",
      "\u001b[1m250/250\u001b[0m \u001b[32m━━━━━━━━━━━━━━━━━━━━\u001b[0m\u001b[37m\u001b[0m \u001b[1m2s\u001b[0m 7ms/step - R2Score: 0.9873 - loss: 0.0135 - val_R2Score: 0.9783 - val_loss: 0.0193\n",
      "Epoch 96/150\n",
      "\u001b[1m250/250\u001b[0m \u001b[32m━━━━━━━━━━━━━━━━━━━━\u001b[0m\u001b[37m\u001b[0m \u001b[1m2s\u001b[0m 9ms/step - R2Score: 0.9845 - loss: 0.0164 - val_R2Score: 0.9841 - val_loss: 0.0142\n",
      "Epoch 97/150\n",
      "\u001b[1m250/250\u001b[0m \u001b[32m━━━━━━━━━━━━━━━━━━━━\u001b[0m\u001b[37m\u001b[0m \u001b[1m1s\u001b[0m 5ms/step - R2Score: 0.9880 - loss: 0.0119 - val_R2Score: 0.9838 - val_loss: 0.0144\n",
      "Epoch 98/150\n",
      "\u001b[1m250/250\u001b[0m \u001b[32m━━━━━━━━━━━━━━━━━━━━\u001b[0m\u001b[37m\u001b[0m \u001b[1m3s\u001b[0m 7ms/step - R2Score: 0.9894 - loss: 0.0108 - val_R2Score: 0.9804 - val_loss: 0.0175\n",
      "Epoch 99/150\n",
      "\u001b[1m250/250\u001b[0m \u001b[32m━━━━━━━━━━━━━━━━━━━━\u001b[0m\u001b[37m\u001b[0m \u001b[1m2s\u001b[0m 5ms/step - R2Score: 0.9881 - loss: 0.0125 - val_R2Score: 0.9847 - val_loss: 0.0136\n",
      "Epoch 100/150\n",
      "\u001b[1m250/250\u001b[0m \u001b[32m━━━━━━━━━━━━━━━━━━━━\u001b[0m\u001b[37m\u001b[0m \u001b[1m1s\u001b[0m 5ms/step - R2Score: 0.9879 - loss: 0.0127 - val_R2Score: 0.9879 - val_loss: 0.0108\n",
      "Epoch 101/150\n",
      "\u001b[1m250/250\u001b[0m \u001b[32m━━━━━━━━━━━━━━━━━━━━\u001b[0m\u001b[37m\u001b[0m \u001b[1m2s\u001b[0m 7ms/step - R2Score: 0.9889 - loss: 0.0115 - val_R2Score: 0.9839 - val_loss: 0.0143\n",
      "Epoch 102/150\n",
      "\u001b[1m250/250\u001b[0m \u001b[32m━━━━━━━━━━━━━━━━━━━━\u001b[0m\u001b[37m\u001b[0m \u001b[1m2s\u001b[0m 6ms/step - R2Score: 0.9882 - loss: 0.0119 - val_R2Score: 0.9889 - val_loss: 0.0099\n",
      "Epoch 103/150\n",
      "\u001b[1m250/250\u001b[0m \u001b[32m━━━━━━━━━━━━━━━━━━━━\u001b[0m\u001b[37m\u001b[0m \u001b[1m2s\u001b[0m 6ms/step - R2Score: 0.9894 - loss: 0.0111 - val_R2Score: 0.9850 - val_loss: 0.0133\n",
      "Epoch 104/150\n",
      "\u001b[1m250/250\u001b[0m \u001b[32m━━━━━━━━━━━━━━━━━━━━\u001b[0m\u001b[37m\u001b[0m \u001b[1m3s\u001b[0m 7ms/step - R2Score: 0.9892 - loss: 0.0120 - val_R2Score: 0.9869 - val_loss: 0.0116\n",
      "Epoch 105/150\n",
      "\u001b[1m250/250\u001b[0m \u001b[32m━━━━━━━━━━━━━━━━━━━━\u001b[0m\u001b[37m\u001b[0m \u001b[1m2s\u001b[0m 6ms/step - R2Score: 0.9891 - loss: 0.0114 - val_R2Score: 0.9838 - val_loss: 0.0145\n",
      "Epoch 106/150\n",
      "\u001b[1m250/250\u001b[0m \u001b[32m━━━━━━━━━━━━━━━━━━━━\u001b[0m\u001b[37m\u001b[0m \u001b[1m2s\u001b[0m 6ms/step - R2Score: 0.9884 - loss: 0.0126 - val_R2Score: 0.9878 - val_loss: 0.0109\n",
      "Epoch 107/150\n",
      "\u001b[1m250/250\u001b[0m \u001b[32m━━━━━━━━━━━━━━━━━━━━\u001b[0m\u001b[37m\u001b[0m \u001b[1m2s\u001b[0m 6ms/step - R2Score: 0.9892 - loss: 0.0114 - val_R2Score: 0.9881 - val_loss: 0.0106\n",
      "Epoch 108/150\n",
      "\u001b[1m250/250\u001b[0m \u001b[32m━━━━━━━━━━━━━━━━━━━━\u001b[0m\u001b[37m\u001b[0m \u001b[1m3s\u001b[0m 7ms/step - R2Score: 0.9893 - loss: 0.0108 - val_R2Score: 0.9846 - val_loss: 0.0137\n",
      "Epoch 109/150\n",
      "\u001b[1m250/250\u001b[0m \u001b[32m━━━━━━━━━━━━━━━━━━━━\u001b[0m\u001b[37m\u001b[0m \u001b[1m2s\u001b[0m 6ms/step - R2Score: 0.9896 - loss: 0.0108 - val_R2Score: 0.9869 - val_loss: 0.0116\n",
      "Epoch 110/150\n",
      "\u001b[1m250/250\u001b[0m \u001b[32m━━━━━━━━━━━━━━━━━━━━\u001b[0m\u001b[37m\u001b[0m \u001b[1m2s\u001b[0m 6ms/step - R2Score: 0.9893 - loss: 0.0109 - val_R2Score: 0.9902 - val_loss: 0.0087\n",
      "Epoch 111/150\n",
      "\u001b[1m250/250\u001b[0m \u001b[32m━━━━━━━━━━━━━━━━━━━━\u001b[0m\u001b[37m\u001b[0m \u001b[1m3s\u001b[0m 6ms/step - R2Score: 0.9896 - loss: 0.0106 - val_R2Score: 0.9893 - val_loss: 0.0095\n",
      "Epoch 112/150\n",
      "\u001b[1m250/250\u001b[0m \u001b[32m━━━━━━━━━━━━━━━━━━━━\u001b[0m\u001b[37m\u001b[0m \u001b[1m2s\u001b[0m 6ms/step - R2Score: 0.9906 - loss: 0.0096 - val_R2Score: 0.9887 - val_loss: 0.0101\n",
      "Epoch 113/150\n",
      "\u001b[1m250/250\u001b[0m \u001b[32m━━━━━━━━━━━━━━━━━━━━\u001b[0m\u001b[37m\u001b[0m \u001b[1m2s\u001b[0m 6ms/step - R2Score: 0.9886 - loss: 0.0120 - val_R2Score: 0.9857 - val_loss: 0.0127\n",
      "Epoch 114/150\n",
      "\u001b[1m250/250\u001b[0m \u001b[32m━━━━━━━━━━━━━━━━━━━━\u001b[0m\u001b[37m\u001b[0m \u001b[1m1s\u001b[0m 6ms/step - R2Score: 0.9887 - loss: 0.0116 - val_R2Score: 0.9868 - val_loss: 0.0117\n",
      "Epoch 115/150\n",
      "\u001b[1m250/250\u001b[0m \u001b[32m━━━━━━━━━━━━━━━━━━━━\u001b[0m\u001b[37m\u001b[0m \u001b[1m3s\u001b[0m 5ms/step - R2Score: 0.9882 - loss: 0.0125 - val_R2Score: 0.9829 - val_loss: 0.0152\n",
      "Epoch 116/150\n",
      "\u001b[1m250/250\u001b[0m \u001b[32m━━━━━━━━━━━━━━━━━━━━\u001b[0m\u001b[37m\u001b[0m \u001b[1m2s\u001b[0m 7ms/step - R2Score: 0.9878 - loss: 0.0127 - val_R2Score: 0.9846 - val_loss: 0.0137\n",
      "Epoch 117/150\n",
      "\u001b[1m250/250\u001b[0m \u001b[32m━━━━━━━━━━━━━━━━━━━━\u001b[0m\u001b[37m\u001b[0m \u001b[1m2s\u001b[0m 6ms/step - R2Score: 0.9890 - loss: 0.0113 - val_R2Score: 0.9852 - val_loss: 0.0132\n",
      "Epoch 118/150\n",
      "\u001b[1m250/250\u001b[0m \u001b[32m━━━━━━━━━━━━━━━━━━━━\u001b[0m\u001b[37m\u001b[0m \u001b[1m2s\u001b[0m 7ms/step - R2Score: 0.9880 - loss: 0.0122 - val_R2Score: 0.9873 - val_loss: 0.0113\n",
      "Epoch 119/150\n",
      "\u001b[1m250/250\u001b[0m \u001b[32m━━━━━━━━━━━━━━━━━━━━\u001b[0m\u001b[37m\u001b[0m \u001b[1m2s\u001b[0m 7ms/step - R2Score: 0.9853 - loss: 0.0147 - val_R2Score: 0.9834 - val_loss: 0.0147\n",
      "Epoch 120/150\n",
      "\u001b[1m250/250\u001b[0m \u001b[32m━━━━━━━━━━━━━━━━━━━━\u001b[0m\u001b[37m\u001b[0m \u001b[1m3s\u001b[0m 7ms/step - R2Score: 0.9836 - loss: 0.0172 - val_R2Score: 0.9833 - val_loss: 0.0148\n",
      "Epoch 121/150\n",
      "\u001b[1m250/250\u001b[0m \u001b[32m━━━━━━━━━━━━━━━━━━━━\u001b[0m\u001b[37m\u001b[0m \u001b[1m3s\u001b[0m 10ms/step - R2Score: 0.9891 - loss: 0.0113 - val_R2Score: 0.9881 - val_loss: 0.0106\n",
      "Epoch 122/150\n",
      "\u001b[1m250/250\u001b[0m \u001b[32m━━━━━━━━━━━━━━━━━━━━\u001b[0m\u001b[37m\u001b[0m \u001b[1m2s\u001b[0m 7ms/step - R2Score: 0.9898 - loss: 0.0105 - val_R2Score: 0.9900 - val_loss: 0.0089\n",
      "Epoch 123/150\n",
      "\u001b[1m250/250\u001b[0m \u001b[32m━━━━━━━━━━━━━━━━━━━━\u001b[0m\u001b[37m\u001b[0m \u001b[1m3s\u001b[0m 7ms/step - R2Score: 0.9879 - loss: 0.0124 - val_R2Score: 0.9880 - val_loss: 0.0107\n",
      "Epoch 124/150\n",
      "\u001b[1m250/250\u001b[0m \u001b[32m━━━━━━━━━━━━━━━━━━━━\u001b[0m\u001b[37m\u001b[0m \u001b[1m2s\u001b[0m 7ms/step - R2Score: 0.9874 - loss: 0.0131 - val_R2Score: 0.9859 - val_loss: 0.0126\n",
      "Epoch 125/150\n",
      "\u001b[1m250/250\u001b[0m \u001b[32m━━━━━━━━━━━━━━━━━━━━\u001b[0m\u001b[37m\u001b[0m \u001b[1m2s\u001b[0m 7ms/step - R2Score: 0.9876 - loss: 0.0125 - val_R2Score: 0.9876 - val_loss: 0.0110\n",
      "Epoch 126/150\n",
      "\u001b[1m250/250\u001b[0m \u001b[32m━━━━━━━━━━━━━━━━━━━━\u001b[0m\u001b[37m\u001b[0m \u001b[1m2s\u001b[0m 7ms/step - R2Score: 0.9902 - loss: 0.0100 - val_R2Score: 0.9846 - val_loss: 0.0137\n",
      "Epoch 127/150\n",
      "\u001b[1m250/250\u001b[0m \u001b[32m━━━━━━━━━━━━━━━━━━━━\u001b[0m\u001b[37m\u001b[0m \u001b[1m2s\u001b[0m 7ms/step - R2Score: 0.9883 - loss: 0.0126 - val_R2Score: 0.9884 - val_loss: 0.0103\n",
      "Epoch 128/150\n",
      "\u001b[1m250/250\u001b[0m \u001b[32m━━━━━━━━━━━━━━━━━━━━\u001b[0m\u001b[37m\u001b[0m \u001b[1m2s\u001b[0m 6ms/step - R2Score: 0.9874 - loss: 0.0126 - val_R2Score: 0.9875 - val_loss: 0.0111\n",
      "Epoch 129/150\n",
      "\u001b[1m250/250\u001b[0m \u001b[32m━━━━━━━━━━━━━━━━━━━━\u001b[0m\u001b[37m\u001b[0m \u001b[1m2s\u001b[0m 7ms/step - R2Score: 0.9913 - loss: 0.0087 - val_R2Score: 0.9876 - val_loss: 0.0110\n",
      "Epoch 130/150\n",
      "\u001b[1m250/250\u001b[0m \u001b[32m━━━━━━━━━━━━━━━━━━━━\u001b[0m\u001b[37m\u001b[0m \u001b[1m3s\u001b[0m 7ms/step - R2Score: 0.9898 - loss: 0.0103 - val_R2Score: 0.9882 - val_loss: 0.0105\n",
      "Epoch 131/150\n",
      "\u001b[1m250/250\u001b[0m \u001b[32m━━━━━━━━━━━━━━━━━━━━\u001b[0m\u001b[37m\u001b[0m \u001b[1m1s\u001b[0m 5ms/step - R2Score: 0.9916 - loss: 0.0087 - val_R2Score: 0.9874 - val_loss: 0.0112\n",
      "Epoch 132/150\n",
      "\u001b[1m250/250\u001b[0m \u001b[32m━━━━━━━━━━━━━━━━━━━━\u001b[0m\u001b[37m\u001b[0m \u001b[1m2s\u001b[0m 6ms/step - R2Score: 0.9887 - loss: 0.0121 - val_R2Score: 0.9909 - val_loss: 0.0081\n",
      "Epoch 133/150\n",
      "\u001b[1m250/250\u001b[0m \u001b[32m━━━━━━━━━━━━━━━━━━━━\u001b[0m\u001b[37m\u001b[0m \u001b[1m1s\u001b[0m 5ms/step - R2Score: 0.9918 - loss: 0.0083 - val_R2Score: 0.9902 - val_loss: 0.0087\n",
      "Epoch 134/150\n",
      "\u001b[1m250/250\u001b[0m \u001b[32m━━━━━━━━━━━━━━━━━━━━\u001b[0m\u001b[37m\u001b[0m \u001b[1m2s\u001b[0m 6ms/step - R2Score: 0.9895 - loss: 0.0110 - val_R2Score: 0.9882 - val_loss: 0.0105\n",
      "Epoch 135/150\n",
      "\u001b[1m250/250\u001b[0m \u001b[32m━━━━━━━━━━━━━━━━━━━━\u001b[0m\u001b[37m\u001b[0m \u001b[1m2s\u001b[0m 5ms/step - R2Score: 0.9872 - loss: 0.0127 - val_R2Score: 0.9839 - val_loss: 0.0143\n",
      "Epoch 136/150\n",
      "\u001b[1m250/250\u001b[0m \u001b[32m━━━━━━━━━━━━━━━━━━━━\u001b[0m\u001b[37m\u001b[0m \u001b[1m2s\u001b[0m 6ms/step - R2Score: 0.9903 - loss: 0.0096 - val_R2Score: 0.9884 - val_loss: 0.0103\n",
      "Epoch 137/150\n",
      "\u001b[1m250/250\u001b[0m \u001b[32m━━━━━━━━━━━━━━━━━━━━\u001b[0m\u001b[37m\u001b[0m \u001b[1m3s\u001b[0m 6ms/step - R2Score: 0.9903 - loss: 0.0101 - val_R2Score: 0.9901 - val_loss: 0.0088\n",
      "Epoch 138/150\n",
      "\u001b[1m250/250\u001b[0m \u001b[32m━━━━━━━━━━━━━━━━━━━━\u001b[0m\u001b[37m\u001b[0m \u001b[1m1s\u001b[0m 5ms/step - R2Score: 0.9900 - loss: 0.0105 - val_R2Score: 0.9873 - val_loss: 0.0113\n",
      "Epoch 139/150\n",
      "\u001b[1m250/250\u001b[0m \u001b[32m━━━━━━━━━━━━━━━━━━━━\u001b[0m\u001b[37m\u001b[0m \u001b[1m1s\u001b[0m 5ms/step - R2Score: 0.9889 - loss: 0.0111 - val_R2Score: 0.9871 - val_loss: 0.0115\n",
      "Epoch 140/150\n",
      "\u001b[1m250/250\u001b[0m \u001b[32m━━━━━━━━━━━━━━━━━━━━\u001b[0m\u001b[37m\u001b[0m \u001b[1m3s\u001b[0m 6ms/step - R2Score: 0.9906 - loss: 0.0091 - val_R2Score: 0.9803 - val_loss: 0.0175\n",
      "Epoch 141/150\n",
      "\u001b[1m250/250\u001b[0m \u001b[32m━━━━━━━━━━━━━━━━━━━━\u001b[0m\u001b[37m\u001b[0m \u001b[1m2s\u001b[0m 6ms/step - R2Score: 0.9861 - loss: 0.0146 - val_R2Score: 0.9895 - val_loss: 0.0094\n",
      "Epoch 142/150\n",
      "\u001b[1m250/250\u001b[0m \u001b[32m━━━━━━━━━━━━━━━━━━━━\u001b[0m\u001b[37m\u001b[0m \u001b[1m1s\u001b[0m 6ms/step - R2Score: 0.9901 - loss: 0.0101 - val_R2Score: 0.9897 - val_loss: 0.0091\n",
      "Epoch 143/150\n",
      "\u001b[1m250/250\u001b[0m \u001b[32m━━━━━━━━━━━━━━━━━━━━\u001b[0m\u001b[37m\u001b[0m \u001b[1m1s\u001b[0m 5ms/step - R2Score: 0.9904 - loss: 0.0100 - val_R2Score: 0.9903 - val_loss: 0.0086\n",
      "Epoch 144/150\n",
      "\u001b[1m250/250\u001b[0m \u001b[32m━━━━━━━━━━━━━━━━━━━━\u001b[0m\u001b[37m\u001b[0m \u001b[1m2s\u001b[0m 5ms/step - R2Score: 0.9924 - loss: 0.0077 - val_R2Score: 0.9909 - val_loss: 0.0081\n",
      "Epoch 145/150\n",
      "\u001b[1m250/250\u001b[0m \u001b[32m━━━━━━━━━━━━━━━━━━━━\u001b[0m\u001b[37m\u001b[0m \u001b[1m2s\u001b[0m 5ms/step - R2Score: 0.9893 - loss: 0.0107 - val_R2Score: 0.9877 - val_loss: 0.0110\n",
      "Epoch 146/150\n",
      "\u001b[1m250/250\u001b[0m \u001b[32m━━━━━━━━━━━━━━━━━━━━\u001b[0m\u001b[37m\u001b[0m \u001b[1m1s\u001b[0m 5ms/step - R2Score: 0.9900 - loss: 0.0105 - val_R2Score: 0.9906 - val_loss: 0.0084\n",
      "Epoch 147/150\n",
      "\u001b[1m250/250\u001b[0m \u001b[32m━━━━━━━━━━━━━━━━━━━━\u001b[0m\u001b[37m\u001b[0m \u001b[1m2s\u001b[0m 6ms/step - R2Score: 0.9883 - loss: 0.0112 - val_R2Score: 0.9890 - val_loss: 0.0098\n",
      "Epoch 148/150\n",
      "\u001b[1m250/250\u001b[0m \u001b[32m━━━━━━━━━━━━━━━━━━━━\u001b[0m\u001b[37m\u001b[0m \u001b[1m1s\u001b[0m 6ms/step - R2Score: 0.9914 - loss: 0.0092 - val_R2Score: 0.9897 - val_loss: 0.0091\n",
      "Epoch 149/150\n",
      "\u001b[1m250/250\u001b[0m \u001b[32m━━━━━━━━━━━━━━━━━━━━\u001b[0m\u001b[37m\u001b[0m \u001b[1m1s\u001b[0m 5ms/step - R2Score: 0.9905 - loss: 0.0098 - val_R2Score: 0.9892 - val_loss: 0.0096\n",
      "Epoch 150/150\n",
      "\u001b[1m250/250\u001b[0m \u001b[32m━━━━━━━━━━━━━━━━━━━━\u001b[0m\u001b[37m\u001b[0m \u001b[1m1s\u001b[0m 4ms/step - R2Score: 0.9909 - loss: 0.0099 - val_R2Score: 0.9884 - val_loss: 0.0103\n"
     ]
    }
   ],
   "source": [
    "history = model.fit(\n",
    "    x_train_transformed, \n",
    "    y_train_transformed_frequency,  # Split the targets into separate arrays\n",
    "    validation_split=0.2,\n",
    "    epochs=150,\n",
    "    batch_size=32,\n",
    "    verbose=1,\n",
    "    callbacks=[tensorboard_callback]\n",
    ")"
   ]
  },
  {
   "cell_type": "code",
   "execution_count": 116,
   "metadata": {},
   "outputs": [
    {
     "name": "stdout",
     "output_type": "stream",
     "text": [
      "\u001b[1m78/78\u001b[0m \u001b[32m━━━━━━━━━━━━━━━━━━━━\u001b[0m\u001b[37m\u001b[0m \u001b[1m0s\u001b[0m 2ms/step - R2Score: 0.9800 - loss: 0.0229\n",
      "Test accuracy: 0.9796707630157471\n"
     ]
    }
   ],
   "source": [
    "test_loss, test_mse = model.evaluate(x_test_transformed, y_test_transformed_frequency)\n",
    "print('Test accuracy:', test_mse)"
   ]
  },
  {
   "cell_type": "code",
   "execution_count": 117,
   "metadata": {},
   "outputs": [
    {
     "data": {
      "text/html": [
       "<pre style=\"white-space:pre;overflow-x:auto;line-height:normal;font-family:Menlo,'DejaVu Sans Mono',consolas,'Courier New',monospace\"><span style=\"font-weight: bold\">Model: \"functional_5\"</span>\n",
       "</pre>\n"
      ],
      "text/plain": [
       "\u001b[1mModel: \"functional_5\"\u001b[0m\n"
      ]
     },
     "metadata": {},
     "output_type": "display_data"
    },
    {
     "data": {
      "text/html": [
       "<pre style=\"white-space:pre;overflow-x:auto;line-height:normal;font-family:Menlo,'DejaVu Sans Mono',consolas,'Courier New',monospace\">┏━━━━━━━━━━━━━━━━━━━━━━━━━━━━━━━━━┳━━━━━━━━━━━━━━━━━━━━━━━━┳━━━━━━━━━━━━━━━┓\n",
       "┃<span style=\"font-weight: bold\"> Layer (type)                    </span>┃<span style=\"font-weight: bold\"> Output Shape           </span>┃<span style=\"font-weight: bold\">       Param # </span>┃\n",
       "┡━━━━━━━━━━━━━━━━━━━━━━━━━━━━━━━━━╇━━━━━━━━━━━━━━━━━━━━━━━━╇━━━━━━━━━━━━━━━┩\n",
       "│ input_layer_5 (<span style=\"color: #0087ff; text-decoration-color: #0087ff\">InputLayer</span>)      │ (<span style=\"color: #00d7ff; text-decoration-color: #00d7ff\">None</span>, <span style=\"color: #00af00; text-decoration-color: #00af00\">14</span>)             │             <span style=\"color: #00af00; text-decoration-color: #00af00\">0</span> │\n",
       "├─────────────────────────────────┼────────────────────────┼───────────────┤\n",
       "│ dense_16 (<span style=\"color: #0087ff; text-decoration-color: #0087ff\">Dense</span>)                │ (<span style=\"color: #00d7ff; text-decoration-color: #00d7ff\">None</span>, <span style=\"color: #00af00; text-decoration-color: #00af00\">512</span>)            │         <span style=\"color: #00af00; text-decoration-color: #00af00\">7,680</span> │\n",
       "├─────────────────────────────────┼────────────────────────┼───────────────┤\n",
       "│ dropout_6 (<span style=\"color: #0087ff; text-decoration-color: #0087ff\">Dropout</span>)             │ (<span style=\"color: #00d7ff; text-decoration-color: #00d7ff\">None</span>, <span style=\"color: #00af00; text-decoration-color: #00af00\">512</span>)            │             <span style=\"color: #00af00; text-decoration-color: #00af00\">0</span> │\n",
       "├─────────────────────────────────┼────────────────────────┼───────────────┤\n",
       "│ dense_17 (<span style=\"color: #0087ff; text-decoration-color: #0087ff\">Dense</span>)                │ (<span style=\"color: #00d7ff; text-decoration-color: #00d7ff\">None</span>, <span style=\"color: #00af00; text-decoration-color: #00af00\">128</span>)            │        <span style=\"color: #00af00; text-decoration-color: #00af00\">65,664</span> │\n",
       "├─────────────────────────────────┼────────────────────────┼───────────────┤\n",
       "│ dense_18 (<span style=\"color: #0087ff; text-decoration-color: #0087ff\">Dense</span>)                │ (<span style=\"color: #00d7ff; text-decoration-color: #00d7ff\">None</span>, <span style=\"color: #00af00; text-decoration-color: #00af00\">1</span>)              │           <span style=\"color: #00af00; text-decoration-color: #00af00\">129</span> │\n",
       "└─────────────────────────────────┴────────────────────────┴───────────────┘\n",
       "</pre>\n"
      ],
      "text/plain": [
       "┏━━━━━━━━━━━━━━━━━━━━━━━━━━━━━━━━━┳━━━━━━━━━━━━━━━━━━━━━━━━┳━━━━━━━━━━━━━━━┓\n",
       "┃\u001b[1m \u001b[0m\u001b[1mLayer (type)                   \u001b[0m\u001b[1m \u001b[0m┃\u001b[1m \u001b[0m\u001b[1mOutput Shape          \u001b[0m\u001b[1m \u001b[0m┃\u001b[1m \u001b[0m\u001b[1m      Param #\u001b[0m\u001b[1m \u001b[0m┃\n",
       "┡━━━━━━━━━━━━━━━━━━━━━━━━━━━━━━━━━╇━━━━━━━━━━━━━━━━━━━━━━━━╇━━━━━━━━━━━━━━━┩\n",
       "│ input_layer_5 (\u001b[38;5;33mInputLayer\u001b[0m)      │ (\u001b[38;5;45mNone\u001b[0m, \u001b[38;5;34m14\u001b[0m)             │             \u001b[38;5;34m0\u001b[0m │\n",
       "├─────────────────────────────────┼────────────────────────┼───────────────┤\n",
       "│ dense_16 (\u001b[38;5;33mDense\u001b[0m)                │ (\u001b[38;5;45mNone\u001b[0m, \u001b[38;5;34m512\u001b[0m)            │         \u001b[38;5;34m7,680\u001b[0m │\n",
       "├─────────────────────────────────┼────────────────────────┼───────────────┤\n",
       "│ dropout_6 (\u001b[38;5;33mDropout\u001b[0m)             │ (\u001b[38;5;45mNone\u001b[0m, \u001b[38;5;34m512\u001b[0m)            │             \u001b[38;5;34m0\u001b[0m │\n",
       "├─────────────────────────────────┼────────────────────────┼───────────────┤\n",
       "│ dense_17 (\u001b[38;5;33mDense\u001b[0m)                │ (\u001b[38;5;45mNone\u001b[0m, \u001b[38;5;34m128\u001b[0m)            │        \u001b[38;5;34m65,664\u001b[0m │\n",
       "├─────────────────────────────────┼────────────────────────┼───────────────┤\n",
       "│ dense_18 (\u001b[38;5;33mDense\u001b[0m)                │ (\u001b[38;5;45mNone\u001b[0m, \u001b[38;5;34m1\u001b[0m)              │           \u001b[38;5;34m129\u001b[0m │\n",
       "└─────────────────────────────────┴────────────────────────┴───────────────┘\n"
      ]
     },
     "metadata": {},
     "output_type": "display_data"
    },
    {
     "data": {
      "text/html": [
       "<pre style=\"white-space:pre;overflow-x:auto;line-height:normal;font-family:Menlo,'DejaVu Sans Mono',consolas,'Courier New',monospace\"><span style=\"font-weight: bold\"> Total params: </span><span style=\"color: #00af00; text-decoration-color: #00af00\">220,421</span> (861.02 KB)\n",
       "</pre>\n"
      ],
      "text/plain": [
       "\u001b[1m Total params: \u001b[0m\u001b[38;5;34m220,421\u001b[0m (861.02 KB)\n"
      ]
     },
     "metadata": {},
     "output_type": "display_data"
    },
    {
     "data": {
      "text/html": [
       "<pre style=\"white-space:pre;overflow-x:auto;line-height:normal;font-family:Menlo,'DejaVu Sans Mono',consolas,'Courier New',monospace\"><span style=\"font-weight: bold\"> Trainable params: </span><span style=\"color: #00af00; text-decoration-color: #00af00\">73,473</span> (287.00 KB)\n",
       "</pre>\n"
      ],
      "text/plain": [
       "\u001b[1m Trainable params: \u001b[0m\u001b[38;5;34m73,473\u001b[0m (287.00 KB)\n"
      ]
     },
     "metadata": {},
     "output_type": "display_data"
    },
    {
     "data": {
      "text/html": [
       "<pre style=\"white-space:pre;overflow-x:auto;line-height:normal;font-family:Menlo,'DejaVu Sans Mono',consolas,'Courier New',monospace\"><span style=\"font-weight: bold\"> Non-trainable params: </span><span style=\"color: #00af00; text-decoration-color: #00af00\">0</span> (0.00 B)\n",
       "</pre>\n"
      ],
      "text/plain": [
       "\u001b[1m Non-trainable params: \u001b[0m\u001b[38;5;34m0\u001b[0m (0.00 B)\n"
      ]
     },
     "metadata": {},
     "output_type": "display_data"
    },
    {
     "data": {
      "text/html": [
       "<pre style=\"white-space:pre;overflow-x:auto;line-height:normal;font-family:Menlo,'DejaVu Sans Mono',consolas,'Courier New',monospace\"><span style=\"font-weight: bold\"> Optimizer params: </span><span style=\"color: #00af00; text-decoration-color: #00af00\">146,948</span> (574.02 KB)\n",
       "</pre>\n"
      ],
      "text/plain": [
       "\u001b[1m Optimizer params: \u001b[0m\u001b[38;5;34m146,948\u001b[0m (574.02 KB)\n"
      ]
     },
     "metadata": {},
     "output_type": "display_data"
    }
   ],
   "source": [
    "model.summary()"
   ]
  },
  {
   "cell_type": "code",
   "execution_count": 118,
   "metadata": {},
   "outputs": [
    {
     "data": {
      "text/plain": [
       "[<matplotlib.lines.Line2D at 0x17636db96d0>]"
      ]
     },
     "execution_count": 118,
     "metadata": {},
     "output_type": "execute_result"
    },
    {
     "data": {
      "image/png": "[encoded data removed]",
      "text/plain": [
       "<Figure size 640x480 with 1 Axes>"
      ]
     },
     "metadata": {},
     "output_type": "display_data"
    }
   ],
   "source": [
    "plt.plot(history.history[\"loss\"],label=\"loss\")\n",
    "plt.plot(history.history[\"val_loss\"],label=\"val_loss\")"
   ]
  },
  {
   "cell_type": "code",
   "execution_count": 119,
   "metadata": {},
   "outputs": [
    {
     "name": "stdout",
     "output_type": "stream",
     "text": [
      "\u001b[1m78/78\u001b[0m \u001b[32m━━━━━━━━━━━━━━━━━━━━\u001b[0m\u001b[37m\u001b[0m \u001b[1m1s\u001b[0m 5ms/step\n"
     ]
    }
   ],
   "source": [
    "predictions_scaled = model.predict(x_test_transformed)\n",
    "predictions = scaler_y_frequency.inverse_transform((predictions_scaled))"
   ]
  },
  {
   "cell_type": "code",
   "execution_count": 120,
   "metadata": {},
   "outputs": [
    {
     "name": "stdout",
     "output_type": "stream",
     "text": [
      "\n",
      "Sample Predictions:\n",
      "           0\n",
      "0  93.741791\n",
      "1  34.955055\n",
      "2  11.126504\n",
      "3  31.743404\n",
      "4   9.620611\n"
     ]
    }
   ],
   "source": [
    "predictions_df = pd.DataFrame(predictions)\n",
    "print(\"\\nSample Predictions:\")\n",
    "print(predictions_df.head())"
   ]
  },
  {
   "cell_type": "code",
   "execution_count": 121,
   "metadata": {},
   "outputs": [
    {
     "data": {
      "text/plain": [
       "3001     91.4822\n",
       "5829     32.4879\n",
       "11774    11.8316\n",
       "8374     31.8855\n",
       "8203      9.5643\n",
       "          ...   \n",
       "11314     7.0697\n",
       "2055     23.7930\n",
       "5693     15.7452\n",
       "6551      4.3574\n",
       "5993      6.3673\n",
       "Name: frequency, Length: 2493, dtype: float64"
      ]
     },
     "execution_count": 121,
     "metadata": {},
     "output_type": "execute_result"
    }
   ],
   "source": [
    "y_test[\"frequency\"]"
   ]
  },
  {
   "cell_type": "code",
   "execution_count": 122,
   "metadata": {},
   "outputs": [
    {
     "data": {
      "text/plain": [
       "8.560158938137764"
      ]
     },
     "execution_count": 122,
     "metadata": {},
     "output_type": "execute_result"
    }
   ],
   "source": [
    "true= y_test[\"frequency\"].tolist()\n",
    "pred= predictions_df[0].tolist()\n",
    "mean_squared_error(true,pred)"
   ]
  },
  {
   "cell_type": "code",
   "execution_count": 123,
   "metadata": {},
   "outputs": [
    {
     "data": {
      "image/png": "[encoded data removed]",
      "text/plain": [
       "<Figure size 640x480 with 1 Axes>"
      ]
     },
     "metadata": {},
     "output_type": "display_data"
    }
   ],
   "source": [
    "x=predictions_df\n",
    "y=y_test[\"frequency\"]\n",
    "plt.scatter(x,y)\n",
    "#plt.loglog()\n",
    "plt.plot([0, 150],[0, 150])\n",
    "plt.show()"
   ]
  },
  {
   "cell_type": "code",
   "execution_count": 124,
   "metadata": {},
   "outputs": [],
   "source": [
    "input_layer = Input(shape=(x_train_transformed.shape[1],))\n",
    "hidden1 = Dense(512, activation='relu')(input_layer)\n",
    "dropout1 = Dropout(0.2)(hidden1)\n",
    "hidden2 = Dense(128, activation='relu')(dropout1)\n",
    "dropout2 = Dropout(0.2)(hidden2)\n",
    "hidden3 = Dense(32, activation='relu')(dropout2)\n",
    "\n",
    "# Separate output for each target variable\n",
    "output_layer = Dense(1)(hidden3)\n",
    "#, name='allowable_deformation'"
   ]
  },
  {
   "cell_type": "code",
   "execution_count": 125,
   "metadata": {},
   "outputs": [],
   "source": [
    "model_d = Model(inputs=input_layer, outputs=output_layer)"
   ]
  },
  {
   "cell_type": "code",
   "execution_count": 126,
   "metadata": {},
   "outputs": [],
   "source": [
    "model_d.compile(optimizer=Adam(learning_rate=0.001), \n",
    "              loss='mse',\n",
    "              metrics=[\"R2Score\"])"
   ]
  },
  {
   "cell_type": "code",
   "execution_count": 127,
   "metadata": {},
   "outputs": [
    {
     "name": "stdout",
     "output_type": "stream",
     "text": [
      "Epoch 1/150\n",
      "\u001b[1m250/250\u001b[0m \u001b[32m━━━━━━━━━━━━━━━━━━━━\u001b[0m\u001b[37m\u001b[0m \u001b[1m4s\u001b[0m 6ms/step - R2Score: 0.5013 - loss: 0.4137 - val_R2Score: 0.9184 - val_loss: 0.0802\n",
      "Epoch 2/150\n",
      "\u001b[1m250/250\u001b[0m \u001b[32m━━━━━━━━━━━━━━━━━━━━\u001b[0m\u001b[37m\u001b[0m \u001b[1m1s\u001b[0m 4ms/step - R2Score: 0.9034 - loss: 0.1042 - val_R2Score: 0.9408 - val_loss: 0.0581\n",
      "Epoch 3/150\n",
      "\u001b[1m250/250\u001b[0m \u001b[32m━━━━━━━━━━━━━━━━━━━━\u001b[0m\u001b[37m\u001b[0m \u001b[1m1s\u001b[0m 4ms/step - R2Score: 0.8926 - loss: 0.1007 - val_R2Score: 0.9435 - val_loss: 0.0555\n",
      "Epoch 4/150\n",
      "\u001b[1m250/250\u001b[0m \u001b[32m━━━━━━━━━━━━━━━━━━━━\u001b[0m\u001b[37m\u001b[0m \u001b[1m1s\u001b[0m 6ms/step - R2Score: 0.9165 - loss: 0.0819 - val_R2Score: 0.8959 - val_loss: 0.1022\n",
      "Epoch 5/150\n",
      "\u001b[1m250/250\u001b[0m \u001b[32m━━━━━━━━━━━━━━━━━━━━\u001b[0m\u001b[37m\u001b[0m \u001b[1m2s\u001b[0m 4ms/step - R2Score: 0.9216 - loss: 0.0782 - val_R2Score: 0.9527 - val_loss: 0.0464\n",
      "Epoch 6/150\n",
      "\u001b[1m250/250\u001b[0m \u001b[32m━━━━━━━━━━━━━━━━━━━━\u001b[0m\u001b[37m\u001b[0m \u001b[1m1s\u001b[0m 4ms/step - R2Score: 0.9368 - loss: 0.0605 - val_R2Score: 0.9655 - val_loss: 0.0338\n",
      "Epoch 7/150\n",
      "\u001b[1m250/250\u001b[0m \u001b[32m━━━━━━━━━━━━━━━━━━━━\u001b[0m\u001b[37m\u001b[0m \u001b[1m1s\u001b[0m 4ms/step - R2Score: 0.9364 - loss: 0.0625 - val_R2Score: 0.9620 - val_loss: 0.0373\n",
      "Epoch 8/150\n",
      "\u001b[1m250/250\u001b[0m \u001b[32m━━━━━━━━━━━━━━━━━━━━\u001b[0m\u001b[37m\u001b[0m \u001b[1m1s\u001b[0m 4ms/step - R2Score: 0.9285 - loss: 0.0775 - val_R2Score: 0.9632 - val_loss: 0.0362\n",
      "Epoch 9/150\n",
      "\u001b[1m250/250\u001b[0m \u001b[32m━━━━━━━━━━━━━━━━━━━━\u001b[0m\u001b[37m\u001b[0m \u001b[1m1s\u001b[0m 5ms/step - R2Score: 0.9477 - loss: 0.0529 - val_R2Score: 0.9589 - val_loss: 0.0404\n",
      "Epoch 10/150\n",
      "\u001b[1m250/250\u001b[0m \u001b[32m━━━━━━━━━━━━━━━━━━━━\u001b[0m\u001b[37m\u001b[0m \u001b[1m1s\u001b[0m 5ms/step - R2Score: 0.9369 - loss: 0.0608 - val_R2Score: 0.9669 - val_loss: 0.0325\n",
      "Epoch 11/150\n",
      "\u001b[1m250/250\u001b[0m \u001b[32m━━━━━━━━━━━━━━━━━━━━\u001b[0m\u001b[37m\u001b[0m \u001b[1m1s\u001b[0m 4ms/step - R2Score: 0.9165 - loss: 0.0786 - val_R2Score: 0.9676 - val_loss: 0.0318\n",
      "Epoch 12/150\n",
      "\u001b[1m250/250\u001b[0m \u001b[32m━━━━━━━━━━━━━━━━━━━━\u001b[0m\u001b[37m\u001b[0m \u001b[1m1s\u001b[0m 4ms/step - R2Score: 0.9451 - loss: 0.0606 - val_R2Score: 0.9652 - val_loss: 0.0342\n",
      "Epoch 13/150\n",
      "\u001b[1m250/250\u001b[0m \u001b[32m━━━━━━━━━━━━━━━━━━━━\u001b[0m\u001b[37m\u001b[0m \u001b[1m1s\u001b[0m 4ms/step - R2Score: 0.9489 - loss: 0.0518 - val_R2Score: 0.9573 - val_loss: 0.0419\n",
      "Epoch 14/150\n",
      "\u001b[1m250/250\u001b[0m \u001b[32m━━━━━━━━━━━━━━━━━━━━\u001b[0m\u001b[37m\u001b[0m \u001b[1m1s\u001b[0m 4ms/step - R2Score: 0.9515 - loss: 0.0494 - val_R2Score: 0.9611 - val_loss: 0.0382\n",
      "Epoch 15/150\n",
      "\u001b[1m250/250\u001b[0m \u001b[32m━━━━━━━━━━━━━━━━━━━━\u001b[0m\u001b[37m\u001b[0m \u001b[1m1s\u001b[0m 5ms/step - R2Score: 0.9622 - loss: 0.0367 - val_R2Score: 0.9726 - val_loss: 0.0269\n",
      "Epoch 16/150\n",
      "\u001b[1m250/250\u001b[0m \u001b[32m━━━━━━━━━━━━━━━━━━━━\u001b[0m\u001b[37m\u001b[0m \u001b[1m1s\u001b[0m 5ms/step - R2Score: 0.9522 - loss: 0.0530 - val_R2Score: 0.9696 - val_loss: 0.0299\n",
      "Epoch 17/150\n",
      "\u001b[1m250/250\u001b[0m \u001b[32m━━━━━━━━━━━━━━━━━━━━\u001b[0m\u001b[37m\u001b[0m \u001b[1m1s\u001b[0m 5ms/step - R2Score: 0.9563 - loss: 0.0432 - val_R2Score: 0.9708 - val_loss: 0.0287\n",
      "Epoch 18/150\n",
      "\u001b[1m250/250\u001b[0m \u001b[32m━━━━━━━━━━━━━━━━━━━━\u001b[0m\u001b[37m\u001b[0m \u001b[1m1s\u001b[0m 4ms/step - R2Score: 0.9631 - loss: 0.0384 - val_R2Score: 0.9731 - val_loss: 0.0264\n",
      "Epoch 19/150\n",
      "\u001b[1m250/250\u001b[0m \u001b[32m━━━━━━━━━━━━━━━━━━━━\u001b[0m\u001b[37m\u001b[0m \u001b[1m1s\u001b[0m 4ms/step - R2Score: 0.9524 - loss: 0.0447 - val_R2Score: 0.9479 - val_loss: 0.0511\n",
      "Epoch 20/150\n",
      "\u001b[1m250/250\u001b[0m \u001b[32m━━━━━━━━━━━━━━━━━━━━\u001b[0m\u001b[37m\u001b[0m \u001b[1m1s\u001b[0m 4ms/step - R2Score: 0.9619 - loss: 0.0357 - val_R2Score: 0.9784 - val_loss: 0.0212\n",
      "Epoch 21/150\n",
      "\u001b[1m250/250\u001b[0m \u001b[32m━━━━━━━━━━━━━━━━━━━━\u001b[0m\u001b[37m\u001b[0m \u001b[1m1s\u001b[0m 5ms/step - R2Score: 0.9677 - loss: 0.0325 - val_R2Score: 0.9673 - val_loss: 0.0321\n",
      "Epoch 22/150\n",
      "\u001b[1m250/250\u001b[0m \u001b[32m━━━━━━━━━━━━━━━━━━━━\u001b[0m\u001b[37m\u001b[0m \u001b[1m1s\u001b[0m 5ms/step - R2Score: 0.9630 - loss: 0.0365 - val_R2Score: 0.9568 - val_loss: 0.0424\n",
      "Epoch 23/150\n",
      "\u001b[1m250/250\u001b[0m \u001b[32m━━━━━━━━━━━━━━━━━━━━\u001b[0m\u001b[37m\u001b[0m \u001b[1m1s\u001b[0m 4ms/step - R2Score: 0.9591 - loss: 0.0410 - val_R2Score: 0.9674 - val_loss: 0.0321\n",
      "Epoch 24/150\n",
      "\u001b[1m250/250\u001b[0m \u001b[32m━━━━━━━━━━━━━━━━━━━━\u001b[0m\u001b[37m\u001b[0m \u001b[1m1s\u001b[0m 4ms/step - R2Score: 0.9627 - loss: 0.0363 - val_R2Score: 0.9564 - val_loss: 0.0428\n",
      "Epoch 25/150\n",
      "\u001b[1m250/250\u001b[0m \u001b[32m━━━━━━━━━━━━━━━━━━━━\u001b[0m\u001b[37m\u001b[0m \u001b[1m3s\u001b[0m 7ms/step - R2Score: 0.9606 - loss: 0.0390 - val_R2Score: 0.9770 - val_loss: 0.0225\n",
      "Epoch 26/150\n",
      "\u001b[1m250/250\u001b[0m \u001b[32m━━━━━━━━━━━━━━━━━━━━\u001b[0m\u001b[37m\u001b[0m \u001b[1m3s\u001b[0m 7ms/step - R2Score: 0.9572 - loss: 0.0437 - val_R2Score: 0.9697 - val_loss: 0.0298\n",
      "Epoch 27/150\n",
      "\u001b[1m250/250\u001b[0m \u001b[32m━━━━━━━━━━━━━━━━━━━━\u001b[0m\u001b[37m\u001b[0m \u001b[1m2s\u001b[0m 6ms/step - R2Score: 0.9666 - loss: 0.0372 - val_R2Score: 0.9777 - val_loss: 0.0219\n",
      "Epoch 28/150\n",
      "\u001b[1m250/250\u001b[0m \u001b[32m━━━━━━━━━━━━━━━━━━━━\u001b[0m\u001b[37m\u001b[0m \u001b[1m1s\u001b[0m 5ms/step - R2Score: 0.9683 - loss: 0.0333 - val_R2Score: 0.9605 - val_loss: 0.0388\n",
      "Epoch 29/150\n",
      "\u001b[1m250/250\u001b[0m \u001b[32m━━━━━━━━━━━━━━━━━━━━\u001b[0m\u001b[37m\u001b[0m \u001b[1m1s\u001b[0m 5ms/step - R2Score: 0.9664 - loss: 0.0355 - val_R2Score: 0.9669 - val_loss: 0.0325\n",
      "Epoch 30/150\n",
      "\u001b[1m250/250\u001b[0m \u001b[32m━━━━━━━━━━━━━━━━━━━━\u001b[0m\u001b[37m\u001b[0m \u001b[1m2s\u001b[0m 7ms/step - R2Score: 0.9658 - loss: 0.0331 - val_R2Score: 0.9629 - val_loss: 0.0364\n",
      "Epoch 31/150\n",
      "\u001b[1m250/250\u001b[0m \u001b[32m━━━━━━━━━━━━━━━━━━━━\u001b[0m\u001b[37m\u001b[0m \u001b[1m3s\u001b[0m 10ms/step - R2Score: 0.9685 - loss: 0.0297 - val_R2Score: 0.9515 - val_loss: 0.0477\n",
      "Epoch 32/150\n",
      "\u001b[1m250/250\u001b[0m \u001b[32m━━━━━━━━━━━━━━━━━━━━\u001b[0m\u001b[37m\u001b[0m \u001b[1m1s\u001b[0m 5ms/step - R2Score: 0.9662 - loss: 0.0338 - val_R2Score: 0.9761 - val_loss: 0.0235\n",
      "Epoch 33/150\n",
      "\u001b[1m250/250\u001b[0m \u001b[32m━━━━━━━━━━━━━━━━━━━━\u001b[0m\u001b[37m\u001b[0m \u001b[1m2s\u001b[0m 6ms/step - R2Score: 0.9649 - loss: 0.0337 - val_R2Score: 0.9714 - val_loss: 0.0281\n",
      "Epoch 34/150\n",
      "\u001b[1m250/250\u001b[0m \u001b[32m━━━━━━━━━━━━━━━━━━━━\u001b[0m\u001b[37m\u001b[0m \u001b[1m2s\u001b[0m 7ms/step - R2Score: 0.9684 - loss: 0.0325 - val_R2Score: 0.9760 - val_loss: 0.0236\n",
      "Epoch 35/150\n",
      "\u001b[1m250/250\u001b[0m \u001b[32m━━━━━━━━━━━━━━━━━━━━\u001b[0m\u001b[37m\u001b[0m \u001b[1m2s\u001b[0m 5ms/step - R2Score: 0.9692 - loss: 0.0291 - val_R2Score: 0.9750 - val_loss: 0.0246\n",
      "Epoch 36/150\n",
      "\u001b[1m250/250\u001b[0m \u001b[32m━━━━━━━━━━━━━━━━━━━━\u001b[0m\u001b[37m\u001b[0m \u001b[1m2s\u001b[0m 7ms/step - R2Score: 0.9706 - loss: 0.0286 - val_R2Score: 0.9592 - val_loss: 0.0401\n",
      "Epoch 37/150\n",
      "\u001b[1m250/250\u001b[0m \u001b[32m━━━━━━━━━━━━━━━━━━━━\u001b[0m\u001b[37m\u001b[0m \u001b[1m3s\u001b[0m 7ms/step - R2Score: 0.9670 - loss: 0.0355 - val_R2Score: 0.9797 - val_loss: 0.0200\n",
      "Epoch 38/150\n",
      "\u001b[1m250/250\u001b[0m \u001b[32m━━━━━━━━━━━━━━━━━━━━\u001b[0m\u001b[37m\u001b[0m \u001b[1m3s\u001b[0m 7ms/step - R2Score: 0.9629 - loss: 0.0385 - val_R2Score: 0.9779 - val_loss: 0.0217\n",
      "Epoch 39/150\n",
      "\u001b[1m250/250\u001b[0m \u001b[32m━━━━━━━━━━━━━━━━━━━━\u001b[0m\u001b[37m\u001b[0m \u001b[1m2s\u001b[0m 8ms/step - R2Score: 0.9698 - loss: 0.0314 - val_R2Score: 0.9563 - val_loss: 0.0429\n",
      "Epoch 40/150\n",
      "\u001b[1m250/250\u001b[0m \u001b[32m━━━━━━━━━━━━━━━━━━━━\u001b[0m\u001b[37m\u001b[0m \u001b[1m2s\u001b[0m 6ms/step - R2Score: 0.9688 - loss: 0.0322 - val_R2Score: 0.9742 - val_loss: 0.0253\n",
      "Epoch 41/150\n",
      "\u001b[1m250/250\u001b[0m \u001b[32m━━━━━━━━━━━━━━━━━━━━\u001b[0m\u001b[37m\u001b[0m \u001b[1m1s\u001b[0m 5ms/step - R2Score: 0.9709 - loss: 0.0320 - val_R2Score: 0.9810 - val_loss: 0.0186\n",
      "Epoch 42/150\n",
      "\u001b[1m250/250\u001b[0m \u001b[32m━━━━━━━━━━━━━━━━━━━━\u001b[0m\u001b[37m\u001b[0m \u001b[1m1s\u001b[0m 5ms/step - R2Score: 0.9692 - loss: 0.0307 - val_R2Score: 0.9696 - val_loss: 0.0298\n",
      "Epoch 43/150\n",
      "\u001b[1m250/250\u001b[0m \u001b[32m━━━━━━━━━━━━━━━━━━━━\u001b[0m\u001b[37m\u001b[0m \u001b[1m2s\u001b[0m 6ms/step - R2Score: 0.9746 - loss: 0.0233 - val_R2Score: 0.9821 - val_loss: 0.0176\n",
      "Epoch 44/150\n",
      "\u001b[1m250/250\u001b[0m \u001b[32m━━━━━━━━━━━━━━━━━━━━\u001b[0m\u001b[37m\u001b[0m \u001b[1m1s\u001b[0m 5ms/step - R2Score: 0.9691 - loss: 0.0318 - val_R2Score: 0.9835 - val_loss: 0.0162\n",
      "Epoch 45/150\n",
      "\u001b[1m250/250\u001b[0m \u001b[32m━━━━━━━━━━━━━━━━━━━━\u001b[0m\u001b[37m\u001b[0m \u001b[1m1s\u001b[0m 5ms/step - R2Score: 0.9736 - loss: 0.0273 - val_R2Score: 0.9667 - val_loss: 0.0327\n",
      "Epoch 46/150\n",
      "\u001b[1m250/250\u001b[0m \u001b[32m━━━━━━━━━━━━━━━━━━━━\u001b[0m\u001b[37m\u001b[0m \u001b[1m2s\u001b[0m 6ms/step - R2Score: 0.9715 - loss: 0.0291 - val_R2Score: 0.9760 - val_loss: 0.0236\n",
      "Epoch 47/150\n",
      "\u001b[1m250/250\u001b[0m \u001b[32m━━━━━━━━━━━━━━━━━━━━\u001b[0m\u001b[37m\u001b[0m \u001b[1m2s\u001b[0m 8ms/step - R2Score: 0.9682 - loss: 0.0308 - val_R2Score: 0.9599 - val_loss: 0.0394\n",
      "Epoch 48/150\n",
      "\u001b[1m250/250\u001b[0m \u001b[32m━━━━━━━━━━━━━━━━━━━━\u001b[0m\u001b[37m\u001b[0m \u001b[1m3s\u001b[0m 9ms/step - R2Score: 0.9726 - loss: 0.0248 - val_R2Score: 0.9704 - val_loss: 0.0291\n",
      "Epoch 49/150\n",
      "\u001b[1m250/250\u001b[0m \u001b[32m━━━━━━━━━━━━━━━━━━━━\u001b[0m\u001b[37m\u001b[0m \u001b[1m3s\u001b[0m 10ms/step - R2Score: 0.9779 - loss: 0.0221 - val_R2Score: 0.9818 - val_loss: 0.0179\n",
      "Epoch 50/150\n",
      "\u001b[1m250/250\u001b[0m \u001b[32m━━━━━━━━━━━━━━━━━━━━\u001b[0m\u001b[37m\u001b[0m \u001b[1m2s\u001b[0m 8ms/step - R2Score: 0.9693 - loss: 0.0289 - val_R2Score: 0.9836 - val_loss: 0.0161\n",
      "Epoch 51/150\n",
      "\u001b[1m250/250\u001b[0m \u001b[32m━━━━━━━━━━━━━━━━━━━━\u001b[0m\u001b[37m\u001b[0m \u001b[1m1s\u001b[0m 5ms/step - R2Score: 0.9742 - loss: 0.0272 - val_R2Score: 0.9608 - val_loss: 0.0385\n",
      "Epoch 52/150\n",
      "\u001b[1m250/250\u001b[0m \u001b[32m━━━━━━━━━━━━━━━━━━━━\u001b[0m\u001b[37m\u001b[0m \u001b[1m2s\u001b[0m 7ms/step - R2Score: 0.9722 - loss: 0.0306 - val_R2Score: 0.9674 - val_loss: 0.0321\n",
      "Epoch 53/150\n",
      "\u001b[1m250/250\u001b[0m \u001b[32m━━━━━━━━━━━━━━━━━━━━\u001b[0m\u001b[37m\u001b[0m \u001b[1m2s\u001b[0m 8ms/step - R2Score: 0.9746 - loss: 0.0254 - val_R2Score: 0.9677 - val_loss: 0.0317\n",
      "Epoch 54/150\n",
      "\u001b[1m250/250\u001b[0m \u001b[32m━━━━━━━━━━━━━━━━━━━━\u001b[0m\u001b[37m\u001b[0m \u001b[1m1s\u001b[0m 5ms/step - R2Score: 0.9698 - loss: 0.0310 - val_R2Score: 0.9785 - val_loss: 0.0211\n",
      "Epoch 55/150\n",
      "\u001b[1m250/250\u001b[0m \u001b[32m━━━━━━━━━━━━━━━━━━━━\u001b[0m\u001b[37m\u001b[0m \u001b[1m3s\u001b[0m 5ms/step - R2Score: 0.9694 - loss: 0.0316 - val_R2Score: 0.9623 - val_loss: 0.0371\n",
      "Epoch 56/150\n",
      "\u001b[1m250/250\u001b[0m \u001b[32m━━━━━━━━━━━━━━━━━━━━\u001b[0m\u001b[37m\u001b[0m \u001b[1m1s\u001b[0m 5ms/step - R2Score: 0.9721 - loss: 0.0296 - val_R2Score: 0.9748 - val_loss: 0.0247\n",
      "Epoch 57/150\n",
      "\u001b[1m250/250\u001b[0m \u001b[32m━━━━━━━━━━━━━━━━━━━━\u001b[0m\u001b[37m\u001b[0m \u001b[1m1s\u001b[0m 4ms/step - R2Score: 0.9711 - loss: 0.0255 - val_R2Score: 0.9734 - val_loss: 0.0261\n",
      "Epoch 58/150\n",
      "\u001b[1m250/250\u001b[0m \u001b[32m━━━━━━━━━━━━━━━━━━━━\u001b[0m\u001b[37m\u001b[0m \u001b[1m2s\u001b[0m 6ms/step - R2Score: 0.9730 - loss: 0.0281 - val_R2Score: 0.9746 - val_loss: 0.0249\n",
      "Epoch 59/150\n",
      "\u001b[1m250/250\u001b[0m \u001b[32m━━━━━━━━━━━━━━━━━━━━\u001b[0m\u001b[37m\u001b[0m \u001b[1m2s\u001b[0m 5ms/step - R2Score: 0.9627 - loss: 0.0377 - val_R2Score: 0.9718 - val_loss: 0.0277\n",
      "Epoch 60/150\n",
      "\u001b[1m250/250\u001b[0m \u001b[32m━━━━━━━━━━━━━━━━━━━━\u001b[0m\u001b[37m\u001b[0m \u001b[1m1s\u001b[0m 6ms/step - R2Score: 0.9773 - loss: 0.0250 - val_R2Score: 0.9782 - val_loss: 0.0214\n",
      "Epoch 61/150\n",
      "\u001b[1m250/250\u001b[0m \u001b[32m━━━━━━━━━━━━━━━━━━━━\u001b[0m\u001b[37m\u001b[0m \u001b[1m1s\u001b[0m 6ms/step - R2Score: 0.9750 - loss: 0.0248 - val_R2Score: 0.9688 - val_loss: 0.0307\n",
      "Epoch 62/150\n",
      "\u001b[1m250/250\u001b[0m \u001b[32m━━━━━━━━━━━━━━━━━━━━\u001b[0m\u001b[37m\u001b[0m \u001b[1m2s\u001b[0m 5ms/step - R2Score: 0.9743 - loss: 0.0235 - val_R2Score: 0.9771 - val_loss: 0.0225\n",
      "Epoch 63/150\n",
      "\u001b[1m250/250\u001b[0m \u001b[32m━━━━━━━━━━━━━━━━━━━━\u001b[0m\u001b[37m\u001b[0m \u001b[1m1s\u001b[0m 5ms/step - R2Score: 0.9711 - loss: 0.0302 - val_R2Score: 0.9719 - val_loss: 0.0276\n",
      "Epoch 64/150\n",
      "\u001b[1m250/250\u001b[0m \u001b[32m━━━━━━━━━━━━━━━━━━━━\u001b[0m\u001b[37m\u001b[0m \u001b[1m1s\u001b[0m 5ms/step - R2Score: 0.9747 - loss: 0.0260 - val_R2Score: 0.9752 - val_loss: 0.0243\n",
      "Epoch 65/150\n",
      "\u001b[1m250/250\u001b[0m \u001b[32m━━━━━━━━━━━━━━━━━━━━\u001b[0m\u001b[37m\u001b[0m \u001b[1m1s\u001b[0m 6ms/step - R2Score: 0.9785 - loss: 0.0216 - val_R2Score: 0.9817 - val_loss: 0.0179\n",
      "Epoch 66/150\n",
      "\u001b[1m250/250\u001b[0m \u001b[32m━━━━━━━━━━━━━━━━━━━━\u001b[0m\u001b[37m\u001b[0m \u001b[1m3s\u001b[0m 6ms/step - R2Score: 0.9744 - loss: 0.0263 - val_R2Score: 0.9776 - val_loss: 0.0220\n",
      "Epoch 67/150\n",
      "\u001b[1m250/250\u001b[0m \u001b[32m━━━━━━━━━━━━━━━━━━━━\u001b[0m\u001b[37m\u001b[0m \u001b[1m1s\u001b[0m 5ms/step - R2Score: 0.9744 - loss: 0.0265 - val_R2Score: 0.9802 - val_loss: 0.0195\n",
      "Epoch 68/150\n",
      "\u001b[1m250/250\u001b[0m \u001b[32m━━━━━━━━━━━━━━━━━━━━\u001b[0m\u001b[37m\u001b[0m \u001b[1m2s\u001b[0m 7ms/step - R2Score: 0.9727 - loss: 0.0319 - val_R2Score: 0.9719 - val_loss: 0.0276\n",
      "Epoch 69/150\n",
      "\u001b[1m250/250\u001b[0m \u001b[32m━━━━━━━━━━━━━━━━━━━━\u001b[0m\u001b[37m\u001b[0m \u001b[1m2s\u001b[0m 6ms/step - R2Score: 0.9697 - loss: 0.0290 - val_R2Score: 0.9722 - val_loss: 0.0273\n",
      "Epoch 70/150\n",
      "\u001b[1m250/250\u001b[0m \u001b[32m━━━━━━━━━━━━━━━━━━━━\u001b[0m\u001b[37m\u001b[0m \u001b[1m2s\u001b[0m 5ms/step - R2Score: 0.9740 - loss: 0.0268 - val_R2Score: 0.9790 - val_loss: 0.0206\n",
      "Epoch 71/150\n",
      "\u001b[1m250/250\u001b[0m \u001b[32m━━━━━━━━━━━━━━━━━━━━\u001b[0m\u001b[37m\u001b[0m \u001b[1m2s\u001b[0m 6ms/step - R2Score: 0.9779 - loss: 0.0211 - val_R2Score: 0.9132 - val_loss: 0.0853\n",
      "Epoch 72/150\n",
      "\u001b[1m250/250\u001b[0m \u001b[32m━━━━━━━━━━━━━━━━━━━━\u001b[0m\u001b[37m\u001b[0m \u001b[1m2s\u001b[0m 6ms/step - R2Score: 0.9743 - loss: 0.0263 - val_R2Score: 0.9694 - val_loss: 0.0301\n",
      "Epoch 73/150\n",
      "\u001b[1m250/250\u001b[0m \u001b[32m━━━━━━━━━━━━━━━━━━━━\u001b[0m\u001b[37m\u001b[0m \u001b[1m1s\u001b[0m 4ms/step - R2Score: 0.9734 - loss: 0.0270 - val_R2Score: 0.9808 - val_loss: 0.0189\n",
      "Epoch 74/150\n",
      "\u001b[1m250/250\u001b[0m \u001b[32m━━━━━━━━━━━━━━━━━━━━\u001b[0m\u001b[37m\u001b[0m \u001b[1m2s\u001b[0m 7ms/step - R2Score: 0.9751 - loss: 0.0252 - val_R2Score: 0.9768 - val_loss: 0.0228\n",
      "Epoch 75/150\n",
      "\u001b[1m250/250\u001b[0m \u001b[32m━━━━━━━━━━━━━━━━━━━━\u001b[0m\u001b[37m\u001b[0m \u001b[1m2s\u001b[0m 7ms/step - R2Score: 0.9778 - loss: 0.0213 - val_R2Score: 0.9787 - val_loss: 0.0209\n",
      "Epoch 76/150\n",
      "\u001b[1m250/250\u001b[0m \u001b[32m━━━━━━━━━━━━━━━━━━━━\u001b[0m\u001b[37m\u001b[0m \u001b[1m2s\u001b[0m 6ms/step - R2Score: 0.9722 - loss: 0.0281 - val_R2Score: 0.9581 - val_loss: 0.0412\n",
      "Epoch 77/150\n",
      "\u001b[1m250/250\u001b[0m \u001b[32m━━━━━━━━━━━━━━━━━━━━\u001b[0m\u001b[37m\u001b[0m \u001b[1m3s\u001b[0m 8ms/step - R2Score: 0.9610 - loss: 0.0372 - val_R2Score: 0.9703 - val_loss: 0.0291\n",
      "Epoch 78/150\n",
      "\u001b[1m250/250\u001b[0m \u001b[32m━━━━━━━━━━━━━━━━━━━━\u001b[0m\u001b[37m\u001b[0m \u001b[1m2s\u001b[0m 6ms/step - R2Score: 0.9755 - loss: 0.0248 - val_R2Score: 0.9749 - val_loss: 0.0247\n",
      "Epoch 79/150\n",
      "\u001b[1m250/250\u001b[0m \u001b[32m━━━━━━━━━━━━━━━━━━━━\u001b[0m\u001b[37m\u001b[0m \u001b[1m2s\u001b[0m 6ms/step - R2Score: 0.9780 - loss: 0.0199 - val_R2Score: 0.9703 - val_loss: 0.0292\n",
      "Epoch 80/150\n",
      "\u001b[1m250/250\u001b[0m \u001b[32m━━━━━━━━━━━━━━━━━━━━\u001b[0m\u001b[37m\u001b[0m \u001b[1m2s\u001b[0m 8ms/step - R2Score: 0.9793 - loss: 0.0202 - val_R2Score: 0.9800 - val_loss: 0.0196\n",
      "Epoch 81/150\n",
      "\u001b[1m250/250\u001b[0m \u001b[32m━━━━━━━━━━━━━━━━━━━━\u001b[0m\u001b[37m\u001b[0m \u001b[1m2s\u001b[0m 6ms/step - R2Score: 0.9726 - loss: 0.0268 - val_R2Score: 0.9770 - val_loss: 0.0226\n",
      "Epoch 82/150\n",
      "\u001b[1m250/250\u001b[0m \u001b[32m━━━━━━━━━━━━━━━━━━━━\u001b[0m\u001b[37m\u001b[0m \u001b[1m3s\u001b[0m 5ms/step - R2Score: 0.9766 - loss: 0.0245 - val_R2Score: 0.9795 - val_loss: 0.0201\n",
      "Epoch 83/150\n",
      "\u001b[1m250/250\u001b[0m \u001b[32m━━━━━━━━━━━━━━━━━━━━\u001b[0m\u001b[37m\u001b[0m \u001b[1m3s\u001b[0m 7ms/step - R2Score: 0.9811 - loss: 0.0183 - val_R2Score: 0.9795 - val_loss: 0.0201\n",
      "Epoch 84/150\n",
      "\u001b[1m250/250\u001b[0m \u001b[32m━━━━━━━━━━━━━━━━━━━━\u001b[0m\u001b[37m\u001b[0m \u001b[1m2s\u001b[0m 6ms/step - R2Score: 0.9819 - loss: 0.0188 - val_R2Score: 0.9781 - val_loss: 0.0215\n",
      "Epoch 85/150\n",
      "\u001b[1m250/250\u001b[0m \u001b[32m━━━━━━━━━━━━━━━━━━━━\u001b[0m\u001b[37m\u001b[0m \u001b[1m3s\u001b[0m 7ms/step - R2Score: 0.9778 - loss: 0.0227 - val_R2Score: 0.9670 - val_loss: 0.0324\n",
      "Epoch 86/150\n",
      "\u001b[1m250/250\u001b[0m \u001b[32m━━━━━━━━━━━━━━━━━━━━\u001b[0m\u001b[37m\u001b[0m \u001b[1m1s\u001b[0m 6ms/step - R2Score: 0.9732 - loss: 0.0266 - val_R2Score: 0.9663 - val_loss: 0.0331\n",
      "Epoch 87/150\n",
      "\u001b[1m250/250\u001b[0m \u001b[32m━━━━━━━━━━━━━━━━━━━━\u001b[0m\u001b[37m\u001b[0m \u001b[1m3s\u001b[0m 8ms/step - R2Score: 0.9816 - loss: 0.0181 - val_R2Score: 0.9697 - val_loss: 0.0297\n",
      "Epoch 88/150\n",
      "\u001b[1m250/250\u001b[0m \u001b[32m━━━━━━━━━━━━━━━━━━━━\u001b[0m\u001b[37m\u001b[0m \u001b[1m2s\u001b[0m 5ms/step - R2Score: 0.9781 - loss: 0.0236 - val_R2Score: 0.9826 - val_loss: 0.0171\n",
      "Epoch 89/150\n",
      "\u001b[1m250/250\u001b[0m \u001b[32m━━━━━━━━━━━━━━━━━━━━\u001b[0m\u001b[37m\u001b[0m \u001b[1m2s\u001b[0m 6ms/step - R2Score: 0.9818 - loss: 0.0179 - val_R2Score: 0.9744 - val_loss: 0.0252\n",
      "Epoch 90/150\n",
      "\u001b[1m250/250\u001b[0m \u001b[32m━━━━━━━━━━━━━━━━━━━━\u001b[0m\u001b[37m\u001b[0m \u001b[1m3s\u001b[0m 8ms/step - R2Score: 0.9796 - loss: 0.0205 - val_R2Score: 0.9756 - val_loss: 0.0240\n",
      "Epoch 91/150\n",
      "\u001b[1m250/250\u001b[0m \u001b[32m━━━━━━━━━━━━━━━━━━━━\u001b[0m\u001b[37m\u001b[0m \u001b[1m2s\u001b[0m 5ms/step - R2Score: 0.9787 - loss: 0.0215 - val_R2Score: 0.9793 - val_loss: 0.0203\n",
      "Epoch 92/150\n",
      "\u001b[1m250/250\u001b[0m \u001b[32m━━━━━━━━━━━━━━━━━━━━\u001b[0m\u001b[37m\u001b[0m \u001b[1m2s\u001b[0m 6ms/step - R2Score: 0.9808 - loss: 0.0176 - val_R2Score: 0.9798 - val_loss: 0.0199\n",
      "Epoch 93/150\n",
      "\u001b[1m250/250\u001b[0m \u001b[32m━━━━━━━━━━━━━━━━━━━━\u001b[0m\u001b[37m\u001b[0m \u001b[1m2s\u001b[0m 8ms/step - R2Score: 0.9782 - loss: 0.0224 - val_R2Score: 0.9778 - val_loss: 0.0218\n",
      "Epoch 94/150\n",
      "\u001b[1m250/250\u001b[0m \u001b[32m━━━━━━━━━━━━━━━━━━━━\u001b[0m\u001b[37m\u001b[0m \u001b[1m2s\u001b[0m 6ms/step - R2Score: 0.9790 - loss: 0.0215 - val_R2Score: 0.9740 - val_loss: 0.0256\n",
      "Epoch 95/150\n",
      "\u001b[1m250/250\u001b[0m \u001b[32m━━━━━━━━━━━━━━━━━━━━\u001b[0m\u001b[37m\u001b[0m \u001b[1m3s\u001b[0m 7ms/step - R2Score: 0.9808 - loss: 0.0194 - val_R2Score: 0.9802 - val_loss: 0.0194\n",
      "Epoch 96/150\n",
      "\u001b[1m250/250\u001b[0m \u001b[32m━━━━━━━━━━━━━━━━━━━━\u001b[0m\u001b[37m\u001b[0m \u001b[1m3s\u001b[0m 7ms/step - R2Score: 0.9798 - loss: 0.0180 - val_R2Score: 0.9746 - val_loss: 0.0250\n",
      "Epoch 97/150\n",
      "\u001b[1m250/250\u001b[0m \u001b[32m━━━━━━━━━━━━━━━━━━━━\u001b[0m\u001b[37m\u001b[0m \u001b[1m2s\u001b[0m 6ms/step - R2Score: 0.9813 - loss: 0.0177 - val_R2Score: 0.9795 - val_loss: 0.0201\n",
      "Epoch 98/150\n",
      "\u001b[1m250/250\u001b[0m \u001b[32m━━━━━━━━━━━━━━━━━━━━\u001b[0m\u001b[37m\u001b[0m \u001b[1m3s\u001b[0m 6ms/step - R2Score: 0.9820 - loss: 0.0172 - val_R2Score: 0.9560 - val_loss: 0.0432\n",
      "Epoch 99/150\n",
      "\u001b[1m250/250\u001b[0m \u001b[32m━━━━━━━━━━━━━━━━━━━━\u001b[0m\u001b[37m\u001b[0m \u001b[1m3s\u001b[0m 6ms/step - R2Score: 0.9717 - loss: 0.0307 - val_R2Score: 0.9729 - val_loss: 0.0266\n",
      "Epoch 100/150\n",
      "\u001b[1m250/250\u001b[0m \u001b[32m━━━━━━━━━━━━━━━━━━━━\u001b[0m\u001b[37m\u001b[0m \u001b[1m2s\u001b[0m 8ms/step - R2Score: 0.9807 - loss: 0.0183 - val_R2Score: 0.9813 - val_loss: 0.0184\n",
      "Epoch 101/150\n",
      "\u001b[1m250/250\u001b[0m \u001b[32m━━━━━━━━━━━━━━━━━━━━\u001b[0m\u001b[37m\u001b[0m \u001b[1m2s\u001b[0m 6ms/step - R2Score: 0.9822 - loss: 0.0174 - val_R2Score: 0.9801 - val_loss: 0.0195\n",
      "Epoch 102/150\n",
      "\u001b[1m250/250\u001b[0m \u001b[32m━━━━━━━━━━━━━━━━━━━━\u001b[0m\u001b[37m\u001b[0m \u001b[1m2s\u001b[0m 6ms/step - R2Score: 0.9803 - loss: 0.0197 - val_R2Score: 0.9830 - val_loss: 0.0166\n",
      "Epoch 103/150\n",
      "\u001b[1m250/250\u001b[0m \u001b[32m━━━━━━━━━━━━━━━━━━━━\u001b[0m\u001b[37m\u001b[0m \u001b[1m3s\u001b[0m 7ms/step - R2Score: 0.9798 - loss: 0.0194 - val_R2Score: 0.9699 - val_loss: 0.0296\n",
      "Epoch 104/150\n",
      "\u001b[1m250/250\u001b[0m \u001b[32m━━━━━━━━━━━━━━━━━━━━\u001b[0m\u001b[37m\u001b[0m \u001b[1m2s\u001b[0m 6ms/step - R2Score: 0.9822 - loss: 0.0176 - val_R2Score: 0.9812 - val_loss: 0.0185\n",
      "Epoch 105/150\n",
      "\u001b[1m250/250\u001b[0m \u001b[32m━━━━━━━━━━━━━━━━━━━━\u001b[0m\u001b[37m\u001b[0m \u001b[1m2s\u001b[0m 6ms/step - R2Score: 0.9786 - loss: 0.0207 - val_R2Score: 0.9791 - val_loss: 0.0205\n",
      "Epoch 106/150\n",
      "\u001b[1m250/250\u001b[0m \u001b[32m━━━━━━━━━━━━━━━━━━━━\u001b[0m\u001b[37m\u001b[0m \u001b[1m3s\u001b[0m 6ms/step - R2Score: 0.9736 - loss: 0.0254 - val_R2Score: 0.9594 - val_loss: 0.0398\n",
      "Epoch 107/150\n",
      "\u001b[1m250/250\u001b[0m \u001b[32m━━━━━━━━━━━━━━━━━━━━\u001b[0m\u001b[37m\u001b[0m \u001b[1m3s\u001b[0m 6ms/step - R2Score: 0.9815 - loss: 0.0181 - val_R2Score: 0.9750 - val_loss: 0.0245\n",
      "Epoch 108/150\n",
      "\u001b[1m250/250\u001b[0m \u001b[32m━━━━━━━━━━━━━━━━━━━━\u001b[0m\u001b[37m\u001b[0m \u001b[1m3s\u001b[0m 7ms/step - R2Score: 0.9801 - loss: 0.0203 - val_R2Score: 0.9782 - val_loss: 0.0214\n",
      "Epoch 109/150\n",
      "\u001b[1m250/250\u001b[0m \u001b[32m━━━━━━━━━━━━━━━━━━━━\u001b[0m\u001b[37m\u001b[0m \u001b[1m2s\u001b[0m 6ms/step - R2Score: 0.9787 - loss: 0.0210 - val_R2Score: 0.9533 - val_loss: 0.0459\n",
      "Epoch 110/150\n",
      "\u001b[1m250/250\u001b[0m \u001b[32m━━━━━━━━━━━━━━━━━━━━\u001b[0m\u001b[37m\u001b[0m \u001b[1m3s\u001b[0m 6ms/step - R2Score: 0.9809 - loss: 0.0206 - val_R2Score: 0.9719 - val_loss: 0.0276\n",
      "Epoch 111/150\n",
      "\u001b[1m250/250\u001b[0m \u001b[32m━━━━━━━━━━━━━━━━━━━━\u001b[0m\u001b[37m\u001b[0m \u001b[1m2s\u001b[0m 6ms/step - R2Score: 0.9821 - loss: 0.0172 - val_R2Score: 0.9755 - val_loss: 0.0241\n",
      "Epoch 112/150\n",
      "\u001b[1m250/250\u001b[0m \u001b[32m━━━━━━━━━━━━━━━━━━━━\u001b[0m\u001b[37m\u001b[0m \u001b[1m1s\u001b[0m 6ms/step - R2Score: 0.9797 - loss: 0.0198 - val_R2Score: 0.9769 - val_loss: 0.0227\n",
      "Epoch 113/150\n",
      "\u001b[1m250/250\u001b[0m \u001b[32m━━━━━━━━━━━━━━━━━━━━\u001b[0m\u001b[37m\u001b[0m \u001b[1m3s\u001b[0m 6ms/step - R2Score: 0.9792 - loss: 0.0215 - val_R2Score: 0.9767 - val_loss: 0.0229\n",
      "Epoch 114/150\n",
      "\u001b[1m250/250\u001b[0m \u001b[32m━━━━━━━━━━━━━━━━━━━━\u001b[0m\u001b[37m\u001b[0m \u001b[1m3s\u001b[0m 6ms/step - R2Score: 0.9805 - loss: 0.0204 - val_R2Score: 0.9762 - val_loss: 0.0233\n",
      "Epoch 115/150\n",
      "\u001b[1m250/250\u001b[0m \u001b[32m━━━━━━━━━━━━━━━━━━━━\u001b[0m\u001b[37m\u001b[0m \u001b[1m3s\u001b[0m 7ms/step - R2Score: 0.9848 - loss: 0.0151 - val_R2Score: 0.9750 - val_loss: 0.0246\n",
      "Epoch 116/150\n",
      "\u001b[1m250/250\u001b[0m \u001b[32m━━━━━━━━━━━━━━━━━━━━\u001b[0m\u001b[37m\u001b[0m \u001b[1m2s\u001b[0m 6ms/step - R2Score: 0.9805 - loss: 0.0194 - val_R2Score: 0.9814 - val_loss: 0.0183\n",
      "Epoch 117/150\n",
      "\u001b[1m250/250\u001b[0m \u001b[32m━━━━━━━━━━━━━━━━━━━━\u001b[0m\u001b[37m\u001b[0m \u001b[1m2s\u001b[0m 8ms/step - R2Score: 0.9802 - loss: 0.0209 - val_R2Score: 0.9722 - val_loss: 0.0273\n",
      "Epoch 118/150\n",
      "\u001b[1m250/250\u001b[0m \u001b[32m━━━━━━━━━━━━━━━━━━━━\u001b[0m\u001b[37m\u001b[0m \u001b[1m2s\u001b[0m 5ms/step - R2Score: 0.9800 - loss: 0.0196 - val_R2Score: 0.9794 - val_loss: 0.0202\n",
      "Epoch 119/150\n",
      "\u001b[1m250/250\u001b[0m \u001b[32m━━━━━━━━━━━━━━━━━━━━\u001b[0m\u001b[37m\u001b[0m \u001b[1m2s\u001b[0m 6ms/step - R2Score: 0.9816 - loss: 0.0174 - val_R2Score: 0.9801 - val_loss: 0.0196\n",
      "Epoch 120/150\n",
      "\u001b[1m250/250\u001b[0m \u001b[32m━━━━━━━━━━━━━━━━━━━━\u001b[0m\u001b[37m\u001b[0m \u001b[1m3s\u001b[0m 7ms/step - R2Score: 0.9798 - loss: 0.0210 - val_R2Score: 0.9702 - val_loss: 0.0292\n",
      "Epoch 121/150\n",
      "\u001b[1m250/250\u001b[0m \u001b[32m━━━━━━━━━━━━━━━━━━━━\u001b[0m\u001b[37m\u001b[0m \u001b[1m2s\u001b[0m 6ms/step - R2Score: 0.9822 - loss: 0.0164 - val_R2Score: 0.9772 - val_loss: 0.0224\n",
      "Epoch 122/150\n",
      "\u001b[1m250/250\u001b[0m \u001b[32m━━━━━━━━━━━━━━━━━━━━\u001b[0m\u001b[37m\u001b[0m \u001b[1m2s\u001b[0m 8ms/step - R2Score: 0.9840 - loss: 0.0162 - val_R2Score: 0.9644 - val_loss: 0.0350\n",
      "Epoch 123/150\n",
      "\u001b[1m250/250\u001b[0m \u001b[32m━━━━━━━━━━━━━━━━━━━━\u001b[0m\u001b[37m\u001b[0m \u001b[1m2s\u001b[0m 7ms/step - R2Score: 0.9814 - loss: 0.0190 - val_R2Score: 0.9718 - val_loss: 0.0277\n",
      "Epoch 124/150\n",
      "\u001b[1m250/250\u001b[0m \u001b[32m━━━━━━━━━━━━━━━━━━━━\u001b[0m\u001b[37m\u001b[0m \u001b[1m2s\u001b[0m 6ms/step - R2Score: 0.9779 - loss: 0.0218 - val_R2Score: 0.9659 - val_loss: 0.0335\n",
      "Epoch 125/150\n",
      "\u001b[1m250/250\u001b[0m \u001b[32m━━━━━━━━━━━━━━━━━━━━\u001b[0m\u001b[37m\u001b[0m \u001b[1m2s\u001b[0m 6ms/step - R2Score: 0.9788 - loss: 0.0210 - val_R2Score: 0.9782 - val_loss: 0.0214\n",
      "Epoch 126/150\n",
      "\u001b[1m250/250\u001b[0m \u001b[32m━━━━━━━━━━━━━━━━━━━━\u001b[0m\u001b[37m\u001b[0m \u001b[1m3s\u001b[0m 7ms/step - R2Score: 0.9811 - loss: 0.0178 - val_R2Score: 0.9834 - val_loss: 0.0163\n",
      "Epoch 127/150\n",
      "\u001b[1m250/250\u001b[0m \u001b[32m━━━━━━━━━━━━━━━━━━━━\u001b[0m\u001b[37m\u001b[0m \u001b[1m1s\u001b[0m 6ms/step - R2Score: 0.9797 - loss: 0.0200 - val_R2Score: 0.9841 - val_loss: 0.0157\n",
      "Epoch 128/150\n",
      "\u001b[1m250/250\u001b[0m \u001b[32m━━━━━━━━━━━━━━━━━━━━\u001b[0m\u001b[37m\u001b[0m \u001b[1m2s\u001b[0m 7ms/step - R2Score: 0.9812 - loss: 0.0190 - val_R2Score: 0.9764 - val_loss: 0.0232\n",
      "Epoch 129/150\n",
      "\u001b[1m250/250\u001b[0m \u001b[32m━━━━━━━━━━━━━━━━━━━━\u001b[0m\u001b[37m\u001b[0m \u001b[1m2s\u001b[0m 5ms/step - R2Score: 0.9761 - loss: 0.0244 - val_R2Score: 0.9767 - val_loss: 0.0229\n",
      "Epoch 130/150\n",
      "\u001b[1m250/250\u001b[0m \u001b[32m━━━━━━━━━━━━━━━━━━━━\u001b[0m\u001b[37m\u001b[0m \u001b[1m1s\u001b[0m 5ms/step - R2Score: 0.9791 - loss: 0.0219 - val_R2Score: 0.9803 - val_loss: 0.0193\n",
      "Epoch 131/150\n",
      "\u001b[1m250/250\u001b[0m \u001b[32m━━━━━━━━━━━━━━━━━━━━\u001b[0m\u001b[37m\u001b[0m \u001b[1m2s\u001b[0m 8ms/step - R2Score: 0.9815 - loss: 0.0178 - val_R2Score: 0.9633 - val_loss: 0.0360\n",
      "Epoch 132/150\n",
      "\u001b[1m250/250\u001b[0m \u001b[32m━━━━━━━━━━━━━━━━━━━━\u001b[0m\u001b[37m\u001b[0m \u001b[1m2s\u001b[0m 6ms/step - R2Score: 0.9813 - loss: 0.0187 - val_R2Score: 0.9744 - val_loss: 0.0252\n",
      "Epoch 133/150\n",
      "\u001b[1m250/250\u001b[0m \u001b[32m━━━━━━━━━━━━━━━━━━━━\u001b[0m\u001b[37m\u001b[0m \u001b[1m1s\u001b[0m 6ms/step - R2Score: 0.9802 - loss: 0.0202 - val_R2Score: 0.9804 - val_loss: 0.0193\n",
      "Epoch 134/150\n",
      "\u001b[1m250/250\u001b[0m \u001b[32m━━━━━━━━━━━━━━━━━━━━\u001b[0m\u001b[37m\u001b[0m \u001b[1m3s\u001b[0m 9ms/step - R2Score: 0.9836 - loss: 0.0164 - val_R2Score: 0.9764 - val_loss: 0.0232\n",
      "Epoch 135/150\n",
      "\u001b[1m250/250\u001b[0m \u001b[32m━━━━━━━━━━━━━━━━━━━━\u001b[0m\u001b[37m\u001b[0m \u001b[1m2s\u001b[0m 6ms/step - R2Score: 0.9848 - loss: 0.0155 - val_R2Score: 0.9748 - val_loss: 0.0248\n",
      "Epoch 136/150\n",
      "\u001b[1m250/250\u001b[0m \u001b[32m━━━━━━━━━━━━━━━━━━━━\u001b[0m\u001b[37m\u001b[0m \u001b[1m1s\u001b[0m 6ms/step - R2Score: 0.9824 - loss: 0.0156 - val_R2Score: 0.9785 - val_loss: 0.0211\n",
      "Epoch 137/150\n",
      "\u001b[1m250/250\u001b[0m \u001b[32m━━━━━━━━━━━━━━━━━━━━\u001b[0m\u001b[37m\u001b[0m \u001b[1m2s\u001b[0m 8ms/step - R2Score: 0.9851 - loss: 0.0152 - val_R2Score: 0.9827 - val_loss: 0.0170\n",
      "Epoch 138/150\n",
      "\u001b[1m250/250\u001b[0m \u001b[32m━━━━━━━━━━━━━━━━━━━━\u001b[0m\u001b[37m\u001b[0m \u001b[1m2s\u001b[0m 7ms/step - R2Score: 0.9839 - loss: 0.0154 - val_R2Score: 0.9765 - val_loss: 0.0231\n",
      "Epoch 139/150\n",
      "\u001b[1m250/250\u001b[0m \u001b[32m━━━━━━━━━━━━━━━━━━━━\u001b[0m\u001b[37m\u001b[0m \u001b[1m3s\u001b[0m 9ms/step - R2Score: 0.9861 - loss: 0.0138 - val_R2Score: 0.9796 - val_loss: 0.0201\n",
      "Epoch 140/150\n",
      "\u001b[1m250/250\u001b[0m \u001b[32m━━━━━━━━━━━━━━━━━━━━\u001b[0m\u001b[37m\u001b[0m \u001b[1m2s\u001b[0m 6ms/step - R2Score: 0.9840 - loss: 0.0154 - val_R2Score: 0.9802 - val_loss: 0.0194\n",
      "Epoch 141/150\n",
      "\u001b[1m250/250\u001b[0m \u001b[32m━━━━━━━━━━━━━━━━━━━━\u001b[0m\u001b[37m\u001b[0m \u001b[1m1s\u001b[0m 5ms/step - R2Score: 0.9830 - loss: 0.0169 - val_R2Score: 0.9635 - val_loss: 0.0358\n",
      "Epoch 142/150\n",
      "\u001b[1m250/250\u001b[0m \u001b[32m━━━━━━━━━━━━━━━━━━━━\u001b[0m\u001b[37m\u001b[0m \u001b[1m2s\u001b[0m 9ms/step - R2Score: 0.9845 - loss: 0.0163 - val_R2Score: 0.9589 - val_loss: 0.0403\n",
      "Epoch 143/150\n",
      "\u001b[1m250/250\u001b[0m \u001b[32m━━━━━━━━━━━━━━━━━━━━\u001b[0m\u001b[37m\u001b[0m \u001b[1m2s\u001b[0m 6ms/step - R2Score: 0.9810 - loss: 0.0197 - val_R2Score: 0.9795 - val_loss: 0.0201\n",
      "Epoch 144/150\n",
      "\u001b[1m250/250\u001b[0m \u001b[32m━━━━━━━━━━━━━━━━━━━━\u001b[0m\u001b[37m\u001b[0m \u001b[1m1s\u001b[0m 5ms/step - R2Score: 0.9800 - loss: 0.0173 - val_R2Score: 0.9733 - val_loss: 0.0262\n",
      "Epoch 145/150\n",
      "\u001b[1m250/250\u001b[0m \u001b[32m━━━━━━━━━━━━━━━━━━━━\u001b[0m\u001b[37m\u001b[0m \u001b[1m2s\u001b[0m 7ms/step - R2Score: 0.9860 - loss: 0.0138 - val_R2Score: 0.9721 - val_loss: 0.0274\n",
      "Epoch 146/150\n",
      "\u001b[1m250/250\u001b[0m \u001b[32m━━━━━━━━━━━━━━━━━━━━\u001b[0m\u001b[37m\u001b[0m \u001b[1m1s\u001b[0m 6ms/step - R2Score: 0.9820 - loss: 0.0186 - val_R2Score: 0.9790 - val_loss: 0.0206\n",
      "Epoch 147/150\n",
      "\u001b[1m250/250\u001b[0m \u001b[32m━━━━━━━━━━━━━━━━━━━━\u001b[0m\u001b[37m\u001b[0m \u001b[1m2s\u001b[0m 7ms/step - R2Score: 0.9862 - loss: 0.0139 - val_R2Score: 0.9557 - val_loss: 0.0435\n",
      "Epoch 148/150\n",
      "\u001b[1m250/250\u001b[0m \u001b[32m━━━━━━━━━━━━━━━━━━━━\u001b[0m\u001b[37m\u001b[0m \u001b[1m2s\u001b[0m 6ms/step - R2Score: 0.9776 - loss: 0.0220 - val_R2Score: 0.9790 - val_loss: 0.0206\n",
      "Epoch 149/150\n",
      "\u001b[1m250/250\u001b[0m \u001b[32m━━━━━━━━━━━━━━━━━━━━\u001b[0m\u001b[37m\u001b[0m \u001b[1m1s\u001b[0m 6ms/step - R2Score: 0.9848 - loss: 0.0161 - val_R2Score: 0.9803 - val_loss: 0.0194\n",
      "Epoch 150/150\n",
      "\u001b[1m250/250\u001b[0m \u001b[32m━━━━━━━━━━━━━━━━━━━━\u001b[0m\u001b[37m\u001b[0m \u001b[1m2s\u001b[0m 6ms/step - R2Score: 0.9838 - loss: 0.0164 - val_R2Score: 0.9791 - val_loss: 0.0205\n"
     ]
    }
   ],
   "source": [
    "history_d = model_d.fit(\n",
    "    x_train_transformed, \n",
    "    y_train_transformed_allowable_deformation,  # Split the targets into separate arrays\n",
    "    validation_split=0.2,\n",
    "    epochs=150,\n",
    "    batch_size=32,\n",
    "    verbose=1,\n",
    "    callbacks=[tensorboard_callback]\n",
    ")"
   ]
  },
  {
   "cell_type": "code",
   "execution_count": 128,
   "metadata": {},
   "outputs": [
    {
     "name": "stdout",
     "output_type": "stream",
     "text": [
      "\u001b[1m78/78\u001b[0m \u001b[32m━━━━━━━━━━━━━━━━━━━━\u001b[0m\u001b[37m\u001b[0m \u001b[1m0s\u001b[0m 3ms/step - R2Score: 0.9758 - loss: 0.0181\n",
      "Test accuracy: 0.975639820098877\n"
     ]
    }
   ],
   "source": [
    "test_loss, test_mse = model_d.evaluate(x_test_transformed, y_test_transformed_allowable_deformation)\n",
    "print('Test accuracy:', test_mse)"
   ]
  },
  {
   "cell_type": "code",
   "execution_count": 129,
   "metadata": {},
   "outputs": [
    {
     "data": {
      "text/plain": [
       "[<matplotlib.lines.Line2D at 0x1765ae55dc0>]"
      ]
     },
     "execution_count": 129,
     "metadata": {},
     "output_type": "execute_result"
    },
    {
     "data": {
      "image/png": "[encoded data removed]",
      "text/plain": [
       "<Figure size 640x480 with 1 Axes>"
      ]
     },
     "metadata": {},
     "output_type": "display_data"
    }
   ],
   "source": [
    "plt.plot(history_d.history[\"loss\"],label=\"loss\")\n",
    "plt.plot(history_d.history[\"val_loss\"],label=\"val_loss\")"
   ]
  },
  {
   "cell_type": "code",
   "execution_count": 130,
   "metadata": {},
   "outputs": [
    {
     "name": "stdout",
     "output_type": "stream",
     "text": [
      "\u001b[1m78/78\u001b[0m \u001b[32m━━━━━━━━━━━━━━━━━━━━\u001b[0m\u001b[37m\u001b[0m \u001b[1m0s\u001b[0m 3ms/step\n"
     ]
    }
   ],
   "source": [
    "predictions_scaled_d = model_d.predict(x_test_transformed)\n",
    "predictions_d = scaler_y_allowable_deformation.inverse_transform((predictions_scaled_d))"
   ]
  },
  {
   "cell_type": "code",
   "execution_count": 131,
   "metadata": {},
   "outputs": [
    {
     "name": "stdout",
     "output_type": "stream",
     "text": [
      "\n",
      "Sample Predictions:\n",
      "               0\n",
      "0       3.989085\n",
      "1      37.961983\n",
      "2       6.958448\n",
      "3       4.366268\n",
      "4       6.500721\n",
      "...          ...\n",
      "2488    9.183923\n",
      "2489    1.511432\n",
      "2490   13.663976\n",
      "2491   14.844579\n",
      "2492  142.220352\n",
      "\n",
      "[2493 rows x 1 columns]\n"
     ]
    }
   ],
   "source": [
    "predictions_df_d = pd.DataFrame(predictions_d)\n",
    "print(\"\\nSample Predictions:\")\n",
    "print(predictions_df_d)"
   ]
  },
  {
   "cell_type": "code",
   "execution_count": 132,
   "metadata": {},
   "outputs": [
    {
     "data": {
      "text/plain": [
       "3001       1.501\n",
       "5829      45.212\n",
       "11774      5.879\n",
       "8374       2.805\n",
       "8203       3.807\n",
       "          ...   \n",
       "11314      9.450\n",
       "2055       1.185\n",
       "5693       6.914\n",
       "6551      21.747\n",
       "5993     134.567\n",
       "Name: allowable_deformation, Length: 2493, dtype: float64"
      ]
     },
     "execution_count": 132,
     "metadata": {},
     "output_type": "execute_result"
    }
   ],
   "source": [
    "y_test[\"allowable_deformation\"]"
   ]
  },
  {
   "cell_type": "code",
   "execution_count": 136,
   "metadata": {},
   "outputs": [
    {
     "data": {
      "text/plain": [
       "139.07913015425723"
      ]
     },
     "execution_count": 136,
     "metadata": {},
     "output_type": "execute_result"
    }
   ],
   "source": [
    "true= y_test[\"allowable_deformation\"].tolist()\n",
    "pred_d= predictions_df_d[0].tolist()\n",
    "mean_squared_error(true,pred_d)"
   ]
  },
  {
   "cell_type": "code",
   "execution_count": 137,
   "metadata": {},
   "outputs": [
    {
     "data": {
      "image/png": "[encoded data removed]",
      "text/plain": [
       "<Figure size 640x480 with 1 Axes>"
      ]
     },
     "metadata": {},
     "output_type": "display_data"
    }
   ],
   "source": [
    "x=predictions_df_d\n",
    "y=y_test[\"allowable_deformation\"]\n",
    "plt.scatter(x,y)\n",
    "plt.loglog()\n",
    "plt.plot([0, 600],[0, 600])\n",
    "plt.show()"
   ]
  },
  {
   "cell_type": "code",
   "execution_count": 139,
   "metadata": {},
   "outputs": [
    {
     "data": {
      "text/plain": [
       "[]"
      ]
     },
     "execution_count": 139,
     "metadata": {},
     "output_type": "execute_result"
    },
    {
     "data": {
      "image/png": "[encoded data removed]",
      "text/plain": [
       "<Figure size 640x480 with 1 Axes>"
      ]
     },
     "metadata": {},
     "output_type": "display_data"
    }
   ],
   "source": [
    "y=predictions_df_d\n",
    "x=predictions_df\n",
    "plt.scatter(x,y)\n",
    "plt.loglog()"
   ]
  }
 ],
 "metadata": {
  "kernelspec": {
   "display_name": "Python 3",
   "language": "python",
   "name": "python3"
  },
  "language_info": {
   "codemirror_mode": {
    "name": "ipython",
    "version": 3
   },
   "file_extension": ".py",
   "mimetype": "text/x-python",
   "name": "python",
   "nbconvert_exporter": "python",
   "pygments_lexer": "ipython3",
   "version": "3.12.4"
  }
 },
 "nbformat": 4,
 "nbformat_minor": 2
}

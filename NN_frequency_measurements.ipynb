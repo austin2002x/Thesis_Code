{
 "cells": [
  {
   "cell_type": "code",
   "execution_count": 2,
   "metadata": {},
   "outputs": [],
   "source": [
    "import pandas as pd\n",
    "import numpy as np\n",
    "from sklearn.model_selection import train_test_split\n",
    "from sklearn.preprocessing import StandardScaler, OneHotEncoder, MinMaxScaler\n",
    "from tensorflow.keras.models import Model, Sequential\n",
    "from tensorflow.keras.layers import Dense, Dropout, Input, Lambda\n",
    "from tensorflow.keras.optimizers import Adam\n",
    "from tensorflow.keras.callbacks import Callback, TensorBoard\n",
    "from sklearn.compose import ColumnTransformer\n",
    "import matplotlib.pyplot as plt\n",
    "from sklearn.pipeline import Pipeline\n",
    "import seaborn as sns\n",
    "from datetime import datetime\n",
    "from sklearn.metrics import mean_squared_error\n",
    "from tensorflow.keras.backend import clear_session\n",
    "import gc"
   ]
  },
  {
   "cell_type": "code",
   "execution_count": 3,
   "metadata": {},
   "outputs": [],
   "source": [
    "data = pd.read_csv('all_data_results_cleaned.csv')"
   ]
  },
  {
   "cell_type": "code",
   "execution_count": 4,
   "metadata": {},
   "outputs": [],
   "source": [
    "to_drop=[\"pipe_dn\",\"pipe_schedule\",\"flange_class\",\n",
    "        \"support_right\", \"support_left\"]\n",
    "to_keep=[\"outside_diameter\", \"wall_thickness\", \"raised_face_depth\",\n",
    "        \"w_neck_c\", \"flange_outer_radius\", \"flange_thickness_d\",\"raised_face_radius\",\n",
    "        \"length1\", \"length2\", \"lumped_mass\", \"frequency\", \"x_deformation_position\",\n",
    "        \"y_deformation_position\", \"z_deformation_position\", \"support\", \"allowable_deformation\"]\n",
    "\n",
    "data.drop(columns=to_drop,inplace=True)"
   ]
  },
  {
   "cell_type": "code",
   "execution_count": 5,
   "metadata": {},
   "outputs": [],
   "source": [
    "numeric_features = [\"outside_diameter\", \"wall_thickness\", \"raised_face_depth\" ,'length1', 'length2', 'lumped_mass',\n",
    "                    \"w_neck_c\", \"flange_outer_radius\", \"flange_thickness_d\",\"raised_face_radius\"]\n",
    "categorical_features = ['support']\n",
    "\n",
    "preprocessor = ColumnTransformer(\n",
    "    transformers=[\n",
    "        ('num', StandardScaler(), numeric_features),\n",
    "        ('cat', OneHotEncoder(drop=None), categorical_features)\n",
    "    ])"
   ]
  },
  {
   "cell_type": "code",
   "execution_count": 6,
   "metadata": {},
   "outputs": [],
   "source": [
    "pipeline = Pipeline(steps=[('preprocessor', preprocessor)])"
   ]
  },
  {
   "cell_type": "code",
   "execution_count": 7,
   "metadata": {},
   "outputs": [],
   "source": [
    "output_columns = ['allowable_deformation', 'frequency', 'x_deformation_position', 'y_deformation_position', 'z_deformation_position']\n",
    "x = data.drop(output_columns, axis=1)\n",
    "y = pd.DataFrame(data[output_columns])"
   ]
  },
  {
   "cell_type": "code",
   "execution_count": 8,
   "metadata": {},
   "outputs": [],
   "source": [
    "x_train, x_test, y_train, y_test = train_test_split(x, y, test_size=0.2, random_state=30)"
   ]
  },
  {
   "cell_type": "code",
   "execution_count": 9,
   "metadata": {},
   "outputs": [],
   "source": [
    "x_train_transformed = pipeline.fit_transform(x_train)\n",
    "x_test_transformed = pipeline.transform(x_test)"
   ]
  },
  {
   "cell_type": "code",
   "execution_count": 10,
   "metadata": {},
   "outputs": [
    {
     "data": {
      "text/plain": [
       "'\\ny_train_transformed_allowable_deformation = scaler_y_allowable_deformation.fit_transform(pd.DataFrame(y_train[\"allowable_deformation\"]))\\ny_test_transformed_allowable_deformation = scaler_y_allowable_deformation.transform(pd.DataFrame(y_test[\"allowable_deformation\"]))\\n\\ny_train_transformed_x_displacement = scaler_y.fit_transform(pd.DataFrame(y_train[\"x_deformation_position\"]))\\ny_test_transformed_x_displacement = scaler_y.transform(pd.DataFrame(y_test[\"x_deformation_position\"]))\\n\\ny_train_transformed_y_displacement = scaler_y.fit_transform(pd.DataFrame(y_train[\"y_deformation_position\"]))\\ny_test_transformed_y_displacement = scaler_y.transform(pd.DataFrame(y_test[\"y_deformation_position\"]))\\n\\ny_train_transformed_z_displacement = scaler_y.fit_transform(pd.DataFrame(y_train[\"z_deformation_position\"]))\\ny_test_transformed_z_displacement = scaler_y.transform(pd.DataFrame(y_test[\"z_deformation_position\"]))\\n'"
      ]
     },
     "execution_count": 10,
     "metadata": {},
     "output_type": "execute_result"
    }
   ],
   "source": [
    "scaler_y_frequency = StandardScaler()\n",
    "scaler_y_allowable_deformation = StandardScaler()\n",
    "\n",
    "y_train_transformed_frequency = scaler_y_frequency.fit_transform(pd.DataFrame(y_train[\"frequency\"]))\n",
    "y_test_transformed_frequency = scaler_y_frequency.transform(pd.DataFrame(y_test[\"frequency\"]))\n",
    "\"\"\"\n",
    "y_train_transformed_allowable_deformation = scaler_y_allowable_deformation.fit_transform(pd.DataFrame(y_train[\"allowable_deformation\"]))\n",
    "y_test_transformed_allowable_deformation = scaler_y_allowable_deformation.transform(pd.DataFrame(y_test[\"allowable_deformation\"]))\n",
    "\n",
    "y_train_transformed_x_displacement = scaler_y.fit_transform(pd.DataFrame(y_train[\"x_deformation_position\"]))\n",
    "y_test_transformed_x_displacement = scaler_y.transform(pd.DataFrame(y_test[\"x_deformation_position\"]))\n",
    "\n",
    "y_train_transformed_y_displacement = scaler_y.fit_transform(pd.DataFrame(y_train[\"y_deformation_position\"]))\n",
    "y_test_transformed_y_displacement = scaler_y.transform(pd.DataFrame(y_test[\"y_deformation_position\"]))\n",
    "\n",
    "y_train_transformed_z_displacement = scaler_y.fit_transform(pd.DataFrame(y_train[\"z_deformation_position\"]))\n",
    "y_test_transformed_z_displacement = scaler_y.transform(pd.DataFrame(y_test[\"z_deformation_position\"]))\n",
    "\"\"\""
   ]
  },
  {
   "cell_type": "code",
   "execution_count": 31,
   "metadata": {},
   "outputs": [],
   "source": [
    "logdir = \"logs/Frequency/\" + datetime.now().strftime(\"%Y%m%d-%H%M%S\")\n",
    "tensorboard_callback = TensorBoard(log_dir=logdir)"
   ]
  },
  {
   "cell_type": "code",
   "execution_count": 32,
   "metadata": {},
   "outputs": [
    {
     "data": {
      "text/html": [
       "\n",
       "      <iframe id=\"tensorboard-frame-7aa09bd0bd07a09d\" width=\"100%\" height=\"800\" frameborder=\"0\">\n",
       "      </iframe>\n",
       "      <script>\n",
       "        (function() {\n",
       "          const frame = document.getElementById(\"tensorboard-frame-7aa09bd0bd07a09d\");\n",
       "          const url = new URL(\"/\", window.location);\n",
       "          const port = 6006;\n",
       "          if (port) {\n",
       "            url.port = port;\n",
       "          }\n",
       "          frame.src = url;\n",
       "        })();\n",
       "      </script>\n",
       "    "
      ],
      "text/plain": [
       "<IPython.core.display.HTML object>"
      ]
     },
     "metadata": {},
     "output_type": "display_data"
    }
   ],
   "source": [
    "%load_ext tensorboard\n",
    "%tensorboard --logdir logs"
   ]
  },
  {
   "cell_type": "code",
   "execution_count": 12,
   "metadata": {},
   "outputs": [],
   "source": [
    "input_layer = Input(shape=(x_train_transformed.shape[1],))\n",
    "hidden1 = Dense(512, activation='relu')(input_layer)\n",
    "dropout1 = Dropout(0.2)(hidden1)\n",
    "hidden2 = Dense(128, activation='relu')(dropout1)\n",
    "\n",
    "\n",
    "# Separate output for each target variable\n",
    "output_layer = Dense(1)(hidden2)\n",
    "#, name='allowable_deformation'\n"
   ]
  },
  {
   "cell_type": "code",
   "execution_count": 13,
   "metadata": {},
   "outputs": [],
   "source": [
    "model = Model(inputs=input_layer, outputs=output_layer)"
   ]
  },
  {
   "cell_type": "code",
   "execution_count": 14,
   "metadata": {},
   "outputs": [
    {
     "data": {
      "text/html": [
       "<pre style=\"white-space:pre;overflow-x:auto;line-height:normal;font-family:Menlo,'DejaVu Sans Mono',consolas,'Courier New',monospace\"><span style=\"font-weight: bold\">Model: \"functional\"</span>\n",
       "</pre>\n"
      ],
      "text/plain": [
       "\u001b[1mModel: \"functional\"\u001b[0m\n"
      ]
     },
     "metadata": {},
     "output_type": "display_data"
    },
    {
     "data": {
      "text/html": [
       "<pre style=\"white-space:pre;overflow-x:auto;line-height:normal;font-family:Menlo,'DejaVu Sans Mono',consolas,'Courier New',monospace\">┏━━━━━━━━━━━━━━━━━━━━━━━━━━━━━━━━━┳━━━━━━━━━━━━━━━━━━━━━━━━┳━━━━━━━━━━━━━━━┓\n",
       "┃<span style=\"font-weight: bold\"> Layer (type)                    </span>┃<span style=\"font-weight: bold\"> Output Shape           </span>┃<span style=\"font-weight: bold\">       Param # </span>┃\n",
       "┡━━━━━━━━━━━━━━━━━━━━━━━━━━━━━━━━━╇━━━━━━━━━━━━━━━━━━━━━━━━╇━━━━━━━━━━━━━━━┩\n",
       "│ input_layer (<span style=\"color: #0087ff; text-decoration-color: #0087ff\">InputLayer</span>)        │ (<span style=\"color: #00d7ff; text-decoration-color: #00d7ff\">None</span>, <span style=\"color: #00af00; text-decoration-color: #00af00\">14</span>)             │             <span style=\"color: #00af00; text-decoration-color: #00af00\">0</span> │\n",
       "├─────────────────────────────────┼────────────────────────┼───────────────┤\n",
       "│ dense (<span style=\"color: #0087ff; text-decoration-color: #0087ff\">Dense</span>)                   │ (<span style=\"color: #00d7ff; text-decoration-color: #00d7ff\">None</span>, <span style=\"color: #00af00; text-decoration-color: #00af00\">512</span>)            │         <span style=\"color: #00af00; text-decoration-color: #00af00\">7,680</span> │\n",
       "├─────────────────────────────────┼────────────────────────┼───────────────┤\n",
       "│ dropout (<span style=\"color: #0087ff; text-decoration-color: #0087ff\">Dropout</span>)               │ (<span style=\"color: #00d7ff; text-decoration-color: #00d7ff\">None</span>, <span style=\"color: #00af00; text-decoration-color: #00af00\">512</span>)            │             <span style=\"color: #00af00; text-decoration-color: #00af00\">0</span> │\n",
       "├─────────────────────────────────┼────────────────────────┼───────────────┤\n",
       "│ dense_1 (<span style=\"color: #0087ff; text-decoration-color: #0087ff\">Dense</span>)                 │ (<span style=\"color: #00d7ff; text-decoration-color: #00d7ff\">None</span>, <span style=\"color: #00af00; text-decoration-color: #00af00\">128</span>)            │        <span style=\"color: #00af00; text-decoration-color: #00af00\">65,664</span> │\n",
       "├─────────────────────────────────┼────────────────────────┼───────────────┤\n",
       "│ dense_2 (<span style=\"color: #0087ff; text-decoration-color: #0087ff\">Dense</span>)                 │ (<span style=\"color: #00d7ff; text-decoration-color: #00d7ff\">None</span>, <span style=\"color: #00af00; text-decoration-color: #00af00\">1</span>)              │           <span style=\"color: #00af00; text-decoration-color: #00af00\">129</span> │\n",
       "└─────────────────────────────────┴────────────────────────┴───────────────┘\n",
       "</pre>\n"
      ],
      "text/plain": [
       "┏━━━━━━━━━━━━━━━━━━━━━━━━━━━━━━━━━┳━━━━━━━━━━━━━━━━━━━━━━━━┳━━━━━━━━━━━━━━━┓\n",
       "┃\u001b[1m \u001b[0m\u001b[1mLayer (type)                   \u001b[0m\u001b[1m \u001b[0m┃\u001b[1m \u001b[0m\u001b[1mOutput Shape          \u001b[0m\u001b[1m \u001b[0m┃\u001b[1m \u001b[0m\u001b[1m      Param #\u001b[0m\u001b[1m \u001b[0m┃\n",
       "┡━━━━━━━━━━━━━━━━━━━━━━━━━━━━━━━━━╇━━━━━━━━━━━━━━━━━━━━━━━━╇━━━━━━━━━━━━━━━┩\n",
       "│ input_layer (\u001b[38;5;33mInputLayer\u001b[0m)        │ (\u001b[38;5;45mNone\u001b[0m, \u001b[38;5;34m14\u001b[0m)             │             \u001b[38;5;34m0\u001b[0m │\n",
       "├─────────────────────────────────┼────────────────────────┼───────────────┤\n",
       "│ dense (\u001b[38;5;33mDense\u001b[0m)                   │ (\u001b[38;5;45mNone\u001b[0m, \u001b[38;5;34m512\u001b[0m)            │         \u001b[38;5;34m7,680\u001b[0m │\n",
       "├─────────────────────────────────┼────────────────────────┼───────────────┤\n",
       "│ dropout (\u001b[38;5;33mDropout\u001b[0m)               │ (\u001b[38;5;45mNone\u001b[0m, \u001b[38;5;34m512\u001b[0m)            │             \u001b[38;5;34m0\u001b[0m │\n",
       "├─────────────────────────────────┼────────────────────────┼───────────────┤\n",
       "│ dense_1 (\u001b[38;5;33mDense\u001b[0m)                 │ (\u001b[38;5;45mNone\u001b[0m, \u001b[38;5;34m128\u001b[0m)            │        \u001b[38;5;34m65,664\u001b[0m │\n",
       "├─────────────────────────────────┼────────────────────────┼───────────────┤\n",
       "│ dense_2 (\u001b[38;5;33mDense\u001b[0m)                 │ (\u001b[38;5;45mNone\u001b[0m, \u001b[38;5;34m1\u001b[0m)              │           \u001b[38;5;34m129\u001b[0m │\n",
       "└─────────────────────────────────┴────────────────────────┴───────────────┘\n"
      ]
     },
     "metadata": {},
     "output_type": "display_data"
    },
    {
     "data": {
      "text/html": [
       "<pre style=\"white-space:pre;overflow-x:auto;line-height:normal;font-family:Menlo,'DejaVu Sans Mono',consolas,'Courier New',monospace\"><span style=\"font-weight: bold\"> Total params: </span><span style=\"color: #00af00; text-decoration-color: #00af00\">73,473</span> (287.00 KB)\n",
       "</pre>\n"
      ],
      "text/plain": [
       "\u001b[1m Total params: \u001b[0m\u001b[38;5;34m73,473\u001b[0m (287.00 KB)\n"
      ]
     },
     "metadata": {},
     "output_type": "display_data"
    },
    {
     "data": {
      "text/html": [
       "<pre style=\"white-space:pre;overflow-x:auto;line-height:normal;font-family:Menlo,'DejaVu Sans Mono',consolas,'Courier New',monospace\"><span style=\"font-weight: bold\"> Trainable params: </span><span style=\"color: #00af00; text-decoration-color: #00af00\">73,473</span> (287.00 KB)\n",
       "</pre>\n"
      ],
      "text/plain": [
       "\u001b[1m Trainable params: \u001b[0m\u001b[38;5;34m73,473\u001b[0m (287.00 KB)\n"
      ]
     },
     "metadata": {},
     "output_type": "display_data"
    },
    {
     "data": {
      "text/html": [
       "<pre style=\"white-space:pre;overflow-x:auto;line-height:normal;font-family:Menlo,'DejaVu Sans Mono',consolas,'Courier New',monospace\"><span style=\"font-weight: bold\"> Non-trainable params: </span><span style=\"color: #00af00; text-decoration-color: #00af00\">0</span> (0.00 B)\n",
       "</pre>\n"
      ],
      "text/plain": [
       "\u001b[1m Non-trainable params: \u001b[0m\u001b[38;5;34m0\u001b[0m (0.00 B)\n"
      ]
     },
     "metadata": {},
     "output_type": "display_data"
    }
   ],
   "source": [
    "model.summary()"
   ]
  },
  {
   "cell_type": "code",
   "execution_count": 15,
   "metadata": {},
   "outputs": [],
   "source": [
    "model.compile(optimizer=Adam(learning_rate=0.0005), \n",
    "              loss='mse',\n",
    "              metrics=[\"R2Score\"])"
   ]
  },
  {
   "cell_type": "code",
   "execution_count": 16,
   "metadata": {},
   "outputs": [
    {
     "name": "stdout",
     "output_type": "stream",
     "text": [
      "Epoch 1/200\n",
      "\u001b[1m246/246\u001b[0m \u001b[32m━━━━━━━━━━━━━━━━━━━━\u001b[0m\u001b[37m\u001b[0m \u001b[1m9s\u001b[0m 12ms/step - R2Score: 0.6166 - loss: 0.3572 - val_R2Score: 0.9024 - val_loss: 0.1032\n",
      "Epoch 2/200\n",
      "\u001b[1m246/246\u001b[0m \u001b[32m━━━━━━━━━━━━━━━━━━━━\u001b[0m\u001b[37m\u001b[0m \u001b[1m2s\u001b[0m 8ms/step - R2Score: 0.8884 - loss: 0.1085 - val_R2Score: 0.9231 - val_loss: 0.0813\n",
      "Epoch 3/200\n",
      "\u001b[1m246/246\u001b[0m \u001b[32m━━━━━━━━━━━━━━━━━━━━\u001b[0m\u001b[37m\u001b[0m \u001b[1m2s\u001b[0m 7ms/step - R2Score: 0.9053 - loss: 0.0943 - val_R2Score: 0.9466 - val_loss: 0.0564\n",
      "Epoch 4/200\n",
      "\u001b[1m246/246\u001b[0m \u001b[32m━━━━━━━━━━━━━━━━━━━━\u001b[0m\u001b[37m\u001b[0m \u001b[1m2s\u001b[0m 7ms/step - R2Score: 0.9209 - loss: 0.0787 - val_R2Score: 0.9484 - val_loss: 0.0545\n",
      "Epoch 5/200\n",
      "\u001b[1m246/246\u001b[0m \u001b[32m━━━━━━━━━━━━━━━━━━━━\u001b[0m\u001b[37m\u001b[0m \u001b[1m2s\u001b[0m 8ms/step - R2Score: 0.9270 - loss: 0.0718 - val_R2Score: 0.9556 - val_loss: 0.0469\n",
      "Epoch 6/200\n",
      "\u001b[1m246/246\u001b[0m \u001b[32m━━━━━━━━━━━━━━━━━━━━\u001b[0m\u001b[37m\u001b[0m \u001b[1m3s\u001b[0m 9ms/step - R2Score: 0.9347 - loss: 0.0637 - val_R2Score: 0.9553 - val_loss: 0.0473\n",
      "Epoch 7/200\n",
      "\u001b[1m246/246\u001b[0m \u001b[32m━━━━━━━━━━━━━━━━━━━━\u001b[0m\u001b[37m\u001b[0m \u001b[1m2s\u001b[0m 8ms/step - R2Score: 0.9456 - loss: 0.0521 - val_R2Score: 0.9662 - val_loss: 0.0357\n",
      "Epoch 8/200\n",
      "\u001b[1m246/246\u001b[0m \u001b[32m━━━━━━━━━━━━━━━━━━━━\u001b[0m\u001b[37m\u001b[0m \u001b[1m2s\u001b[0m 8ms/step - R2Score: 0.9493 - loss: 0.0481 - val_R2Score: 0.9650 - val_loss: 0.0369\n",
      "Epoch 9/200\n",
      "\u001b[1m246/246\u001b[0m \u001b[32m━━━━━━━━━━━━━━━━━━━━\u001b[0m\u001b[37m\u001b[0m \u001b[1m3s\u001b[0m 8ms/step - R2Score: 0.9550 - loss: 0.0455 - val_R2Score: 0.9670 - val_loss: 0.0349\n",
      "Epoch 10/200\n",
      "\u001b[1m246/246\u001b[0m \u001b[32m━━━━━━━━━━━━━━━━━━━━\u001b[0m\u001b[37m\u001b[0m \u001b[1m2s\u001b[0m 10ms/step - R2Score: 0.9557 - loss: 0.0420 - val_R2Score: 0.9659 - val_loss: 0.0360\n",
      "Epoch 11/200\n",
      "\u001b[1m246/246\u001b[0m \u001b[32m━━━━━━━━━━━━━━━━━━━━\u001b[0m\u001b[37m\u001b[0m \u001b[1m2s\u001b[0m 8ms/step - R2Score: 0.9643 - loss: 0.0347 - val_R2Score: 0.9749 - val_loss: 0.0265\n",
      "Epoch 12/200\n",
      "\u001b[1m246/246\u001b[0m \u001b[32m━━━━━━━━━━━━━━━━━━━━\u001b[0m\u001b[37m\u001b[0m \u001b[1m3s\u001b[0m 8ms/step - R2Score: 0.9583 - loss: 0.0420 - val_R2Score: 0.9762 - val_loss: 0.0252\n",
      "Epoch 13/200\n",
      "\u001b[1m246/246\u001b[0m \u001b[32m━━━━━━━━━━━━━━━━━━━━\u001b[0m\u001b[37m\u001b[0m \u001b[1m2s\u001b[0m 9ms/step - R2Score: 0.9588 - loss: 0.0399 - val_R2Score: 0.9744 - val_loss: 0.0271\n",
      "Epoch 14/200\n",
      "\u001b[1m246/246\u001b[0m \u001b[32m━━━━━━━━━━━━━━━━━━━━\u001b[0m\u001b[37m\u001b[0m \u001b[1m2s\u001b[0m 9ms/step - R2Score: 0.9672 - loss: 0.0326 - val_R2Score: 0.9751 - val_loss: 0.0263\n",
      "Epoch 15/200\n",
      "\u001b[1m246/246\u001b[0m \u001b[32m━━━━━━━━━━━━━━━━━━━━\u001b[0m\u001b[37m\u001b[0m \u001b[1m2s\u001b[0m 8ms/step - R2Score: 0.9656 - loss: 0.0367 - val_R2Score: 0.9794 - val_loss: 0.0218\n",
      "Epoch 16/200\n",
      "\u001b[1m246/246\u001b[0m \u001b[32m━━━━━━━━━━━━━━━━━━━━\u001b[0m\u001b[37m\u001b[0m \u001b[1m3s\u001b[0m 9ms/step - R2Score: 0.9707 - loss: 0.0296 - val_R2Score: 0.9795 - val_loss: 0.0217\n",
      "Epoch 17/200\n",
      "\u001b[1m246/246\u001b[0m \u001b[32m━━━━━━━━━━━━━━━━━━━━\u001b[0m\u001b[37m\u001b[0m \u001b[1m2s\u001b[0m 10ms/step - R2Score: 0.9688 - loss: 0.0318 - val_R2Score: 0.9766 - val_loss: 0.0248\n",
      "Epoch 18/200\n",
      "\u001b[1m246/246\u001b[0m \u001b[32m━━━━━━━━━━━━━━━━━━━━\u001b[0m\u001b[37m\u001b[0m \u001b[1m2s\u001b[0m 7ms/step - R2Score: 0.9696 - loss: 0.0286 - val_R2Score: 0.9655 - val_loss: 0.0364\n",
      "Epoch 19/200\n",
      "\u001b[1m246/246\u001b[0m \u001b[32m━━━━━━━━━━━━━━━━━━━━\u001b[0m\u001b[37m\u001b[0m \u001b[1m2s\u001b[0m 8ms/step - R2Score: 0.9702 - loss: 0.0284 - val_R2Score: 0.9778 - val_loss: 0.0235\n",
      "Epoch 20/200\n",
      "\u001b[1m246/246\u001b[0m \u001b[32m━━━━━━━━━━━━━━━━━━━━\u001b[0m\u001b[37m\u001b[0m \u001b[1m2s\u001b[0m 9ms/step - R2Score: 0.9705 - loss: 0.0293 - val_R2Score: 0.9789 - val_loss: 0.0223\n",
      "Epoch 21/200\n",
      "\u001b[1m246/246\u001b[0m \u001b[32m━━━━━━━━━━━━━━━━━━━━\u001b[0m\u001b[37m\u001b[0m \u001b[1m2s\u001b[0m 9ms/step - R2Score: 0.9723 - loss: 0.0284 - val_R2Score: 0.9805 - val_loss: 0.0206\n",
      "Epoch 22/200\n",
      "\u001b[1m246/246\u001b[0m \u001b[32m━━━━━━━━━━━━━━━━━━━━\u001b[0m\u001b[37m\u001b[0m \u001b[1m2s\u001b[0m 8ms/step - R2Score: 0.9749 - loss: 0.0253 - val_R2Score: 0.9732 - val_loss: 0.0283\n",
      "Epoch 23/200\n",
      "\u001b[1m246/246\u001b[0m \u001b[32m━━━━━━━━━━━━━━━━━━━━\u001b[0m\u001b[37m\u001b[0m \u001b[1m2s\u001b[0m 8ms/step - R2Score: 0.9685 - loss: 0.0297 - val_R2Score: 0.9770 - val_loss: 0.0243\n",
      "Epoch 24/200\n",
      "\u001b[1m246/246\u001b[0m \u001b[32m━━━━━━━━━━━━━━━━━━━━\u001b[0m\u001b[37m\u001b[0m \u001b[1m4s\u001b[0m 12ms/step - R2Score: 0.9748 - loss: 0.0243 - val_R2Score: 0.9815 - val_loss: 0.0195\n",
      "Epoch 25/200\n",
      "\u001b[1m246/246\u001b[0m \u001b[32m━━━━━━━━━━━━━━━━━━━━\u001b[0m\u001b[37m\u001b[0m \u001b[1m2s\u001b[0m 9ms/step - R2Score: 0.9759 - loss: 0.0228 - val_R2Score: 0.9816 - val_loss: 0.0195\n",
      "Epoch 26/200\n",
      "\u001b[1m246/246\u001b[0m \u001b[32m━━━━━━━━━━━━━━━━━━━━\u001b[0m\u001b[37m\u001b[0m \u001b[1m2s\u001b[0m 8ms/step - R2Score: 0.9761 - loss: 0.0223 - val_R2Score: 0.9769 - val_loss: 0.0244\n",
      "Epoch 27/200\n",
      "\u001b[1m246/246\u001b[0m \u001b[32m━━━━━━━━━━━━━━━━━━━━\u001b[0m\u001b[37m\u001b[0m \u001b[1m3s\u001b[0m 9ms/step - R2Score: 0.9750 - loss: 0.0253 - val_R2Score: 0.9823 - val_loss: 0.0187\n",
      "Epoch 28/200\n",
      "\u001b[1m246/246\u001b[0m \u001b[32m━━━━━━━━━━━━━━━━━━━━\u001b[0m\u001b[37m\u001b[0m \u001b[1m3s\u001b[0m 9ms/step - R2Score: 0.9759 - loss: 0.0241 - val_R2Score: 0.9801 - val_loss: 0.0210\n",
      "Epoch 29/200\n",
      "\u001b[1m246/246\u001b[0m \u001b[32m━━━━━━━━━━━━━━━━━━━━\u001b[0m\u001b[37m\u001b[0m \u001b[1m2s\u001b[0m 8ms/step - R2Score: 0.9788 - loss: 0.0198 - val_R2Score: 0.9829 - val_loss: 0.0181\n",
      "Epoch 30/200\n",
      "\u001b[1m246/246\u001b[0m \u001b[32m━━━━━━━━━━━━━━━━━━━━\u001b[0m\u001b[37m\u001b[0m \u001b[1m2s\u001b[0m 8ms/step - R2Score: 0.9786 - loss: 0.0194 - val_R2Score: 0.9621 - val_loss: 0.0401\n",
      "Epoch 31/200\n",
      "\u001b[1m246/246\u001b[0m \u001b[32m━━━━━━━━━━━━━━━━━━━━\u001b[0m\u001b[37m\u001b[0m \u001b[1m2s\u001b[0m 7ms/step - R2Score: 0.9750 - loss: 0.0252 - val_R2Score: 0.9825 - val_loss: 0.0185\n",
      "Epoch 32/200\n",
      "\u001b[1m246/246\u001b[0m \u001b[32m━━━━━━━━━━━━━━━━━━━━\u001b[0m\u001b[37m\u001b[0m \u001b[1m3s\u001b[0m 10ms/step - R2Score: 0.9819 - loss: 0.0177 - val_R2Score: 0.9841 - val_loss: 0.0168\n",
      "Epoch 33/200\n",
      "\u001b[1m246/246\u001b[0m \u001b[32m━━━━━━━━━━━━━━━━━━━━\u001b[0m\u001b[37m\u001b[0m \u001b[1m2s\u001b[0m 9ms/step - R2Score: 0.9772 - loss: 0.0218 - val_R2Score: 0.9832 - val_loss: 0.0178\n",
      "Epoch 34/200\n",
      "\u001b[1m246/246\u001b[0m \u001b[32m━━━━━━━━━━━━━━━━━━━━\u001b[0m\u001b[37m\u001b[0m \u001b[1m2s\u001b[0m 8ms/step - R2Score: 0.9806 - loss: 0.0182 - val_R2Score: 0.9851 - val_loss: 0.0158\n",
      "Epoch 35/200\n",
      "\u001b[1m246/246\u001b[0m \u001b[32m━━━━━━━━━━━━━━━━━━━━\u001b[0m\u001b[37m\u001b[0m \u001b[1m2s\u001b[0m 9ms/step - R2Score: 0.9821 - loss: 0.0168 - val_R2Score: 0.9780 - val_loss: 0.0233\n",
      "Epoch 36/200\n",
      "\u001b[1m246/246\u001b[0m \u001b[32m━━━━━━━━━━━━━━━━━━━━\u001b[0m\u001b[37m\u001b[0m \u001b[1m3s\u001b[0m 10ms/step - R2Score: 0.9806 - loss: 0.0192 - val_R2Score: 0.9826 - val_loss: 0.0183\n",
      "Epoch 37/200\n",
      "\u001b[1m246/246\u001b[0m \u001b[32m━━━━━━━━━━━━━━━━━━━━\u001b[0m\u001b[37m\u001b[0m \u001b[1m2s\u001b[0m 9ms/step - R2Score: 0.9813 - loss: 0.0191 - val_R2Score: 0.9848 - val_loss: 0.0161\n",
      "Epoch 38/200\n",
      "\u001b[1m246/246\u001b[0m \u001b[32m━━━━━━━━━━━━━━━━━━━━\u001b[0m\u001b[37m\u001b[0m \u001b[1m3s\u001b[0m 12ms/step - R2Score: 0.9826 - loss: 0.0177 - val_R2Score: 0.9847 - val_loss: 0.0162\n",
      "Epoch 39/200\n",
      "\u001b[1m246/246\u001b[0m \u001b[32m━━━━━━━━━━━━━━━━━━━━\u001b[0m\u001b[37m\u001b[0m \u001b[1m3s\u001b[0m 12ms/step - R2Score: 0.9821 - loss: 0.0173 - val_R2Score: 0.9778 - val_loss: 0.0235\n",
      "Epoch 40/200\n",
      "\u001b[1m246/246\u001b[0m \u001b[32m━━━━━━━━━━━━━━━━━━━━\u001b[0m\u001b[37m\u001b[0m \u001b[1m10s\u001b[0m 30ms/step - R2Score: 0.9807 - loss: 0.0204 - val_R2Score: 0.9841 - val_loss: 0.0168\n",
      "Epoch 41/200\n",
      "\u001b[1m246/246\u001b[0m \u001b[32m━━━━━━━━━━━━━━━━━━━━\u001b[0m\u001b[37m\u001b[0m \u001b[1m8s\u001b[0m 16ms/step - R2Score: 0.9840 - loss: 0.0154 - val_R2Score: 0.9808 - val_loss: 0.0203\n",
      "Epoch 42/200\n",
      "\u001b[1m246/246\u001b[0m \u001b[32m━━━━━━━━━━━━━━━━━━━━\u001b[0m\u001b[37m\u001b[0m \u001b[1m4s\u001b[0m 10ms/step - R2Score: 0.9831 - loss: 0.0167 - val_R2Score: 0.9830 - val_loss: 0.0179\n",
      "Epoch 43/200\n",
      "\u001b[1m246/246\u001b[0m \u001b[32m━━━━━━━━━━━━━━━━━━━━\u001b[0m\u001b[37m\u001b[0m \u001b[1m2s\u001b[0m 9ms/step - R2Score: 0.9823 - loss: 0.0180 - val_R2Score: 0.9836 - val_loss: 0.0173\n",
      "Epoch 44/200\n",
      "\u001b[1m246/246\u001b[0m \u001b[32m━━━━━━━━━━━━━━━━━━━━\u001b[0m\u001b[37m\u001b[0m \u001b[1m3s\u001b[0m 11ms/step - R2Score: 0.9820 - loss: 0.0174 - val_R2Score: 0.9832 - val_loss: 0.0178\n",
      "Epoch 45/200\n",
      "\u001b[1m246/246\u001b[0m \u001b[32m━━━━━━━━━━━━━━━━━━━━\u001b[0m\u001b[37m\u001b[0m \u001b[1m6s\u001b[0m 14ms/step - R2Score: 0.9813 - loss: 0.0193 - val_R2Score: 0.9860 - val_loss: 0.0148\n",
      "Epoch 46/200\n",
      "\u001b[1m246/246\u001b[0m \u001b[32m━━━━━━━━━━━━━━━━━━━━\u001b[0m\u001b[37m\u001b[0m \u001b[1m4s\u001b[0m 9ms/step - R2Score: 0.9841 - loss: 0.0159 - val_R2Score: 0.9799 - val_loss: 0.0213\n",
      "Epoch 47/200\n",
      "\u001b[1m246/246\u001b[0m \u001b[32m━━━━━━━━━━━━━━━━━━━━\u001b[0m\u001b[37m\u001b[0m \u001b[1m3s\u001b[0m 13ms/step - R2Score: 0.9808 - loss: 0.0188 - val_R2Score: 0.9842 - val_loss: 0.0167\n",
      "Epoch 48/200\n",
      "\u001b[1m246/246\u001b[0m \u001b[32m━━━━━━━━━━━━━━━━━━━━\u001b[0m\u001b[37m\u001b[0m \u001b[1m4s\u001b[0m 9ms/step - R2Score: 0.9807 - loss: 0.0188 - val_R2Score: 0.9841 - val_loss: 0.0168\n",
      "Epoch 49/200\n",
      "\u001b[1m246/246\u001b[0m \u001b[32m━━━━━━━━━━━━━━━━━━━━\u001b[0m\u001b[37m\u001b[0m \u001b[1m3s\u001b[0m 10ms/step - R2Score: 0.9838 - loss: 0.0154 - val_R2Score: 0.9871 - val_loss: 0.0136\n",
      "Epoch 50/200\n",
      "\u001b[1m246/246\u001b[0m \u001b[32m━━━━━━━━━━━━━━━━━━━━\u001b[0m\u001b[37m\u001b[0m \u001b[1m6s\u001b[0m 14ms/step - R2Score: 0.9847 - loss: 0.0151 - val_R2Score: 0.9871 - val_loss: 0.0137\n",
      "Epoch 51/200\n",
      "\u001b[1m246/246\u001b[0m \u001b[32m━━━━━━━━━━━━━━━━━━━━\u001b[0m\u001b[37m\u001b[0m \u001b[1m4s\u001b[0m 15ms/step - R2Score: 0.9840 - loss: 0.0160 - val_R2Score: 0.9796 - val_loss: 0.0216\n",
      "Epoch 52/200\n",
      "\u001b[1m246/246\u001b[0m \u001b[32m━━━━━━━━━━━━━━━━━━━━\u001b[0m\u001b[37m\u001b[0m \u001b[1m4s\u001b[0m 9ms/step - R2Score: 0.9810 - loss: 0.0189 - val_R2Score: 0.9838 - val_loss: 0.0172\n",
      "Epoch 53/200\n",
      "\u001b[1m246/246\u001b[0m \u001b[32m━━━━━━━━━━━━━━━━━━━━\u001b[0m\u001b[37m\u001b[0m \u001b[1m2s\u001b[0m 7ms/step - R2Score: 0.9823 - loss: 0.0172 - val_R2Score: 0.9834 - val_loss: 0.0175\n",
      "Epoch 54/200\n",
      "\u001b[1m246/246\u001b[0m \u001b[32m━━━━━━━━━━━━━━━━━━━━\u001b[0m\u001b[37m\u001b[0m \u001b[1m2s\u001b[0m 8ms/step - R2Score: 0.9819 - loss: 0.0189 - val_R2Score: 0.9855 - val_loss: 0.0153\n",
      "Epoch 55/200\n",
      "\u001b[1m246/246\u001b[0m \u001b[32m━━━━━━━━━━━━━━━━━━━━\u001b[0m\u001b[37m\u001b[0m \u001b[1m2s\u001b[0m 7ms/step - R2Score: 0.9837 - loss: 0.0156 - val_R2Score: 0.9852 - val_loss: 0.0157\n",
      "Epoch 56/200\n",
      "\u001b[1m246/246\u001b[0m \u001b[32m━━━━━━━━━━━━━━━━━━━━\u001b[0m\u001b[37m\u001b[0m \u001b[1m3s\u001b[0m 9ms/step - R2Score: 0.9869 - loss: 0.0123 - val_R2Score: 0.9847 - val_loss: 0.0162\n",
      "Epoch 57/200\n",
      "\u001b[1m246/246\u001b[0m \u001b[32m━━━━━━━━━━━━━━━━━━━━\u001b[0m\u001b[37m\u001b[0m \u001b[1m3s\u001b[0m 12ms/step - R2Score: 0.9839 - loss: 0.0159 - val_R2Score: 0.9843 - val_loss: 0.0165\n",
      "Epoch 58/200\n",
      "\u001b[1m246/246\u001b[0m \u001b[32m━━━━━━━━━━━━━━━━━━━━\u001b[0m\u001b[37m\u001b[0m \u001b[1m4s\u001b[0m 7ms/step - R2Score: 0.9861 - loss: 0.0134 - val_R2Score: 0.9863 - val_loss: 0.0145\n",
      "Epoch 59/200\n",
      "\u001b[1m246/246\u001b[0m \u001b[32m━━━━━━━━━━━━━━━━━━━━\u001b[0m\u001b[37m\u001b[0m \u001b[1m2s\u001b[0m 8ms/step - R2Score: 0.9867 - loss: 0.0132 - val_R2Score: 0.9837 - val_loss: 0.0172\n",
      "Epoch 60/200\n",
      "\u001b[1m246/246\u001b[0m \u001b[32m━━━━━━━━━━━━━━━━━━━━\u001b[0m\u001b[37m\u001b[0m \u001b[1m2s\u001b[0m 7ms/step - R2Score: 0.9858 - loss: 0.0138 - val_R2Score: 0.9844 - val_loss: 0.0165\n",
      "Epoch 61/200\n",
      "\u001b[1m246/246\u001b[0m \u001b[32m━━━━━━━━━━━━━━━━━━━━\u001b[0m\u001b[37m\u001b[0m \u001b[1m2s\u001b[0m 6ms/step - R2Score: 0.9867 - loss: 0.0125 - val_R2Score: 0.9848 - val_loss: 0.0161\n",
      "Epoch 62/200\n",
      "\u001b[1m246/246\u001b[0m \u001b[32m━━━━━━━━━━━━━━━━━━━━\u001b[0m\u001b[37m\u001b[0m \u001b[1m2s\u001b[0m 7ms/step - R2Score: 0.9862 - loss: 0.0131 - val_R2Score: 0.9853 - val_loss: 0.0156\n",
      "Epoch 63/200\n",
      "\u001b[1m246/246\u001b[0m \u001b[32m━━━━━━━━━━━━━━━━━━━━\u001b[0m\u001b[37m\u001b[0m \u001b[1m3s\u001b[0m 9ms/step - R2Score: 0.9863 - loss: 0.0131 - val_R2Score: 0.9857 - val_loss: 0.0152\n",
      "Epoch 64/200\n",
      "\u001b[1m246/246\u001b[0m \u001b[32m━━━━━━━━━━━━━━━━━━━━\u001b[0m\u001b[37m\u001b[0m \u001b[1m2s\u001b[0m 9ms/step - R2Score: 0.9855 - loss: 0.0144 - val_R2Score: 0.9819 - val_loss: 0.0192\n",
      "Epoch 65/200\n",
      "\u001b[1m246/246\u001b[0m \u001b[32m━━━━━━━━━━━━━━━━━━━━\u001b[0m\u001b[37m\u001b[0m \u001b[1m3s\u001b[0m 11ms/step - R2Score: 0.9876 - loss: 0.0123 - val_R2Score: 0.9878 - val_loss: 0.0129\n",
      "Epoch 66/200\n",
      "\u001b[1m246/246\u001b[0m \u001b[32m━━━━━━━━━━━━━━━━━━━━\u001b[0m\u001b[37m\u001b[0m \u001b[1m4s\u001b[0m 14ms/step - R2Score: 0.9843 - loss: 0.0156 - val_R2Score: 0.9842 - val_loss: 0.0167\n",
      "Epoch 67/200\n",
      "\u001b[1m246/246\u001b[0m \u001b[32m━━━━━━━━━━━━━━━━━━━━\u001b[0m\u001b[37m\u001b[0m \u001b[1m6s\u001b[0m 16ms/step - R2Score: 0.9859 - loss: 0.0137 - val_R2Score: 0.9517 - val_loss: 0.0511\n",
      "Epoch 68/200\n",
      "\u001b[1m246/246\u001b[0m \u001b[32m━━━━━━━━━━━━━━━━━━━━\u001b[0m\u001b[37m\u001b[0m \u001b[1m3s\u001b[0m 13ms/step - R2Score: 0.9764 - loss: 0.0216 - val_R2Score: 0.9878 - val_loss: 0.0129\n",
      "Epoch 69/200\n",
      "\u001b[1m246/246\u001b[0m \u001b[32m━━━━━━━━━━━━━━━━━━━━\u001b[0m\u001b[37m\u001b[0m \u001b[1m8s\u001b[0m 26ms/step - R2Score: 0.9886 - loss: 0.0115 - val_R2Score: 0.9854 - val_loss: 0.0155\n",
      "Epoch 70/200\n",
      "\u001b[1m246/246\u001b[0m \u001b[32m━━━━━━━━━━━━━━━━━━━━\u001b[0m\u001b[37m\u001b[0m \u001b[1m5s\u001b[0m 18ms/step - R2Score: 0.9865 - loss: 0.0136 - val_R2Score: 0.9887 - val_loss: 0.0120\n",
      "Epoch 71/200\n",
      "\u001b[1m246/246\u001b[0m \u001b[32m━━━━━━━━━━━━━━━━━━━━\u001b[0m\u001b[37m\u001b[0m \u001b[1m4s\u001b[0m 13ms/step - R2Score: 0.9870 - loss: 0.0133 - val_R2Score: 0.9865 - val_loss: 0.0142\n",
      "Epoch 72/200\n",
      "\u001b[1m246/246\u001b[0m \u001b[32m━━━━━━━━━━━━━━━━━━━━\u001b[0m\u001b[37m\u001b[0m \u001b[1m3s\u001b[0m 12ms/step - R2Score: 0.9866 - loss: 0.0132 - val_R2Score: 0.9886 - val_loss: 0.0121\n",
      "Epoch 73/200\n",
      "\u001b[1m246/246\u001b[0m \u001b[32m━━━━━━━━━━━━━━━━━━━━\u001b[0m\u001b[37m\u001b[0m \u001b[1m4s\u001b[0m 14ms/step - R2Score: 0.9823 - loss: 0.0175 - val_R2Score: 0.9847 - val_loss: 0.0162\n",
      "Epoch 74/200\n",
      "\u001b[1m246/246\u001b[0m \u001b[32m━━━━━━━━━━━━━━━━━━━━\u001b[0m\u001b[37m\u001b[0m \u001b[1m6s\u001b[0m 16ms/step - R2Score: 0.9817 - loss: 0.0182 - val_R2Score: 0.9887 - val_loss: 0.0119\n",
      "Epoch 75/200\n",
      "\u001b[1m246/246\u001b[0m \u001b[32m━━━━━━━━━━━━━━━━━━━━\u001b[0m\u001b[37m\u001b[0m \u001b[1m5s\u001b[0m 13ms/step - R2Score: 0.9875 - loss: 0.0127 - val_R2Score: 0.9900 - val_loss: 0.0106\n",
      "Epoch 76/200\n",
      "\u001b[1m246/246\u001b[0m \u001b[32m━━━━━━━━━━━━━━━━━━━━\u001b[0m\u001b[37m\u001b[0m \u001b[1m4s\u001b[0m 7ms/step - R2Score: 0.9872 - loss: 0.0128 - val_R2Score: 0.9883 - val_loss: 0.0123\n",
      "Epoch 77/200\n",
      "\u001b[1m246/246\u001b[0m \u001b[32m━━━━━━━━━━━━━━━━━━━━\u001b[0m\u001b[37m\u001b[0m \u001b[1m2s\u001b[0m 8ms/step - R2Score: 0.9889 - loss: 0.0114 - val_R2Score: 0.9869 - val_loss: 0.0139\n",
      "Epoch 78/200\n",
      "\u001b[1m246/246\u001b[0m \u001b[32m━━━━━━━━━━━━━━━━━━━━\u001b[0m\u001b[37m\u001b[0m \u001b[1m3s\u001b[0m 8ms/step - R2Score: 0.9895 - loss: 0.0104 - val_R2Score: 0.9847 - val_loss: 0.0162\n",
      "Epoch 79/200\n",
      "\u001b[1m246/246\u001b[0m \u001b[32m━━━━━━━━━━━━━━━━━━━━\u001b[0m\u001b[37m\u001b[0m \u001b[1m2s\u001b[0m 8ms/step - R2Score: 0.9863 - loss: 0.0125 - val_R2Score: 0.9888 - val_loss: 0.0118\n",
      "Epoch 80/200\n",
      "\u001b[1m246/246\u001b[0m \u001b[32m━━━━━━━━━━━━━━━━━━━━\u001b[0m\u001b[37m\u001b[0m \u001b[1m3s\u001b[0m 12ms/step - R2Score: 0.9867 - loss: 0.0135 - val_R2Score: 0.9882 - val_loss: 0.0125\n",
      "Epoch 81/200\n",
      "\u001b[1m246/246\u001b[0m \u001b[32m━━━━━━━━━━━━━━━━━━━━\u001b[0m\u001b[37m\u001b[0m \u001b[1m4s\u001b[0m 8ms/step - R2Score: 0.9867 - loss: 0.0125 - val_R2Score: 0.9863 - val_loss: 0.0144\n",
      "Epoch 82/200\n",
      "\u001b[1m246/246\u001b[0m \u001b[32m━━━━━━━━━━━━━━━━━━━━\u001b[0m\u001b[37m\u001b[0m \u001b[1m3s\u001b[0m 12ms/step - R2Score: 0.9870 - loss: 0.0130 - val_R2Score: 0.9857 - val_loss: 0.0151\n",
      "Epoch 83/200\n",
      "\u001b[1m246/246\u001b[0m \u001b[32m━━━━━━━━━━━━━━━━━━━━\u001b[0m\u001b[37m\u001b[0m \u001b[1m2s\u001b[0m 7ms/step - R2Score: 0.9883 - loss: 0.0121 - val_R2Score: 0.9875 - val_loss: 0.0132\n",
      "Epoch 84/200\n",
      "\u001b[1m246/246\u001b[0m \u001b[32m━━━━━━━━━━━━━━━━━━━━\u001b[0m\u001b[37m\u001b[0m \u001b[1m3s\u001b[0m 6ms/step - R2Score: 0.9885 - loss: 0.0117 - val_R2Score: 0.9863 - val_loss: 0.0144\n",
      "Epoch 85/200\n",
      "\u001b[1m246/246\u001b[0m \u001b[32m━━━━━━━━━━━━━━━━━━━━\u001b[0m\u001b[37m\u001b[0m \u001b[1m2s\u001b[0m 8ms/step - R2Score: 0.9872 - loss: 0.0121 - val_R2Score: 0.9898 - val_loss: 0.0108\n",
      "Epoch 86/200\n",
      "\u001b[1m246/246\u001b[0m \u001b[32m━━━━━━━━━━━━━━━━━━━━\u001b[0m\u001b[37m\u001b[0m \u001b[1m2s\u001b[0m 6ms/step - R2Score: 0.9888 - loss: 0.0106 - val_R2Score: 0.9876 - val_loss: 0.0131\n",
      "Epoch 87/200\n",
      "\u001b[1m246/246\u001b[0m \u001b[32m━━━━━━━━━━━━━━━━━━━━\u001b[0m\u001b[37m\u001b[0m \u001b[1m2s\u001b[0m 7ms/step - R2Score: 0.9891 - loss: 0.0104 - val_R2Score: 0.9892 - val_loss: 0.0114\n",
      "Epoch 88/200\n",
      "\u001b[1m246/246\u001b[0m \u001b[32m━━━━━━━━━━━━━━━━━━━━\u001b[0m\u001b[37m\u001b[0m \u001b[1m2s\u001b[0m 8ms/step - R2Score: 0.9905 - loss: 0.0093 - val_R2Score: 0.9870 - val_loss: 0.0138\n",
      "Epoch 89/200\n",
      "\u001b[1m246/246\u001b[0m \u001b[32m━━━━━━━━━━━━━━━━━━━━\u001b[0m\u001b[37m\u001b[0m \u001b[1m2s\u001b[0m 6ms/step - R2Score: 0.9895 - loss: 0.0107 - val_R2Score: 0.9790 - val_loss: 0.0222\n",
      "Epoch 90/200\n",
      "\u001b[1m246/246\u001b[0m \u001b[32m━━━━━━━━━━━━━━━━━━━━\u001b[0m\u001b[37m\u001b[0m \u001b[1m2s\u001b[0m 8ms/step - R2Score: 0.9886 - loss: 0.0113 - val_R2Score: 0.9879 - val_loss: 0.0128\n",
      "Epoch 91/200\n",
      "\u001b[1m246/246\u001b[0m \u001b[32m━━━━━━━━━━━━━━━━━━━━\u001b[0m\u001b[37m\u001b[0m \u001b[1m2s\u001b[0m 8ms/step - R2Score: 0.9876 - loss: 0.0121 - val_R2Score: 0.9865 - val_loss: 0.0143\n",
      "Epoch 92/200\n",
      "\u001b[1m246/246\u001b[0m \u001b[32m━━━━━━━━━━━━━━━━━━━━\u001b[0m\u001b[37m\u001b[0m \u001b[1m4s\u001b[0m 14ms/step - R2Score: 0.9885 - loss: 0.0111 - val_R2Score: 0.9888 - val_loss: 0.0118\n",
      "Epoch 93/200\n",
      "\u001b[1m246/246\u001b[0m \u001b[32m━━━━━━━━━━━━━━━━━━━━\u001b[0m\u001b[37m\u001b[0m \u001b[1m3s\u001b[0m 13ms/step - R2Score: 0.9889 - loss: 0.0112 - val_R2Score: 0.9839 - val_loss: 0.0170\n",
      "Epoch 94/200\n",
      "\u001b[1m246/246\u001b[0m \u001b[32m━━━━━━━━━━━━━━━━━━━━\u001b[0m\u001b[37m\u001b[0m \u001b[1m9s\u001b[0m 29ms/step - R2Score: 0.9853 - loss: 0.0143 - val_R2Score: 0.9864 - val_loss: 0.0144\n",
      "Epoch 95/200\n",
      "\u001b[1m246/246\u001b[0m \u001b[32m━━━━━━━━━━━━━━━━━━━━\u001b[0m\u001b[37m\u001b[0m \u001b[1m8s\u001b[0m 17ms/step - R2Score: 0.9861 - loss: 0.0146 - val_R2Score: 0.9828 - val_loss: 0.0182\n",
      "Epoch 96/200\n",
      "\u001b[1m246/246\u001b[0m \u001b[32m━━━━━━━━━━━━━━━━━━━━\u001b[0m\u001b[37m\u001b[0m \u001b[1m4s\u001b[0m 13ms/step - R2Score: 0.9896 - loss: 0.0098 - val_R2Score: 0.9881 - val_loss: 0.0126\n",
      "Epoch 97/200\n",
      "\u001b[1m246/246\u001b[0m \u001b[32m━━━━━━━━━━━━━━━━━━━━\u001b[0m\u001b[37m\u001b[0m \u001b[1m5s\u001b[0m 11ms/step - R2Score: 0.9890 - loss: 0.0106 - val_R2Score: 0.9897 - val_loss: 0.0109\n",
      "Epoch 98/200\n",
      "\u001b[1m246/246\u001b[0m \u001b[32m━━━━━━━━━━━━━━━━━━━━\u001b[0m\u001b[37m\u001b[0m \u001b[1m3s\u001b[0m 13ms/step - R2Score: 0.9885 - loss: 0.0104 - val_R2Score: 0.9887 - val_loss: 0.0119\n",
      "Epoch 99/200\n",
      "\u001b[1m246/246\u001b[0m \u001b[32m━━━━━━━━━━━━━━━━━━━━\u001b[0m\u001b[37m\u001b[0m \u001b[1m5s\u001b[0m 12ms/step - R2Score: 0.9903 - loss: 0.0091 - val_R2Score: 0.9864 - val_loss: 0.0144\n",
      "Epoch 100/200\n",
      "\u001b[1m246/246\u001b[0m \u001b[32m━━━━━━━━━━━━━━━━━━━━\u001b[0m\u001b[37m\u001b[0m \u001b[1m3s\u001b[0m 13ms/step - R2Score: 0.9894 - loss: 0.0102 - val_R2Score: 0.9859 - val_loss: 0.0149\n",
      "Epoch 101/200\n",
      "\u001b[1m246/246\u001b[0m \u001b[32m━━━━━━━━━━━━━━━━━━━━\u001b[0m\u001b[37m\u001b[0m \u001b[1m5s\u001b[0m 9ms/step - R2Score: 0.9895 - loss: 0.0106 - val_R2Score: 0.9878 - val_loss: 0.0129\n",
      "Epoch 102/200\n",
      "\u001b[1m246/246\u001b[0m \u001b[32m━━━━━━━━━━━━━━━━━━━━\u001b[0m\u001b[37m\u001b[0m \u001b[1m3s\u001b[0m 11ms/step - R2Score: 0.9896 - loss: 0.0105 - val_R2Score: 0.9860 - val_loss: 0.0148\n",
      "Epoch 103/200\n",
      "\u001b[1m246/246\u001b[0m \u001b[32m━━━━━━━━━━━━━━━━━━━━\u001b[0m\u001b[37m\u001b[0m \u001b[1m2s\u001b[0m 8ms/step - R2Score: 0.9887 - loss: 0.0111 - val_R2Score: 0.9878 - val_loss: 0.0129\n",
      "Epoch 104/200\n",
      "\u001b[1m246/246\u001b[0m \u001b[32m━━━━━━━━━━━━━━━━━━━━\u001b[0m\u001b[37m\u001b[0m \u001b[1m3s\u001b[0m 13ms/step - R2Score: 0.9884 - loss: 0.0113 - val_R2Score: 0.9867 - val_loss: 0.0140\n",
      "Epoch 105/200\n",
      "\u001b[1m246/246\u001b[0m \u001b[32m━━━━━━━━━━━━━━━━━━━━\u001b[0m\u001b[37m\u001b[0m \u001b[1m4s\u001b[0m 10ms/step - R2Score: 0.9891 - loss: 0.0111 - val_R2Score: 0.9900 - val_loss: 0.0105\n",
      "Epoch 106/200\n",
      "\u001b[1m246/246\u001b[0m \u001b[32m━━━━━━━━━━━━━━━━━━━━\u001b[0m\u001b[37m\u001b[0m \u001b[1m5s\u001b[0m 19ms/step - R2Score: 0.9902 - loss: 0.0098 - val_R2Score: 0.9869 - val_loss: 0.0139\n",
      "Epoch 107/200\n",
      "\u001b[1m246/246\u001b[0m \u001b[32m━━━━━━━━━━━━━━━━━━━━\u001b[0m\u001b[37m\u001b[0m \u001b[1m6s\u001b[0m 21ms/step - R2Score: 0.9896 - loss: 0.0092 - val_R2Score: 0.9864 - val_loss: 0.0144\n",
      "Epoch 108/200\n",
      "\u001b[1m246/246\u001b[0m \u001b[32m━━━━━━━━━━━━━━━━━━━━\u001b[0m\u001b[37m\u001b[0m \u001b[1m4s\u001b[0m 17ms/step - R2Score: 0.9917 - loss: 0.0079 - val_R2Score: 0.9893 - val_loss: 0.0113\n",
      "Epoch 109/200\n",
      "\u001b[1m246/246\u001b[0m \u001b[32m━━━━━━━━━━━━━━━━━━━━\u001b[0m\u001b[37m\u001b[0m \u001b[1m4s\u001b[0m 18ms/step - R2Score: 0.9909 - loss: 0.0086 - val_R2Score: 0.9858 - val_loss: 0.0151\n",
      "Epoch 110/200\n",
      "\u001b[1m246/246\u001b[0m \u001b[32m━━━━━━━━━━━━━━━━━━━━\u001b[0m\u001b[37m\u001b[0m \u001b[1m3s\u001b[0m 10ms/step - R2Score: 0.9908 - loss: 0.0095 - val_R2Score: 0.9836 - val_loss: 0.0174\n",
      "Epoch 111/200\n",
      "\u001b[1m246/246\u001b[0m \u001b[32m━━━━━━━━━━━━━━━━━━━━\u001b[0m\u001b[37m\u001b[0m \u001b[1m3s\u001b[0m 12ms/step - R2Score: 0.9894 - loss: 0.0097 - val_R2Score: 0.9887 - val_loss: 0.0119\n",
      "Epoch 112/200\n",
      "\u001b[1m246/246\u001b[0m \u001b[32m━━━━━━━━━━━━━━━━━━━━\u001b[0m\u001b[37m\u001b[0m \u001b[1m3s\u001b[0m 13ms/step - R2Score: 0.9902 - loss: 0.0093 - val_R2Score: 0.9835 - val_loss: 0.0174\n",
      "Epoch 113/200\n",
      "\u001b[1m246/246\u001b[0m \u001b[32m━━━━━━━━━━━━━━━━━━━━\u001b[0m\u001b[37m\u001b[0m \u001b[1m7s\u001b[0m 19ms/step - R2Score: 0.9877 - loss: 0.0120 - val_R2Score: 0.9894 - val_loss: 0.0112\n",
      "Epoch 114/200\n",
      "\u001b[1m246/246\u001b[0m \u001b[32m━━━━━━━━━━━━━━━━━━━━\u001b[0m\u001b[37m\u001b[0m \u001b[1m5s\u001b[0m 21ms/step - R2Score: 0.9893 - loss: 0.0105 - val_R2Score: 0.9904 - val_loss: 0.0102\n",
      "Epoch 115/200\n",
      "\u001b[1m246/246\u001b[0m \u001b[32m━━━━━━━━━━━━━━━━━━━━\u001b[0m\u001b[37m\u001b[0m \u001b[1m7s\u001b[0m 26ms/step - R2Score: 0.9911 - loss: 0.0093 - val_R2Score: 0.9906 - val_loss: 0.0099\n",
      "Epoch 116/200\n",
      "\u001b[1m246/246\u001b[0m \u001b[32m━━━━━━━━━━━━━━━━━━━━\u001b[0m\u001b[37m\u001b[0m \u001b[1m5s\u001b[0m 18ms/step - R2Score: 0.9921 - loss: 0.0077 - val_R2Score: 0.9895 - val_loss: 0.0111\n",
      "Epoch 117/200\n",
      "\u001b[1m246/246\u001b[0m \u001b[32m━━━━━━━━━━━━━━━━━━━━\u001b[0m\u001b[37m\u001b[0m \u001b[1m6s\u001b[0m 20ms/step - R2Score: 0.9904 - loss: 0.0095 - val_R2Score: 0.9894 - val_loss: 0.0112\n",
      "Epoch 118/200\n",
      "\u001b[1m246/246\u001b[0m \u001b[32m━━━━━━━━━━━━━━━━━━━━\u001b[0m\u001b[37m\u001b[0m \u001b[1m5s\u001b[0m 21ms/step - R2Score: 0.9902 - loss: 0.0096 - val_R2Score: 0.9898 - val_loss: 0.0108\n",
      "Epoch 119/200\n",
      "\u001b[1m246/246\u001b[0m \u001b[32m━━━━━━━━━━━━━━━━━━━━\u001b[0m\u001b[37m\u001b[0m \u001b[1m3s\u001b[0m 11ms/step - R2Score: 0.9900 - loss: 0.0097 - val_R2Score: 0.9892 - val_loss: 0.0114\n",
      "Epoch 120/200\n",
      "\u001b[1m246/246\u001b[0m \u001b[32m━━━━━━━━━━━━━━━━━━━━\u001b[0m\u001b[37m\u001b[0m \u001b[1m6s\u001b[0m 12ms/step - R2Score: 0.9906 - loss: 0.0092 - val_R2Score: 0.9858 - val_loss: 0.0150\n",
      "Epoch 121/200\n",
      "\u001b[1m246/246\u001b[0m \u001b[32m━━━━━━━━━━━━━━━━━━━━\u001b[0m\u001b[37m\u001b[0m \u001b[1m3s\u001b[0m 10ms/step - R2Score: 0.9891 - loss: 0.0110 - val_R2Score: 0.9873 - val_loss: 0.0135\n",
      "Epoch 122/200\n",
      "\u001b[1m246/246\u001b[0m \u001b[32m━━━━━━━━━━━━━━━━━━━━\u001b[0m\u001b[37m\u001b[0m \u001b[1m3s\u001b[0m 12ms/step - R2Score: 0.9887 - loss: 0.0121 - val_R2Score: 0.9895 - val_loss: 0.0111\n",
      "Epoch 123/200\n",
      "\u001b[1m246/246\u001b[0m \u001b[32m━━━━━━━━━━━━━━━━━━━━\u001b[0m\u001b[37m\u001b[0m \u001b[1m4s\u001b[0m 15ms/step - R2Score: 0.9876 - loss: 0.0119 - val_R2Score: 0.9896 - val_loss: 0.0110\n",
      "Epoch 124/200\n",
      "\u001b[1m246/246\u001b[0m \u001b[32m━━━━━━━━━━━━━━━━━━━━\u001b[0m\u001b[37m\u001b[0m \u001b[1m5s\u001b[0m 14ms/step - R2Score: 0.9908 - loss: 0.0092 - val_R2Score: 0.9877 - val_loss: 0.0130\n",
      "Epoch 125/200\n",
      "\u001b[1m246/246\u001b[0m \u001b[32m━━━━━━━━━━━━━━━━━━━━\u001b[0m\u001b[37m\u001b[0m \u001b[1m3s\u001b[0m 12ms/step - R2Score: 0.9880 - loss: 0.0124 - val_R2Score: 0.9893 - val_loss: 0.0113\n",
      "Epoch 126/200\n",
      "\u001b[1m246/246\u001b[0m \u001b[32m━━━━━━━━━━━━━━━━━━━━\u001b[0m\u001b[37m\u001b[0m \u001b[1m4s\u001b[0m 15ms/step - R2Score: 0.9921 - loss: 0.0073 - val_R2Score: 0.9907 - val_loss: 0.0098\n",
      "Epoch 127/200\n",
      "\u001b[1m246/246\u001b[0m \u001b[32m━━━━━━━━━━━━━━━━━━━━\u001b[0m\u001b[37m\u001b[0m \u001b[1m4s\u001b[0m 15ms/step - R2Score: 0.9925 - loss: 0.0074 - val_R2Score: 0.9886 - val_loss: 0.0121\n",
      "Epoch 128/200\n",
      "\u001b[1m246/246\u001b[0m \u001b[32m━━━━━━━━━━━━━━━━━━━━\u001b[0m\u001b[37m\u001b[0m \u001b[1m5s\u001b[0m 13ms/step - R2Score: 0.9915 - loss: 0.0087 - val_R2Score: 0.9874 - val_loss: 0.0133\n",
      "Epoch 129/200\n",
      "\u001b[1m246/246\u001b[0m \u001b[32m━━━━━━━━━━━━━━━━━━━━\u001b[0m\u001b[37m\u001b[0m \u001b[1m3s\u001b[0m 12ms/step - R2Score: 0.9900 - loss: 0.0095 - val_R2Score: 0.9891 - val_loss: 0.0115\n",
      "Epoch 130/200\n",
      "\u001b[1m246/246\u001b[0m \u001b[32m━━━━━━━━━━━━━━━━━━━━\u001b[0m\u001b[37m\u001b[0m \u001b[1m6s\u001b[0m 15ms/step - R2Score: 0.9907 - loss: 0.0088 - val_R2Score: 0.9903 - val_loss: 0.0103\n",
      "Epoch 131/200\n",
      "\u001b[1m246/246\u001b[0m \u001b[32m━━━━━━━━━━━━━━━━━━━━\u001b[0m\u001b[37m\u001b[0m \u001b[1m5s\u001b[0m 19ms/step - R2Score: 0.9916 - loss: 0.0080 - val_R2Score: 0.9878 - val_loss: 0.0129\n",
      "Epoch 132/200\n",
      "\u001b[1m246/246\u001b[0m \u001b[32m━━━━━━━━━━━━━━━━━━━━\u001b[0m\u001b[37m\u001b[0m \u001b[1m4s\u001b[0m 17ms/step - R2Score: 0.9894 - loss: 0.0108 - val_R2Score: 0.9899 - val_loss: 0.0107\n",
      "Epoch 133/200\n",
      "\u001b[1m246/246\u001b[0m \u001b[32m━━━━━━━━━━━━━━━━━━━━\u001b[0m\u001b[37m\u001b[0m \u001b[1m3s\u001b[0m 13ms/step - R2Score: 0.9900 - loss: 0.0096 - val_R2Score: 0.9912 - val_loss: 0.0093\n",
      "Epoch 134/200\n",
      "\u001b[1m246/246\u001b[0m \u001b[32m━━━━━━━━━━━━━━━━━━━━\u001b[0m\u001b[37m\u001b[0m \u001b[1m3s\u001b[0m 11ms/step - R2Score: 0.9909 - loss: 0.0084 - val_R2Score: 0.9896 - val_loss: 0.0110\n",
      "Epoch 135/200\n",
      "\u001b[1m246/246\u001b[0m \u001b[32m━━━━━━━━━━━━━━━━━━━━\u001b[0m\u001b[37m\u001b[0m \u001b[1m6s\u001b[0m 12ms/step - R2Score: 0.9906 - loss: 0.0088 - val_R2Score: 0.9911 - val_loss: 0.0094\n",
      "Epoch 136/200\n",
      "\u001b[1m246/246\u001b[0m \u001b[32m━━━━━━━━━━━━━━━━━━━━\u001b[0m\u001b[37m\u001b[0m \u001b[1m3s\u001b[0m 13ms/step - R2Score: 0.9903 - loss: 0.0092 - val_R2Score: 0.9905 - val_loss: 0.0100\n",
      "Epoch 137/200\n",
      "\u001b[1m246/246\u001b[0m \u001b[32m━━━━━━━━━━━━━━━━━━━━\u001b[0m\u001b[37m\u001b[0m \u001b[1m3s\u001b[0m 10ms/step - R2Score: 0.9916 - loss: 0.0086 - val_R2Score: 0.9839 - val_loss: 0.0170\n",
      "Epoch 138/200\n",
      "\u001b[1m246/246\u001b[0m \u001b[32m━━━━━━━━━━━━━━━━━━━━\u001b[0m\u001b[37m\u001b[0m \u001b[1m3s\u001b[0m 11ms/step - R2Score: 0.9887 - loss: 0.0114 - val_R2Score: 0.9896 - val_loss: 0.0109\n",
      "Epoch 139/200\n",
      "\u001b[1m246/246\u001b[0m \u001b[32m━━━━━━━━━━━━━━━━━━━━\u001b[0m\u001b[37m\u001b[0m \u001b[1m5s\u001b[0m 10ms/step - R2Score: 0.9918 - loss: 0.0081 - val_R2Score: 0.9884 - val_loss: 0.0123\n",
      "Epoch 140/200\n",
      "\u001b[1m246/246\u001b[0m \u001b[32m━━━━━━━━━━━━━━━━━━━━\u001b[0m\u001b[37m\u001b[0m \u001b[1m3s\u001b[0m 11ms/step - R2Score: 0.9885 - loss: 0.0118 - val_R2Score: 0.9896 - val_loss: 0.0110\n",
      "Epoch 141/200\n",
      "\u001b[1m246/246\u001b[0m \u001b[32m━━━━━━━━━━━━━━━━━━━━\u001b[0m\u001b[37m\u001b[0m \u001b[1m4s\u001b[0m 15ms/step - R2Score: 0.9918 - loss: 0.0083 - val_R2Score: 0.9892 - val_loss: 0.0114\n",
      "Epoch 142/200\n",
      "\u001b[1m246/246\u001b[0m \u001b[32m━━━━━━━━━━━━━━━━━━━━\u001b[0m\u001b[37m\u001b[0m \u001b[1m3s\u001b[0m 11ms/step - R2Score: 0.9914 - loss: 0.0084 - val_R2Score: 0.9906 - val_loss: 0.0100\n",
      "Epoch 143/200\n",
      "\u001b[1m246/246\u001b[0m \u001b[32m━━━━━━━━━━━━━━━━━━━━\u001b[0m\u001b[37m\u001b[0m \u001b[1m3s\u001b[0m 11ms/step - R2Score: 0.9927 - loss: 0.0076 - val_R2Score: 0.9880 - val_loss: 0.0127\n",
      "Epoch 144/200\n",
      "\u001b[1m246/246\u001b[0m \u001b[32m━━━━━━━━━━━━━━━━━━━━\u001b[0m\u001b[37m\u001b[0m \u001b[1m3s\u001b[0m 12ms/step - R2Score: 0.9917 - loss: 0.0078 - val_R2Score: 0.9885 - val_loss: 0.0121\n",
      "Epoch 145/200\n",
      "\u001b[1m246/246\u001b[0m \u001b[32m━━━━━━━━━━━━━━━━━━━━\u001b[0m\u001b[37m\u001b[0m \u001b[1m2s\u001b[0m 9ms/step - R2Score: 0.9921 - loss: 0.0079 - val_R2Score: 0.9854 - val_loss: 0.0154\n",
      "Epoch 146/200\n",
      "\u001b[1m246/246\u001b[0m \u001b[32m━━━━━━━━━━━━━━━━━━━━\u001b[0m\u001b[37m\u001b[0m \u001b[1m3s\u001b[0m 12ms/step - R2Score: 0.9906 - loss: 0.0095 - val_R2Score: 0.9865 - val_loss: 0.0143\n",
      "Epoch 147/200\n",
      "\u001b[1m246/246\u001b[0m \u001b[32m━━━━━━━━━━━━━━━━━━━━\u001b[0m\u001b[37m\u001b[0m \u001b[1m3s\u001b[0m 13ms/step - R2Score: 0.9908 - loss: 0.0091 - val_R2Score: 0.9894 - val_loss: 0.0112\n",
      "Epoch 148/200\n",
      "\u001b[1m246/246\u001b[0m \u001b[32m━━━━━━━━━━━━━━━━━━━━\u001b[0m\u001b[37m\u001b[0m \u001b[1m6s\u001b[0m 23ms/step - R2Score: 0.9906 - loss: 0.0095 - val_R2Score: 0.9906 - val_loss: 0.0099\n",
      "Epoch 149/200\n",
      "\u001b[1m246/246\u001b[0m \u001b[32m━━━━━━━━━━━━━━━━━━━━\u001b[0m\u001b[37m\u001b[0m \u001b[1m4s\u001b[0m 12ms/step - R2Score: 0.9915 - loss: 0.0086 - val_R2Score: 0.9864 - val_loss: 0.0144\n",
      "Epoch 150/200\n",
      "\u001b[1m246/246\u001b[0m \u001b[32m━━━━━━━━━━━━━━━━━━━━\u001b[0m\u001b[37m\u001b[0m \u001b[1m5s\u001b[0m 10ms/step - R2Score: 0.9902 - loss: 0.0097 - val_R2Score: 0.9890 - val_loss: 0.0116\n",
      "Epoch 151/200\n",
      "\u001b[1m246/246\u001b[0m \u001b[32m━━━━━━━━━━━━━━━━━━━━\u001b[0m\u001b[37m\u001b[0m \u001b[1m3s\u001b[0m 10ms/step - R2Score: 0.9922 - loss: 0.0077 - val_R2Score: 0.9895 - val_loss: 0.0111\n",
      "Epoch 152/200\n",
      "\u001b[1m246/246\u001b[0m \u001b[32m━━━━━━━━━━━━━━━━━━━━\u001b[0m\u001b[37m\u001b[0m \u001b[1m3s\u001b[0m 11ms/step - R2Score: 0.9932 - loss: 0.0066 - val_R2Score: 0.9865 - val_loss: 0.0143\n",
      "Epoch 153/200\n",
      "\u001b[1m246/246\u001b[0m \u001b[32m━━━━━━━━━━━━━━━━━━━━\u001b[0m\u001b[37m\u001b[0m \u001b[1m2s\u001b[0m 9ms/step - R2Score: 0.9916 - loss: 0.0086 - val_R2Score: 0.9909 - val_loss: 0.0096\n",
      "Epoch 154/200\n",
      "\u001b[1m246/246\u001b[0m \u001b[32m━━━━━━━━━━━━━━━━━━━━\u001b[0m\u001b[37m\u001b[0m \u001b[1m2s\u001b[0m 10ms/step - R2Score: 0.9920 - loss: 0.0080 - val_R2Score: 0.9891 - val_loss: 0.0115\n",
      "Epoch 155/200\n",
      "\u001b[1m246/246\u001b[0m \u001b[32m━━━━━━━━━━━━━━━━━━━━\u001b[0m\u001b[37m\u001b[0m \u001b[1m2s\u001b[0m 8ms/step - R2Score: 0.9923 - loss: 0.0076 - val_R2Score: 0.9913 - val_loss: 0.0092\n",
      "Epoch 156/200\n",
      "\u001b[1m246/246\u001b[0m \u001b[32m━━━━━━━━━━━━━━━━━━━━\u001b[0m\u001b[37m\u001b[0m \u001b[1m2s\u001b[0m 8ms/step - R2Score: 0.9918 - loss: 0.0080 - val_R2Score: 0.9892 - val_loss: 0.0114\n",
      "Epoch 157/200\n",
      "\u001b[1m246/246\u001b[0m \u001b[32m━━━━━━━━━━━━━━━━━━━━\u001b[0m\u001b[37m\u001b[0m \u001b[1m3s\u001b[0m 11ms/step - R2Score: 0.9918 - loss: 0.0082 - val_R2Score: 0.9891 - val_loss: 0.0115\n",
      "Epoch 158/200\n",
      "\u001b[1m246/246\u001b[0m \u001b[32m━━━━━━━━━━━━━━━━━━━━\u001b[0m\u001b[37m\u001b[0m \u001b[1m3s\u001b[0m 11ms/step - R2Score: 0.9916 - loss: 0.0080 - val_R2Score: 0.9890 - val_loss: 0.0116\n",
      "Epoch 159/200\n",
      "\u001b[1m246/246\u001b[0m \u001b[32m━━━━━━━━━━━━━━━━━━━━\u001b[0m\u001b[37m\u001b[0m \u001b[1m3s\u001b[0m 13ms/step - R2Score: 0.9924 - loss: 0.0078 - val_R2Score: 0.9905 - val_loss: 0.0100\n",
      "Epoch 160/200\n",
      "\u001b[1m246/246\u001b[0m \u001b[32m━━━━━━━━━━━━━━━━━━━━\u001b[0m\u001b[37m\u001b[0m \u001b[1m4s\u001b[0m 16ms/step - R2Score: 0.9913 - loss: 0.0085 - val_R2Score: 0.9908 - val_loss: 0.0097\n",
      "Epoch 161/200\n",
      "\u001b[1m246/246\u001b[0m \u001b[32m━━━━━━━━━━━━━━━━━━━━\u001b[0m\u001b[37m\u001b[0m \u001b[1m6s\u001b[0m 17ms/step - R2Score: 0.9928 - loss: 0.0070 - val_R2Score: 0.9836 - val_loss: 0.0174\n",
      "Epoch 162/200\n",
      "\u001b[1m246/246\u001b[0m \u001b[32m━━━━━━━━━━━━━━━━━━━━\u001b[0m\u001b[37m\u001b[0m \u001b[1m7s\u001b[0m 24ms/step - R2Score: 0.9909 - loss: 0.0083 - val_R2Score: 0.9830 - val_loss: 0.0180\n",
      "Epoch 163/200\n",
      "\u001b[1m246/246\u001b[0m \u001b[32m━━━━━━━━━━━━━━━━━━━━\u001b[0m\u001b[37m\u001b[0m \u001b[1m8s\u001b[0m 31ms/step - R2Score: 0.9922 - loss: 0.0077 - val_R2Score: 0.9882 - val_loss: 0.0125\n",
      "Epoch 164/200\n",
      "\u001b[1m246/246\u001b[0m \u001b[32m━━━━━━━━━━━━━━━━━━━━\u001b[0m\u001b[37m\u001b[0m \u001b[1m7s\u001b[0m 13ms/step - R2Score: 0.9922 - loss: 0.0077 - val_R2Score: 0.9884 - val_loss: 0.0122\n",
      "Epoch 165/200\n",
      "\u001b[1m246/246\u001b[0m \u001b[32m━━━━━━━━━━━━━━━━━━━━\u001b[0m\u001b[37m\u001b[0m \u001b[1m5s\u001b[0m 14ms/step - R2Score: 0.9919 - loss: 0.0079 - val_R2Score: 0.9887 - val_loss: 0.0119\n",
      "Epoch 166/200\n",
      "\u001b[1m246/246\u001b[0m \u001b[32m━━━━━━━━━━━━━━━━━━━━\u001b[0m\u001b[37m\u001b[0m \u001b[1m6s\u001b[0m 18ms/step - R2Score: 0.9939 - loss: 0.0061 - val_R2Score: 0.9907 - val_loss: 0.0098\n",
      "Epoch 167/200\n",
      "\u001b[1m246/246\u001b[0m \u001b[32m━━━━━━━━━━━━━━━━━━━━\u001b[0m\u001b[37m\u001b[0m \u001b[1m3s\u001b[0m 12ms/step - R2Score: 0.9927 - loss: 0.0072 - val_R2Score: 0.9906 - val_loss: 0.0100\n",
      "Epoch 168/200\n",
      "\u001b[1m246/246\u001b[0m \u001b[32m━━━━━━━━━━━━━━━━━━━━\u001b[0m\u001b[37m\u001b[0m \u001b[1m3s\u001b[0m 12ms/step - R2Score: 0.9909 - loss: 0.0090 - val_R2Score: 0.9906 - val_loss: 0.0099\n",
      "Epoch 169/200\n",
      "\u001b[1m246/246\u001b[0m \u001b[32m━━━━━━━━━━━━━━━━━━━━\u001b[0m\u001b[37m\u001b[0m \u001b[1m5s\u001b[0m 12ms/step - R2Score: 0.9926 - loss: 0.0070 - val_R2Score: 0.9889 - val_loss: 0.0117\n",
      "Epoch 170/200\n",
      "\u001b[1m246/246\u001b[0m \u001b[32m━━━━━━━━━━━━━━━━━━━━\u001b[0m\u001b[37m\u001b[0m \u001b[1m5s\u001b[0m 11ms/step - R2Score: 0.9925 - loss: 0.0072 - val_R2Score: 0.9885 - val_loss: 0.0122\n",
      "Epoch 171/200\n",
      "\u001b[1m246/246\u001b[0m \u001b[32m━━━━━━━━━━━━━━━━━━━━\u001b[0m\u001b[37m\u001b[0m \u001b[1m2s\u001b[0m 7ms/step - R2Score: 0.9929 - loss: 0.0068 - val_R2Score: 0.9862 - val_loss: 0.0146\n",
      "Epoch 172/200\n",
      "\u001b[1m246/246\u001b[0m \u001b[32m━━━━━━━━━━━━━━━━━━━━\u001b[0m\u001b[37m\u001b[0m \u001b[1m2s\u001b[0m 6ms/step - R2Score: 0.9904 - loss: 0.0092 - val_R2Score: 0.9909 - val_loss: 0.0096\n",
      "Epoch 173/200\n",
      "\u001b[1m246/246\u001b[0m \u001b[32m━━━━━━━━━━━━━━━━━━━━\u001b[0m\u001b[37m\u001b[0m \u001b[1m2s\u001b[0m 6ms/step - R2Score: 0.9938 - loss: 0.0063 - val_R2Score: 0.9898 - val_loss: 0.0108\n",
      "Epoch 174/200\n",
      "\u001b[1m246/246\u001b[0m \u001b[32m━━━━━━━━━━━━━━━━━━━━\u001b[0m\u001b[37m\u001b[0m \u001b[1m3s\u001b[0m 8ms/step - R2Score: 0.9915 - loss: 0.0084 - val_R2Score: 0.9908 - val_loss: 0.0097\n",
      "Epoch 175/200\n",
      "\u001b[1m246/246\u001b[0m \u001b[32m━━━━━━━━━━━━━━━━━━━━\u001b[0m\u001b[37m\u001b[0m \u001b[1m5s\u001b[0m 22ms/step - R2Score: 0.9930 - loss: 0.0069 - val_R2Score: 0.9880 - val_loss: 0.0127\n",
      "Epoch 176/200\n",
      "\u001b[1m246/246\u001b[0m \u001b[32m━━━━━━━━━━━━━━━━━━━━\u001b[0m\u001b[37m\u001b[0m \u001b[1m6s\u001b[0m 23ms/step - R2Score: 0.9922 - loss: 0.0075 - val_R2Score: 0.9907 - val_loss: 0.0099\n",
      "Epoch 177/200\n",
      "\u001b[1m246/246\u001b[0m \u001b[32m━━━━━━━━━━━━━━━━━━━━\u001b[0m\u001b[37m\u001b[0m \u001b[1m5s\u001b[0m 20ms/step - R2Score: 0.9930 - loss: 0.0065 - val_R2Score: 0.9895 - val_loss: 0.0110\n",
      "Epoch 178/200\n",
      "\u001b[1m246/246\u001b[0m \u001b[32m━━━━━━━━━━━━━━━━━━━━\u001b[0m\u001b[37m\u001b[0m \u001b[1m4s\u001b[0m 15ms/step - R2Score: 0.9924 - loss: 0.0074 - val_R2Score: 0.9891 - val_loss: 0.0115\n",
      "Epoch 179/200\n",
      "\u001b[1m246/246\u001b[0m \u001b[32m━━━━━━━━━━━━━━━━━━━━\u001b[0m\u001b[37m\u001b[0m \u001b[1m3s\u001b[0m 10ms/step - R2Score: 0.9925 - loss: 0.0078 - val_R2Score: 0.9877 - val_loss: 0.0130\n",
      "Epoch 180/200\n",
      "\u001b[1m246/246\u001b[0m \u001b[32m━━━━━━━━━━━━━━━━━━━━\u001b[0m\u001b[37m\u001b[0m \u001b[1m5s\u001b[0m 10ms/step - R2Score: 0.9929 - loss: 0.0067 - val_R2Score: 0.9910 - val_loss: 0.0095\n",
      "Epoch 181/200\n",
      "\u001b[1m246/246\u001b[0m \u001b[32m━━━━━━━━━━━━━━━━━━━━\u001b[0m\u001b[37m\u001b[0m \u001b[1m3s\u001b[0m 13ms/step - R2Score: 0.9928 - loss: 0.0076 - val_R2Score: 0.9906 - val_loss: 0.0100\n",
      "Epoch 182/200\n",
      "\u001b[1m246/246\u001b[0m \u001b[32m━━━━━━━━━━━━━━━━━━━━\u001b[0m\u001b[37m\u001b[0m \u001b[1m4s\u001b[0m 14ms/step - R2Score: 0.9939 - loss: 0.0058 - val_R2Score: 0.9895 - val_loss: 0.0111\n",
      "Epoch 183/200\n",
      "\u001b[1m246/246\u001b[0m \u001b[32m━━━━━━━━━━━━━━━━━━━━\u001b[0m\u001b[37m\u001b[0m \u001b[1m4s\u001b[0m 10ms/step - R2Score: 0.9927 - loss: 0.0073 - val_R2Score: 0.9911 - val_loss: 0.0094\n",
      "Epoch 184/200\n",
      "\u001b[1m246/246\u001b[0m \u001b[32m━━━━━━━━━━━━━━━━━━━━\u001b[0m\u001b[37m\u001b[0m \u001b[1m2s\u001b[0m 10ms/step - R2Score: 0.9922 - loss: 0.0077 - val_R2Score: 0.9908 - val_loss: 0.0098\n",
      "Epoch 185/200\n",
      "\u001b[1m246/246\u001b[0m \u001b[32m━━━━━━━━━━━━━━━━━━━━\u001b[0m\u001b[37m\u001b[0m \u001b[1m3s\u001b[0m 9ms/step - R2Score: 0.9938 - loss: 0.0061 - val_R2Score: 0.9907 - val_loss: 0.0099\n",
      "Epoch 186/200\n",
      "\u001b[1m246/246\u001b[0m \u001b[32m━━━━━━━━━━━━━━━━━━━━\u001b[0m\u001b[37m\u001b[0m \u001b[1m2s\u001b[0m 9ms/step - R2Score: 0.9924 - loss: 0.0070 - val_R2Score: 0.9881 - val_loss: 0.0126\n",
      "Epoch 187/200\n",
      "\u001b[1m246/246\u001b[0m \u001b[32m━━━━━━━━━━━━━━━━━━━━\u001b[0m\u001b[37m\u001b[0m \u001b[1m2s\u001b[0m 6ms/step - R2Score: 0.9924 - loss: 0.0074 - val_R2Score: 0.9919 - val_loss: 0.0085\n",
      "Epoch 188/200\n",
      "\u001b[1m246/246\u001b[0m \u001b[32m━━━━━━━━━━━━━━━━━━━━\u001b[0m\u001b[37m\u001b[0m \u001b[1m3s\u001b[0m 7ms/step - R2Score: 0.9925 - loss: 0.0074 - val_R2Score: 0.9904 - val_loss: 0.0101\n",
      "Epoch 189/200\n",
      "\u001b[1m246/246\u001b[0m \u001b[32m━━━━━━━━━━━━━━━━━━━━\u001b[0m\u001b[37m\u001b[0m \u001b[1m2s\u001b[0m 6ms/step - R2Score: 0.9947 - loss: 0.0052 - val_R2Score: 0.9870 - val_loss: 0.0137\n",
      "Epoch 190/200\n",
      "\u001b[1m246/246\u001b[0m \u001b[32m━━━━━━━━━━━━━━━━━━━━\u001b[0m\u001b[37m\u001b[0m \u001b[1m3s\u001b[0m 9ms/step - R2Score: 0.9927 - loss: 0.0068 - val_R2Score: 0.9899 - val_loss: 0.0106\n",
      "Epoch 191/200\n",
      "\u001b[1m246/246\u001b[0m \u001b[32m━━━━━━━━━━━━━━━━━━━━\u001b[0m\u001b[37m\u001b[0m \u001b[1m2s\u001b[0m 6ms/step - R2Score: 0.9921 - loss: 0.0080 - val_R2Score: 0.9892 - val_loss: 0.0114\n",
      "Epoch 192/200\n",
      "\u001b[1m246/246\u001b[0m \u001b[32m━━━━━━━━━━━━━━━━━━━━\u001b[0m\u001b[37m\u001b[0m \u001b[1m5s\u001b[0m 16ms/step - R2Score: 0.9919 - loss: 0.0080 - val_R2Score: 0.9900 - val_loss: 0.0105\n",
      "Epoch 193/200\n",
      "\u001b[1m246/246\u001b[0m \u001b[32m━━━━━━━━━━━━━━━━━━━━\u001b[0m\u001b[37m\u001b[0m \u001b[1m3s\u001b[0m 10ms/step - R2Score: 0.9932 - loss: 0.0070 - val_R2Score: 0.9906 - val_loss: 0.0099\n",
      "Epoch 194/200\n",
      "\u001b[1m246/246\u001b[0m \u001b[32m━━━━━━━━━━━━━━━━━━━━\u001b[0m\u001b[37m\u001b[0m \u001b[1m2s\u001b[0m 9ms/step - R2Score: 0.9932 - loss: 0.0066 - val_R2Score: 0.9854 - val_loss: 0.0154\n",
      "Epoch 195/200\n",
      "\u001b[1m246/246\u001b[0m \u001b[32m━━━━━━━━━━━━━━━━━━━━\u001b[0m\u001b[37m\u001b[0m \u001b[1m3s\u001b[0m 12ms/step - R2Score: 0.9913 - loss: 0.0087 - val_R2Score: 0.9875 - val_loss: 0.0132\n",
      "Epoch 196/200\n",
      "\u001b[1m246/246\u001b[0m \u001b[32m━━━━━━━━━━━━━━━━━━━━\u001b[0m\u001b[37m\u001b[0m \u001b[1m5s\u001b[0m 11ms/step - R2Score: 0.9932 - loss: 0.0068 - val_R2Score: 0.9912 - val_loss: 0.0093\n",
      "Epoch 197/200\n",
      "\u001b[1m246/246\u001b[0m \u001b[32m━━━━━━━━━━━━━━━━━━━━\u001b[0m\u001b[37m\u001b[0m \u001b[1m5s\u001b[0m 11ms/step - R2Score: 0.9941 - loss: 0.0060 - val_R2Score: 0.9869 - val_loss: 0.0138\n",
      "Epoch 198/200\n",
      "\u001b[1m246/246\u001b[0m \u001b[32m━━━━━━━━━━━━━━━━━━━━\u001b[0m\u001b[37m\u001b[0m \u001b[1m3s\u001b[0m 11ms/step - R2Score: 0.9919 - loss: 0.0078 - val_R2Score: 0.9887 - val_loss: 0.0119\n",
      "Epoch 199/200\n",
      "\u001b[1m246/246\u001b[0m \u001b[32m━━━━━━━━━━━━━━━━━━━━\u001b[0m\u001b[37m\u001b[0m \u001b[1m2s\u001b[0m 8ms/step - R2Score: 0.9927 - loss: 0.0068 - val_R2Score: 0.9883 - val_loss: 0.0124\n",
      "Epoch 200/200\n",
      "\u001b[1m246/246\u001b[0m \u001b[32m━━━━━━━━━━━━━━━━━━━━\u001b[0m\u001b[37m\u001b[0m \u001b[1m3s\u001b[0m 9ms/step - R2Score: 0.9933 - loss: 0.0072 - val_R2Score: 0.9883 - val_loss: 0.0124\n"
     ]
    }
   ],
   "source": [
    "history = model.fit(\n",
    "    x_train_transformed, \n",
    "    y_train_transformed_frequency,  # Split the targets into separate arrays\n",
    "    validation_split=0.2,\n",
    "    epochs=200,\n",
    "    batch_size=32,\n",
    "    verbose=1,\n",
    "    callbacks=[tensorboard_callback]\n",
    ")"
   ]
  },
  {
   "cell_type": "code",
   "execution_count": 17,
   "metadata": {},
   "outputs": [
    {
     "name": "stdout",
     "output_type": "stream",
     "text": [
      "\u001b[1m77/77\u001b[0m \u001b[32m━━━━━━━━━━━━━━━━━━━━\u001b[0m\u001b[37m\u001b[0m \u001b[1m1s\u001b[0m 6ms/step - R2Score: 0.9922 - loss: 0.0070\n",
      "Test accuracy: 0.9885931015014648\n"
     ]
    }
   ],
   "source": [
    "test_loss, test_mse = model.evaluate(x_test_transformed, y_test_transformed_frequency)\n",
    "print('Test accuracy:', test_mse)"
   ]
  },
  {
   "cell_type": "code",
   "execution_count": 18,
   "metadata": {},
   "outputs": [
    {
     "data": {
      "text/html": [
       "<pre style=\"white-space:pre;overflow-x:auto;line-height:normal;font-family:Menlo,'DejaVu Sans Mono',consolas,'Courier New',monospace\"><span style=\"font-weight: bold\">Model: \"functional\"</span>\n",
       "</pre>\n"
      ],
      "text/plain": [
       "\u001b[1mModel: \"functional\"\u001b[0m\n"
      ]
     },
     "metadata": {},
     "output_type": "display_data"
    },
    {
     "data": {
      "text/html": [
       "<pre style=\"white-space:pre;overflow-x:auto;line-height:normal;font-family:Menlo,'DejaVu Sans Mono',consolas,'Courier New',monospace\">┏━━━━━━━━━━━━━━━━━━━━━━━━━━━━━━━━━┳━━━━━━━━━━━━━━━━━━━━━━━━┳━━━━━━━━━━━━━━━┓\n",
       "┃<span style=\"font-weight: bold\"> Layer (type)                    </span>┃<span style=\"font-weight: bold\"> Output Shape           </span>┃<span style=\"font-weight: bold\">       Param # </span>┃\n",
       "┡━━━━━━━━━━━━━━━━━━━━━━━━━━━━━━━━━╇━━━━━━━━━━━━━━━━━━━━━━━━╇━━━━━━━━━━━━━━━┩\n",
       "│ input_layer (<span style=\"color: #0087ff; text-decoration-color: #0087ff\">InputLayer</span>)        │ (<span style=\"color: #00d7ff; text-decoration-color: #00d7ff\">None</span>, <span style=\"color: #00af00; text-decoration-color: #00af00\">14</span>)             │             <span style=\"color: #00af00; text-decoration-color: #00af00\">0</span> │\n",
       "├─────────────────────────────────┼────────────────────────┼───────────────┤\n",
       "│ dense (<span style=\"color: #0087ff; text-decoration-color: #0087ff\">Dense</span>)                   │ (<span style=\"color: #00d7ff; text-decoration-color: #00d7ff\">None</span>, <span style=\"color: #00af00; text-decoration-color: #00af00\">512</span>)            │         <span style=\"color: #00af00; text-decoration-color: #00af00\">7,680</span> │\n",
       "├─────────────────────────────────┼────────────────────────┼───────────────┤\n",
       "│ dropout (<span style=\"color: #0087ff; text-decoration-color: #0087ff\">Dropout</span>)               │ (<span style=\"color: #00d7ff; text-decoration-color: #00d7ff\">None</span>, <span style=\"color: #00af00; text-decoration-color: #00af00\">512</span>)            │             <span style=\"color: #00af00; text-decoration-color: #00af00\">0</span> │\n",
       "├─────────────────────────────────┼────────────────────────┼───────────────┤\n",
       "│ dense_1 (<span style=\"color: #0087ff; text-decoration-color: #0087ff\">Dense</span>)                 │ (<span style=\"color: #00d7ff; text-decoration-color: #00d7ff\">None</span>, <span style=\"color: #00af00; text-decoration-color: #00af00\">128</span>)            │        <span style=\"color: #00af00; text-decoration-color: #00af00\">65,664</span> │\n",
       "├─────────────────────────────────┼────────────────────────┼───────────────┤\n",
       "│ dense_2 (<span style=\"color: #0087ff; text-decoration-color: #0087ff\">Dense</span>)                 │ (<span style=\"color: #00d7ff; text-decoration-color: #00d7ff\">None</span>, <span style=\"color: #00af00; text-decoration-color: #00af00\">1</span>)              │           <span style=\"color: #00af00; text-decoration-color: #00af00\">129</span> │\n",
       "└─────────────────────────────────┴────────────────────────┴───────────────┘\n",
       "</pre>\n"
      ],
      "text/plain": [
       "┏━━━━━━━━━━━━━━━━━━━━━━━━━━━━━━━━━┳━━━━━━━━━━━━━━━━━━━━━━━━┳━━━━━━━━━━━━━━━┓\n",
       "┃\u001b[1m \u001b[0m\u001b[1mLayer (type)                   \u001b[0m\u001b[1m \u001b[0m┃\u001b[1m \u001b[0m\u001b[1mOutput Shape          \u001b[0m\u001b[1m \u001b[0m┃\u001b[1m \u001b[0m\u001b[1m      Param #\u001b[0m\u001b[1m \u001b[0m┃\n",
       "┡━━━━━━━━━━━━━━━━━━━━━━━━━━━━━━━━━╇━━━━━━━━━━━━━━━━━━━━━━━━╇━━━━━━━━━━━━━━━┩\n",
       "│ input_layer (\u001b[38;5;33mInputLayer\u001b[0m)        │ (\u001b[38;5;45mNone\u001b[0m, \u001b[38;5;34m14\u001b[0m)             │             \u001b[38;5;34m0\u001b[0m │\n",
       "├─────────────────────────────────┼────────────────────────┼───────────────┤\n",
       "│ dense (\u001b[38;5;33mDense\u001b[0m)                   │ (\u001b[38;5;45mNone\u001b[0m, \u001b[38;5;34m512\u001b[0m)            │         \u001b[38;5;34m7,680\u001b[0m │\n",
       "├─────────────────────────────────┼────────────────────────┼───────────────┤\n",
       "│ dropout (\u001b[38;5;33mDropout\u001b[0m)               │ (\u001b[38;5;45mNone\u001b[0m, \u001b[38;5;34m512\u001b[0m)            │             \u001b[38;5;34m0\u001b[0m │\n",
       "├─────────────────────────────────┼────────────────────────┼───────────────┤\n",
       "│ dense_1 (\u001b[38;5;33mDense\u001b[0m)                 │ (\u001b[38;5;45mNone\u001b[0m, \u001b[38;5;34m128\u001b[0m)            │        \u001b[38;5;34m65,664\u001b[0m │\n",
       "├─────────────────────────────────┼────────────────────────┼───────────────┤\n",
       "│ dense_2 (\u001b[38;5;33mDense\u001b[0m)                 │ (\u001b[38;5;45mNone\u001b[0m, \u001b[38;5;34m1\u001b[0m)              │           \u001b[38;5;34m129\u001b[0m │\n",
       "└─────────────────────────────────┴────────────────────────┴───────────────┘\n"
      ]
     },
     "metadata": {},
     "output_type": "display_data"
    },
    {
     "data": {
      "text/html": [
       "<pre style=\"white-space:pre;overflow-x:auto;line-height:normal;font-family:Menlo,'DejaVu Sans Mono',consolas,'Courier New',monospace\"><span style=\"font-weight: bold\"> Total params: </span><span style=\"color: #00af00; text-decoration-color: #00af00\">220,421</span> (861.02 KB)\n",
       "</pre>\n"
      ],
      "text/plain": [
       "\u001b[1m Total params: \u001b[0m\u001b[38;5;34m220,421\u001b[0m (861.02 KB)\n"
      ]
     },
     "metadata": {},
     "output_type": "display_data"
    },
    {
     "data": {
      "text/html": [
       "<pre style=\"white-space:pre;overflow-x:auto;line-height:normal;font-family:Menlo,'DejaVu Sans Mono',consolas,'Courier New',monospace\"><span style=\"font-weight: bold\"> Trainable params: </span><span style=\"color: #00af00; text-decoration-color: #00af00\">73,473</span> (287.00 KB)\n",
       "</pre>\n"
      ],
      "text/plain": [
       "\u001b[1m Trainable params: \u001b[0m\u001b[38;5;34m73,473\u001b[0m (287.00 KB)\n"
      ]
     },
     "metadata": {},
     "output_type": "display_data"
    },
    {
     "data": {
      "text/html": [
       "<pre style=\"white-space:pre;overflow-x:auto;line-height:normal;font-family:Menlo,'DejaVu Sans Mono',consolas,'Courier New',monospace\"><span style=\"font-weight: bold\"> Non-trainable params: </span><span style=\"color: #00af00; text-decoration-color: #00af00\">0</span> (0.00 B)\n",
       "</pre>\n"
      ],
      "text/plain": [
       "\u001b[1m Non-trainable params: \u001b[0m\u001b[38;5;34m0\u001b[0m (0.00 B)\n"
      ]
     },
     "metadata": {},
     "output_type": "display_data"
    },
    {
     "data": {
      "text/html": [
       "<pre style=\"white-space:pre;overflow-x:auto;line-height:normal;font-family:Menlo,'DejaVu Sans Mono',consolas,'Courier New',monospace\"><span style=\"font-weight: bold\"> Optimizer params: </span><span style=\"color: #00af00; text-decoration-color: #00af00\">146,948</span> (574.02 KB)\n",
       "</pre>\n"
      ],
      "text/plain": [
       "\u001b[1m Optimizer params: \u001b[0m\u001b[38;5;34m146,948\u001b[0m (574.02 KB)\n"
      ]
     },
     "metadata": {},
     "output_type": "display_data"
    }
   ],
   "source": [
    "model.summary()"
   ]
  },
  {
   "cell_type": "code",
   "execution_count": 19,
   "metadata": {},
   "outputs": [
    {
     "data": {
      "image/png": "[encoded data removed]",
      "text/plain": [
       "<Figure size 640x480 with 1 Axes>"
      ]
     },
     "metadata": {},
     "output_type": "display_data"
    }
   ],
   "source": [
    "plt.plot(history.history[\"loss\"],label=\"loss\")\n",
    "plt.plot(history.history[\"val_loss\"],label=\"val_loss\")\n",
    "plt.legend()\n",
    "plt.title(\"Model Error\")\n",
    "plt.xlabel(\"Epoch\")\n",
    "plt.ylabel(\"MSE\")\n",
    "plt.show()"
   ]
  },
  {
   "cell_type": "code",
   "execution_count": 20,
   "metadata": {},
   "outputs": [
    {
     "name": "stdout",
     "output_type": "stream",
     "text": [
      "\u001b[1m77/77\u001b[0m \u001b[32m━━━━━━━━━━━━━━━━━━━━\u001b[0m\u001b[37m\u001b[0m \u001b[1m1s\u001b[0m 6ms/step\n"
     ]
    }
   ],
   "source": [
    "predictions_scaled = model.predict(x_test_transformed)\n",
    "predictions = scaler_y_frequency.inverse_transform((predictions_scaled))"
   ]
  },
  {
   "cell_type": "code",
   "execution_count": 21,
   "metadata": {},
   "outputs": [
    {
     "name": "stdout",
     "output_type": "stream",
     "text": [
      "\n",
      "Sample Predictions:\n",
      "               0\n",
      "0       7.231930\n",
      "1       3.930802\n",
      "2      15.363997\n",
      "3       4.689487\n",
      "4      21.473736\n",
      "...          ...\n",
      "2453  126.832443\n",
      "2454    2.095607\n",
      "2455    6.445679\n",
      "2456   28.430365\n",
      "2457    0.848992\n",
      "\n",
      "[2458 rows x 1 columns]\n"
     ]
    }
   ],
   "source": [
    "predictions_df = pd.DataFrame(predictions)\n",
    "print(\"\\nSample Predictions:\")\n",
    "print(predictions_df)"
   ]
  },
  {
   "cell_type": "code",
   "execution_count": 22,
   "metadata": {},
   "outputs": [
    {
     "data": {
      "text/plain": [
       "524        8.5656\n",
       "4546       3.9866\n",
       "6971      16.0461\n",
       "10243      4.3495\n",
       "7978      21.6986\n",
       "           ...   \n",
       "8768     129.0407\n",
       "9224       2.2995\n",
       "10168      6.5121\n",
       "8959      28.7380\n",
       "3188       1.0268\n",
       "Name: frequency, Length: 2458, dtype: float64"
      ]
     },
     "execution_count": 22,
     "metadata": {},
     "output_type": "execute_result"
    }
   ],
   "source": [
    "y_test[\"frequency\"]"
   ]
  },
  {
   "cell_type": "code",
   "execution_count": 23,
   "metadata": {},
   "outputs": [
    {
     "data": {
      "text/plain": [
       "5.643437348864995"
      ]
     },
     "execution_count": 23,
     "metadata": {},
     "output_type": "execute_result"
    }
   ],
   "source": [
    "true= y_test[\"frequency\"].tolist()\n",
    "pred= predictions_df[0].tolist()\n",
    "mean_squared_error(true,pred)"
   ]
  },
  {
   "cell_type": "code",
   "execution_count": 27,
   "metadata": {},
   "outputs": [
    {
     "data": {
      "image/png": "[encoded data removed]",
      "text/plain": [
       "<Figure size 640x480 with 1 Axes>"
      ]
     },
     "metadata": {},
     "output_type": "display_data"
    }
   ],
   "source": [
    "pred=predictions_df\n",
    "ansys=y_test[\"frequency\"]\n",
    "plt.scatter(ansys,pred)\n",
    "#plt.loglog()\n",
    "plt.plot([0, 175],[0, 175])\n",
    "plt.xlim(0,175)\n",
    "plt.ylim(0,175)\n",
    "plt.xlabel(\"Frequency from ANSYS (Hz)\")\n",
    "plt.ylabel(\"Frequency from NN (Hz)\")\n",
    "plt.title(\"Testing Results - Frequency - Measurements\")\n",
    "plt.show()"
   ]
  },
  {
   "cell_type": "code",
   "execution_count": 25,
   "metadata": {},
   "outputs": [
    {
     "name": "stdout",
     "output_type": "stream",
     "text": [
      "WARNING:tensorflow:From c:\\Users\\austi\\AppData\\Local\\Programs\\Python\\Python312\\Lib\\site-packages\\keras\\src\\backend\\common\\global_state.py:82: The name tf.reset_default_graph is deprecated. Please use tf.compat.v1.reset_default_graph instead.\n",
      "\n"
     ]
    },
    {
     "data": {
      "text/plain": [
       "0"
      ]
     },
     "execution_count": 25,
     "metadata": {},
     "output_type": "execute_result"
    }
   ],
   "source": [
    "clear_session()\n",
    "del model\n",
    "gc.collect()"
   ]
  },
  {
   "cell_type": "code",
   "execution_count": 26,
   "metadata": {},
   "outputs": [
    {
     "name": "stdout",
     "output_type": "stream",
     "text": [
      "                          data:  2.1 MiB\n",
      "                             x:  1.6 MiB\n",
      "                       x_train:  1.4 MiB\n",
      "           x_train_transformed:  1.1 MiB\n",
      "                             y: 480.2 KiB\n",
      "                       y_train: 460.9 KiB\n",
      "                        x_test: 356.6 KiB\n",
      "            x_test_transformed: 269.0 KiB\n",
      "                        y_test: 115.2 KiB\n",
      " y_train_transformed_frequency: 76.9 KiB\n"
     ]
    }
   ],
   "source": [
    "import sys\n",
    "def sizeof_fmt(num, suffix='B'):\n",
    "    ''' by Fred Cirera,  https://stackoverflow.com/a/1094933/1870254, modified'''\n",
    "    for unit in ['','Ki','Mi','Gi','Ti','Pi','Ei','Zi']:\n",
    "        if abs(num) < 1024.0:\n",
    "            return \"%3.1f %s%s\" % (num, unit, suffix)\n",
    "        num /= 1024.0\n",
    "    return \"%.1f %s%s\" % (num, 'Yi', suffix)\n",
    "\n",
    "for name, size in sorted(((name, sys.getsizeof(value)) for name, value in list(\n",
    "                          locals().items())), key= lambda x: -x[1])[:10]:\n",
    "    print(\"{:>30}: {:>8}\".format(name, sizeof_fmt(size)))"
   ]
  }
 ],
 "metadata": {
  "kernelspec": {
   "display_name": "Python 3",
   "language": "python",
   "name": "python3"
  },
  "language_info": {
   "codemirror_mode": {
    "name": "ipython",
    "version": 3
   },
   "file_extension": ".py",
   "mimetype": "text/x-python",
   "name": "python",
   "nbconvert_exporter": "python",
   "pygments_lexer": "ipython3",
   "version": "3.12.4"
  }
 },
 "nbformat": 4,
 "nbformat_minor": 2
}
